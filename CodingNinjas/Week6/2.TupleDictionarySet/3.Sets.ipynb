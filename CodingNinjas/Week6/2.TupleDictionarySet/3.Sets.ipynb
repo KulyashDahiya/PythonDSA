{
 "cells": [
  {
   "cell_type": "code",
   "execution_count": 1,
   "id": "70d8091d-7f55-42c4-81bf-5ddd19f30b60",
   "metadata": {},
   "outputs": [],
   "source": [
    "a = {1, 'the', \"hi\", 23, 456}"
   ]
  },
  {
   "cell_type": "code",
   "execution_count": 2,
   "id": "c582a3b6-5796-421c-b360-4370c25e7820",
   "metadata": {},
   "outputs": [
    {
     "data": {
      "text/plain": [
       "{1, 23, 456, 'hi', 'the'}"
      ]
     },
     "execution_count": 2,
     "metadata": {},
     "output_type": "execute_result"
    }
   ],
   "source": [
    "a"
   ]
  },
  {
   "cell_type": "code",
   "execution_count": 3,
   "id": "873c8398-c60d-472d-b2d7-90115d9be026",
   "metadata": {},
   "outputs": [
    {
     "data": {
      "text/plain": [
       "1"
      ]
     },
     "execution_count": 3,
     "metadata": {},
     "output_type": "execute_result"
    }
   ],
   "source": [
    "a.pop()   # As sets are unordered, it will remove any one element"
   ]
  },
  {
   "cell_type": "code",
   "execution_count": 4,
   "id": "2d884113-83f7-4978-aeb8-baf32ab7e2a3",
   "metadata": {},
   "outputs": [
    {
     "data": {
      "text/plain": [
       "{23, 456, 'hi', 'the'}"
      ]
     },
     "execution_count": 4,
     "metadata": {},
     "output_type": "execute_result"
    }
   ],
   "source": [
    "a"
   ]
  },
  {
   "cell_type": "code",
   "execution_count": 5,
   "id": "dd2300ac-c4c9-496b-9a1a-5f52373a6676",
   "metadata": {},
   "outputs": [],
   "source": [
    "a.discard('gh')    # it will remove this element if present, otherwise it won't give error."
   ]
  },
  {
   "cell_type": "code",
   "execution_count": 6,
   "id": "8853ab2e-7994-4358-9c2f-39654eb0585e",
   "metadata": {},
   "outputs": [
    {
     "ename": "KeyError",
     "evalue": "'gh'",
     "output_type": "error",
     "traceback": [
      "\u001b[0;31m---------------------------------------------------------------------------\u001b[0m",
      "\u001b[0;31mKeyError\u001b[0m                                  Traceback (most recent call last)",
      "Cell \u001b[0;32mIn[6], line 1\u001b[0m\n\u001b[0;32m----> 1\u001b[0m \u001b[43ma\u001b[49m\u001b[38;5;241;43m.\u001b[39;49m\u001b[43mremove\u001b[49m\u001b[43m(\u001b[49m\u001b[38;5;124;43m'\u001b[39;49m\u001b[38;5;124;43mgh\u001b[39;49m\u001b[38;5;124;43m'\u001b[39;49m\u001b[43m)\u001b[49m\n",
      "\u001b[0;31mKeyError\u001b[0m: 'gh'"
     ]
    }
   ],
   "source": [
    "a.remove('gh')     # it will remove this element if present, otherwise it will give error."
   ]
  },
  {
   "cell_type": "code",
   "execution_count": null,
   "id": "7cd56a18-62d7-457c-8443-ac85b0dd2e0b",
   "metadata": {},
   "outputs": [],
   "source": []
  },
  {
   "cell_type": "code",
   "execution_count": null,
   "id": "80cad0a8-7e9f-4236-afb5-cdf518cb1255",
   "metadata": {},
   "outputs": [],
   "source": [
    "#  INTERSECTION    UNION "
   ]
  },
  {
   "cell_type": "code",
   "execution_count": 7,
   "id": "7af922ba-736a-4e70-a1f9-57d1d92be75a",
   "metadata": {},
   "outputs": [],
   "source": [
    "s = {}"
   ]
  },
  {
   "cell_type": "code",
   "execution_count": 9,
   "id": "0426842e-262d-492a-98ce-747e8bbe2829",
   "metadata": {},
   "outputs": [
    {
     "ename": "AttributeError",
     "evalue": "'dict' object has no attribute 'add'",
     "output_type": "error",
     "traceback": [
      "\u001b[0;31m---------------------------------------------------------------------------\u001b[0m",
      "\u001b[0;31mAttributeError\u001b[0m                            Traceback (most recent call last)",
      "Cell \u001b[0;32mIn[9], line 1\u001b[0m\n\u001b[0;32m----> 1\u001b[0m \u001b[43ms\u001b[49m\u001b[38;5;241;43m.\u001b[39;49m\u001b[43madd\u001b[49m(\u001b[38;5;241m4\u001b[39m)\n",
      "\u001b[0;31mAttributeError\u001b[0m: 'dict' object has no attribute 'add'"
     ]
    }
   ],
   "source": [
    "s.add(4)"
   ]
  },
  {
   "cell_type": "code",
   "execution_count": 10,
   "id": "19aea19b-72eb-4728-a9d0-ddc31d7584f3",
   "metadata": {},
   "outputs": [],
   "source": [
    "s = set()"
   ]
  },
  {
   "cell_type": "code",
   "execution_count": 11,
   "id": "08c0cf50-499f-4ddc-8442-61d79e8f260e",
   "metadata": {},
   "outputs": [],
   "source": [
    "s.add(4)"
   ]
  },
  {
   "cell_type": "code",
   "execution_count": 12,
   "id": "a7eed0bd-8254-4c62-9470-3fb0b172e135",
   "metadata": {},
   "outputs": [
    {
     "data": {
      "text/plain": [
       "1"
      ]
     },
     "execution_count": 12,
     "metadata": {},
     "output_type": "execute_result"
    }
   ],
   "source": [
    "len(s)"
   ]
  }
 ],
 "metadata": {
  "kernelspec": {
   "display_name": "Python 3 (ipykernel)",
   "language": "python",
   "name": "python3"
  },
  "language_info": {
   "codemirror_mode": {
    "name": "ipython",
    "version": 3
   },
   "file_extension": ".py",
   "mimetype": "text/x-python",
   "name": "python",
   "nbconvert_exporter": "python",
   "pygments_lexer": "ipython3",
   "version": "3.11.1"
  }
 },
 "nbformat": 4,
 "nbformat_minor": 5
}
