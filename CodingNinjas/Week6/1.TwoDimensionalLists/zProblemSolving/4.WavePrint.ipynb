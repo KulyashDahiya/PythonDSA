{
 "cells": [
  {
   "cell_type": "code",
   "execution_count": 19,
   "id": "ee67468e-e92d-412c-a63e-e3363cbb84fd",
   "metadata": {},
   "outputs": [],
   "source": [
    "def wavePrint(li, n, m):\n",
    "    for j in range(m):\n",
    "        if j == 0 or j%2 == 0:\n",
    "            for i in range(n):\n",
    "                print(li[i][j], end=' ')\n",
    "            print(\"\",end='')\n",
    "        else:\n",
    "            for i in range(n-1, -1, -1):\n",
    "                print(li[i][j], end=' ')\n",
    "            print(\"\",end='')\n",
    "    \n",
    "    "
   ]
  },
  {
   "cell_type": "code",
   "execution_count": 20,
   "id": "b97c01dd-b567-4bfd-a0bd-70293f06054c",
   "metadata": {},
   "outputs": [
    {
     "name": "stdout",
     "output_type": "stream",
     "text": [
      "1 5 9 10 6 2 3 7 11 12 8 4 "
     ]
    }
   ],
   "source": [
    "# li = input().split()\n",
    "# nRows = int(li[0])\n",
    "# mCols = int(li[1])\n",
    "# mat = [list(map(int, input().strip().split(\" \"))) for row in range(nRows)]\n",
    "\n",
    "nRows, mCols = 3, 4\n",
    "mat = [ [1,2,3,4], [5,6,7,8], [9,10,11,12] ]\n",
    "\n",
    "wavePrint(mat, nRows, mCols)"
   ]
  }
 ],
 "metadata": {
  "kernelspec": {
   "display_name": "Python 3 (ipykernel)",
   "language": "python",
   "name": "python3"
  },
  "language_info": {
   "codemirror_mode": {
    "name": "ipython",
    "version": 3
   },
   "file_extension": ".py",
   "mimetype": "text/x-python",
   "name": "python",
   "nbconvert_exporter": "python",
   "pygments_lexer": "ipython3",
   "version": "3.11.1"
  }
 },
 "nbformat": 4,
 "nbformat_minor": 5
}
