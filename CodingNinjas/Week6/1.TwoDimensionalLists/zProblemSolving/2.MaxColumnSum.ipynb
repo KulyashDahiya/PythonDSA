{
 "cells": [
  {
   "cell_type": "code",
   "execution_count": 6,
   "id": "19869df7-ce53-4210-9ce0-b1d5160720ef",
   "metadata": {},
   "outputs": [
    {
     "name": "stdout",
     "output_type": "stream",
     "text": [
      "2 20\n"
     ]
    }
   ],
   "source": [
    "def largest_col(li):\n",
    "    n = len(li)\n",
    "    m = len(li[0])\n",
    "    \n",
    "    max_sum = -1\n",
    "    lar_col_index = -1\n",
    "    for col in range(m):\n",
    "        sum = 0\n",
    "        for row in li:\n",
    "            sum += row[col]\n",
    "        if max_sum < sum:\n",
    "            max_sum = sum\n",
    "            lar_col_index = col\n",
    "    \n",
    "    return lar_col_index, max_sum\n",
    "\n",
    "\n",
    "\n",
    "li = [ [1,2,3,4], [8,7,6,5], [9,10,11,7] ]\n",
    "largest_col_index, largest_col_sum = largest_col(li)\n",
    "print(largest_col_index, largest_col_sum)"
   ]
  }
 ],
 "metadata": {
  "kernelspec": {
   "display_name": "Python 3 (ipykernel)",
   "language": "python",
   "name": "python3"
  },
  "language_info": {
   "codemirror_mode": {
    "name": "ipython",
    "version": 3
   },
   "file_extension": ".py",
   "mimetype": "text/x-python",
   "name": "python",
   "nbconvert_exporter": "python",
   "pygments_lexer": "ipython3",
   "version": "3.11.1"
  }
 },
 "nbformat": 4,
 "nbformat_minor": 5
}
