{
 "cells": [
  {
   "cell_type": "code",
   "execution_count": null,
   "id": "5de5e831-31a6-4fe6-9cc5-dedad5213473",
   "metadata": {},
   "outputs": [],
   "source": [
    "def rowWiseSum(mat, nRows, mCols):\n",
    "    #Your code goes here\n",
    "    for row in mat:\n",
    "        sum = 0\n",
    "        for col in row:\n",
    "            sum += col\n",
    "        \n",
    "        print(sum, end=' ')"
   ]
  }
 ],
 "metadata": {
  "kernelspec": {
   "display_name": "Python 3 (ipykernel)",
   "language": "python",
   "name": "python3"
  },
  "language_info": {
   "codemirror_mode": {
    "name": "ipython",
    "version": 3
   },
   "file_extension": ".py",
   "mimetype": "text/x-python",
   "name": "python",
   "nbconvert_exporter": "python",
   "pygments_lexer": "ipython3",
   "version": "3.11.1"
  }
 },
 "nbformat": 4,
 "nbformat_minor": 5
}
