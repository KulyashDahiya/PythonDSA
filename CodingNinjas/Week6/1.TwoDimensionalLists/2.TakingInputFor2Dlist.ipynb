{
 "cells": [
  {
   "cell_type": "code",
   "execution_count": null,
   "id": "86851db9-8a7b-4c6f-b47e-4f9c80516355",
   "metadata": {},
   "outputs": [],
   "source": [
    "## Taking INPUT for 2D List"
   ]
  },
  {
   "cell_type": "code",
   "execution_count": null,
   "id": "e83693f0-304b-4c9d-833c-28237b59be73",
   "metadata": {},
   "outputs": [],
   "source": [
    "n = int(input())\n",
    "ans = []\n",
    "for i in range(n):\n",
    "    ls = input().split()\n",
    "    ans.append([int(x) for x in ls])\n",
    "print(ans)"
   ]
  },
  {
   "cell_type": "code",
   "execution_count": null,
   "id": "7ffde6b5-1f90-4600-86fa-a64cf814d73c",
   "metadata": {},
   "outputs": [],
   "source": [
    "n = int(input())\n",
    "ans = []\n",
    "for i in range(n):\n",
    "    ans.append([int(x) for x in input().split()])\n",
    "print(ans)"
   ]
  },
  {
   "cell_type": "code",
   "execution_count": null,
   "id": "8d22ad20-f1b7-4c4a-b128-84540ebf7b6c",
   "metadata": {},
   "outputs": [],
   "source": [
    "### Best Way ---->\n",
    "# 2 ---- rows\n",
    "# 1 2 3 4       ----- row 1\n",
    "# 2 3 4 5 5 6   ----- row 2\n",
    "\n",
    "n = input().split()\n",
    "list2D = [ [ int(j) for j in input().split() ] for i in range(n)]\n",
    "\n",
    "print(list2D)"
   ]
  },
  {
   "cell_type": "code",
   "execution_count": null,
   "id": "a7d217e7-27f8-49e4-ac16-83890422851a",
   "metadata": {},
   "outputs": [],
   "source": [
    "### Good Way ----\n",
    "# 2 4 ---- rows and columns\n",
    "# 1 2 3 4       ----- row 1\n",
    "# 2 3 4 5 5 6   ----- row 2\n",
    "\n",
    "str1 = input().split()\n",
    "n, m = int(str1[0]), int(str1[1])\n",
    "list2D = [ [ int(j) for j in input().split() ] for i in range(n)]\n",
    "\n",
    "print(list2D)"
   ]
  },
  {
   "cell_type": "code",
   "execution_count": null,
   "id": "d5c78821-6a3e-4fc5-a67f-67a37575dd2f",
   "metadata": {},
   "outputs": [],
   "source": []
  },
  {
   "cell_type": "code",
   "execution_count": 1,
   "id": "eda57e2e-bb3d-428e-a796-d81c6351d6d7",
   "metadata": {},
   "outputs": [
    {
     "name": "stdin",
     "output_type": "stream",
     "text": [
      " 2 4\n",
      " 1 2 3 4 5 6 7 8\n"
     ]
    }
   ],
   "source": [
    "# First Line -> Row, Column    :    Second Line ---> all elements\n",
    "\n",
    "str=input().split()\n",
    "n,m=int(str[0]),int(str[1])\n",
    "b=input().split()\n",
    "arr=[ [int(b[m*i+j])for j in range(m)]for i in range(n)]"
   ]
  },
  {
   "cell_type": "code",
   "execution_count": 2,
   "id": "63a164c7-552a-477c-98d5-f0739ec85d70",
   "metadata": {},
   "outputs": [
    {
     "data": {
      "text/plain": [
       "[[1, 2, 3, 4], [5, 6, 7, 8]]"
      ]
     },
     "execution_count": 2,
     "metadata": {},
     "output_type": "execute_result"
    }
   ],
   "source": [
    "arr"
   ]
  },
  {
   "cell_type": "code",
   "execution_count": 3,
   "id": "3b77e4a6-883e-490f-8165-fde88acf865b",
   "metadata": {},
   "outputs": [
    {
     "name": "stdin",
     "output_type": "stream",
     "text": [
      " 2 4 1 2 3 4 5 6 7 8\n"
     ]
    }
   ],
   "source": [
    "#Everything in a single Line\n",
    "\n",
    "str=input().split()\n",
    "n,m=int(str[0]),int(str[1])\n",
    "b=str[2:]\n",
    "arr=[ [int(b[m*i+j])for j in range(m)]for i in range(n)]"
   ]
  },
  {
   "cell_type": "code",
   "execution_count": 4,
   "id": "d3619d97-41b3-436f-8b4a-eecbe325e563",
   "metadata": {},
   "outputs": [
    {
     "data": {
      "text/plain": [
       "[[1, 2, 3, 4], [5, 6, 7, 8]]"
      ]
     },
     "execution_count": 4,
     "metadata": {},
     "output_type": "execute_result"
    }
   ],
   "source": [
    "arr"
   ]
  }
 ],
 "metadata": {
  "kernelspec": {
   "display_name": "Python 3 (ipykernel)",
   "language": "python",
   "name": "python3"
  },
  "language_info": {
   "codemirror_mode": {
    "name": "ipython",
    "version": 3
   },
   "file_extension": ".py",
   "mimetype": "text/x-python",
   "name": "python",
   "nbconvert_exporter": "python",
   "pygments_lexer": "ipython3",
   "version": "3.11.1"
  }
 },
 "nbformat": 4,
 "nbformat_minor": 5
}
