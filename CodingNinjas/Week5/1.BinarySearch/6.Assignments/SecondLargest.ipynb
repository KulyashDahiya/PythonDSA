{
 "cells": [
  {
   "cell_type": "code",
   "execution_count": 11,
   "id": "9be73154-5e23-4459-a262-1a5f17ea74c0",
   "metadata": {},
   "outputs": [
    {
     "name": "stdout",
     "output_type": "stream",
     "text": [
      "5\n"
     ]
    }
   ],
   "source": [
    "import sys\n",
    "\n",
    "a = [3, 1, 2, 9, 4, 2, 5, 0, 1]\n",
    "\n",
    "maxi = float('-inf')\n",
    "temp = maxi\n",
    "\n",
    "for i in range(len(a)):\n",
    "    if a[i] > maxi:\n",
    "        temp = maxi\n",
    "        maxi = a[i]\n",
    "    elif temp < a[i] and a[i] < maxi:\n",
    "        temp = a[i]\n",
    "print(temp)"
   ]
  },
  {
   "cell_type": "code",
   "execution_count": null,
   "id": "63a6ab08-3dcc-42d5-b1f6-f05585c767e0",
   "metadata": {},
   "outputs": [],
   "source": []
  }
 ],
 "metadata": {
  "kernelspec": {
   "display_name": "Python 3 (ipykernel)",
   "language": "python",
   "name": "python3"
  },
  "language_info": {
   "codemirror_mode": {
    "name": "ipython",
    "version": 3
   },
   "file_extension": ".py",
   "mimetype": "text/x-python",
   "name": "python",
   "nbconvert_exporter": "python",
   "pygments_lexer": "ipython3",
   "version": "3.11.1"
  }
 },
 "nbformat": 4,
 "nbformat_minor": 5
}
