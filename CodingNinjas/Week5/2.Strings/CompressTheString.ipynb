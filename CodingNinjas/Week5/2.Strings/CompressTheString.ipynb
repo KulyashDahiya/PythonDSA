{
 "cells": [
  {
   "cell_type": "code",
   "execution_count": null,
   "id": "5729aeec-2e7e-49c4-b5be-97dffcf89180",
   "metadata": {},
   "outputs": [],
   "source": [
    "def getCompressedString(string) :\n",
    "\t# Write your code here.\n",
    "\tn = len(string)\n",
    "\tif n == 0:\n",
    "\t\treturn string\n",
    "\n",
    "\tcount = 1\n",
    "\tprev_char = string[0]\n",
    "\tans = \"\" + prev_char\n",
    "\t\n",
    "\tfor i in range(1, n):\n",
    "\t\tif string[i] == prev_char:\n",
    "\t\t\tcount += 1\n",
    "\t\t\tif i == n-1:\n",
    "\t\t\t\tans += str(count)\n",
    "\t\t\n",
    "\t\telif count>1:\n",
    "\t\t\tans += str(count) + string[i]\n",
    "\t\t\tprev_char = string[i]\n",
    "\t\t\tcount = 1\n",
    "\t\t\n",
    "\t\telse:\n",
    "\t\t\tans += string[i]\n",
    "\t\t\tprev_char = string[i]\n",
    "\t\t\tcount = 1\n",
    "\t\n",
    "\treturn ans"
   ]
  }
 ],
 "metadata": {
  "kernelspec": {
   "display_name": "Python 3 (ipykernel)",
   "language": "python",
   "name": "python3"
  },
  "language_info": {
   "codemirror_mode": {
    "name": "ipython",
    "version": 3
   },
   "file_extension": ".py",
   "mimetype": "text/x-python",
   "name": "python",
   "nbconvert_exporter": "python",
   "pygments_lexer": "ipython3",
   "version": "3.11.1"
  }
 },
 "nbformat": 4,
 "nbformat_minor": 5
}
