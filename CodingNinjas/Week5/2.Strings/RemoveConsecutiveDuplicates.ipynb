{
 "cells": [
  {
   "cell_type": "code",
   "execution_count": 3,
   "id": "e6638848-979e-4e3c-a65f-7b3553b81e4b",
   "metadata": {},
   "outputs": [
    {
     "name": "stdout",
     "output_type": "stream",
     "text": [
      "abc\n"
     ]
    }
   ],
   "source": [
    "s = \"aabbbcc\"\n",
    "\n",
    "r = \"\" + s[0]\n",
    "for i in range(1, len(s)):\n",
    "    if s[i] != r[-1]:\n",
    "        r += s[i]\n",
    "        \n",
    "print(r)"
   ]
  },
  {
   "cell_type": "code",
   "execution_count": null,
   "id": "5fbf2de5-ff0a-4eb7-8caa-17332fedd8ca",
   "metadata": {},
   "outputs": [],
   "source": []
  }
 ],
 "metadata": {
  "kernelspec": {
   "display_name": "Python 3 (ipykernel)",
   "language": "python",
   "name": "python3"
  },
  "language_info": {
   "codemirror_mode": {
    "name": "ipython",
    "version": 3
   },
   "file_extension": ".py",
   "mimetype": "text/x-python",
   "name": "python",
   "nbconvert_exporter": "python",
   "pygments_lexer": "ipython3",
   "version": "3.11.1"
  }
 },
 "nbformat": 4,
 "nbformat_minor": 5
}
