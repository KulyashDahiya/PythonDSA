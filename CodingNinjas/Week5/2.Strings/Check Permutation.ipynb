{
 "cells": [
  {
   "cell_type": "code",
   "execution_count": null,
   "id": "d58c166b-a731-4fce-96f6-554eaded8fb2",
   "metadata": {},
   "outputs": [],
   "source": [
    "def isPermutation(string1, string2) :\n",
    "\t#Your code goes here\n",
    "    if len(string1) != len(string2):\n",
    "        return False\n",
    "    \n",
    "    a = sorted(string1)\n",
    "    string1 = a\n",
    "    b = sorted(string2)\n",
    "    string2 = b\n",
    "\n",
    "    if string1 != string2:\n",
    "        return False\n",
    "\n",
    "    return True"
   ]
  },
  {
   "cell_type": "code",
   "execution_count": null,
   "id": "fdcc3114-33ce-4030-bd1c-931fa2748b9e",
   "metadata": {},
   "outputs": [],
   "source": []
  },
  {
   "cell_type": "code",
   "execution_count": null,
   "id": "6320df38-2efa-402b-b06c-0d278c4bf21c",
   "metadata": {},
   "outputs": [],
   "source": [
    "### frequency by using array for ord of characters\n",
    "def isPermutation(string1, string2) :\n",
    "    if len(string1) != len(string2):\n",
    "        return False\n",
    "    \n",
    "    a = sorted(string1)\n",
    "    string1 = a\n",
    "    b = sorted(string2)\n",
    "    string2 = b\n",
    "\n",
    "    if string1 != string2:\n",
    "        return False\n",
    "\n",
    "    return True"
   ]
  }
 ],
 "metadata": {
  "kernelspec": {
   "display_name": "Python 3 (ipykernel)",
   "language": "python",
   "name": "python3"
  },
  "language_info": {
   "codemirror_mode": {
    "name": "ipython",
    "version": 3
   },
   "file_extension": ".py",
   "mimetype": "text/x-python",
   "name": "python",
   "nbconvert_exporter": "python",
   "pygments_lexer": "ipython3",
   "version": "3.11.1"
  }
 },
 "nbformat": 4,
 "nbformat_minor": 5
}
