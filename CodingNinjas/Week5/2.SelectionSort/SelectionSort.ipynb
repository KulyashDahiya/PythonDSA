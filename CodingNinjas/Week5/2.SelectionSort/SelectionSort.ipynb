{
 "cells": [
  {
   "cell_type": "code",
   "execution_count": 57,
   "id": "88633890-eabc-4ef4-ba58-d67f00905d81",
   "metadata": {},
   "outputs": [
    {
     "name": "stdout",
     "output_type": "stream",
     "text": [
      "[2, 3, 4, 5, 7, 8, 10]\n"
     ]
    }
   ],
   "source": [
    "arr = [5, 4, 3, 7, 8, 2, 10]\n",
    "\n",
    "\n",
    "for i in range (len(arr)):\n",
    "    ind = i\n",
    "    for j in range(i+1, len(arr)):\n",
    "        if arr[ind] > arr[j] :\n",
    "            ind = j\n",
    "    \n",
    "    arr[i], arr[ind] = arr[ind], arr[i]\n",
    "    \n",
    "print(arr)"
   ]
  },
  {
   "cell_type": "code",
   "execution_count": null,
   "id": "b77ac6f4-7a66-42e4-979f-76c087ba6f56",
   "metadata": {},
   "outputs": [],
   "source": []
  },
  {
   "cell_type": "code",
   "execution_count": 52,
   "id": "56a5e49d-80db-44dc-90c9-7bc2f2275d9d",
   "metadata": {},
   "outputs": [
    {
     "name": "stdout",
     "output_type": "stream",
     "text": [
      "[2, 3, 4, 5, 7, 8, 10]\n"
     ]
    }
   ],
   "source": [
    "A = [5, 4, 3, 7, 8, 2, 10]\n",
    "for i in range(len(A)):\n",
    "     \n",
    "    # Find the minimum element in remaining\n",
    "    # unsorted array\n",
    "    min_idx = i\n",
    "    for j in range(i+1, len(A)):\n",
    "        if A[min_idx] > A[j]:\n",
    "            min_idx = j\n",
    "             \n",
    "    # Swap the found minimum element with\n",
    "    # the first element       \n",
    "    A[i], A[min_idx] = A[min_idx], A[i]\n",
    "    \n",
    "print(A)"
   ]
  },
  {
   "cell_type": "code",
   "execution_count": null,
   "id": "4c8884b1-997e-4f6f-a233-f73d8e76cd31",
   "metadata": {},
   "outputs": [],
   "source": []
  },
  {
   "cell_type": "code",
   "execution_count": null,
   "id": "92d49c76-663e-4a57-902b-46993762d1e1",
   "metadata": {},
   "outputs": [],
   "source": []
  },
  {
   "cell_type": "code",
   "execution_count": 34,
   "id": "2fb94f54-1ba4-483c-a4e8-a0e7d1041190",
   "metadata": {},
   "outputs": [
    {
     "name": "stdout",
     "output_type": "stream",
     "text": [
      "[7, 8, 2, 10]\n"
     ]
    }
   ],
   "source": [
    "arr = [5, 4, 3, 7, 8, 2, 10]\n",
    "arr = arr[3:]\n",
    "print(arr)"
   ]
  }
 ],
 "metadata": {
  "kernelspec": {
   "display_name": "Python 3 (ipykernel)",
   "language": "python",
   "name": "python3"
  },
  "language_info": {
   "codemirror_mode": {
    "name": "ipython",
    "version": 3
   },
   "file_extension": ".py",
   "mimetype": "text/x-python",
   "name": "python",
   "nbconvert_exporter": "python",
   "pygments_lexer": "ipython3",
   "version": "3.11.1"
  }
 },
 "nbformat": 4,
 "nbformat_minor": 5
}
