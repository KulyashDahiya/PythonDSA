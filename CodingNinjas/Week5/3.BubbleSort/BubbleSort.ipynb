{
 "cells": [
  {
   "cell_type": "code",
   "execution_count": null,
   "id": "b56ee6ec-8952-4125-b1a5-ffa7a1368391",
   "metadata": {},
   "outputs": [],
   "source": [
    "# Advantages of Bubble Sort:\n",
    "# Bubble sort is easy to understand and implement.\n",
    "# It does not require any additional memory space.\n",
    "# It is a stable sorting algorithm, meaning that elements with the same key value maintain their relative\n",
    "# order in the sorted output.\n",
    "\n",
    "# Disadvantages of Bubble Sort:\n",
    "# Bubble sort has a time complexity of O(N2) which makes it very slow for large data sets.\n",
    "# Bubble sort is a comparison-based sorting algorithm, which means that it requires a comparison\n",
    "# operator to determine the relative order of elements in the input data set.\n",
    "# It can limit the efficiency of the algorithm in certain cases."
   ]
  },
  {
   "cell_type": "code",
   "execution_count": 6,
   "id": "8bda78cc-0c6d-42b9-bca1-9f163a34e76f",
   "metadata": {},
   "outputs": [
    {
     "name": "stdout",
     "output_type": "stream",
     "text": [
      "[1, 2, 4, 6, 7, 8, 9]\n"
     ]
    }
   ],
   "source": [
    "#Most Optimised\n",
    "\n",
    "arr = [6, 4, 7, 8, 9, 2, 1]\n",
    "\n",
    "n = len(arr)\n",
    "      \n",
    "    # Traverse through all array elements\n",
    "for i in range(n-1):\n",
    "    swapped = False\n",
    "  \n",
    "    # Last i elements are already in place\n",
    "    for j in range(n-i-1):\n",
    "  \n",
    "            # Traverse the array from 0 to n-i-1\n",
    "            # Swap if the element found is greater\n",
    "            # than the next element\n",
    "        if arr[j] > arr[j+1]:\n",
    "            arr[j], arr[j+1] = arr[j+1], arr[j]\n",
    "            swapped = True\n",
    "    if (swapped == False):\n",
    "        break\n",
    "\n",
    "print(arr)"
   ]
  }
 ],
 "metadata": {
  "kernelspec": {
   "display_name": "Python 3 (ipykernel)",
   "language": "python",
   "name": "python3"
  },
  "language_info": {
   "codemirror_mode": {
    "name": "ipython",
    "version": 3
   },
   "file_extension": ".py",
   "mimetype": "text/x-python",
   "name": "python",
   "nbconvert_exporter": "python",
   "pygments_lexer": "ipython3",
   "version": "3.11.1"
  }
 },
 "nbformat": 4,
 "nbformat_minor": 5
}
