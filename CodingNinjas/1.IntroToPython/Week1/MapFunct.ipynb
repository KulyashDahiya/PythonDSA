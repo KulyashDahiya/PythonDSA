{
 "cells": [
  {
   "cell_type": "code",
   "execution_count": 6,
   "id": "2598c0ac-99ae-471c-9fe6-ee704df821ab",
   "metadata": {},
   "outputs": [
    {
     "name": "stdout",
     "output_type": "stream",
     "text": [
      "[1, 4, 9, 16, 25, 36]\n"
     ]
    }
   ],
   "source": [
    "def square(n):\n",
    "    return n*n\n",
    "\n",
    "lst = [1,2,3,4,5,6]\n",
    "\n",
    "sq_list = list(map(square, lst))\n",
    "\n",
    "print(sq_list)"
   ]
  },
  {
   "cell_type": "code",
   "execution_count": null,
   "id": "b30421be-c0cb-4634-8e94-50bd7118c688",
   "metadata": {},
   "outputs": [],
   "source": []
  },
  {
   "cell_type": "code",
   "execution_count": 10,
   "id": "be12ce5b-fc47-4a95-9ef9-f69f32b74a3b",
   "metadata": {},
   "outputs": [
    {
     "name": "stdout",
     "output_type": "stream",
     "text": [
      "['ab', 'hc', 'id']\n"
     ]
    }
   ],
   "source": [
    "def funct(x, y):\n",
    "    return x+y\n",
    "\n",
    "\n",
    "lst1 = ['a', 'h', 'i']\n",
    "lst2 = ['b', 'c', 'd']\n",
    "\n",
    "res = list(map(funct, lst1, lst2))\n",
    "\n",
    "print(res)"
   ]
  }
 ],
 "metadata": {
  "kernelspec": {
   "display_name": "Python 3 (ipykernel)",
   "language": "python",
   "name": "python3"
  },
  "language_info": {
   "codemirror_mode": {
    "name": "ipython",
    "version": 3
   },
   "file_extension": ".py",
   "mimetype": "text/x-python",
   "name": "python",
   "nbconvert_exporter": "python",
   "pygments_lexer": "ipython3",
   "version": "3.11.1"
  }
 },
 "nbformat": 4,
 "nbformat_minor": 5
}
