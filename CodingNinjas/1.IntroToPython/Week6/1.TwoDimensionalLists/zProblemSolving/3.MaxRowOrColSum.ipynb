{
 "cells": [
  {
   "cell_type": "code",
   "execution_count": 8,
   "id": "aa87c63c-f8c8-4620-8419-35d5079387dc",
   "metadata": {},
   "outputs": [],
   "source": [
    "from sys import stdin\n",
    "\n",
    "def largest_col(li):\n",
    "    n = len(li)\n",
    "    m = len(li[0])\n",
    "    \n",
    "    max_sum = -1\n",
    "    lar_col_index = []\n",
    "    for col in range(m):\n",
    "        sum = 0\n",
    "        for row in li:\n",
    "            sum += row[col]\n",
    "        if max_sum < sum:\n",
    "            max_sum = sum\n",
    "            lar_col_index.clear()\n",
    "            lar_col_index.append(col)\n",
    "        elif max_sum == sum:\n",
    "            lar_col_index.append(col)\n",
    "    \n",
    "    lar_col_index.sort()\n",
    "    return max_sum,lar_col_index[0]\n",
    "\n",
    "def largest_row(li):\n",
    "    # print(li)\n",
    "    n = len(li)\n",
    "    m = len(li[0])\n",
    "    max_sum = -1\n",
    "    lar_row_index = []\n",
    "    \n",
    "    for row in range(n):\n",
    "        sum = 0\n",
    "        for col in li[row]:\n",
    "            sum += col\n",
    "        if max_sum < sum:\n",
    "            max_sum = sum\n",
    "            lar_row_index.clear()\n",
    "            lar_row_index.append(row)\n",
    "        elif max_sum == sum:\n",
    "            lar_row_index.append(row)\n",
    "    \n",
    "    lar_row_index.sort()\n",
    "    return max_sum,lar_row_index[0]"
   ]
  },
  {
   "cell_type": "code",
   "execution_count": 9,
   "id": "ea3c582d-35a4-4ea0-b212-2ca8089c7153",
   "metadata": {},
   "outputs": [],
   "source": [
    "def findLargest(arr, nRows, mCols):\n",
    "    #Your code goes here\n",
    "    x = -2147483648\n",
    "    if nRows==0 and mCols == 0:\n",
    "        print(\"row\", nRows, x)\n",
    "        exit()\n",
    "\n",
    "    max_row_sum, row_index = largest_row(arr)\n",
    "    max_col_sum, col_index = largest_col(arr) \n",
    "\n",
    "    if (max_row_sum >= max_col_sum):\n",
    "        print(\"row\",row_index,max_row_sum)\n",
    "    else:\n",
    "        print(\"column\",col_index,max_col_sum)"
   ]
  },
  {
   "cell_type": "code",
   "execution_count": 12,
   "id": "dfed3f5f-7158-4a2c-b933-f61109c9aac6",
   "metadata": {},
   "outputs": [
    {
     "name": "stdin",
     "output_type": "stream",
     "text": [
      " 2 3\n",
      " 1 2 3\n",
      " 2 1 2\n"
     ]
    },
    {
     "name": "stdout",
     "output_type": "stream",
     "text": [
      "row 0 6\n"
     ]
    }
   ],
   "source": [
    "li = input().split()\n",
    "nRows = int(li[0])\n",
    "mCols = int(li[1])\n",
    "mat = [list(map(int, input().strip().split(\" \"))) for row in range(nRows)]\n",
    "findLargest(mat, nRows, mCols)"
   ]
  },
  {
   "cell_type": "code",
   "execution_count": null,
   "id": "da1c1143-bcce-4a8b-a21d-1e89e7b7e461",
   "metadata": {},
   "outputs": [],
   "source": []
  },
  {
   "cell_type": "code",
   "execution_count": null,
   "id": "35d8b929-2397-4772-b7cc-82852a7f4013",
   "metadata": {},
   "outputs": [],
   "source": []
  },
  {
   "cell_type": "code",
   "execution_count": null,
   "id": "d2f5fcd5-1bf8-419a-8d35-eddb1c0cdd0b",
   "metadata": {},
   "outputs": [],
   "source": [
    "### Simple Way ---->"
   ]
  },
  {
   "cell_type": "code",
   "execution_count": 14,
   "id": "36f05d47-f381-4316-9103-4dde2e0c18b1",
   "metadata": {},
   "outputs": [],
   "source": [
    "MIN_VALUE = -2147483648 \n",
    "def findLargest1(arr, nRows, mCols):\n",
    "    isRow = True \n",
    "    largestSum = MIN_VALUE \n",
    "    num = 0 \n",
    "    for i in range(nRows) :\n",
    "        rowSum = 0 \n",
    "        for j in range(mCols) :\n",
    "            rowSum += arr[i][j] \n",
    "            if rowSum > largestSum :\n",
    "                largestSum = rowSum\n",
    "                num = i \n",
    "                \n",
    "    for j in range(mCols) :\n",
    "        colSum = 0\n",
    "        for i in range(nRows) :\n",
    "            colSum += arr[i][j]\n",
    "            if colSum > largestSum :\n",
    "                largestSum = colSum\n",
    "                num = j\n",
    "                isRow = False\n",
    "    \n",
    "    if isRow : \n",
    "        print(\"row \" + str(num) + \" \" + str(largestSum)) \n",
    "    else :\n",
    "        print(\"column \" + str(num) + \" \" + str(largestSum))"
   ]
  },
  {
   "cell_type": "code",
   "execution_count": 15,
   "id": "9029a32b-fa8c-49d9-a3a4-c5aceac77d0a",
   "metadata": {},
   "outputs": [
    {
     "name": "stdin",
     "output_type": "stream",
     "text": [
      " 2 3\n",
      " 1 2 3\n",
      " 4 5 6\n"
     ]
    },
    {
     "name": "stdout",
     "output_type": "stream",
     "text": [
      "row 1 15\n"
     ]
    }
   ],
   "source": [
    "li = input().split()\n",
    "nRows = int(li[0])\n",
    "mCols = int(li[1])\n",
    "mat = [list(map(int, input().strip().split(\" \"))) for row in range(nRows)]\n",
    "findLargest1(mat, nRows, mCols)"
   ]
  }
 ],
 "metadata": {
  "kernelspec": {
   "display_name": "Python 3 (ipykernel)",
   "language": "python",
   "name": "python3"
  },
  "language_info": {
   "codemirror_mode": {
    "name": "ipython",
    "version": 3
   },
   "file_extension": ".py",
   "mimetype": "text/x-python",
   "name": "python",
   "nbconvert_exporter": "python",
   "pygments_lexer": "ipython3",
   "version": "3.11.1"
  }
 },
 "nbformat": 4,
 "nbformat_minor": 5
}
