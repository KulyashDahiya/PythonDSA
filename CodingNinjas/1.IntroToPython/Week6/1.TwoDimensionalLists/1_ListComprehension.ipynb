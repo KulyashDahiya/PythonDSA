{
 "cells": [
  {
   "cell_type": "code",
   "execution_count": 1,
   "id": "368fe97c-d48a-463d-a114-aece90405838",
   "metadata": {},
   "outputs": [
    {
     "name": "stdout",
     "output_type": "stream",
     "text": [
      "[1, 4, 9, 16]\n"
     ]
    }
   ],
   "source": [
    "li = [1, 2, 3, 4]\n",
    "\n",
    "li_new = [x**2 for x in li]\n",
    "print(li_new)"
   ]
  },
  {
   "cell_type": "code",
   "execution_count": 3,
   "id": "a641a2db-3a76-4f6b-b82a-dd359002af9e",
   "metadata": {},
   "outputs": [
    {
     "name": "stdout",
     "output_type": "stream",
     "text": [
      "[4, 16]\n"
     ]
    }
   ],
   "source": [
    "li_new_even = [x**2 for x in li if x%2==0]\n",
    "print(li_new_even)"
   ]
  },
  {
   "cell_type": "code",
   "execution_count": 4,
   "id": "9200d2f7-a268-4023-8c8a-86c6f89b27a4",
   "metadata": {},
   "outputs": [
    {
     "name": "stdout",
     "output_type": "stream",
     "text": [
      "[6, 12, 18]\n"
     ]
    }
   ],
   "source": [
    "# Elements divisible by 2 and 3\n",
    "\n",
    "li1 = [1,2,3,4,5,6,7,8,9,10,11,12,13,14,15,16,17,18]\n",
    "\n",
    "ans = [x for x in li1 if x%2==0 if x%3 ==0]\n",
    "\n",
    "print(ans)"
   ]
  },
  {
   "cell_type": "code",
   "execution_count": 7,
   "id": "012b2bd6-d092-43fc-a593-eabeccb8cced",
   "metadata": {},
   "outputs": [
    {
     "ename": "SyntaxError",
     "evalue": "invalid syntax (3803052684.py, line 1)",
     "output_type": "error",
     "traceback": [
      "\u001b[0;36m  Cell \u001b[0;32mIn[7], line 1\u001b[0;36m\u001b[0m\n\u001b[0;31m    ans1 = [x for x in li1 if x%2==0 or if x%3 ==0]\u001b[0m\n\u001b[0m                                        ^\u001b[0m\n\u001b[0;31mSyntaxError\u001b[0m\u001b[0;31m:\u001b[0m invalid syntax\n"
     ]
    }
   ],
   "source": [
    "ans1 = [x for x in li1 if x%2==0 or if x%3 ==0]\n",
    "print(ans1)"
   ]
  },
  {
   "cell_type": "code",
   "execution_count": null,
   "id": "5787289f-e29b-414b-b62a-b24e0dff502a",
   "metadata": {},
   "outputs": [],
   "source": []
  },
  {
   "cell_type": "code",
   "execution_count": 9,
   "id": "8626f5d1-1efb-453b-9166-026dc4376508",
   "metadata": {},
   "outputs": [
    {
     "name": "stdout",
     "output_type": "stream",
     "text": [
      "[2, 4]\n"
     ]
    }
   ],
   "source": [
    "li1 = [1,2,3,4,5]\n",
    "li2 = [2,4,6,7]\n",
    "li_inter = []\n",
    "for el in li1:\n",
    "    for el2 in li2:\n",
    "        if el == el2:\n",
    "            li_inter.append(el)\n",
    "print(li_inter)"
   ]
  },
  {
   "cell_type": "code",
   "execution_count": 11,
   "id": "33b6429e-9811-414d-8ae0-4e69075f09b6",
   "metadata": {},
   "outputs": [
    {
     "name": "stdout",
     "output_type": "stream",
     "text": [
      "[2, 4]\n"
     ]
    }
   ],
   "source": [
    "li1 = [1,2,3,4,5]\n",
    "li2 = [2,4,6,7]\n",
    "\n",
    "li_inter = [el for el in li1 for el2 in li2 if el == el2]\n",
    "print(li_inter)"
   ]
  },
  {
   "cell_type": "code",
   "execution_count": null,
   "id": "f4cdb72c-a0ea-4c1e-ae7c-bffa522c7e18",
   "metadata": {},
   "outputs": [],
   "source": []
  },
  {
   "cell_type": "code",
   "execution_count": 14,
   "id": "07296c57-df7b-4790-91c2-a349735e5ad3",
   "metadata": {},
   "outputs": [
    {
     "name": "stdout",
     "output_type": "stream",
     "text": [
      "[1, 4, 3, 16, 5]\n"
     ]
    }
   ],
   "source": [
    "lis = [1,2,3,4,5]\n",
    "\n",
    "ans1 = [el**2 if el%2 == 0 else el for el in lis]\n",
    "\n",
    "print(ans1)"
   ]
  },
  {
   "cell_type": "code",
   "execution_count": 15,
   "id": "daf3ab3f-1d2c-438d-a8fc-9966f274eed0",
   "metadata": {},
   "outputs": [
    {
     "name": "stdout",
     "output_type": "stream",
     "text": [
      "['K', 'U', 'L', 'Y', 'A', 'S', 'H']\n"
     ]
    }
   ],
   "source": [
    "s = \"KULYASH\"\n",
    "\n",
    "lis1 = [x for x in s]\n",
    "    \n",
    "print(lis1)"
   ]
  },
  {
   "cell_type": "code",
   "execution_count": 18,
   "id": "ee4f5022-112c-4689-9e87-af59aaf879ce",
   "metadata": {},
   "outputs": [
    {
     "name": "stdout",
     "output_type": "stream",
     "text": [
      "[['K', 'u', 'l', 'y', 'a', 's', 'h'], ['M', 'o', 'n', 'i', 'k', 'a'], ['A', 'd', 'i', 't', 'y', 'a']]\n"
     ]
    }
   ],
   "source": [
    "ls1 = [\"Kulyash\", \"Monika\", \"Aditya\"]\n",
    "\n",
    "ans2 = [ [el for el in ele] for ele in ls1]\n",
    "print(ans2)"
   ]
  },
  {
   "cell_type": "code",
   "execution_count": null,
   "id": "4a7ef69d-2437-438e-be3b-b38b887e3e92",
   "metadata": {},
   "outputs": [],
   "source": []
  }
 ],
 "metadata": {
  "kernelspec": {
   "display_name": "Python 3 (ipykernel)",
   "language": "python",
   "name": "python3"
  },
  "language_info": {
   "codemirror_mode": {
    "name": "ipython",
    "version": 3
   },
   "file_extension": ".py",
   "mimetype": "text/x-python",
   "name": "python",
   "nbconvert_exporter": "python",
   "pygments_lexer": "ipython3",
   "version": "3.11.1"
  }
 },
 "nbformat": 4,
 "nbformat_minor": 5
}
