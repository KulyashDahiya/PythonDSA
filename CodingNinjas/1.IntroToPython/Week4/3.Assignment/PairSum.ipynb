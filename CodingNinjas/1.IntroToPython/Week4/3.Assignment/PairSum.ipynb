{
 "cells": [
  {
   "cell_type": "code",
   "execution_count": 1,
   "id": "ed56e5a4-ef25-4876-83f1-ae6834eb1319",
   "metadata": {},
   "outputs": [],
   "source": [
    "def pairSum(arr, n, x) :\n",
    "    #Your code goes here\n",
    "    count = 0\n",
    "    for i in range(n):\n",
    "        el = arr[i]\n",
    "        for j in range(i+1, n):\n",
    "            ele = arr[j]\n",
    "            if (el + ele) == x:\n",
    "                count += 1\n",
    "    return count"
   ]
  },
  {
   "cell_type": "code",
   "execution_count": 2,
   "id": "afdee93d-6d45-47ee-8705-dd6e90c5200d",
   "metadata": {},
   "outputs": [
    {
     "name": "stdin",
     "output_type": "stream",
     "text": [
      " 9 10 10 2 8 6 6 11 2 1 8\n",
      " 7\n"
     ]
    },
    {
     "name": "stdout",
     "output_type": "stream",
     "text": [
      "2\n"
     ]
    }
   ],
   "source": [
    "#input_arr = 9 10 10 2 8 6 6 11 2 1 8 \n",
    "# x = 7\n",
    "arr = [int(x) for x in input().split()]\n",
    "x = int(input())\n",
    "n = len(arr)\n",
    "print(pairSum(arr, n, x))"
   ]
  },
  {
   "cell_type": "code",
   "execution_count": null,
   "id": "3a7644ac-3ced-4d28-ba9f-f19d101a61b1",
   "metadata": {},
   "outputs": [],
   "source": []
  }
 ],
 "metadata": {
  "kernelspec": {
   "display_name": "Python 3 (ipykernel)",
   "language": "python",
   "name": "python3"
  },
  "language_info": {
   "codemirror_mode": {
    "name": "ipython",
    "version": 3
   },
   "file_extension": ".py",
   "mimetype": "text/x-python",
   "name": "python",
   "nbconvert_exporter": "python",
   "pygments_lexer": "ipython3",
   "version": "3.11.1"
  }
 },
 "nbformat": 4,
 "nbformat_minor": 5
}
