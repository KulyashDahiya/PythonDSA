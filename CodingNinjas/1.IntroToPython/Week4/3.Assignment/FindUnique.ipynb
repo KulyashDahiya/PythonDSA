{
 "cells": [
  {
   "cell_type": "code",
   "execution_count": 18,
   "id": "82bb5e91-b3d7-4ba5-b441-55972a52fbe4",
   "metadata": {},
   "outputs": [],
   "source": [
    "def findUnique(arr, n): \n",
    "    arr.sort()\n",
    "    print(arr)\n",
    "    for i in range(0, n-1, 2):\n",
    "        if arr[i] == arr[i+1]:\n",
    "            continue\n",
    "        else:\n",
    "            return arr[i]\n",
    "    return arr[-1]"
   ]
  },
  {
   "cell_type": "code",
   "execution_count": 19,
   "id": "22317d34-85c3-4a09-b5d4-16888161f2a7",
   "metadata": {},
   "outputs": [
    {
     "name": "stdout",
     "output_type": "stream",
     "text": [
      "[1, 1, 2, 2, 4, 4, 5, 5, 6, 6, 8]\n",
      "8\n"
     ]
    }
   ],
   "source": [
    "arr = [2, 6, 1, 4, 2, 4, 1, 5, 6, 5 , 8]\n",
    "n = len(arr)\n",
    "print(findUnique(arr,n))"
   ]
  },
  {
   "cell_type": "code",
   "execution_count": null,
   "id": "fdecc780-caee-4206-8695-011b190a07c2",
   "metadata": {},
   "outputs": [],
   "source": []
  },
  {
   "cell_type": "code",
   "execution_count": null,
   "id": "6f6fa584-f3bf-445e-ad63-b94bf25584be",
   "metadata": {},
   "outputs": [],
   "source": []
  },
  {
   "cell_type": "code",
   "execution_count": null,
   "id": "6fb3a787-cb15-4c20-b0a1-6d0dd59d770d",
   "metadata": {},
   "outputs": [],
   "source": []
  },
  {
   "cell_type": "code",
   "execution_count": null,
   "id": "1ba4deae-8e93-4517-ba06-8808556db7ca",
   "metadata": {},
   "outputs": [],
   "source": []
  },
  {
   "cell_type": "code",
   "execution_count": 9,
   "id": "929fd6e2-9a97-437c-b1c3-e7492e556b6e",
   "metadata": {},
   "outputs": [],
   "source": [
    "def srt(arr):\n",
    "    arr.sort()\n",
    "    return"
   ]
  },
  {
   "cell_type": "code",
   "execution_count": 8,
   "id": "1c87267a-a98b-40a1-b13b-9b476c6a105c",
   "metadata": {},
   "outputs": [
    {
     "name": "stdout",
     "output_type": "stream",
     "text": [
      "[2, 6, 1, 4, 8, 2, 3, 4, 5, 6, 5, 7, 8]\n",
      "[1, 2, 2, 3, 4, 4, 5, 5, 6, 6, 7, 8, 8]\n"
     ]
    }
   ],
   "source": [
    "arr = [2, 6, 1, 4, 8, 2, 3, 4, 5, 6, 5, 7, 8]\n",
    "print(arr)\n",
    "srt(arr)\n",
    "print(arr)"
   ]
  }
 ],
 "metadata": {
  "kernelspec": {
   "display_name": "Python 3 (ipykernel)",
   "language": "python",
   "name": "python3"
  },
  "language_info": {
   "codemirror_mode": {
    "name": "ipython",
    "version": 3
   },
   "file_extension": ".py",
   "mimetype": "text/x-python",
   "name": "python",
   "nbconvert_exporter": "python",
   "pygments_lexer": "ipython3",
   "version": "3.11.1"
  }
 },
 "nbformat": 4,
 "nbformat_minor": 5
}
