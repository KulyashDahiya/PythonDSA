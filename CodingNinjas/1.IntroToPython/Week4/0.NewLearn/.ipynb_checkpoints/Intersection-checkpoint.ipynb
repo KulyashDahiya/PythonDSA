{
 "cells": [
  {
   "cell_type": "code",
   "execution_count": null,
   "id": "eddc00bc-97e9-45a4-a564-0c804cc3a3e9",
   "metadata": {},
   "outputs": [],
   "source": [
    "#You have been given two integer arrays/list(ARR1 and ARR2) of size N and M, respectively.\n",
    "#You need to print their intersection; An intersection for this problem can be defined when both\n",
    "#the arrays/lists contain a particular value or to put it in other words, when there is a common value\n",
    "#that exists in both the arrays/lists."
   ]
  },
  {
   "cell_type": "code",
   "execution_count": null,
   "id": "9c22b471-b46c-4c29-9273-5fc24ece635d",
   "metadata": {},
   "outputs": [],
   "source": [
    "#Input arrays/lists can contain duplicate elements.\n",
    "\n",
    "#The intersection elements printed would be in the order they appear in the first array/list(ARR1)"
   ]
  },
  {
   "cell_type": "code",
   "execution_count": null,
   "id": "d561700f-c566-4e95-9a7b-7444c1f683ca",
   "metadata": {},
   "outputs": [],
   "source": []
  },
  {
   "cell_type": "code",
   "execution_count": 31,
   "id": "8abe77f7-12ee-4c72-aa84-a67bba7f579b",
   "metadata": {},
   "outputs": [],
   "source": [
    "######   BEST METHOD\n",
    "\n",
    "def intersection(lst1, lst2):\n",
    "    c = list()\n",
    "    lst2c = lst2.copy()\n",
    "    for x in lst1:\n",
    "        if x in lst2c:\n",
    "            lst2c.remove(x)\n",
    "            c.append(x)\n",
    "    return c"
   ]
  },
  {
   "cell_type": "code",
   "execution_count": 28,
   "id": "37fa9000-af7b-4163-b890-39ae9ae83e32",
   "metadata": {},
   "outputs": [
    {
     "name": "stdout",
     "output_type": "stream",
     "text": [
      "[11, 12, 12, 13]\n"
     ]
    }
   ],
   "source": [
    "arr1 = [11, 11, 12, 12, 13]\n",
    "arr2 = [11, 12, 12, 13, 13]\n",
    "print(intersection(arr1, arr2))"
   ]
  },
  {
   "cell_type": "code",
   "execution_count": null,
   "id": "0e782d6c-7058-4da7-9fc7-3b0a2a968995",
   "metadata": {},
   "outputs": [],
   "source": []
  },
  {
   "cell_type": "code",
   "execution_count": null,
   "id": "3c8ab080-320a-4e8e-9ea9-fff3ef44b507",
   "metadata": {},
   "outputs": [],
   "source": [
    ">>> a = [1,1,1,2,3,4,4]\n",
    ">>> b = [1,1,2,3,3,3,4]\n",
    "\n",
    "You can use collections.Counter for this, which will provide the lowest count found in either list for each element when you take the intersection.\n",
    "\n",
    "from collections import Counter\n",
    "\n",
    "c = list((Counter(a) & Counter(b)).elements())\n",
    "Outputs:\n",
    "\n",
    "[1, 1, 2, 3, 4]"
   ]
  },
  {
   "cell_type": "code",
   "execution_count": null,
   "id": "8ae34dff-b24d-43a0-82e6-38e179f2594e",
   "metadata": {},
   "outputs": [],
   "source": []
  },
  {
   "cell_type": "code",
   "execution_count": null,
   "id": "250abb34-8c26-4bdb-a6c7-ca2c8fe8a42d",
   "metadata": {},
   "outputs": [],
   "source": [
    "#Input ---   11 11 12 12 13, 11 12 12 13 13\n",
    "#Output should be -- 11 12 12 13    but coming as 11, 11, 12, 12, 13"
   ]
  },
  {
   "cell_type": "code",
   "execution_count": 22,
   "id": "ffb1e8ad-91b6-4aa8-aabe-7ac38b0abadc",
   "metadata": {},
   "outputs": [],
   "source": [
    "#Set Method\n",
    "def intersection(lst1, lst2):\n",
    "    return list(set(lst1) & set(lst2))"
   ]
  },
  {
   "cell_type": "code",
   "execution_count": 23,
   "id": "bbeb1cb6-46e3-482a-a821-cbc1504d8bf6",
   "metadata": {},
   "outputs": [
    {
     "name": "stdin",
     "output_type": "stream",
     "text": [
      " 11 11 12 12 13\n",
      " 11 12 12 13 13\n"
     ]
    },
    {
     "name": "stdout",
     "output_type": "stream",
     "text": [
      "[11, 12, 13]\n"
     ]
    }
   ],
   "source": [
    "arr1 = [int(x) for x in input().split()]\n",
    "arr2 = [int(x) for x in input().split()]\n",
    "print(intersection(arr1, arr2))"
   ]
  },
  {
   "cell_type": "code",
   "execution_count": null,
   "id": "48cf996f-a40d-46f0-8223-90e3a7c0f0d3",
   "metadata": {},
   "outputs": [],
   "source": []
  },
  {
   "cell_type": "code",
   "execution_count": null,
   "id": "5620bcfd-7352-4cf9-8817-d80aab10fb9f",
   "metadata": {},
   "outputs": [],
   "source": []
  },
  {
   "cell_type": "code",
   "execution_count": 13,
   "id": "ebeef782-429c-4ec3-971b-9e8e710e4a1f",
   "metadata": {},
   "outputs": [],
   "source": [
    "##This function does not filter duplicates\n",
    "\n",
    "def intersections(arr1, n, arr2, m) :\n",
    "    #Your code goes here\n",
    "    lis = []\n",
    "    for el in arr1:\n",
    "        if el in arr2:\n",
    "            print(el, end=' ')\n",
    "    return"
   ]
  },
  {
   "cell_type": "code",
   "execution_count": 14,
   "id": "80e61c65-1d59-4ab8-b9ff-82a150ff45a8",
   "metadata": {},
   "outputs": [
    {
     "name": "stdout",
     "output_type": "stream",
     "text": [
      "2 3 5 "
     ]
    }
   ],
   "source": [
    "arr1 = [1, 2, 3, 4, 5, 6]\n",
    "arr2 = [90, 91, 92, 5, 3, 100, 2]\n",
    "n = len(arr1)\n",
    "m = len(arr2)\n",
    "intersections(arr1, n, arr2, m)"
   ]
  },
  {
   "cell_type": "code",
   "execution_count": null,
   "id": "9b98594c-7103-413d-8a3b-566b99e427d8",
   "metadata": {},
   "outputs": [],
   "source": []
  },
  {
   "cell_type": "code",
   "execution_count": 15,
   "id": "f9bc851d-7362-4099-bb15-50d202d8f231",
   "metadata": {},
   "outputs": [],
   "source": [
    "def intersections(arr1, n, arr2, m) :\n",
    "    #Your code goes here\n",
    "    lst3 = [value for value in arr1 if value in arr2]\n",
    "    return lst3"
   ]
  },
  {
   "cell_type": "code",
   "execution_count": 16,
   "id": "56d8af87-e888-43a8-a9ca-24bb79ceae1e",
   "metadata": {},
   "outputs": [
    {
     "name": "stdout",
     "output_type": "stream",
     "text": [
      "[2, 3, 5]\n"
     ]
    }
   ],
   "source": [
    "arr1 = [1, 2, 3, 4, 5, 6]\n",
    "arr2 = [90, 91, 92, 5, 3, 100, 2]\n",
    "n = len(arr1)\n",
    "m = len(arr2)\n",
    "print(intersections(arr1, n, arr2, m))"
   ]
  },
  {
   "cell_type": "code",
   "execution_count": null,
   "id": "066cb085-9b38-4879-bf01-9b09351dd20e",
   "metadata": {},
   "outputs": [],
   "source": []
  },
  {
   "cell_type": "code",
   "execution_count": null,
   "id": "9136c833-e9fb-4f83-b170-0671b2a93475",
   "metadata": {},
   "outputs": [],
   "source": []
  },
  {
   "cell_type": "code",
   "execution_count": 20,
   "id": "885435e2-ed05-4ba8-8a27-891645008e78",
   "metadata": {},
   "outputs": [],
   "source": [
    "def intersection(arr1, arr2) :\n",
    "    #Your code goes here\n",
    "    lst3 = [value for value in arr1 if value in arr2]\n",
    "    return lst3"
   ]
  },
  {
   "cell_type": "code",
   "execution_count": 21,
   "id": "2eb4eb36-ab38-490e-b34c-db88ae0553e8",
   "metadata": {},
   "outputs": [
    {
     "name": "stdin",
     "output_type": "stream",
     "text": [
      " 11 11 12 12 13\n",
      " 11 12 12 13 13\n"
     ]
    },
    {
     "name": "stdout",
     "output_type": "stream",
     "text": [
      "[11, 11, 12, 12, 13]\n"
     ]
    }
   ],
   "source": [
    "#Input ---   11 11 12 12 13, 11 12 12 13 13\n",
    "#Output should be -- 11 12 12 13    but coming as 11, 11, 12, 12, 13\n",
    "## Here 11 is not present 2 times in arr2 so 11 should only come once.\n",
    "\n",
    "arr1 = [int(x) for x in input().split()]\n",
    "arr2 = [int(x) for x in input().split()]\n",
    "print(intersection(arr1, arr2))"
   ]
  },
  {
   "cell_type": "code",
   "execution_count": null,
   "id": "5d2893ce-9244-47b9-b8b1-0456f2df77bb",
   "metadata": {},
   "outputs": [],
   "source": []
  },
  {
   "cell_type": "code",
   "execution_count": null,
   "id": "068ae0a0-5181-441b-a461-fa53da38f245",
   "metadata": {},
   "outputs": [],
   "source": []
  },
  {
   "cell_type": "code",
   "execution_count": null,
   "id": "fea9460b-8cbc-4035-a207-6e488bee14f2",
   "metadata": {},
   "outputs": [],
   "source": []
  },
  {
   "cell_type": "code",
   "execution_count": 11,
   "id": "c826185c-da2f-415e-85c9-0fdaaf3d7875",
   "metadata": {},
   "outputs": [],
   "source": [
    "def intersections(arr1, n, arr2, m) :\n",
    "    #Your code goes here\n",
    "    lis = []\n",
    "    for el in arr1:\n",
    "        if el in arr2:\n",
    "            lis.append(el)\n",
    "    lis2 = []\n",
    "    for ele in lis:\n",
    "        if ele in lis2:\n",
    "            continue\n",
    "        else:\n",
    "            lis2.append(ele)\n",
    "            print(ele, end=' ')"
   ]
  },
  {
   "cell_type": "code",
   "execution_count": null,
   "id": "388f6c35-5a6d-4a96-93bf-ca9487299879",
   "metadata": {},
   "outputs": [],
   "source": []
  },
  {
   "cell_type": "code",
   "execution_count": null,
   "id": "9e231f4f-9088-420b-aa80-ed3f453e0ad5",
   "metadata": {},
   "outputs": [],
   "source": []
  },
  {
   "cell_type": "code",
   "execution_count": null,
   "id": "9e768154-40bb-499f-938f-64e6b1d65d60",
   "metadata": {},
   "outputs": [],
   "source": []
  }
 ],
 "metadata": {
  "kernelspec": {
   "display_name": "Python 3 (ipykernel)",
   "language": "python",
   "name": "python3"
  },
  "language_info": {
   "codemirror_mode": {
    "name": "ipython",
    "version": 3
   },
   "file_extension": ".py",
   "mimetype": "text/x-python",
   "name": "python",
   "nbconvert_exporter": "python",
   "pygments_lexer": "ipython3",
   "version": "3.11.1"
  }
 },
 "nbformat": 4,
 "nbformat_minor": 5
}
