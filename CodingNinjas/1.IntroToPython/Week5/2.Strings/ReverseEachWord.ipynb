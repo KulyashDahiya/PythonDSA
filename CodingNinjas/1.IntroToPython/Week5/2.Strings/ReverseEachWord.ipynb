{
 "cells": [
  {
   "cell_type": "code",
   "execution_count": 18,
   "id": "b2382e94-93f2-4c41-a85c-bd63b2039d71",
   "metadata": {},
   "outputs": [
    {
     "name": "stdout",
     "output_type": "stream",
     "text": [
      "YEH HSAY\n"
     ]
    }
   ],
   "source": [
    "string = \"HEY YASH\"\n",
    "\n",
    "a = string.split()\n",
    "res = [x[ : : -1] for x in a]\n",
    "ans = \"\"\n",
    "for el in res:\n",
    "    ans = ans+ \" \" + el\n",
    "print(ans.strip())\n"
   ]
  },
  {
   "cell_type": "code",
   "execution_count": null,
   "id": "84d3bf73-e77f-4e3c-acaa-9958ca8527b3",
   "metadata": {},
   "outputs": [],
   "source": []
  },
  {
   "cell_type": "code",
   "execution_count": 17,
   "id": "b45b4205-1a2b-4daa-a669-78978492844e",
   "metadata": {},
   "outputs": [
    {
     "name": "stdout",
     "output_type": "stream",
     "text": [
      "HSAY YEH\n"
     ]
    }
   ],
   "source": [
    "string = \"HEY YASH\"\n",
    "print(string[::-1])"
   ]
  }
 ],
 "metadata": {
  "kernelspec": {
   "display_name": "Python 3 (ipykernel)",
   "language": "python",
   "name": "python3"
  },
  "language_info": {
   "codemirror_mode": {
    "name": "ipython",
    "version": 3
   },
   "file_extension": ".py",
   "mimetype": "text/x-python",
   "name": "python",
   "nbconvert_exporter": "python",
   "pygments_lexer": "ipython3",
   "version": "3.11.1"
  }
 },
 "nbformat": 4,
 "nbformat_minor": 5
}
