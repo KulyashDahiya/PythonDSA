{
 "cells": [
  {
   "cell_type": "code",
   "execution_count": 8,
   "id": "4b2f79f6-e0e7-4721-85c2-b3b349bcb879",
   "metadata": {},
   "outputs": [
    {
     "name": "stdout",
     "output_type": "stream",
     "text": [
      "[1, 3, 8, 0]\n"
     ]
    }
   ],
   "source": [
    "res = \"1380\"\n",
    "a = [6, 2, 4]\n",
    "b = [7, 5, 6]\n",
    "\n",
    "num1 = \"\"\n",
    "for el in a:\n",
    "    num1 += str(el)\n",
    "num1 = int(num1)\n",
    "\n",
    "num2 = \"\"\n",
    "for el in b:\n",
    "    num2 += str(el)\n",
    "num2 = int(num2)\n",
    "\n",
    "res = str(num1+num2)\n",
    "\n",
    "l = [int(x) for x in res]\n",
    "print(l)"
   ]
  },
  {
   "cell_type": "code",
   "execution_count": null,
   "id": "c523497e-f341-4aa2-9cd8-81c6196568f3",
   "metadata": {},
   "outputs": [],
   "source": [
    "def sumOfTwoArrays(arr1, n, arr2, m) :\n",
    "    #Your code goes here\n",
    "    a, b = \"\", \"\"\n",
    "    for el in arr1:\n",
    "        a = a + str(el)\n",
    "    for el in arr2:\n",
    "        b = b + str(el)\n",
    "    res = str(int(a) + int(b))\n",
    "    output = [int(x) for x in res]\n",
    "    return output, len(output)"
   ]
  },
  {
   "cell_type": "code",
   "execution_count": 30,
   "id": "8f361036-fa2b-45c9-9b16-c2eff31e0a56",
   "metadata": {},
   "outputs": [
    {
     "data": {
      "text/plain": [
       "2"
      ]
     },
     "execution_count": 30,
     "metadata": {},
     "output_type": "execute_result"
    }
   ],
   "source": [
    "a = \"ab\"\n",
    "len(a)"
   ]
  },
  {
   "cell_type": "code",
   "execution_count": 49,
   "id": "0ab2f820-779e-4c75-8ead-140f6aeac1b1",
   "metadata": {},
   "outputs": [
    {
     "name": "stdout",
     "output_type": "stream",
     "text": [
      "[0, 1, 1, 3, 3, 8, 0]\n"
     ]
    }
   ],
   "source": [
    "def sumOfTwoArrays(arr1, n, arr2, m, output) :\n",
    "    #Your code goes here\n",
    "    \n",
    "    carry = 0\n",
    "    i = n-1\n",
    "    j = m-1\n",
    "    k = len(output)-1\n",
    "    \n",
    "    while i >= 0 and j >= 0:\n",
    "        si = arr1[i] + arr2[j] + carry        \n",
    "        if len(str(si)) == 2:\n",
    "            output[k] = si % 10\n",
    "            carry = si // si\n",
    "        else:\n",
    "            output[k] = si\n",
    "            carry = 0\n",
    "            \n",
    "        i -= 1\n",
    "        j -= 1\n",
    "        k -= 1\n",
    "        \n",
    "        if k == 0:\n",
    "            output[k] = carry\n",
    "\n",
    "    while k >= 0 and i >= 0:\n",
    "        si = arr1[i] + carry\n",
    "        if len(str(si)) == 2:\n",
    "            output[k] = si % 10\n",
    "            carry = si // si\n",
    "        else:\n",
    "            output[k] = si\n",
    "            carry = 0\n",
    "        i -= 1\n",
    "        k -= 1\n",
    "        \n",
    "        if k == 0:\n",
    "            output[k] = carry\n",
    "\n",
    "    while k >= 0 and j >= 0:\n",
    "        si = arr2[j] + carry\n",
    "        if len(str(si)) == 2:\n",
    "            output[k] = si % 10\n",
    "            carry = si // si\n",
    "        else:\n",
    "            output[k] = si\n",
    "            carry = 0\n",
    "        j -= 1\n",
    "        k -= 1\n",
    "        \n",
    "        if k == 0:\n",
    "            output[k] = carry\n",
    "      \n",
    "    \n",
    "    print(output)\n",
    "        \n",
    "arr1 = [1, 2, 6, 2, 4]\n",
    "arr2 = [1, 0, 0, 7, 5, 6]\n",
    "\n",
    "n, m = len(a), len(b)\n",
    "size = max(n,m) + 1\n",
    "output = [0] * size\n",
    "\n",
    "sumOfTwoArrays(arr1, n, arr2, m, output)"
   ]
  },
  {
   "cell_type": "code",
   "execution_count": null,
   "id": "9baa5fc3-a073-438d-8036-b7d007191f21",
   "metadata": {},
   "outputs": [],
   "source": []
  }
 ],
 "metadata": {
  "kernelspec": {
   "display_name": "Python 3 (ipykernel)",
   "language": "python",
   "name": "python3"
  },
  "language_info": {
   "codemirror_mode": {
    "name": "ipython",
    "version": 3
   },
   "file_extension": ".py",
   "mimetype": "text/x-python",
   "name": "python",
   "nbconvert_exporter": "python",
   "pygments_lexer": "ipython3",
   "version": "3.11.1"
  }
 },
 "nbformat": 4,
 "nbformat_minor": 5
}
