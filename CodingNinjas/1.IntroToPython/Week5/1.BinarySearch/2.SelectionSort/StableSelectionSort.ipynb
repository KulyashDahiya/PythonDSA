{
 "cells": [
  {
   "cell_type": "code",
   "execution_count": null,
   "id": "50fd6e80-9b50-438e-a62e-7b393e3ef6b9",
   "metadata": {},
   "outputs": [],
   "source": [
    "https://www.geeksforgeeks.org/stable-selection-sort/"
   ]
  },
  {
   "cell_type": "code",
   "execution_count": null,
   "id": "e9baacbd-45d4-49ea-b70a-d48a418d217d",
   "metadata": {},
   "outputs": [],
   "source": []
  },
  {
   "cell_type": "code",
   "execution_count": null,
   "id": "a04fb90c-8ef5-4a21-a48a-ef85e09def7e",
   "metadata": {},
   "outputs": [],
   "source": []
  },
  {
   "cell_type": "code",
   "execution_count": null,
   "id": "7d91c9e7-42dd-4ec6-b3db-a478244c9618",
   "metadata": {},
   "outputs": [],
   "source": []
  },
  {
   "cell_type": "code",
   "execution_count": null,
   "id": "b9956098-e7b7-461b-87db-d856638b1696",
   "metadata": {},
   "outputs": [],
   "source": []
  },
  {
   "cell_type": "code",
   "execution_count": null,
   "id": "4ac2cd44-d392-4578-a434-955133b0c64f",
   "metadata": {},
   "outputs": [],
   "source": []
  },
  {
   "cell_type": "code",
   "execution_count": null,
   "id": "e3f6680c-97aa-4f89-b99f-03c0aeb80a72",
   "metadata": {},
   "outputs": [],
   "source": [
    "#Normal Selection Sort\n",
    "https://www.geeksforgeeks.org/selection-sort/"
   ]
  }
 ],
 "metadata": {
  "kernelspec": {
   "display_name": "Python 3 (ipykernel)",
   "language": "python",
   "name": "python3"
  },
  "language_info": {
   "codemirror_mode": {
    "name": "ipython",
    "version": 3
   },
   "file_extension": ".py",
   "mimetype": "text/x-python",
   "name": "python",
   "nbconvert_exporter": "python",
   "pygments_lexer": "ipython3",
   "version": "3.11.1"
  }
 },
 "nbformat": 4,
 "nbformat_minor": 5
}
