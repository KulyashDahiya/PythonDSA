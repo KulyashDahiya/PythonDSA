{
 "cells": [
  {
   "cell_type": "code",
   "execution_count": 13,
   "id": "d0e6d1bf-f513-4df8-b7fd-827d89ddbf37",
   "metadata": {},
   "outputs": [],
   "source": [
    "def search(nums: [int], target: int):\n",
    "    # Your code goes here\n",
    "    l, u = 0, len(nums) - 1\n",
    "    while l<=u:\n",
    "        m = (l+u)//2\n",
    "        # if (l == m) and (m == u) and (nums[m] != target):\n",
    "        #     return -1\n",
    "\n",
    "        if target == nums[m]:\n",
    "            return m\n",
    "        elif target > nums[m]:\n",
    "            l = m+1\n",
    "        else:\n",
    "            u = m - 1\n",
    "    \n",
    "    return -1"
   ]
  },
  {
   "cell_type": "code",
   "execution_count": 16,
   "id": "9d4cab75-2621-4001-86c4-dacd662023d1",
   "metadata": {},
   "outputs": [
    {
     "name": "stdout",
     "output_type": "stream",
     "text": [
      "1\n"
     ]
    }
   ],
   "source": [
    "nums = [1,2,3,4,5,6,7,8]\n",
    "print(search(nums, 2))"
   ]
  },
  {
   "cell_type": "code",
   "execution_count": null,
   "id": "b60cc59d-650b-4b9e-9c9e-66799ae18823",
   "metadata": {},
   "outputs": [],
   "source": [
    "7\n",
    "1 5 9 11 12 14 16 \n",
    "9"
   ]
  }
 ],
 "metadata": {
  "kernelspec": {
   "display_name": "Python 3 (ipykernel)",
   "language": "python",
   "name": "python3"
  },
  "language_info": {
   "codemirror_mode": {
    "name": "ipython",
    "version": 3
   },
   "file_extension": ".py",
   "mimetype": "text/x-python",
   "name": "python",
   "nbconvert_exporter": "python",
   "pygments_lexer": "ipython3",
   "version": "3.11.1"
  }
 },
 "nbformat": 4,
 "nbformat_minor": 5
}
