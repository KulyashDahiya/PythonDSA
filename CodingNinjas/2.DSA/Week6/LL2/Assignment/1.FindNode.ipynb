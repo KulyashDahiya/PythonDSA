{
 "cells": [
  {
   "cell_type": "code",
   "execution_count": 1,
   "id": "162b3bf2-1808-432b-9273-a19be4380209",
   "metadata": {},
   "outputs": [],
   "source": [
    "def findNodeRec(head, n) :\n",
    "\t#Your code goes here\n",
    "    if head is None:\n",
    "        return -1\n",
    "\n",
    "    if head.data == n:\n",
    "        return 0\n",
    "\n",
    "    small_ans = findNodeRec(head.next, n)\n",
    "\n",
    "    if small_ans == -1:\n",
    "        return -1\n",
    "    \n",
    "    return 1 + small_ans"
   ]
  }
 ],
 "metadata": {
  "kernelspec": {
   "display_name": "Python 3 (ipykernel)",
   "language": "python",
   "name": "python3"
  },
  "language_info": {
   "codemirror_mode": {
    "name": "ipython",
    "version": 3
   },
   "file_extension": ".py",
   "mimetype": "text/x-python",
   "name": "python",
   "nbconvert_exporter": "python",
   "pygments_lexer": "ipython3",
   "version": "3.11.1"
  }
 },
 "nbformat": 4,
 "nbformat_minor": 5
}
