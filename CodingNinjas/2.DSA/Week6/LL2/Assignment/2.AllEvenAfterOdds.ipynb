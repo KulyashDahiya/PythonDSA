{
 "cells": [
  {
   "cell_type": "code",
   "execution_count": null,
   "id": "ef5f3302-7968-4396-bb5b-820bd71b77bd",
   "metadata": {},
   "outputs": [],
   "source": [
    "def evenAfterOdd(head) :\n",
    "    #Your code goes here\n",
    "    if head is None:\n",
    "        return head\n",
    "\n",
    "    oh, ot, eh, et = None, None, None, None\n",
    "\n",
    "    while head:\n",
    "        if head.data % 2 == 0:\n",
    "            if eh is None:\n",
    "                eh = head\n",
    "                et = eh\n",
    "            else:\n",
    "                et.next = head\n",
    "                et = et.next\n",
    "\n",
    "        else:\n",
    "            if oh is None:\n",
    "                oh = head\n",
    "                ot = oh\n",
    "            else:\n",
    "                ot.next = head\n",
    "                ot = ot.next\n",
    "\n",
    "        head = head.next\n",
    "\n",
    "    if oh is None:\n",
    "        return eh\n",
    "    else:\n",
    "        ot.next = eh\n",
    "\n",
    "    if eh is not None:\n",
    "        et.next = None\n",
    "\n",
    "    return oh"
   ]
  },
  {
   "cell_type": "code",
   "execution_count": null,
   "id": "c0617e66-f726-4826-b465-08d1a318daa5",
   "metadata": {},
   "outputs": [],
   "source": [
    "## Uses More Space\n",
    "\n",
    "def evenAfterOdd(head) :\n",
    "    #Your code goes here\n",
    "    if head is None:\n",
    "        return head\n",
    "\n",
    "    oddh = Node(None)\n",
    "    evenh = Node(None)\n",
    "    odd = oddh\n",
    "    even = evenh\n",
    "\n",
    "    while head:\n",
    "        if head.data % 2 == 0:\n",
    "            newNode = Node(head.data)\n",
    "            even.next = newNode\n",
    "            even = even.next\n",
    "        else:\n",
    "            newNode = Node(head.data)\n",
    "            odd.next = newNode\n",
    "            odd = odd.next\n",
    "        head = head.next\n",
    "\n",
    "    odd.next = evenh.next\n",
    "    \n",
    "    return(oddh.next)"
   ]
  }
 ],
 "metadata": {
  "kernelspec": {
   "display_name": "Python 3 (ipykernel)",
   "language": "python",
   "name": "python3"
  },
  "language_info": {
   "codemirror_mode": {
    "name": "ipython",
    "version": 3
   },
   "file_extension": ".py",
   "mimetype": "text/x-python",
   "name": "python",
   "nbconvert_exporter": "python",
   "pygments_lexer": "ipython3",
   "version": "3.11.1"
  }
 },
 "nbformat": 4,
 "nbformat_minor": 5
}
