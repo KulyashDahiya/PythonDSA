{
 "cells": [
  {
   "cell_type": "code",
   "execution_count": null,
   "id": "b9d60fed-d9bc-43db-b6cc-cdba66684310",
   "metadata": {},
   "outputs": [],
   "source": [
    "def swapNodes(head, i, j) :\n",
    "\t#Your code goes here\n",
    "    if head is None:\n",
    "        return head\n",
    "\n",
    "    prevI = None\n",
    "    prevJ = None\n",
    "    prev = None\n",
    "    \n",
    "\n",
    "    curr = head\n",
    "\n",
    "    count = 0\n",
    "    while curr:\n",
    "        if count == i:\n",
    "            prevI = prev\n",
    "            eleI = curr\n",
    "        \n",
    "        if count == j:\n",
    "            prevJ = prev\n",
    "            eleJ = curr\n",
    "        \n",
    "        prev = curr\n",
    "        curr = curr.next\n",
    "        count += 1\n",
    "\n",
    "    if prevI:\n",
    "        prevI.next = eleJ\n",
    "    else:\n",
    "        head = eleJ\n",
    "    if prevJ:\n",
    "        prevJ.next = eleI\n",
    "    else:\n",
    "        head = eleI\n",
    "    \n",
    "    temp = eleI.next\n",
    "    eleI.next = eleJ.next\n",
    "    eleJ.next = temp\n",
    "\n",
    "    return head"
   ]
  }
 ],
 "metadata": {
  "kernelspec": {
   "display_name": "Python 3 (ipykernel)",
   "language": "python",
   "name": "python3"
  },
  "language_info": {
   "codemirror_mode": {
    "name": "ipython",
    "version": 3
   },
   "file_extension": ".py",
   "mimetype": "text/x-python",
   "name": "python",
   "nbconvert_exporter": "python",
   "pygments_lexer": "ipython3",
   "version": "3.11.1"
  }
 },
 "nbformat": 4,
 "nbformat_minor": 5
}
