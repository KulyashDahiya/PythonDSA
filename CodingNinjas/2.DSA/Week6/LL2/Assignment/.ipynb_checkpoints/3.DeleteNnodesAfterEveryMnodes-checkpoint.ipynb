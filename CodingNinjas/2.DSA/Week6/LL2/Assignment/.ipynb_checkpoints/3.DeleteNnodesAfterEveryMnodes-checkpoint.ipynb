{
 "cells": [
  {
   "cell_type": "code",
   "execution_count": 1,
   "id": "f92217a3-2dee-41ab-9609-f809dd9c231d",
   "metadata": {},
   "outputs": [],
   "source": [
    "def skipMdeleteN(head, M, N) :\n",
    "\t#Your code goes here\n",
    "    if M == 0 or head is None:\n",
    "        return None\n",
    "    if N == 0:\n",
    "        return head\n",
    "\n",
    "    curr = head\n",
    "    mc = 0\n",
    "    nc = 0\n",
    "    while curr:\n",
    "        if mc != M:\n",
    "            mc = mc + 1\n",
    "            temp = curr\n",
    "        else:\n",
    "            nc += 1\n",
    "        \n",
    "        if nc == N:\n",
    "            temp.next = curr.next\n",
    "            mc = 0\n",
    "            nc = 0\n",
    "        \n",
    "        curr = curr.next\n",
    "\n",
    "    if mc == M and nc != N:\n",
    "        temp.next = None\n",
    "\n",
    "\n",
    "    return head"
   ]
  },
  {
   "cell_type": "code",
   "execution_count": null,
   "id": "9884e7af-e4f4-4f29-8299-d37bd2b1bdbb",
   "metadata": {},
   "outputs": [],
   "source": []
  }
 ],
 "metadata": {
  "kernelspec": {
   "display_name": "Python 3 (ipykernel)",
   "language": "python",
   "name": "python3"
  },
  "language_info": {
   "codemirror_mode": {
    "name": "ipython",
    "version": 3
   },
   "file_extension": ".py",
   "mimetype": "text/x-python",
   "name": "python",
   "nbconvert_exporter": "python",
   "pygments_lexer": "ipython3",
   "version": "3.11.1"
  }
 },
 "nbformat": 4,
 "nbformat_minor": 5
}
