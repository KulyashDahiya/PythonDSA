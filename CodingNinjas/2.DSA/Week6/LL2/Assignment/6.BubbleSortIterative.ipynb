{
 "cells": [
  {
   "cell_type": "code",
   "execution_count": null,
   "id": "f709d5d9-c1d9-49e9-8040-ba8da37f14dd",
   "metadata": {},
   "outputs": [],
   "source": [
    "#Implement without swapping data"
   ]
  },
  {
   "cell_type": "code",
   "execution_count": null,
   "id": "06ecc2cf-236f-43d0-bab2-b3ba59460423",
   "metadata": {},
   "outputs": [],
   "source": []
  },
  {
   "cell_type": "code",
   "execution_count": null,
   "id": "918bc97e-69d0-49a9-8338-66d1d558d65e",
   "metadata": {},
   "outputs": [],
   "source": [
    "def bubbleSort(head) :\n",
    "\t#Your code goes here\n",
    "    if not head:\n",
    "        return\n",
    "        \n",
    "    swapped = True\n",
    "    while swapped:\n",
    "        swapped = False\n",
    "        current = head\n",
    "        while current.next:\n",
    "            if current.data > current.next.data:\n",
    "                current.data, current.next.data = current.next.data, current.data\n",
    "                swapped = True\n",
    "            current = current.next\n",
    "    \n",
    "    return head"
   ]
  }
 ],
 "metadata": {
  "kernelspec": {
   "display_name": "Python 3 (ipykernel)",
   "language": "python",
   "name": "python3"
  },
  "language_info": {
   "codemirror_mode": {
    "name": "ipython",
    "version": 3
   },
   "file_extension": ".py",
   "mimetype": "text/x-python",
   "name": "python",
   "nbconvert_exporter": "python",
   "pygments_lexer": "ipython3",
   "version": "3.11.1"
  }
 },
 "nbformat": 4,
 "nbformat_minor": 5
}
