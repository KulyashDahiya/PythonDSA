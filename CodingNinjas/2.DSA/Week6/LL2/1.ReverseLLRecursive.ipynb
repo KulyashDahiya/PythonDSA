{
 "cells": [
  {
   "cell_type": "code",
   "execution_count": null,
   "id": "7b66c4b8-b125-4abc-851f-8387fa0d1955",
   "metadata": {},
   "outputs": [],
   "source": [
    "def reverseLinkedListRec(head) :\n",
    "\t#Your code goes here#     \n",
    "    if head is None or head.next is None:\n",
    "        return head\n",
    "\n",
    "    smallhead = reverseLinkedListRec(head.next)\n",
    "    head.next.next = head\n",
    "    head.next = None\n",
    "    return smallhead"
   ]
  },
  {
   "cell_type": "code",
   "execution_count": null,
   "id": "89069804-0e82-4be0-bd77-a87be4165c9b",
   "metadata": {},
   "outputs": [],
   "source": [
    "def Reverse(thishead, prevhead):\n",
    "    if thishead is None:\n",
    "        return head\n",
    "    if thishead.next is None:\n",
    "        thishead.next = prevhead\n",
    "        newhead = thishead\n",
    "        return newhead\n",
    "    \n",
    "    newhead = Reverse(thishead.next, thishead)\n",
    "    thishead.next = prevhead\n",
    "    return newhead"
   ]
  }
 ],
 "metadata": {
  "kernelspec": {
   "display_name": "Python 3 (ipykernel)",
   "language": "python",
   "name": "python3"
  },
  "language_info": {
   "codemirror_mode": {
    "name": "ipython",
    "version": 3
   },
   "file_extension": ".py",
   "mimetype": "text/x-python",
   "name": "python",
   "nbconvert_exporter": "python",
   "pygments_lexer": "ipython3",
   "version": "3.11.1"
  }
 },
 "nbformat": 4,
 "nbformat_minor": 5
}
