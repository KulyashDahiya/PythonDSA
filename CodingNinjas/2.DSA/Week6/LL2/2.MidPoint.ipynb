{
 "cells": [
  {
   "cell_type": "code",
   "execution_count": 1,
   "id": "596460e3-a596-4785-8fcc-760b0e1d2a1a",
   "metadata": {},
   "outputs": [],
   "source": [
    "def midPoint(head) :\n",
    "    # Write your code here\n",
    "    if head is None:\n",
    "        return head\n",
    "    fast = head\n",
    "    slow = head\n",
    "    while fast.next is not None and fast.next.next is not None:\n",
    "        fast = fast.next.next\n",
    "        slow = slow.next\n",
    "    \n",
    "    return slow"
   ]
  }
 ],
 "metadata": {
  "kernelspec": {
   "display_name": "Python 3 (ipykernel)",
   "language": "python",
   "name": "python3"
  },
  "language_info": {
   "codemirror_mode": {
    "name": "ipython",
    "version": 3
   },
   "file_extension": ".py",
   "mimetype": "text/x-python",
   "name": "python",
   "nbconvert_exporter": "python",
   "pygments_lexer": "ipython3",
   "version": "3.11.1"
  }
 },
 "nbformat": 4,
 "nbformat_minor": 5
}
