{
 "cells": [
  {
   "cell_type": "code",
   "execution_count": 1,
   "id": "2e8ed08c-053c-4bdb-809b-30eb6b32d2f5",
   "metadata": {},
   "outputs": [],
   "source": [
    "def height(root) :\n",
    "\t#Your code goes here\n",
    "    if root is None:\n",
    "        return 0\n",
    "    \n",
    "    n = height(root.left)\n",
    "    m = height(root.right)\n",
    "\n",
    "    return max(n, m) + 1"
   ]
  }
 ],
 "metadata": {
  "kernelspec": {
   "display_name": "Python 3 (ipykernel)",
   "language": "python",
   "name": "python3"
  },
  "language_info": {
   "codemirror_mode": {
    "name": "ipython",
    "version": 3
   },
   "file_extension": ".py",
   "mimetype": "text/x-python",
   "name": "python",
   "nbconvert_exporter": "python",
   "pygments_lexer": "ipython3",
   "version": "3.11.5"
  }
 },
 "nbformat": 4,
 "nbformat_minor": 5
}
