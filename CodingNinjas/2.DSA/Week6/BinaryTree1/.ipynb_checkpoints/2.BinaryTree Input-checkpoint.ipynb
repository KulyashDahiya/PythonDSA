{
 "cells": [
  {
   "cell_type": "code",
   "execution_count": null,
   "id": "a2e8d146-fecd-4d3a-a104-45323a8c1cbe",
   "metadata": {},
   "outputs": [],
   "source": [
    "# Taking Binary Tree Input with Recursion"
   ]
  },
  {
   "cell_type": "code",
   "execution_count": null,
   "id": "c8905568-cc94-406d-aa13-979951de41da",
   "metadata": {},
   "outputs": [],
   "source": [
    "def treeInput:"
   ]
  }
 ],
 "metadata": {
  "kernelspec": {
   "display_name": "Python 3 (ipykernel)",
   "language": "python",
   "name": "python3"
  },
  "language_info": {
   "codemirror_mode": {
    "name": "ipython",
    "version": 3
   },
   "file_extension": ".py",
   "mimetype": "text/x-python",
   "name": "python",
   "nbconvert_exporter": "python",
   "pygments_lexer": "ipython3",
   "version": "3.11.5"
  }
 },
 "nbformat": 4,
 "nbformat_minor": 5
}
