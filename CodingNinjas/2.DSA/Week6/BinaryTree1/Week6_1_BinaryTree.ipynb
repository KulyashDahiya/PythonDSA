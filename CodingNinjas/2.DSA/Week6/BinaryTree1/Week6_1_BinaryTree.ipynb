{
 "cells": [
  {
   "cell_type": "code",
   "execution_count": 3,
   "metadata": {},
   "outputs": [],
   "source": [
    "class TreeNode:\n",
    "    def __init__(self, x):\n",
    "        self.val = x\n",
    "        self.left = None\n",
    "        self.right = None"
   ]
  },
  {
   "cell_type": "code",
   "execution_count": 4,
   "metadata": {},
   "outputs": [],
   "source": [
    "btn1 = TreeNode(1)\n",
    "btn2 = TreeNode(2)\n",
    "btn3 = TreeNode(3)\n",
    "\n",
    "btn4 = TreeNode(4)\n",
    "btn5 = TreeNode(5)\n",
    "# btn3 = TreeNode(5)\n",
    "\n",
    "\n",
    "btn1.left = btn2\n",
    "btn1.right = btn3\n",
    "\n",
    "btn2.left = btn4\n",
    "btn2.right = btn5"
   ]
  },
  {
   "cell_type": "code",
   "execution_count": 5,
   "metadata": {},
   "outputs": [
    {
     "name": "stdout",
     "output_type": "stream",
     "text": [
      "1:L  2, R  3\n",
      "2:L  4, R  5\n",
      "4:\n",
      "\n",
      "5:\n",
      "\n",
      "3:\n"
     ]
    }
   ],
   "source": [
    "def printTreeStructure(root):\n",
    "    if root is None:\n",
    "        return\n",
    "    \n",
    "    print(root.val, end=':')\n",
    "    if root.left:\n",
    "        print(\"L \", root.left.val, end=', ')\n",
    "    if root.right:\n",
    "        print(\"R \", root.right.val, end='\\n')\n",
    "    printTreeStructure(root.left)\n",
    "    print()\n",
    "    printTreeStructure(root.right)\n",
    "\n",
    "printTreeStructure(btn1)"
   ]
  },
  {
   "cell_type": "code",
   "execution_count": 6,
   "metadata": {},
   "outputs": [
    {
     "name": "stdout",
     "output_type": "stream",
     "text": [
      "1 2 3 4 5 6 \n",
      "\n",
      "1:L  2, R  3\n",
      "2:L  4, R  5\n",
      "4:\n",
      "\n",
      "5:\n",
      "\n",
      "3:L  6, 6:\n",
      "\n"
     ]
    }
   ],
   "source": [
    "# Input of Tree from User\n",
    "from typing import List, Optional\n",
    "from collections import deque\n",
    "\n",
    "def CreateTreeLevelOrder(input_data: List[int]) -> Optional['TreeNode']:\n",
    "    if not input_data:\n",
    "        return None\n",
    "    \n",
    "    root = TreeNode(input_data[0])\n",
    "    queue = deque()\n",
    "    queue.append(root)\n",
    "\n",
    "    i = 1\n",
    "    while i < len(input_data):\n",
    "        node = queue.popleft()\n",
    "\n",
    "        if i < len(input_data) and input_data[i] != None:\n",
    "            node.left = TreeNode(input_data[i])\n",
    "            queue.append(node.left)\n",
    "        \n",
    "        i += 1\n",
    "\n",
    "        if  i < len(input_data) and input_data[i] != None:\n",
    "            node.right = TreeNode(input_data[i])\n",
    "            queue.append(node.right)\n",
    "\n",
    "        i += 1\n",
    "\n",
    "    return root\n",
    "\n",
    "\n",
    "    \n",
    "\n",
    "\n",
    "# Helper function to print the tree (level-order)\n",
    "def printTree(root: Optional['TreeNode']):\n",
    "    if not root:\n",
    "        return\n",
    "    queue = [root]\n",
    "    while queue:\n",
    "        node = queue.pop(0)\n",
    "        print(node.val, end=\" \")\n",
    "        if node.left:\n",
    "            queue.append(node.left)\n",
    "        if node.right:\n",
    "            queue.append(node.right)\n",
    "    print()\n",
    "\n",
    "# Example input data\n",
    "input_data = [1, 2, 3, 4, 5, 6, None, None, None, None, None, None, None]\n",
    "# root = inputTree(input_data)\n",
    "root = CreateTreeLevelOrder(input_data)\n",
    "printTree(root)\n",
    "print()\n",
    "printTreeStructure(root)"
   ]
  },
  {
   "cell_type": "code",
   "execution_count": 7,
   "metadata": {},
   "outputs": [
    {
     "name": "stdout",
     "output_type": "stream",
     "text": [
      "   1   \n",
      " /  \\  \n",
      " 2   3 \n",
      "/\\  /  \n",
      "4 5 6  \n"
     ]
    }
   ],
   "source": [
    "import math\n",
    "\n",
    "def printTreeVisualWithLines(root: Optional['TreeNode']):\n",
    "    # Get the height of the tree to determine the width of the printed structure\n",
    "    def getHeight(node):\n",
    "        if not node:\n",
    "            return 0\n",
    "        return 1 + max(getHeight(node.left), getHeight(node.right))\n",
    "    \n",
    "    height = getHeight(root)\n",
    "    width = (2 ** height) - 1  # Full width of the tree at the bottom level\n",
    "\n",
    "    # Initialize a 2D list to hold the tree structure (including lines)\n",
    "    res = [[\" \" for _ in range(width)] for _ in range(2 * height - 1)]\n",
    "\n",
    "    # Helper function to fill the 2D list\n",
    "    def fillTreeWithLines(node, level, left, right):\n",
    "        if not node:\n",
    "            return\n",
    "        mid = (left + right) // 2\n",
    "        res[2 * level][mid] = str(node.val)\n",
    "\n",
    "        if node.left:\n",
    "            left_mid = (left + mid) // 2\n",
    "            res[2 * level + 1][left_mid] = \"/\"\n",
    "            fillTreeWithLines(node.left, level + 1, left, mid - 1)\n",
    "        \n",
    "        if node.right:\n",
    "            right_mid = (mid + right) // 2\n",
    "            res[2 * level + 1][right_mid] = \"\\\\\"\n",
    "            fillTreeWithLines(node.right, level + 1, mid + 1, right)\n",
    "\n",
    "    # Fill the 2D list with tree nodes and lines\n",
    "    fillTreeWithLines(root, 0, 0, width - 1)\n",
    "\n",
    "    # Print the tree structure row by row\n",
    "    for row in res:\n",
    "        print(\"\".join(row))\n",
    "\n",
    "\n",
    "printTreeVisualWithLines(root)"
   ]
  },
  {
   "cell_type": "code",
   "execution_count": 8,
   "metadata": {},
   "outputs": [
    {
     "data": {
      "text/plain": [
       "6"
      ]
     },
     "execution_count": 8,
     "metadata": {},
     "output_type": "execute_result"
    }
   ],
   "source": [
    "# Count the number of nodes in a tree\n",
    "\n",
    "def CountNodes(root: 'TreeNode') -> int:\n",
    "    if not root:\n",
    "        return 0\n",
    "\n",
    "    return 1 + CountNodes(root.left) + CountNodes(root.right)\n",
    "\n",
    "\n",
    "CountNodes(root)"
   ]
  },
  {
   "cell_type": "code",
   "execution_count": 9,
   "metadata": {},
   "outputs": [
    {
     "name": "stdout",
     "output_type": "stream",
     "text": [
      "1 2 4 5 3 6 "
     ]
    }
   ],
   "source": [
    "# Pre-Order Tree Traversal  - PrintTree\n",
    "\n",
    "def preOrderPrint(root):\n",
    "    if root is None:\n",
    "        return\n",
    "\n",
    "    print(root.val, end=' ')\n",
    "\n",
    "    preOrderPrint(root.left)\n",
    "    preOrderPrint(root.right)\n",
    "\n",
    "preOrderPrint(root)"
   ]
  },
  {
   "cell_type": "code",
   "execution_count": 10,
   "metadata": {},
   "outputs": [
    {
     "name": "stdout",
     "output_type": "stream",
     "text": [
      "4 5 2 6 3 1 "
     ]
    }
   ],
   "source": [
    "# Post-Order Tree Traversal  - PrintTree\n",
    "\n",
    "def postOrderPrint(root):\n",
    "    if root is None:\n",
    "        return\n",
    "\n",
    "    postOrderPrint(root.left)\n",
    "    postOrderPrint(root.right)\n",
    "\n",
    "    print(root.val, end=' ')\n",
    "\n",
    "postOrderPrint(root)"
   ]
  },
  {
   "cell_type": "code",
   "execution_count": 11,
   "metadata": {},
   "outputs": [
    {
     "name": "stdout",
     "output_type": "stream",
     "text": [
      "4 2 5 1 6 3 "
     ]
    }
   ],
   "source": [
    "# In-Order Tree Traversal  - PrintTree\n",
    "\n",
    "def inOrderPrint(root):\n",
    "    if root is None:\n",
    "        return\n",
    "\n",
    "    inOrderPrint(root.left)\n",
    "    print(root.val, end=' ')\n",
    "    inOrderPrint(root.right)\n",
    "\n",
    "inOrderPrint(root)"
   ]
  },
  {
   "cell_type": "code",
   "execution_count": 12,
   "metadata": {},
   "outputs": [
    {
     "data": {
      "text/plain": [
       "6"
      ]
     },
     "execution_count": 12,
     "metadata": {},
     "output_type": "execute_result"
    }
   ],
   "source": [
    "# Node With Largest Data\n",
    "\n",
    "def largestNode(root):\n",
    "\n",
    "    if not root:\n",
    "        return float('-inf')\n",
    "\n",
    "    lft = largestNode(root.left)\n",
    "    rht = largestNode(root.right)\n",
    "\n",
    "    return max(root.val, lft, rht)\n",
    "\n",
    "\n",
    "\n",
    "# max_val = float('-inf')\n",
    "largestNode(root)\n"
   ]
  },
  {
   "cell_type": "code",
   "execution_count": 13,
   "metadata": {},
   "outputs": [
    {
     "name": "stdout",
     "output_type": "stream",
     "text": [
      "   1   \n",
      " /  \\  \n",
      " 2   3 \n",
      "/\\  /  \n",
      "4 5 6  \n"
     ]
    }
   ],
   "source": [
    "printTreeVisualWithLines(root)"
   ]
  },
  {
   "cell_type": "code",
   "execution_count": 14,
   "metadata": {},
   "outputs": [
    {
     "data": {
      "text/plain": [
       "4"
      ]
     },
     "execution_count": 14,
     "metadata": {},
     "output_type": "execute_result"
    }
   ],
   "source": [
    "# No of Nodes greater than a given value\n",
    "\n",
    "def count_nodes_greater_than_value(root, value):\n",
    "\n",
    "    if root is None:\n",
    "        return 0\n",
    "\n",
    "    \n",
    "    cnt_lft = count_nodes_greater_than_value(root.left, value)\n",
    "    cnt_rgt = count_nodes_greater_than_value(root.right, value)\n",
    "\n",
    "    return cnt_lft + cnt_rgt + (1 if root.val > value else 0)\n",
    "\n",
    "count_nodes_greater_than_value(root, 2)"
   ]
  },
  {
   "cell_type": "code",
   "execution_count": 15,
   "metadata": {},
   "outputs": [
    {
     "data": {
      "text/plain": [
       "3"
      ]
     },
     "execution_count": 15,
     "metadata": {},
     "output_type": "execute_result"
    }
   ],
   "source": [
    "# Hieght of a Tree\n",
    "\n",
    "def HieghtTree(root):\n",
    "\n",
    "    if not root:\n",
    "        return 0\n",
    "\n",
    "    right = HieghtTree(root.right)\n",
    "    left = HieghtTree(root.left)\n",
    "\n",
    "    return  max(left, right) + 1\n",
    "\n",
    "HieghtTree(root)"
   ]
  },
  {
   "cell_type": "code",
   "execution_count": 16,
   "metadata": {},
   "outputs": [
    {
     "name": "stdout",
     "output_type": "stream",
     "text": [
      "   1   \n",
      " /  \\  \n",
      " 2   3 \n",
      "/\\  /  \n",
      "4 5 6  \n"
     ]
    }
   ],
   "source": [
    "printTreeVisualWithLines(root)"
   ]
  },
  {
   "cell_type": "code",
   "execution_count": 17,
   "metadata": {},
   "outputs": [
    {
     "data": {
      "text/plain": [
       "3"
      ]
     },
     "execution_count": 17,
     "metadata": {},
     "output_type": "execute_result"
    }
   ],
   "source": [
    "# Number of Leaf Nodes\n",
    "\n",
    "def no_of_leaves(root):\n",
    "\n",
    "    if root is None:\n",
    "        return 0\n",
    "    \n",
    "    if root.left is None and root.right is None:\n",
    "        return 1\n",
    "    else:\n",
    "        return no_of_leaves(root.left) + no_of_leaves(root.right)\n",
    "\n",
    "no_of_leaves(root)"
   ]
  },
  {
   "cell_type": "code",
   "execution_count": 18,
   "metadata": {},
   "outputs": [
    {
     "name": "stdout",
     "output_type": "stream",
     "text": [
      "4 5 6 "
     ]
    }
   ],
   "source": [
    "# Print Nodes at depth k\n",
    "\n",
    "def  print_nodes_at_depth(root, k):\n",
    "\n",
    "    if not root:\n",
    "        return\n",
    "    \n",
    "    if k == 0:\n",
    "        print(root.val, end=' ')\n",
    "        return\n",
    "\n",
    "    print_nodes_at_depth(root.left, k-1)\n",
    "    print_nodes_at_depth(root.right, k-1)\n",
    "\n",
    "\n",
    "\n",
    "print_nodes_at_depth(root, 2)"
   ]
  },
  {
   "cell_type": "code",
   "execution_count": 19,
   "metadata": {},
   "outputs": [
    {
     "name": "stdout",
     "output_type": "stream",
     "text": [
      "               3               \n",
      "       /              \\        \n",
      "       4               5       \n",
      "   /      \\        /      \\    \n",
      "   1       2       6       7   \n",
      " /       /                     \n",
      " 8       9                     \n",
      "/                              \n",
      "11                              \n"
     ]
    }
   ],
   "source": [
    "root = CreateTreeLevelOrder(input_data=[3,4,5,1,2,6,7,8,None,9,None, None, None, None, None, 11])\n",
    "printTreeVisualWithLines(root)"
   ]
  },
  {
   "cell_type": "code",
   "execution_count": 20,
   "metadata": {},
   "outputs": [
    {
     "name": "stdout",
     "output_type": "stream",
     "text": [
      "Inorder traversal of modified tree is\n",
      "4 3 2 1 3 2 0 2 1 2 \n",
      "VisualTree \n",
      "\n",
      "               0               \n",
      "       /              \\        \n",
      "       1               1       \n",
      "   /      \\        /      \\    \n",
      "   2       2       2       2   \n",
      " /       /                     \n",
      " 3       3                     \n",
      "/                              \n",
      "4                              \n"
     ]
    }
   ],
   "source": [
    "# Replace Node With Depth\n",
    "\n",
    "# For a given a Binary Tree of integers, replace each of its data with the depth of the tree.\n",
    "# Root is at depth 0, hence the root data is updated with 0.\n",
    "# Replicate the same further going down the in the depth of the given tree.\n",
    "# The modified tree will be printed in the in-order fashion.\n",
    "\n",
    "\n",
    "def replace_with_depth(root, depth):\n",
    "    if root is None:\n",
    "        return\n",
    "    \n",
    "    root.val = depth\n",
    "\n",
    "    replace_with_depth(root.left, depth + 1)\n",
    "    replace_with_depth(root.right, depth + 1)\n",
    "\n",
    "\n",
    "def inOrderPrint(root):\n",
    "    if root is None:\n",
    "        return\n",
    "\n",
    "    inOrderPrint(root.left)\n",
    "    print(root.val, end=' ')\n",
    "    inOrderPrint(root.right)\n",
    "\n",
    "\n",
    "replace_with_depth(root, 0)\n",
    "print(\"Inorder traversal of modified tree is\")\n",
    "inOrderPrint(root)\n",
    "\n",
    "print(\"\\nVisualTree \\n\")\n",
    "printTreeVisualWithLines(root)"
   ]
  },
  {
   "cell_type": "code",
   "execution_count": 21,
   "metadata": {},
   "outputs": [
    {
     "name": "stdout",
     "output_type": "stream",
     "text": [
      "               3               \n",
      "       /              \\        \n",
      "       4               5       \n",
      "   /      \\        /      \\    \n",
      "   1       2       6       7   \n",
      " /       /                     \n",
      " 8       9                     \n",
      "/                              \n",
      "11                              \n"
     ]
    }
   ],
   "source": [
    "root = CreateTreeLevelOrder(input_data=[3,4,5,1,2,6,7,8,None,9,None, None, None, None, None, 11])\n",
    "printTreeVisualWithLines(root)"
   ]
  },
  {
   "cell_type": "code",
   "execution_count": 22,
   "metadata": {},
   "outputs": [
    {
     "data": {
      "text/plain": [
       "True"
      ]
     },
     "execution_count": 22,
     "metadata": {},
     "output_type": "execute_result"
    }
   ],
   "source": [
    "def is_node_present(root, X):\n",
    "    if root is None:\n",
    "        return False\n",
    "\n",
    "    if root.val == X:\n",
    "        return True\n",
    "\n",
    "    # Recursively check in left and right subtrees\n",
    "    return is_node_present(root.left, X) or is_node_present(root.right, X)\n",
    "\n",
    "\n",
    "is_node_present(root, 11)"
   ]
  },
  {
   "cell_type": "code",
   "execution_count": 31,
   "metadata": {},
   "outputs": [
    {
     "name": "stdout",
     "output_type": "stream",
     "text": [
      "                               1                               \n",
      "               /                              \\                \n",
      "               2                               3               \n",
      "       /              \\                               \\        \n",
      "       4               5                               7       \n",
      "   /      \\        /                                           \n",
      "   8       9       10                                           \n",
      "    \\            /                                             \n",
      "     11           12                                             \n",
      "                /                                              \n",
      "                13                                              \n"
     ]
    }
   ],
   "source": [
    "values = [\n",
    "    1, 2, 3, \n",
    "    4, 5, None, 7, \n",
    "    8, 9, 10, None, None, None, None, \n",
    "    11, None, None, 12, None, None, None, 13\n",
    "]\n",
    "root = CreateTreeLevelOrder(input_data=values)\n",
    "printTreeVisualWithLines(root)"
   ]
  },
  {
   "cell_type": "code",
   "execution_count": 24,
   "metadata": {},
   "outputs": [
    {
     "name": "stdout",
     "output_type": "stream",
     "text": [
      "11 10 12 13 7 "
     ]
    }
   ],
   "source": [
    "def print_nodes_without_sibling(root):\n",
    "    if root is None:\n",
    "        return\n",
    "\n",
    "    if root.left and not root.right:\n",
    "        print(root.left.val, end=' ')\n",
    "\n",
    "    if root.right and not root.left:\n",
    "        print(root.right.val, end=' ')\n",
    "\n",
    "    if root.left:\n",
    "        print_nodes_without_sibling(root.left)\n",
    "    if root.right:\n",
    "        print_nodes_without_sibling(root.right)\n",
    "\n",
    "\n",
    "print_nodes_without_sibling(root)"
   ]
  },
  {
   "cell_type": "code",
   "execution_count": null,
   "metadata": {},
   "outputs": [],
   "source": []
  },
  {
   "cell_type": "code",
   "execution_count": null,
   "metadata": {},
   "outputs": [],
   "source": []
  },
  {
   "cell_type": "code",
   "execution_count": 25,
   "metadata": {},
   "outputs": [
    {
     "data": {
      "text/plain": [
       "[[1], [2, 3], [4, 5, 7], [8, 9, 10], [11, 12], [13]]"
      ]
     },
     "execution_count": 25,
     "metadata": {},
     "output_type": "execute_result"
    }
   ],
   "source": [
    "# BFS   -- Level Order Traversal\n",
    "\n",
    "# Problem Statement: Given the root of a Binary Tree, returns an array containing the level order traversal of the tree.                            \n",
    "\n",
    "# Time Complexity: O(N) where N is the number of nodes in the binary tree.\n",
    "\n",
    "# Space Complexity: O(N) \n",
    "\n",
    "from collections import deque\n",
    "\n",
    "def levelOrder_array(root):\n",
    "\n",
    "    if not root:\n",
    "        return []\n",
    "    \n",
    "    queue = deque([root])\n",
    "    ans = []\n",
    "\n",
    "    while queue:\n",
    "        level_size = len(queue)\n",
    "        level = []\n",
    "\n",
    "        for i in range(level_size):\n",
    "            node = queue.popleft()\n",
    "\n",
    "            if node.left:\n",
    "                queue.append(node.left)\n",
    "            if node.right:\n",
    "                queue.append(node.right)\n",
    "            \n",
    "            level.append(node.val)\n",
    "\n",
    "        ans.append(level)\n",
    "\n",
    "    return ans\n",
    "\n",
    "levelOrder_array(root)\n"
   ]
  },
  {
   "cell_type": "code",
   "execution_count": 32,
   "metadata": {},
   "outputs": [
    {
     "name": "stdout",
     "output_type": "stream",
     "text": [
      "                               1                               \n",
      "               /                              \\                \n",
      "               2                               3               \n",
      "       /              \\                               \\        \n",
      "       4               5                               7       \n",
      "   /      \\        /                                           \n",
      "   8       9       10                                           \n",
      "    \\            /                                             \n",
      "     11           12                                             \n",
      "                /                                              \n",
      "                13                                              \n"
     ]
    }
   ],
   "source": [
    "printTreeVisualWithLines(root)"
   ]
  },
  {
   "cell_type": "code",
   "execution_count": null,
   "metadata": {},
   "outputs": [],
   "source": []
  },
  {
   "cell_type": "code",
   "execution_count": null,
   "metadata": {},
   "outputs": [],
   "source": []
  },
  {
   "cell_type": "code",
   "execution_count": null,
   "metadata": {},
   "outputs": [],
   "source": []
  },
  {
   "cell_type": "code",
   "execution_count": null,
   "metadata": {},
   "outputs": [],
   "source": []
  },
  {
   "cell_type": "code",
   "execution_count": null,
   "metadata": {},
   "outputs": [],
   "source": []
  },
  {
   "cell_type": "code",
   "execution_count": null,
   "metadata": {},
   "outputs": [],
   "source": []
  },
  {
   "cell_type": "code",
   "execution_count": null,
   "metadata": {},
   "outputs": [],
   "source": []
  },
  {
   "cell_type": "code",
   "execution_count": null,
   "metadata": {},
   "outputs": [],
   "source": []
  },
  {
   "cell_type": "code",
   "execution_count": null,
   "metadata": {},
   "outputs": [],
   "source": []
  },
  {
   "cell_type": "code",
   "execution_count": null,
   "metadata": {},
   "outputs": [],
   "source": []
  },
  {
   "cell_type": "code",
   "execution_count": null,
   "metadata": {},
   "outputs": [],
   "source": []
  },
  {
   "cell_type": "code",
   "execution_count": null,
   "metadata": {},
   "outputs": [],
   "source": []
  },
  {
   "cell_type": "code",
   "execution_count": null,
   "metadata": {},
   "outputs": [],
   "source": []
  },
  {
   "cell_type": "code",
   "execution_count": null,
   "metadata": {},
   "outputs": [],
   "source": []
  },
  {
   "cell_type": "code",
   "execution_count": null,
   "metadata": {},
   "outputs": [],
   "source": []
  },
  {
   "cell_type": "code",
   "execution_count": null,
   "metadata": {},
   "outputs": [],
   "source": []
  },
  {
   "cell_type": "code",
   "execution_count": null,
   "metadata": {},
   "outputs": [],
   "source": []
  },
  {
   "cell_type": "code",
   "execution_count": null,
   "metadata": {},
   "outputs": [],
   "source": []
  },
  {
   "cell_type": "code",
   "execution_count": 26,
   "metadata": {},
   "outputs": [
    {
     "name": "stdout",
     "output_type": "stream",
     "text": [
      "In-order traversal of the binary tree:\n",
      "1 4 6 7 8 9 10 "
     ]
    }
   ],
   "source": [
    "# Creating Binary Tree\n",
    "\n",
    "    #     7\n",
    "    #    / \\\n",
    "    #   4   9\n",
    "    #  / \\  / \\\n",
    "    # 1   6 8  10\n",
    "\n",
    "\n",
    "\n",
    "# Define a class for the nodes in the binary tree\n",
    "class Node:\n",
    "    def __init__(self, data):\n",
    "        self.data = data\n",
    "        self.left = None\n",
    "        self.right = None\n",
    "\n",
    "# Function to insert nodes into the binary tree\n",
    "def insert(root, data):\n",
    "    if root is None:\n",
    "        return Node(data)\n",
    "    \n",
    "    # Recursively insert the new node in the correct position\n",
    "    if data < root.data:\n",
    "        root.left = insert(root.left, data)\n",
    "    else:\n",
    "        root.right = insert(root.right, data)\n",
    "    \n",
    "    return root\n",
    "\n",
    "# Function to create a binary tree from a list of values\n",
    "def create_binary_tree(values):\n",
    "    root = None\n",
    "    for value in values:\n",
    "        root = insert(root, value)\n",
    "    return root\n",
    "\n",
    "# Helper function to print the binary tree (in-order traversal)\n",
    "def in_order_traversal(root):\n",
    "    if root:\n",
    "        in_order_traversal(root.left)\n",
    "        print(root.data, end=\" \")\n",
    "        in_order_traversal(root.right)\n",
    "\n",
    "# Example usage\n",
    "values = [7, 4, 9, 1, 6, 8, 10]\n",
    "root = create_binary_tree(values)\n",
    "print(\"In-order traversal of the binary tree:\")\n",
    "in_order_traversal(root)"
   ]
  },
  {
   "cell_type": "code",
   "execution_count": 29,
   "metadata": {},
   "outputs": [],
   "source": [
    "# BFS   -- Level Order Traversal\n",
    "\n",
    "# Problem Statement: Given the root of a Binary Tree, returns an array containing the level order traversal of the tree.                            \n",
    "\n",
    "# Time Complexity: O(N) where N is the number of nodes in the binary tree.\n",
    "\n",
    "# Space Complexity: O(N) \n",
    "\n",
    "\n",
    "from collections import deque\n",
    "\n",
    "# TreeNode class represents\n",
    "# a node in a binary tree\n",
    "class TreeNode:\n",
    "    def __init__(self, val=0, left=None, right=None):\n",
    "        self.val = val\n",
    "        self.left = left\n",
    "        self.right = right\n",
    "\n",
    "class Solution:\n",
    "    def levelOrder(self, root):\n",
    "        # Create a list to store levels\n",
    "        ans = []\n",
    "        if not root:\n",
    "            # If the tree is empty,\n",
    "            # return an empty list\n",
    "            return ans\n",
    "\n",
    "        # Create a queue to store nodes\n",
    "        # for level-order traversal\n",
    "        q = deque()\n",
    "        # Enqueue the root node\n",
    "        q.append(root)\n",
    "\n",
    "        while q:\n",
    "            # Get the size of the current level\n",
    "            size = len(q)\n",
    "            # Create a list to store\n",
    "            # nodes at the current level\n",
    "            level = []\n",
    "\n",
    "            for i in range(size):\n",
    "                # Get the front node in the queue\n",
    "                node = q.popleft()\n",
    "                # Store the node value\n",
    "                # in the current level list\n",
    "                level.append(node.val)\n",
    "\n",
    "                # Enqueue the child nodes if they exist\n",
    "                if node.left:\n",
    "                    q.append(node.left)\n",
    "                if node.right:\n",
    "                    q.append(node.right)\n",
    "\n",
    "            # Store the current level\n",
    "            # in the answer list\n",
    "            ans.append(level)\n",
    "        # Return the level-order\n",
    "        # traversal of the tree\n",
    "        return ans\n",
    "\n",
    "                   "
   ]
  },
  {
   "cell_type": "code",
   "execution_count": 28,
   "metadata": {},
   "outputs": [
    {
     "ename": "AttributeError",
     "evalue": "'TreeNode' object has no attribute 'data'",
     "output_type": "error",
     "traceback": [
      "\u001b[0;31m---------------------------------------------------------------------------\u001b[0m",
      "\u001b[0;31mAttributeError\u001b[0m                            Traceback (most recent call last)",
      "Cell \u001b[0;32mIn[28], line 29\u001b[0m\n\u001b[1;32m     25\u001b[0m         \u001b[38;5;28;01mreturn\u001b[39;00m \u001b[38;5;28mself\u001b[39m\u001b[38;5;241m.\u001b[39mpath\n\u001b[1;32m     28\u001b[0m result \u001b[38;5;241m=\u001b[39m Solution()\n\u001b[0;32m---> 29\u001b[0m \u001b[43mresult\u001b[49m\u001b[38;5;241;43m.\u001b[39;49m\u001b[43mget_root_to_NodePath\u001b[49m\u001b[43m(\u001b[49m\u001b[43mroot\u001b[49m\u001b[43m,\u001b[49m\u001b[43m \u001b[49m\u001b[38;5;241;43m8\u001b[39;49m\u001b[43m)\u001b[49m\n",
      "Cell \u001b[0;32mIn[28], line 24\u001b[0m, in \u001b[0;36mSolution.get_root_to_NodePath\u001b[0;34m(self, root, value)\u001b[0m\n\u001b[1;32m     22\u001b[0m \u001b[38;5;28;01mdef\u001b[39;00m \u001b[38;5;21mget_root_to_NodePath\u001b[39m(\u001b[38;5;28mself\u001b[39m, root, value):\n\u001b[1;32m     23\u001b[0m     \u001b[38;5;28mself\u001b[39m\u001b[38;5;241m.\u001b[39mpath \u001b[38;5;241m=\u001b[39m []\n\u001b[0;32m---> 24\u001b[0m     \u001b[38;5;28;43mself\u001b[39;49m\u001b[38;5;241;43m.\u001b[39;49m\u001b[43mprintRootToNodePath\u001b[49m\u001b[43m(\u001b[49m\u001b[43mroot\u001b[49m\u001b[43m,\u001b[49m\u001b[43m \u001b[49m\u001b[43mvalue\u001b[49m\u001b[43m)\u001b[49m\n\u001b[1;32m     25\u001b[0m     \u001b[38;5;28;01mreturn\u001b[39;00m \u001b[38;5;28mself\u001b[39m\u001b[38;5;241m.\u001b[39mpath\n",
      "Cell \u001b[0;32mIn[28], line 8\u001b[0m, in \u001b[0;36mSolution.printRootToNodePath\u001b[0;34m(self, root, value)\u001b[0m\n\u001b[1;32m      5\u001b[0m \u001b[38;5;28;01mif\u001b[39;00m root \u001b[38;5;129;01mis\u001b[39;00m \u001b[38;5;28;01mNone\u001b[39;00m:\n\u001b[1;32m      6\u001b[0m     \u001b[38;5;28;01mreturn\u001b[39;00m        \n\u001b[0;32m----> 8\u001b[0m \u001b[38;5;28mself\u001b[39m\u001b[38;5;241m.\u001b[39mpath\u001b[38;5;241m.\u001b[39mappend(\u001b[43mroot\u001b[49m\u001b[38;5;241;43m.\u001b[39;49m\u001b[43mdata\u001b[49m)\n\u001b[1;32m     10\u001b[0m \u001b[38;5;28;01mif\u001b[39;00m root\u001b[38;5;241m.\u001b[39mdata \u001b[38;5;241m==\u001b[39m value:\n\u001b[1;32m     11\u001b[0m     \u001b[38;5;28;01mreturn\u001b[39;00m \u001b[38;5;28;01mTrue\u001b[39;00m\n",
      "\u001b[0;31mAttributeError\u001b[0m: 'TreeNode' object has no attribute 'data'"
     ]
    }
   ],
   "source": [
    "# Print Root to Node Path in Binary Tree\n",
    "\n",
    "class Solution:\n",
    "    def printRootToNodePath(self, root, value):\n",
    "        if root is None:\n",
    "            return        \n",
    "\n",
    "        self.path.append(root.data)\n",
    "\n",
    "        if root.data == value:\n",
    "            return True\n",
    "\n",
    "        if self.printRootToNodePath(root.left , value) or self.printRootToNodePath(root.right , value):\n",
    "            return True\n",
    "        \n",
    "        self.path.pop()\n",
    "\n",
    "        return False        \n",
    "\n",
    "    \n",
    "\n",
    "    def get_root_to_NodePath(self, root, value):\n",
    "        self.path = []\n",
    "        self.printRootToNodePath(root, value)\n",
    "        return self.path\n",
    "\n",
    "\n",
    "result = Solution()\n",
    "result.get_root_to_NodePath(root, 8)"
   ]
  },
  {
   "cell_type": "code",
   "execution_count": 24,
   "metadata": {},
   "outputs": [
    {
     "name": "stdout",
     "output_type": "stream",
     "text": [
      "[7] [7, 9, 8]\n"
     ]
    },
    {
     "data": {
      "text/plain": [
       "7"
      ]
     },
     "execution_count": 24,
     "metadata": {},
     "output_type": "execute_result"
    }
   ],
   "source": [
    "class TreeNode:\n",
    "    def __init__(self, x):\n",
    "        self.val = x\n",
    "        self.left = None\n",
    "        self.right = None\n",
    "\n",
    "\n",
    "class Solution:\n",
    "\n",
    "    def printRootToNodePath(self, root, value):\n",
    "        if root is None:\n",
    "            return        \n",
    "\n",
    "        self.path.append(root.data)\n",
    "\n",
    "        if root.data == value:\n",
    "            return True\n",
    "\n",
    "        if self.printRootToNodePath(root.left , value) or self.printRootToNodePath(root.right , value):\n",
    "            return True\n",
    "        \n",
    "        self.path.pop()\n",
    "\n",
    "        return False \n",
    "\n",
    "    def get_root_to_NodePath(self, root, value):\n",
    "        self.path = []\n",
    "        self.printRootToNodePath(root, value)\n",
    "        return self.path \n",
    "\n",
    "\n",
    "def lowestCommonAncestor(root, p: int, q: int):\n",
    "\n",
    "    ps = Solution()\n",
    "    qs = Solution()\n",
    "\n",
    "    p_path = ps.get_root_to_NodePath(root, p)\n",
    "    q_path = qs.get_root_to_NodePath(root, q)\n",
    "\n",
    "    print(p_path, q_path)\n",
    "\n",
    "    i = 0\n",
    "    LCA = None\n",
    "    while  i < len(p_path) and i < len(q_path) and p_path[i] == q_path[i]:\n",
    "            i += 1\n",
    "\n",
    "    return p_path[i-1] if i > 0 else None\n",
    "\n",
    "lowestCommonAncestor(root, 7, 8)\n",
    "\n",
    "\n"
   ]
  },
  {
   "cell_type": "code",
   "execution_count": 27,
   "metadata": {},
   "outputs": [
    {
     "name": "stdout",
     "output_type": "stream",
     "text": [
      "Lowest Common Ancestor of 5 and 4: 5\n"
     ]
    }
   ],
   "source": [
    "class TreeNode:\n",
    "    def __init__(self, x):\n",
    "        self.val = x\n",
    "        self.left = None\n",
    "        self.right = None\n",
    "\n",
    "class Solution:\n",
    "    def buildTree(self, values):\n",
    "        if not values:\n",
    "            return None\n",
    "        # Create the root of the tree\n",
    "        root = TreeNode(values[0])\n",
    "        queue = [root]\n",
    "        i = 1\n",
    "        while i < len(values):\n",
    "            current = queue.pop(0)\n",
    "            if values[i] is not None:\n",
    "                current.left = TreeNode(values[i])\n",
    "                queue.append(current.left)\n",
    "            i += 1\n",
    "            if i < len(values) and values[i] is not None:\n",
    "                current.right = TreeNode(values[i])\n",
    "                queue.append(current.right)\n",
    "            i += 1\n",
    "        return root\n",
    "\n",
    "    def findNode(self, root, val):\n",
    "        # Basic DFS to find a node with the given value\n",
    "        if not root:\n",
    "            return None\n",
    "        if root.val == val:\n",
    "            return root\n",
    "        left = self.findNode(root.left, val)\n",
    "        if left:\n",
    "            return left\n",
    "        return self.findNode(root.right, val)\n",
    "\n",
    "    def lowestCommonAncestor(self, root: 'TreeNode', p: 'TreeNode', q: 'TreeNode') -> 'TreeNode':\n",
    "\n",
    "        if root == p or root == q or not root:\n",
    "            return root\n",
    "\n",
    "        left = self.lowestCommonAncestor(root.left, p, q) \n",
    "        right = self.lowestCommonAncestor(root.right, p, q)\n",
    "\n",
    "        if left and right:\n",
    "            return root\n",
    "\n",
    "        return left if left else right\n",
    "\n",
    "\n",
    "        \n",
    "\n",
    "# Input example:\n",
    "root_values = [3, 5, 1, 6, 2, 0, 8, None, None, 7, 4]\n",
    "p_val = 5\n",
    "q_val = 4\n",
    "\n",
    "    #      3\n",
    "    #    /   \\\n",
    "    #   5     1\n",
    "    #  / \\   / \\\n",
    "    # 6   2 0   8\n",
    "    #    / \\\n",
    "    #   7   4\n",
    "\n",
    "\n",
    "# Creating the tree and solving for LCA\n",
    "solution = Solution()\n",
    "root = solution.buildTree(root_values)\n",
    "p = solution.findNode(root, p_val)\n",
    "q = solution.findNode(root, q_val)\n",
    "\n",
    "# Find and print the LCA\n",
    "lca = solution.lowestCommonAncestor(root, p, q)\n",
    "print(f\"Lowest Common Ancestor of {p.val} and {q.val}: {lca.val}\")\n"
   ]
  }
 ],
 "metadata": {
  "kernelspec": {
   "display_name": "myenv",
   "language": "python",
   "name": "python3"
  },
  "language_info": {
   "codemirror_mode": {
    "name": "ipython",
    "version": 3
   },
   "file_extension": ".py",
   "mimetype": "text/x-python",
   "name": "python",
   "nbconvert_exporter": "python",
   "pygments_lexer": "ipython3",
   "version": "3.12.5"
  }
 },
 "nbformat": 4,
 "nbformat_minor": 2
}
