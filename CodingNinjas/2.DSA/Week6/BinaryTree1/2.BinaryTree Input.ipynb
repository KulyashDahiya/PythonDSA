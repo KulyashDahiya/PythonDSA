{
 "cells": [
  {
   "cell_type": "code",
   "execution_count": null,
   "id": "a2e8d146-fecd-4d3a-a104-45323a8c1cbe",
   "metadata": {},
   "outputs": [],
   "source": [
    "# Taking Binary Tree Input"
   ]
  },
  {
   "cell_type": "code",
   "execution_count": 5,
   "id": "27758e26-84a1-4c7f-8868-d4a4527a067d",
   "metadata": {},
   "outputs": [],
   "source": [
    "class BinaryTreeNode:\n",
    "    def __init__(self,data):\n",
    "        self.data = data\n",
    "        self.left = None\n",
    "        self.right = None"
   ]
  },
  {
   "cell_type": "code",
   "execution_count": 14,
   "id": "dcc4645e-1c9b-41b0-9165-d6a4188c491b",
   "metadata": {},
   "outputs": [],
   "source": [
    "def PrintBinaryDetailed(root):\n",
    "\n",
    "    if root is None:\n",
    "        return\n",
    "\n",
    "    print(root.data, end=': ')\n",
    "    if root.left:\n",
    "        print(f\"L{root.left.data}\", end=',')\n",
    "    if root.right:\n",
    "        print(f\"R{root.right.data}\", end='')\n",
    "    print()\n",
    "    PrintBinaryDetailed(root.right)\n",
    "    PrintBinaryDetailed(root.left)"
   ]
  },
  {
   "cell_type": "code",
   "execution_count": 15,
   "id": "c8905568-cc94-406d-aa13-979951de41da",
   "metadata": {},
   "outputs": [],
   "source": [
    "# It'll take left most first, in recursive manner\n",
    "# Then you've provided -1 for the leftest, it'll ask for right child at the bottom.\n",
    "\n",
    "def treeInput():\n",
    "    d = int(input())\n",
    "    if d == -1:\n",
    "        return None\n",
    "    root = BinaryTreeNode(d)\n",
    "    leftTree = treeInput()\n",
    "    rightTree = treeInput()\n",
    "    root.left = leftTree\n",
    "    root.right = rightTree\n",
    "\n",
    "    return root"
   ]
  },
  {
   "cell_type": "code",
   "execution_count": 16,
   "id": "74065316-a6d0-46a7-bd39-e3a32c896d3f",
   "metadata": {},
   "outputs": [
    {
     "name": "stdin",
     "output_type": "stream",
     "text": [
      " 2\n",
      " 4\n",
      " 2\n",
      " -1\n",
      " -1\n",
      " -1\n",
      " -1\n"
     ]
    },
    {
     "name": "stdout",
     "output_type": "stream",
     "text": [
      "2: L4,\n",
      "4: L2,\n",
      "2: \n"
     ]
    }
   ],
   "source": [
    "root = treeInput()\n",
    "PrintBinaryDetailed(root)"
   ]
  }
 ],
 "metadata": {
  "kernelspec": {
   "display_name": "Python 3 (ipykernel)",
   "language": "python",
   "name": "python3"
  },
  "language_info": {
   "codemirror_mode": {
    "name": "ipython",
    "version": 3
   },
   "file_extension": ".py",
   "mimetype": "text/x-python",
   "name": "python",
   "nbconvert_exporter": "python",
   "pygments_lexer": "ipython3",
   "version": "3.11.5"
  }
 },
 "nbformat": 4,
 "nbformat_minor": 5
}
