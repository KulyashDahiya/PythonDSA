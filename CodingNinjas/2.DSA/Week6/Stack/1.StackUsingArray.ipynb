{
 "cells": [
  {
   "cell_type": "code",
   "execution_count": 31,
   "id": "d82f1fc2-b948-4951-801f-9a202c9f18fd",
   "metadata": {},
   "outputs": [],
   "source": [
    "class Stack:\n",
    "    def __init__(self):\n",
    "        self.__data = []\n",
    "    \n",
    "    def push(self, item):\n",
    "        self.__data.append(item)\n",
    "        \n",
    "    def pop(self):\n",
    "        if self.isempty():\n",
    "            print(\"Hey Stack is Empty\")\n",
    "            return\n",
    "        return self.__data.pop()\n",
    "    \n",
    "    def top(self):\n",
    "        if self.isempty():\n",
    "            print(\"Hey Stack is Empty\")\n",
    "            return\n",
    "        return self.__data[len(self.__data)-1]\n",
    "        \n",
    "    def size(self):\n",
    "        return len(self.__data)\n",
    "    \n",
    "    def isempty(self):\n",
    "        return self.size() == 0\n",
    "    \n",
    "        \n",
    "        "
   ]
  },
  {
   "cell_type": "code",
   "execution_count": 34,
   "id": "9e34ad7a-3d9f-460f-8be3-fbab7edf8228",
   "metadata": {},
   "outputs": [],
   "source": [
    "st = Stack()"
   ]
  },
  {
   "cell_type": "code",
   "execution_count": 36,
   "id": "aca0b95d-8153-4231-88c3-cac99e47c3e6",
   "metadata": {},
   "outputs": [],
   "source": [
    "st.push(5)\n",
    "st.push(4)"
   ]
  },
  {
   "cell_type": "code",
   "execution_count": 39,
   "id": "ae0c584a-d72b-45f7-b928-57e4beb448e4",
   "metadata": {},
   "outputs": [
    {
     "data": {
      "text/plain": [
       "2"
      ]
     },
     "execution_count": 39,
     "metadata": {},
     "output_type": "execute_result"
    }
   ],
   "source": [
    "st.size()"
   ]
  },
  {
   "cell_type": "code",
   "execution_count": 40,
   "id": "377df10e-bd1a-463c-9c6f-f0382af303ab",
   "metadata": {},
   "outputs": [
    {
     "data": {
      "text/plain": [
       "4"
      ]
     },
     "execution_count": 40,
     "metadata": {},
     "output_type": "execute_result"
    }
   ],
   "source": [
    "st.pop()"
   ]
  },
  {
   "cell_type": "code",
   "execution_count": 41,
   "id": "3edbae3b-313a-44c6-9541-79a2a406b7c3",
   "metadata": {},
   "outputs": [
    {
     "data": {
      "text/plain": [
       "5"
      ]
     },
     "execution_count": 41,
     "metadata": {},
     "output_type": "execute_result"
    }
   ],
   "source": [
    "st.top()"
   ]
  },
  {
   "cell_type": "code",
   "execution_count": 42,
   "id": "a4bdf428-dd6b-4bc3-b75c-84315c3625c8",
   "metadata": {},
   "outputs": [
    {
     "data": {
      "text/plain": [
       "1"
      ]
     },
     "execution_count": 42,
     "metadata": {},
     "output_type": "execute_result"
    }
   ],
   "source": [
    "st.size()"
   ]
  },
  {
   "cell_type": "code",
   "execution_count": 43,
   "id": "859dea9e-3db1-472a-94f2-46119f4fbf38",
   "metadata": {},
   "outputs": [
    {
     "data": {
      "text/plain": [
       "False"
      ]
     },
     "execution_count": 43,
     "metadata": {},
     "output_type": "execute_result"
    }
   ],
   "source": [
    "st.isempty()"
   ]
  }
 ],
 "metadata": {
  "kernelspec": {
   "display_name": "Python 3 (ipykernel)",
   "language": "python",
   "name": "python3"
  },
  "language_info": {
   "codemirror_mode": {
    "name": "ipython",
    "version": 3
   },
   "file_extension": ".py",
   "mimetype": "text/x-python",
   "name": "python",
   "nbconvert_exporter": "python",
   "pygments_lexer": "ipython3",
   "version": "3.11.5"
  }
 },
 "nbformat": 4,
 "nbformat_minor": 5
}
