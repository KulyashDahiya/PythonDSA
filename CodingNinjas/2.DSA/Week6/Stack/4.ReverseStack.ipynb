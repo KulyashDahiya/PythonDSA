{
 "cells": [
  {
   "cell_type": "code",
   "execution_count": null,
   "id": "7052e4f4-ee78-4394-85bc-ade68aa29e6f",
   "metadata": {},
   "outputs": [],
   "source": [
    "#Using Recursion for Implicit Stack"
   ]
  },
  {
   "cell_type": "code",
   "execution_count": null,
   "id": "aedd0859-4300-40e3-921f-c2efc7d6ef17",
   "metadata": {},
   "outputs": [],
   "source": []
  },
  {
   "cell_type": "code",
   "execution_count": null,
   "id": "8fc7ec8a-08cc-446c-bb74-6b0a6000f82f",
   "metadata": {},
   "outputs": [],
   "source": []
  },
  {
   "cell_type": "code",
   "execution_count": null,
   "id": "50acd12e-7ed1-4879-9abf-7d3efeb59b1f",
   "metadata": {},
   "outputs": [],
   "source": []
  },
  {
   "cell_type": "code",
   "execution_count": null,
   "id": "ac6349d2-061c-47c7-ad65-e557d5a36ef1",
   "metadata": {},
   "outputs": [],
   "source": [
    "#Using Another Stack"
   ]
  },
  {
   "cell_type": "code",
   "execution_count": null,
   "id": "3a4ca4bc-898a-47ec-8be6-3dabe52dd346",
   "metadata": {},
   "outputs": [],
   "source": [
    "def reverseStack(inputStack, extraStack) :\n",
    "\t#Your code goes here\n",
    "\twhile not isEmpty(inputStack):\n",
    "\t\textraStack.append(inputStack.pop())\n",
    "\n",
    "\ti = 0\n",
    "\twhile i < len(extraStack):\n",
    "\t\tinputStack.append(extraStack[i])\n",
    "\t\ti += 1"
   ]
  }
 ],
 "metadata": {
  "kernelspec": {
   "display_name": "Python 3 (ipykernel)",
   "language": "python",
   "name": "python3"
  },
  "language_info": {
   "codemirror_mode": {
    "name": "ipython",
    "version": 3
   },
   "file_extension": ".py",
   "mimetype": "text/x-python",
   "name": "python",
   "nbconvert_exporter": "python",
   "pygments_lexer": "ipython3",
   "version": "3.11.1"
  }
 },
 "nbformat": 4,
 "nbformat_minor": 5
}
