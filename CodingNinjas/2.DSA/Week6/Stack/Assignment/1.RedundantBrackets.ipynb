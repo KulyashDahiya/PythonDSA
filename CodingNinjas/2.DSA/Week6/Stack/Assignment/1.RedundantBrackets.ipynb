{
 "cells": [
  {
   "cell_type": "code",
   "execution_count": 15,
   "id": "5c6e1beb-a2b5-4bce-949c-f08ada30da11",
   "metadata": {},
   "outputs": [],
   "source": [
    "def checkRedundantBrackets(expression) :\n",
    "    # Your code goes here\n",
    "    stack = list()\n",
    "\n",
    "    for el in expression:\n",
    "        if el == ')': #or el == '}':\n",
    "            ele = None\n",
    "            count = 0\n",
    "            while ele != '(':\n",
    "                ele = stack.pop()\n",
    "                count += 1\n",
    "            if count  == 1 or count == 2:\n",
    "                return True\n",
    "\n",
    "        stack.append(el)\n",
    "\n",
    "    return False"
   ]
  },
  {
   "cell_type": "code",
   "execution_count": null,
   "id": "087725bc-6efb-4531-9b27-0945cb9da644",
   "metadata": {},
   "outputs": [],
   "source": []
  }
 ],
 "metadata": {
  "kernelspec": {
   "display_name": "Python 3 (ipykernel)",
   "language": "python",
   "name": "python3"
  },
  "language_info": {
   "codemirror_mode": {
    "name": "ipython",
    "version": 3
   },
   "file_extension": ".py",
   "mimetype": "text/x-python",
   "name": "python",
   "nbconvert_exporter": "python",
   "pygments_lexer": "ipython3",
   "version": "3.11.1"
  }
 },
 "nbformat": 4,
 "nbformat_minor": 5
}
