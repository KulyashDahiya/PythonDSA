{
 "cells": [
  {
   "cell_type": "code",
   "execution_count": 18,
   "id": "65bb53ee-8aa4-4ac2-9678-3a45158cea81",
   "metadata": {},
   "outputs": [
    {
     "name": "stdout",
     "output_type": "stream",
     "text": [
      "4\n"
     ]
    }
   ],
   "source": [
    "def countBracketReversals(string):\n",
    "    if len(string) == 0:\n",
    "        return 0\n",
    "    if len(string) % 2 == 1:\n",
    "        return -1\n",
    "    c = 0\n",
    "    stack = list()\n",
    "    for el in string:\n",
    "        if el == '}' and len(stack)>0:\n",
    "            if el != stack[-1]:\n",
    "                stack.pop()\n",
    "                continue\n",
    "\n",
    "        stack.append(el)\n",
    "\n",
    "    while len(stack) > 0:\n",
    "        c1 = stack.pop()\n",
    "        c2 = stack.pop()\n",
    "        if c1 == c2:\n",
    "            c += 1\n",
    "        else:\n",
    "            c += 2\n",
    "\n",
    "    return c\n",
    "\n",
    "print(countBracketReversals(\"}}}{{{\"))"
   ]
  }
 ],
 "metadata": {
  "kernelspec": {
   "display_name": "Python 3 (ipykernel)",
   "language": "python",
   "name": "python3"
  },
  "language_info": {
   "codemirror_mode": {
    "name": "ipython",
    "version": 3
   },
   "file_extension": ".py",
   "mimetype": "text/x-python",
   "name": "python",
   "nbconvert_exporter": "python",
   "pygments_lexer": "ipython3",
   "version": "3.11.5"
  }
 },
 "nbformat": 4,
 "nbformat_minor": 5
}
