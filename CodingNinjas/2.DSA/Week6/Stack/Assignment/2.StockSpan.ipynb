{
 "cells": [
  {
   "cell_type": "code",
   "execution_count": null,
   "id": "0f1d41b1-ee6b-4103-83c1-44a811300c2b",
   "metadata": {},
   "outputs": [],
   "source": [
    "Afzal has been working with an organization called 'Money Traders' for the past few years. The organization is into the money trading business. His manager assigned him a task. For a given array/list of stock's prices for N days, find the stock's span for each day.\n",
    "The span of the stock's price today is defined as the maximum number of consecutive days(starting from today and going backwards) for which the price of the stock was less than today's price."
   ]
  },
  {
   "cell_type": "code",
   "execution_count": null,
   "id": "b1ca79b3-0ca4-47d7-8d89-4b2f3c9e287c",
   "metadata": {},
   "outputs": [],
   "source": [
    "# O(N)\n",
    "\n",
    "def stockSpan(price, n) :\n",
    "\t#Your code goes here\n",
    "\tstack = list()\n",
    "\tstack.append(0)\n",
    "\tspan = []\n",
    "\tspan.append(1)\n",
    "\tfor i in range(1,n):\n",
    "\t\tif price[i] > price[i-1]:\n",
    "\t\t\tspan.append(i- stack[0])\n",
    "\t\t\t# stack.pop()\n",
    "\t\t\t# stack.append(i)\n",
    "\t\telse:\n",
    "\t\t\tspan.append(i)\n",
    "\t\t\tstack.pop()\n",
    "\t\t\tstack.append(i)\n",
    "\n",
    "\treturn span"
   ]
  },
  {
   "cell_type": "code",
   "execution_count": null,
   "id": "b7805e63-7014-42cd-b707-acde9c35a34a",
   "metadata": {},
   "outputs": [],
   "source": []
  },
  {
   "cell_type": "code",
   "execution_count": null,
   "id": "ddaae580-ca7e-4910-b33c-467cc8721b8c",
   "metadata": {},
   "outputs": [],
   "source": []
  },
  {
   "cell_type": "code",
   "execution_count": 1,
   "id": "7ba8822f-197d-42f4-88f5-6fc75777a1d3",
   "metadata": {},
   "outputs": [
    {
     "name": "stdout",
     "output_type": "stream",
     "text": [
      "1\n",
      "1\n",
      "2\n",
      "1\n",
      "2\n",
      "3\n",
      "1\n",
      "2\n",
      "3\n",
      "4\n"
     ]
    }
   ],
   "source": [
    "# O(N^2)\n",
    "\n",
    "def stockSpan(price, n) :\n",
    "\t#Your code goes here\n",
    "\tspan = []\n",
    "\tfor i in range(n):\n",
    "\t\tcount = 1\n",
    "\t\tfor j in range(i-1, -1, -1):\n",
    "\t\t\tif price[j] < price[i]:\n",
    "\t\t\t\tcount += 1\n",
    "\t\t\telse:\n",
    "\t\t\t\tbreak\n",
    "\n",
    "\t\tspan.append(count)\n",
    "\t\n",
    "\treturn span"
   ]
  }
 ],
 "metadata": {
  "kernelspec": {
   "display_name": "Python 3 (ipykernel)",
   "language": "python",
   "name": "python3"
  },
  "language_info": {
   "codemirror_mode": {
    "name": "ipython",
    "version": 3
   },
   "file_extension": ".py",
   "mimetype": "text/x-python",
   "name": "python",
   "nbconvert_exporter": "python",
   "pygments_lexer": "ipython3",
   "version": "3.11.1"
  }
 },
 "nbformat": 4,
 "nbformat_minor": 5
}
