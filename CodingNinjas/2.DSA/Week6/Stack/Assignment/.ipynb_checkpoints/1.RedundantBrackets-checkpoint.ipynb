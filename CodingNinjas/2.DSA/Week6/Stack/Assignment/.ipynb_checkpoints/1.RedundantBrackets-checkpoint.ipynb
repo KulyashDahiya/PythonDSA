{
 "cells": [
  {
   "cell_type": "code",
   "execution_count": 13,
   "id": "5c6e1beb-a2b5-4bce-949c-f08ada30da11",
   "metadata": {},
   "outputs": [
    {
     "name": "stdout",
     "output_type": "stream",
     "text": [
      "6 5 4 2 1 "
     ]
    }
   ],
   "source": [
    "def checkRedundantBrackets(expression) :\n",
    "\t# Your code goes here\n",
    "\tstack = list()\n",
    "\n",
    "\tfor el in expression:\n",
    "\t\tif el == ')': #or el == '}':\n",
    "\t\t\tele = None\n",
    "\t\t\tcount = 0\n",
    "\t\t\twhile ele != '(':\n",
    "\t\t\t\tele = stack.pop()\n",
    "\t\t\t\tcount += 1\n",
    "\t\t\tif count  == 1 or count == 2:\n",
    "\t\t\t\treturn True\n",
    "\n",
    "\t\tstack.append(el)\n",
    "\n",
    "\treturn False"
   ]
  },
  {
   "cell_type": "code",
   "execution_count": null,
   "id": "087725bc-6efb-4531-9b27-0945cb9da644",
   "metadata": {},
   "outputs": [],
   "source": []
  }
 ],
 "metadata": {
  "kernelspec": {
   "display_name": "Python 3 (ipykernel)",
   "language": "python",
   "name": "python3"
  },
  "language_info": {
   "codemirror_mode": {
    "name": "ipython",
    "version": 3
   },
   "file_extension": ".py",
   "mimetype": "text/x-python",
   "name": "python",
   "nbconvert_exporter": "python",
   "pygments_lexer": "ipython3",
   "version": "3.11.1"
  }
 },
 "nbformat": 4,
 "nbformat_minor": 5
}
