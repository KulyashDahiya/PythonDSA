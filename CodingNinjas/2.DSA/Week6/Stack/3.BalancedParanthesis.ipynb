{
 "cells": [
  {
   "cell_type": "code",
   "execution_count": null,
   "id": "ada1f804-3794-48c7-8815-68065c6ccb09",
   "metadata": {},
   "outputs": [],
   "source": [
    "from sys import stdin\n",
    "\n",
    "\n",
    "def isEmpty(stack) :\n",
    "    return len(stack) == 0\n",
    "\n",
    "def isBalanced(expression) :\n",
    "\n",
    "        stack = list()\n",
    "\n",
    "        for i in range(len(expression)) :\n",
    "\n",
    "            if expression[i] == '(' :\n",
    "                stack.append(expression[i])\n",
    "            elif expression[i] == ')' :\n",
    "                if isEmpty(stack) :\n",
    "                    return False\n",
    "\n",
    "                topChar = stack.pop();\n",
    "\n",
    "                if expression[i] == ')' and topChar == '(' :\n",
    "                    continue\n",
    "                else :\n",
    "                    return False\n",
    "                \n",
    "        return isEmpty(stack);"
   ]
  }
 ],
 "metadata": {
  "kernelspec": {
   "display_name": "Python 3 (ipykernel)",
   "language": "python",
   "name": "python3"
  },
  "language_info": {
   "codemirror_mode": {
    "name": "ipython",
    "version": 3
   },
   "file_extension": ".py",
   "mimetype": "text/x-python",
   "name": "python",
   "nbconvert_exporter": "python",
   "pygments_lexer": "ipython3",
   "version": "3.11.1"
  }
 },
 "nbformat": 4,
 "nbformat_minor": 5
}
