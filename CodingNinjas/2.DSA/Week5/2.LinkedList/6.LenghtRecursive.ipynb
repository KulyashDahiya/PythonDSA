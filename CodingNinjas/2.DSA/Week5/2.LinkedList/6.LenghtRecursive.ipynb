{
 "cells": [
  {
   "cell_type": "code",
   "execution_count": 1,
   "id": "eea49a4c-5168-45d2-ace9-868eddd273fd",
   "metadata": {},
   "outputs": [],
   "source": [
    "def lengthRecursive(head):\n",
    "    # A linked list, find and return the length of input LL recursively.\n",
    "    # Write your code here\n",
    "    if head is None:\n",
    "        return 0\n",
    "    \n",
    "    return 1 + lengthRecursive(head.next)"
   ]
  }
 ],
 "metadata": {
  "kernelspec": {
   "display_name": "Python 3 (ipykernel)",
   "language": "python",
   "name": "python3"
  },
  "language_info": {
   "codemirror_mode": {
    "name": "ipython",
    "version": 3
   },
   "file_extension": ".py",
   "mimetype": "text/x-python",
   "name": "python",
   "nbconvert_exporter": "python",
   "pygments_lexer": "ipython3",
   "version": "3.11.1"
  }
 },
 "nbformat": 4,
 "nbformat_minor": 5
}
