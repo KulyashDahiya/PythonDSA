{
 "cells": [
  {
   "cell_type": "code",
   "execution_count": 1,
   "id": "143c0ceb-3e51-4897-a6ee-13e29e7d6b18",
   "metadata": {},
   "outputs": [],
   "source": [
    "class Node:\n",
    "    def __init__(self, data):\n",
    "        self.data = data\n",
    "        self.next = None"
   ]
  },
  {
   "cell_type": "code",
   "execution_count": 15,
   "id": "c298d60f-0660-4128-947a-d2b608c96e6e",
   "metadata": {},
   "outputs": [
    {
     "name": "stdout",
     "output_type": "stream",
     "text": [
      "13\n",
      "15\n",
      "15\n",
      "<__main__.Node object at 0x1087ae710>\n",
      "<__main__.Node object at 0x1087ae710>\n",
      "None\n"
     ]
    }
   ],
   "source": [
    "a = Node(13)\n",
    "b = Node(15)\n",
    "print(a.data)\n",
    "a.next = b\n",
    "print(b.data)\n",
    "print(a.next.data)\n",
    "print(b)\n",
    "print(a.next)\n",
    "print(b.next)"
   ]
  },
  {
   "cell_type": "code",
   "execution_count": 16,
   "id": "4b2133a5-1e51-4a64-b1c6-8bec586a9374",
   "metadata": {},
   "outputs": [
    {
     "name": "stdout",
     "output_type": "stream",
     "text": [
      "15\n",
      "None\n"
     ]
    }
   ],
   "source": [
    "a = a.next\n",
    "print(a.data)\n",
    "print(a.next)\n",
    "a = a.next\n",
    "# print(a.data)"
   ]
  }
 ],
 "metadata": {
  "kernelspec": {
   "display_name": "Python 3 (ipykernel)",
   "language": "python",
   "name": "python3"
  },
  "language_info": {
   "codemirror_mode": {
    "name": "ipython",
    "version": 3
   },
   "file_extension": ".py",
   "mimetype": "text/x-python",
   "name": "python",
   "nbconvert_exporter": "python",
   "pygments_lexer": "ipython3",
   "version": "3.11.1"
  }
 },
 "nbformat": 4,
 "nbformat_minor": 5
}
