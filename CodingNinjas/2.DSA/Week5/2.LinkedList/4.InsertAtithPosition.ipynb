{
 "cells": [
  {
   "cell_type": "code",
   "execution_count": 1,
   "id": "d864f544-a109-41df-8db7-90eb3096fc68",
   "metadata": {},
   "outputs": [],
   "source": [
    "class Node:\n",
    "    def __init__(self,data):\n",
    "        self.data = data\n",
    "        self.next = None"
   ]
  },
  {
   "cell_type": "code",
   "execution_count": 10,
   "id": "4048363d-5d82-4284-bcb5-a21979ef5df7",
   "metadata": {},
   "outputs": [],
   "source": [
    "def InsertAtI(head, i, data):\n",
    "    #Your code goes here\n",
    "    count = 0\n",
    "    prev = None\n",
    "    curr = head\n",
    "    while count < i:\n",
    "        prev = curr\n",
    "        curr = head.next\n",
    "        count += 1\n",
    "    \n",
    "    newNode = Node(data)\n",
    "    if prev is not None:\n",
    "        prev.next = newNode\n",
    "    else:\n",
    "        head = newNode\n",
    "    newNode.next = curr\n",
    "    "
   ]
  }
 ],
 "metadata": {
  "kernelspec": {
   "display_name": "Python 3 (ipykernel)",
   "language": "python",
   "name": "python3"
  },
  "language_info": {
   "codemirror_mode": {
    "name": "ipython",
    "version": 3
   },
   "file_extension": ".py",
   "mimetype": "text/x-python",
   "name": "python",
   "nbconvert_exporter": "python",
   "pygments_lexer": "ipython3",
   "version": "3.11.1"
  }
 },
 "nbformat": 4,
 "nbformat_minor": 5
}
