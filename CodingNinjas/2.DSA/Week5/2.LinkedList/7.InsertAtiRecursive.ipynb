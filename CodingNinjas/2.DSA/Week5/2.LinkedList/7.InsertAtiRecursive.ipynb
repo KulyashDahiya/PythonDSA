{
 "cells": [
  {
   "cell_type": "code",
   "execution_count": 3,
   "id": "09b76610-72e6-4f23-8665-7c8d9888e741",
   "metadata": {},
   "outputs": [],
   "source": [
    "def InsertAtI(head, i, data):\n",
    "    if i < 0:\n",
    "        return head\n",
    "    if i == 0:\n",
    "        newNode = Node(data)\n",
    "        newNode.next = head\n",
    "        return newNode\n",
    "    \n",
    "    if head is None:\n",
    "        return\n",
    "    \n",
    "    head.next = InsertAtI(head.next, i-1, data)\n",
    "\n",
    "    return head"
   ]
  }
 ],
 "metadata": {
  "kernelspec": {
   "display_name": "Python 3 (ipykernel)",
   "language": "python",
   "name": "python3"
  },
  "language_info": {
   "codemirror_mode": {
    "name": "ipython",
    "version": 3
   },
   "file_extension": ".py",
   "mimetype": "text/x-python",
   "name": "python",
   "nbconvert_exporter": "python",
   "pygments_lexer": "ipython3",
   "version": "3.11.1"
  }
 },
 "nbformat": 4,
 "nbformat_minor": 5
}
