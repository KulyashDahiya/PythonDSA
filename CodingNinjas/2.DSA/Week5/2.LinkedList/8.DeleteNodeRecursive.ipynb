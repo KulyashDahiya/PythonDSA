{
 "cells": [
  {
   "cell_type": "code",
   "execution_count": null,
   "id": "fa817d52-1f82-4660-895d-dad30f71d2dd",
   "metadata": {},
   "outputs": [],
   "source": [
    "def deleteNodeRec(head, pos) :\n",
    "\t#Your code goes here\n",
    "    if head is None:\n",
    "        return\n",
    "\n",
    "    if pos < 0:\n",
    "        return head\n",
    "    \n",
    "    if pos == 0:\n",
    "        return head.next\n",
    "    \n",
    "    head.next = deleteNodeRec(head.next, pos-1)\n",
    "\n",
    "    return head"
   ]
  }
 ],
 "metadata": {
  "kernelspec": {
   "display_name": "Python 3 (ipykernel)",
   "language": "python",
   "name": "python3"
  },
  "language_info": {
   "codemirror_mode": {
    "name": "ipython",
    "version": 3
   },
   "file_extension": ".py",
   "mimetype": "text/x-python",
   "name": "python",
   "nbconvert_exporter": "python",
   "pygments_lexer": "ipython3",
   "version": "3.11.1"
  }
 },
 "nbformat": 4,
 "nbformat_minor": 5
}
