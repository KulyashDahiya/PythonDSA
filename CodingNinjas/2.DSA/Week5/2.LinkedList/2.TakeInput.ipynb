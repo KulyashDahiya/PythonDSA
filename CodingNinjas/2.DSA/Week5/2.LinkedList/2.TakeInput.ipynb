{
 "cells": [
  {
   "cell_type": "code",
   "execution_count": 2,
   "id": "c70e9e72-1b21-469a-9ad3-a5e4430e8a1d",
   "metadata": {},
   "outputs": [],
   "source": [
    "class Node:\n",
    "    def __init__(self, data):\n",
    "        self.data = data\n",
    "        self.next = None"
   ]
  },
  {
   "cell_type": "code",
   "execution_count": 19,
   "id": "4f921ae6-e0c8-4a23-8b59-0621b3607aee",
   "metadata": {},
   "outputs": [],
   "source": [
    "def takeinput():\n",
    "    inputList = [int(el) for el in input().split()]\n",
    "    head = None\n",
    "    tail = None\n",
    "    for curr in inputList:\n",
    "        if curr == -1:\n",
    "            break\n",
    "        newNode = Node(curr)\n",
    "        if head is None:\n",
    "            head = newNode\n",
    "            tail = newNode\n",
    "        else:\n",
    "            tail.next = newNode\n",
    "            tail = newNode      \n",
    "        \n",
    "        \n",
    "    return head\n",
    "    \n",
    "    "
   ]
  },
  {
   "cell_type": "code",
   "execution_count": 22,
   "id": "12280ef8-b6fa-428a-a8ba-cf253bb0df77",
   "metadata": {},
   "outputs": [],
   "source": [
    "def printLL(head):\n",
    "    while head is not None:\n",
    "        print(str(head.data) + \"->\", end = \"\")\n",
    "        head = head.next\n",
    "    print(\"None\",end=\"\")"
   ]
  },
  {
   "cell_type": "code",
   "execution_count": 23,
   "id": "882419d5-5c39-430c-b5b2-1ae237b34936",
   "metadata": {},
   "outputs": [
    {
     "name": "stdin",
     "output_type": "stream",
     "text": [
      " 1 2 3 4 5 6 7 -1\n"
     ]
    },
    {
     "name": "stdout",
     "output_type": "stream",
     "text": [
      "1->2->3->4->5->6->7->None"
     ]
    }
   ],
   "source": [
    "#  1 2 3 4 5 -1\n",
    "head = takeinput()\n",
    "printLL(head)"
   ]
  },
  {
   "cell_type": "code",
   "execution_count": null,
   "id": "c55556f5-adcf-4360-9618-cbd7b2e34032",
   "metadata": {},
   "outputs": [],
   "source": []
  }
 ],
 "metadata": {
  "kernelspec": {
   "display_name": "Python 3 (ipykernel)",
   "language": "python",
   "name": "python3"
  },
  "language_info": {
   "codemirror_mode": {
    "name": "ipython",
    "version": 3
   },
   "file_extension": ".py",
   "mimetype": "text/x-python",
   "name": "python",
   "nbconvert_exporter": "python",
   "pygments_lexer": "ipython3",
   "version": "3.11.1"
  }
 },
 "nbformat": 4,
 "nbformat_minor": 5
}
