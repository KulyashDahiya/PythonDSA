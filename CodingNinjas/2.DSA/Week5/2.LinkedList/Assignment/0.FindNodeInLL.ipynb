{
 "cells": [
  {
   "cell_type": "code",
   "execution_count": 1,
   "id": "a1db7ba7-9481-4cbf-b103-4bf8d8688593",
   "metadata": {},
   "outputs": [],
   "source": [
    "def findNode(head, n) :\n",
    "    # Write your code here.\n",
    "    count = 0\n",
    "    while head is not None:\n",
    "        if head.data == n:\n",
    "            return count\n",
    "        count += 1\n",
    "        head = head.next\n",
    "    \n",
    "    return -1"
   ]
  }
 ],
 "metadata": {
  "kernelspec": {
   "display_name": "Python 3 (ipykernel)",
   "language": "python",
   "name": "python3"
  },
  "language_info": {
   "codemirror_mode": {
    "name": "ipython",
    "version": 3
   },
   "file_extension": ".py",
   "mimetype": "text/x-python",
   "name": "python",
   "nbconvert_exporter": "python",
   "pygments_lexer": "ipython3",
   "version": "3.11.1"
  }
 },
 "nbformat": 4,
 "nbformat_minor": 5
}
