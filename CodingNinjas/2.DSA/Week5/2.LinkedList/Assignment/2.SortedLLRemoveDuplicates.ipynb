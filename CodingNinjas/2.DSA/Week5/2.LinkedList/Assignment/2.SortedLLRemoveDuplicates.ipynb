{
 "cells": [
  {
   "cell_type": "code",
   "execution_count": 1,
   "id": "198888fa-acde-4cdc-9596-b01098feb7d1",
   "metadata": {},
   "outputs": [],
   "source": [
    "def removeDuplicates(head) :\n",
    "    #Your code goes here\n",
    "    if head is None:\n",
    "        return head\n",
    "    \n",
    "    prev = head\n",
    "    curr = head.next\n",
    "\n",
    "    while curr is not None:\n",
    "        if curr.data == prev.data:\n",
    "            if curr.next == None:\n",
    "                prev.next = None\n",
    "            curr = curr.next\n",
    "        else:\n",
    "            prev.next = curr\n",
    "            prev = curr\n",
    "            curr = curr.next\n",
    "\n",
    "    return head"
   ]
  }
 ],
 "metadata": {
  "kernelspec": {
   "display_name": "Python 3 (ipykernel)",
   "language": "python",
   "name": "python3"
  },
  "language_info": {
   "codemirror_mode": {
    "name": "ipython",
    "version": 3
   },
   "file_extension": ".py",
   "mimetype": "text/x-python",
   "name": "python",
   "nbconvert_exporter": "python",
   "pygments_lexer": "ipython3",
   "version": "3.11.1"
  }
 },
 "nbformat": 4,
 "nbformat_minor": 5
}
