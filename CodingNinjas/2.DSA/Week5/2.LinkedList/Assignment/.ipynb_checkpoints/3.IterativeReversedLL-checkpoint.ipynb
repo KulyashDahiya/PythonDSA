{
 "cells": [
  {
   "cell_type": "code",
   "execution_count": 2,
   "id": "131ff8c1-2c2a-4b18-9e15-72287edec43e",
   "metadata": {},
   "outputs": [],
   "source": [
    "def Reverse(head) :\n",
    "    #Your code goes here\n",
    "    prev = None\n",
    "    curr = head\n",
    "    while curr is not None:\n",
    "        newNode = curr.next\n",
    "        curr.next = prev\n",
    "        prev = curr\n",
    "        curr = newNode\n",
    "        \n",
    "    head = prev\n",
    "    printLinkedList(head)"
   ]
  }
 ],
 "metadata": {
  "kernelspec": {
   "display_name": "Python 3 (ipykernel)",
   "language": "python",
   "name": "python3"
  },
  "language_info": {
   "codemirror_mode": {
    "name": "ipython",
    "version": 3
   },
   "file_extension": ".py",
   "mimetype": "text/x-python",
   "name": "python",
   "nbconvert_exporter": "python",
   "pygments_lexer": "ipython3",
   "version": "3.11.1"
  }
 },
 "nbformat": 4,
 "nbformat_minor": 5
}
