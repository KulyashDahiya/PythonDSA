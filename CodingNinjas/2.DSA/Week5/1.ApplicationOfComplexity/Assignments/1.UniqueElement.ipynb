{
 "cells": [
  {
   "cell_type": "code",
   "execution_count": null,
   "id": "98ddd2e4-7b2f-4b2b-a3bd-0701f2b83ac7",
   "metadata": {},
   "outputs": [],
   "source": []
  },
  {
   "cell_type": "code",
   "execution_count": null,
   "id": "da18de7c-8149-4d7b-90c2-5db3fc4eb8bc",
   "metadata": {},
   "outputs": [],
   "source": [
    "def findUnique(arr, n) :\n",
    "    #Your code goes here\n",
    "\n",
    "    arr.sort()\n",
    "    i = 0\n",
    "\n",
    "    if n == 1:\n",
    "        return arr[0]\n",
    "    elif n == 0:\n",
    "        return 0\n",
    "    elif arr[n-1] != arr[n-2]:\n",
    "        return arr[n-1]\n",
    "\n",
    "    while i < n-1:\n",
    "        if arr[i] == arr[i+1]:\n",
    "            i += 2\n",
    "        else:\n",
    "            return arr[i]\n",
    "    return -1"
   ]
  }
 ],
 "metadata": {
  "kernelspec": {
   "display_name": "Python 3 (ipykernel)",
   "language": "python",
   "name": "python3"
  },
  "language_info": {
   "codemirror_mode": {
    "name": "ipython",
    "version": 3
   },
   "file_extension": ".py",
   "mimetype": "text/x-python",
   "name": "python",
   "nbconvert_exporter": "python",
   "pygments_lexer": "ipython3",
   "version": "3.11.1"
  }
 },
 "nbformat": 4,
 "nbformat_minor": 5
}
