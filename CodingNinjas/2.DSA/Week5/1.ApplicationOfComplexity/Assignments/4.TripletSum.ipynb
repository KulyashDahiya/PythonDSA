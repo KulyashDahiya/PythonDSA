{
 "cells": [
  {
   "cell_type": "code",
   "execution_count": null,
   "id": "19a22658-30c5-40e0-a42f-e975c7d92ac3",
   "metadata": {},
   "outputs": [],
   "source": [
    "# Best O(N^2)\n",
    "\n",
    "from collections import Counter\n",
    "\n",
    "def tripletSum(arr, n, num) :\n",
    "\t#Your code goes here\n",
    "    freq = Counter()\n",
    "    count = 0\n",
    "    \n",
    "    for i in range(n):\n",
    "        current = num - arr[i]\n",
    "        for j in range(i+1, n):\n",
    "            diff = current - arr[j]\n",
    "            if diff in freq:\n",
    "                count += freq[diff]\n",
    "            \n",
    "        \n",
    "        freq[arr[i]] += 1\n",
    "    \n",
    "    return count"
   ]
  }
 ],
 "metadata": {
  "kernelspec": {
   "display_name": "Python 3 (ipykernel)",
   "language": "python",
   "name": "python3"
  },
  "language_info": {
   "codemirror_mode": {
    "name": "ipython",
    "version": 3
   },
   "file_extension": ".py",
   "mimetype": "text/x-python",
   "name": "python",
   "nbconvert_exporter": "python",
   "pygments_lexer": "ipython3",
   "version": "3.11.1"
  }
 },
 "nbformat": 4,
 "nbformat_minor": 5
}
