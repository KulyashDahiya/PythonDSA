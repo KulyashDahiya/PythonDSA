{
 "cells": [
  {
   "cell_type": "code",
   "execution_count": null,
   "id": "19d52f59-a783-4b30-87c9-085fc3c34b85",
   "metadata": {},
   "outputs": [],
   "source": [
    "def reversee(arr, i, j):\n",
    "    while i < j:\n",
    "        arr[i], arr[j] = arr[j], arr[i]\n",
    "        i += 1\n",
    "        j -= 1\n",
    "\n",
    "\n",
    "def rotate(arr, n, d):\n",
    "    #Your code goes here\n",
    "    reversee(arr, 0, n-1)\n",
    "    reversee(arr, 0, n-d-1)\n",
    "    reversee(arr, n-d, n-1)"
   ]
  }
 ],
 "metadata": {
  "kernelspec": {
   "display_name": "Python 3 (ipykernel)",
   "language": "python",
   "name": "python3"
  },
  "language_info": {
   "codemirror_mode": {
    "name": "ipython",
    "version": 3
   },
   "file_extension": ".py",
   "mimetype": "text/x-python",
   "name": "python",
   "nbconvert_exporter": "python",
   "pygments_lexer": "ipython3",
   "version": "3.11.1"
  }
 },
 "nbformat": 4,
 "nbformat_minor": 5
}
