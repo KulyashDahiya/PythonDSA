{
 "cells": [
  {
   "cell_type": "code",
   "execution_count": null,
   "id": "bdd8a859-8ac4-478f-9bd1-08fb5770c575",
   "metadata": {},
   "outputs": [],
   "source": [
    "# Best O(N)\n",
    "from collections import Counter\n",
    "\n",
    "def pairSum(arr, n, num) :\n",
    "\t\n",
    "    freq = Counter()\n",
    "    count = 0\n",
    "    \n",
    "    for i in range(n):\n",
    "        diff = num - arr[i]\n",
    "        if diff in freq:\n",
    "            count += freq[diff]\n",
    "            \n",
    "        \n",
    "        freq[arr[i]] += 1\n",
    "    \n",
    "    return count"
   ]
  },
  {
   "cell_type": "code",
   "execution_count": null,
   "id": "5cfdaf65-2497-4488-b91c-527a0f4019e5",
   "metadata": {},
   "outputs": [],
   "source": []
  },
  {
   "cell_type": "code",
   "execution_count": null,
   "id": "094a46ba-2cc1-40fc-9aac-2c0d12666f32",
   "metadata": {},
   "outputs": [],
   "source": [
    "## Failed Test Cases\n",
    "\n",
    "def pairSum(arr, n, num) :\n",
    "    #Your code goes here\n",
    "    if n == 1 or n == 0:\n",
    "        return 0\n",
    "\n",
    "    arr.sort()\n",
    "    count = 0\n",
    "    i, j = 0, n-1\n",
    "    while i<j:\n",
    "        counti = 0\n",
    "        k = i\n",
    "        while (arr[k] == arr[i]) and (k < j):\n",
    "            counti += 1\n",
    "            # print(k)\n",
    "            k += 1\n",
    "\n",
    "        if k == j and (arr[j] == arr[j-1]):\n",
    "            return (n*(n-1))//2\n",
    "\n",
    "        countj = 0\n",
    "        k = j\n",
    "        while (arr[k] == arr[j]) and (k > i):\n",
    "            countj += 1\n",
    "            k = k -1\n",
    "\n",
    "        if arr[i] + arr[j] > num:\n",
    "            j -= 1\n",
    "        elif arr[i] + arr[j] < num:\n",
    "            i += 1\n",
    "        elif counti > 1 or countj > 1:\n",
    "            count = counti*countj\n",
    "            i += counti\n",
    "            j -= countj\n",
    "        else:\n",
    "            count += 1\n",
    "            i += 1\n",
    "            j -= 1\n",
    "\n",
    "    return count"
   ]
  },
  {
   "cell_type": "code",
   "execution_count": null,
   "id": "f5c86e62-6faf-4457-94bf-d346aa80db74",
   "metadata": {},
   "outputs": [],
   "source": [
    "# O(n^2)\n",
    "\n",
    "def pairSum(arr, n, num) :\n",
    "\t#Your code goes here\n",
    "    count = 0\n",
    "    for i in range(n):\n",
    "        for j in range(i+1, n):\n",
    "            if arr[i] + arr[j] == num:\n",
    "                count += 1\n",
    "    \n",
    "    return count"
   ]
  }
 ],
 "metadata": {
  "kernelspec": {
   "display_name": "Python 3 (ipykernel)",
   "language": "python",
   "name": "python3"
  },
  "language_info": {
   "codemirror_mode": {
    "name": "ipython",
    "version": 3
   },
   "file_extension": ".py",
   "mimetype": "text/x-python",
   "name": "python",
   "nbconvert_exporter": "python",
   "pygments_lexer": "ipython3",
   "version": "3.11.1"
  }
 },
 "nbformat": 4,
 "nbformat_minor": 5
}
