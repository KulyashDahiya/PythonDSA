{
 "cells": [
  {
   "cell_type": "code",
   "execution_count": null,
   "id": "64507015-2aed-4c5c-acb3-1e1f1c872612",
   "metadata": {},
   "outputs": [],
   "source": [
    "def arrayEquilibriumIndex(arr, n) :\n",
    "    #Your code goes here\n",
    "    suml = 0\n",
    "    sumr = 0\n",
    "    for i in range(n):\n",
    "        sumr += arr[i]\n",
    "    for i in range(n):\n",
    "        suml += arr[i-1]\n",
    "        sumr -= arr[i]\n",
    "        if suml == sumr:\n",
    "            return i\n",
    "    \n",
    "    return -1"
   ]
  }
 ],
 "metadata": {
  "kernelspec": {
   "display_name": "Python 3 (ipykernel)",
   "language": "python",
   "name": "python3"
  },
  "language_info": {
   "codemirror_mode": {
    "name": "ipython",
    "version": 3
   },
   "file_extension": ".py",
   "mimetype": "text/x-python",
   "name": "python",
   "nbconvert_exporter": "python",
   "pygments_lexer": "ipython3",
   "version": "3.11.1"
  }
 },
 "nbformat": 4,
 "nbformat_minor": 5
}
