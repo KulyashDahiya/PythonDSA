{
 "cells": [
  {
   "cell_type": "code",
   "execution_count": null,
   "id": "496bfee0-b3dd-46c5-b1ee-0198f98b4531",
   "metadata": {},
   "outputs": [],
   "source": [
    "def power(x, n):\n",
    "    # Please add your code here\n",
    "    if n == 0:\n",
    "        return 1\n",
    "    small_ans = power(x, n//2)\n",
    "    if n%2 == 0:\n",
    "        return (small_ans * small_ans)\n",
    "    else:\n",
    "        return (x * small_ans * small_ans)\n",
    "\n",
    "    \n",
    "\n",
    "# Main\n",
    "from sys import setrecursionlimit\n",
    "setrecursionlimit(11000)\n",
    "x, n=list(int(i) for i in input().strip().split(' '))\n",
    "print(power(x, n))\n"
   ]
  }
 ],
 "metadata": {
  "kernelspec": {
   "display_name": "Python 3 (ipykernel)",
   "language": "python",
   "name": "python3"
  },
  "language_info": {
   "codemirror_mode": {
    "name": "ipython",
    "version": 3
   },
   "file_extension": ".py",
   "mimetype": "text/x-python",
   "name": "python",
   "nbconvert_exporter": "python",
   "pygments_lexer": "ipython3",
   "version": "3.11.1"
  }
 },
 "nbformat": 4,
 "nbformat_minor": 5
}
