{
 "cells": [
  {
   "cell_type": "code",
   "execution_count": 1,
   "id": "cae09611-c596-4a3f-8873-caab2bbb1235",
   "metadata": {},
   "outputs": [],
   "source": [
    "def deleteAlternateNodes(head):\n",
    "    # Write your code here\n",
    "    if not head:\n",
    "        return\n",
    "    curr = head\n",
    "    while curr:\n",
    "        if curr.next is None:\n",
    "            break\n",
    "        curr.next = curr.next.next\n",
    "        curr = curr.next"
   ]
  }
 ],
 "metadata": {
  "kernelspec": {
   "display_name": "Python 3 (ipykernel)",
   "language": "python",
   "name": "python3"
  },
  "language_info": {
   "codemirror_mode": {
    "name": "ipython",
    "version": 3
   },
   "file_extension": ".py",
   "mimetype": "text/x-python",
   "name": "python",
   "nbconvert_exporter": "python",
   "pygments_lexer": "ipython3",
   "version": "3.11.5"
  }
 },
 "nbformat": 4,
 "nbformat_minor": 5
}
