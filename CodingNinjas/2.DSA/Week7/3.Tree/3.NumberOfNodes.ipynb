{
 "cells": [
  {
   "cell_type": "code",
   "execution_count": 2,
   "id": "2cadcb8d-7cc6-49ae-bbf7-9820916473db",
   "metadata": {},
   "outputs": [],
   "source": [
    "class BinaryTreeNode:\n",
    "    def __init__(self,data):\n",
    "        self.data = data\n",
    "        self.left = None\n",
    "        self.right = None"
   ]
  },
  {
   "cell_type": "code",
   "execution_count": 7,
   "id": "43a0ae22-eea8-4f5a-acbb-45aba25ec5b5",
   "metadata": {},
   "outputs": [],
   "source": [
    "## Making a Binary Tree\n",
    "\n",
    "bt1 = BinaryTreeNode(5)\n",
    "bt2 = BinaryTreeNode(2)\n",
    "bt3 = BinaryTreeNode(3)\n",
    "\n",
    "bt4 = BinaryTreeNode(1)\n",
    "bt5 = BinaryTreeNode(0)\n",
    "\n",
    "## bt1 ---> root\n",
    "## bt2 ---> child1\n",
    "## bt3 ---> child2\n",
    "\n",
    "bt1.left = bt2\n",
    "bt1.right = bt3\n",
    "\n",
    "## bt2 ---> Parent\n",
    "## bt4 ---> Child1\n",
    "## bt5 ---> Child2\n",
    "\n",
    "bt2.left = bt4\n",
    "bt2.right = bt5\n"
   ]
  },
  {
   "cell_type": "code",
   "execution_count": 8,
   "id": "eb9431d7-74dd-4c5f-92df-c701b9647612",
   "metadata": {},
   "outputs": [],
   "source": [
    "def NumberOfNodes(root):\n",
    "    if root is None:\n",
    "        return 0\n",
    "    \n",
    "    leftCount = NumberOfNodes(root.left)\n",
    "    rightCount = NumberOfNodes(root.right)\n",
    "    \n",
    "    return 1 + leftCount + rightCount"
   ]
  },
  {
   "cell_type": "code",
   "execution_count": 9,
   "id": "c5ac54d3-0b8f-482e-ab07-7dbde02b3a35",
   "metadata": {},
   "outputs": [
    {
     "data": {
      "text/plain": [
       "5"
      ]
     },
     "execution_count": 9,
     "metadata": {},
     "output_type": "execute_result"
    }
   ],
   "source": [
    "NumberOfNodes(bt1)"
   ]
  },
  {
   "cell_type": "code",
   "execution_count": 10,
   "id": "f6979564-fb01-462d-9fc5-f3d1ce2eecd7",
   "metadata": {},
   "outputs": [
    {
     "data": {
      "text/plain": [
       "[10, 9, 8, 7, 6, 5, 4, 3, 2, 1]"
      ]
     },
     "execution_count": 10,
     "metadata": {},
     "output_type": "execute_result"
    }
   ],
   "source": [
    "list(reversed(range(1,11)))"
   ]
  }
 ],
 "metadata": {
  "kernelspec": {
   "display_name": "Python 3 (ipykernel)",
   "language": "python",
   "name": "python3"
  },
  "language_info": {
   "codemirror_mode": {
    "name": "ipython",
    "version": 3
   },
   "file_extension": ".py",
   "mimetype": "text/x-python",
   "name": "python",
   "nbconvert_exporter": "python",
   "pygments_lexer": "ipython3",
   "version": "3.11.5"
  }
 },
 "nbformat": 4,
 "nbformat_minor": 5
}
