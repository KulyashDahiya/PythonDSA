{
 "cells": [
  {
   "cell_type": "code",
   "execution_count": null,
   "id": "48b6cce1-fc0d-40b5-a2c7-fa51f0acdedf",
   "metadata": {},
   "outputs": [],
   "source": [
    "def postOrder(root):\n",
    "\t#Your code goes here\n",
    "    if root is None:\n",
    "        return\n",
    "\n",
    "    postOrder(root.left)\n",
    "    postOrder(root.right)\n",
    "\n",
    "    print(root.data, end= ' ')"
   ]
  }
 ],
 "metadata": {
  "kernelspec": {
   "display_name": "Python 3 (ipykernel)",
   "language": "python",
   "name": "python3"
  },
  "language_info": {
   "codemirror_mode": {
    "name": "ipython",
    "version": 3
   },
   "file_extension": ".py",
   "mimetype": "text/x-python",
   "name": "python",
   "nbconvert_exporter": "python",
   "pygments_lexer": "ipython3",
   "version": "3.11.5"
  }
 },
 "nbformat": 4,
 "nbformat_minor": 5
}
