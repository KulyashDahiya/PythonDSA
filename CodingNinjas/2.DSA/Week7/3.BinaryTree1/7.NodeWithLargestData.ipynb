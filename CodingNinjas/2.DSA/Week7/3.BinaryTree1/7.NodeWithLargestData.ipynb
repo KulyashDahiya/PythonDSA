{
 "cells": [
  {
   "cell_type": "code",
   "execution_count": 2,
   "id": "a558c866-250a-44b6-98b7-c4d9b19d106a",
   "metadata": {},
   "outputs": [],
   "source": [
    "# Largest Data In Tree     (For All Positive Data Only)\n",
    "\n",
    "def largestData(root):\n",
    "    if root is None:\n",
    "        return -1\n",
    "    leftLargest = largestData(root.left)\n",
    "    rightLargest =largestData(root.right)\n",
    "    \n",
    "    largest = max(root.left.data, root.right.data, root.data)\n",
    "    return largest"
   ]
  },
  {
   "cell_type": "code",
   "execution_count": null,
   "id": "02f2e0a6-1321-40d6-90aa-31cfdad7a31f",
   "metadata": {},
   "outputs": [],
   "source": []
  }
 ],
 "metadata": {
  "kernelspec": {
   "display_name": "Python 3 (ipykernel)",
   "language": "python",
   "name": "python3"
  },
  "language_info": {
   "codemirror_mode": {
    "name": "ipython",
    "version": 3
   },
   "file_extension": ".py",
   "mimetype": "text/x-python",
   "name": "python",
   "nbconvert_exporter": "python",
   "pygments_lexer": "ipython3",
   "version": "3.11.5"
  }
 },
 "nbformat": 4,
 "nbformat_minor": 5
}
