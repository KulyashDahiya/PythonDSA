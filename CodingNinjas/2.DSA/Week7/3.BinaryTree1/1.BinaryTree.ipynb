{
 "cells": [
  {
   "cell_type": "code",
   "execution_count": 2,
   "id": "f3d03919-c332-4103-83a4-f3c96a67efcc",
   "metadata": {},
   "outputs": [],
   "source": [
    "## Binary Tree Node\n",
    "\n",
    "class BinaryTreeNode:\n",
    "    def __init__(self,data):\n",
    "        self.data = data\n",
    "        self.left = None\n",
    "        self.right = None"
   ]
  },
  {
   "cell_type": "code",
   "execution_count": 11,
   "id": "8e407e16-9bd4-4608-b502-b66ff0f2d089",
   "metadata": {},
   "outputs": [],
   "source": [
    "## Print Binary Tree from Root\n",
    "\n",
    "bt1 = BinaryTreeNode(5)\n",
    "bt2 = BinaryTreeNode(2)\n",
    "bt3 = BinaryTreeNode(3)\n",
    "\n",
    "## bt1 ---> root\n",
    "## bt2 ---> child1\n",
    "## bt3 ---> child3\n",
    "\n",
    "bt1.left = bt2\n",
    "bt1.right = bt3"
   ]
  },
  {
   "cell_type": "code",
   "execution_count": 9,
   "id": "85033ae8-8d39-448e-941c-afae67592301",
   "metadata": {},
   "outputs": [],
   "source": [
    "def PrintBinary(root):\n",
    "\n",
    "    if root is None:\n",
    "        return\n",
    "\n",
    "    print(root.data)\n",
    "    PrintBinary(root.left)\n",
    "    PrintBinary(root.right)\n",
    "    "
   ]
  },
  {
   "cell_type": "code",
   "execution_count": 12,
   "id": "ffc40337-6b64-443e-ace7-2d51cba353b9",
   "metadata": {},
   "outputs": [],
   "source": [
    "def PrintBinaryDetailed(root):\n",
    "\n",
    "    if root is None:\n",
    "        return\n",
    "\n",
    "    print(root.data, end=': ')\n",
    "    if root.left:\n",
    "        print(f\"L{root.left.data}\", end=',')\n",
    "    if root.right:\n",
    "        print(f\"R{root.right.data}\", end='')\n",
    "    print()\n",
    "    PrintBinaryDetailed(root.right)\n",
    "    PrintBinaryDetailed(root.left)"
   ]
  },
  {
   "cell_type": "code",
   "execution_count": 5,
   "id": "45e0ecfa-0aab-4c6b-b60b-eb855a32e81f",
   "metadata": {},
   "outputs": [
    {
     "name": "stdout",
     "output_type": "stream",
     "text": [
      "5\n",
      "2\n",
      "3\n"
     ]
    }
   ],
   "source": [
    "PrintBinary(bt1)"
   ]
  },
  {
   "cell_type": "code",
   "execution_count": 13,
   "id": "d47c1281-e6ab-47eb-b7ed-ff4faa2cae40",
   "metadata": {},
   "outputs": [
    {
     "name": "stdout",
     "output_type": "stream",
     "text": [
      "5: L2,R3\n",
      "3: \n",
      "2: \n"
     ]
    }
   ],
   "source": [
    "PrintBinaryDetailed(bt1)"
   ]
  },
  {
   "cell_type": "code",
   "execution_count": 14,
   "id": "be95a7b5-1cbf-4f60-8a82-0a20ff5b08d8",
   "metadata": {},
   "outputs": [],
   "source": [
    "## Print Binary Tree from Root\n",
    "\n",
    "bt1 = BinaryTreeNode(5)\n",
    "bt2 = BinaryTreeNode(2)\n",
    "bt3 = BinaryTreeNode(3)\n",
    "\n",
    "bt4 = BinaryTreeNode(1)\n",
    "bt5 = BinaryTreeNode(0)\n",
    "\n",
    "## bt1 ---> root\n",
    "## bt2 ---> child1\n",
    "## bt3 ---> child2\n",
    "\n",
    "bt1.left = bt2\n",
    "bt1.right = bt3\n",
    "\n",
    "## bt2 ---> Parent\n",
    "## bt4 ---> Child1\n",
    "## bt5 ---> Child2\n",
    "\n",
    "bt2.left = bt4\n",
    "bt2.right = bt5\n",
    "\n"
   ]
  },
  {
   "cell_type": "code",
   "execution_count": 15,
   "id": "4da0801a-1ace-4839-af06-edccbc68cd5a",
   "metadata": {},
   "outputs": [
    {
     "name": "stdout",
     "output_type": "stream",
     "text": [
      "5: L2,R3\n",
      "3: \n",
      "2: L1,R0\n",
      "0: \n",
      "1: \n"
     ]
    }
   ],
   "source": [
    "PrintBinaryDetailed(bt1)"
   ]
  }
 ],
 "metadata": {
  "kernelspec": {
   "display_name": "Python 3 (ipykernel)",
   "language": "python",
   "name": "python3"
  },
  "language_info": {
   "codemirror_mode": {
    "name": "ipython",
    "version": 3
   },
   "file_extension": ".py",
   "mimetype": "text/x-python",
   "name": "python",
   "nbconvert_exporter": "python",
   "pygments_lexer": "ipython3",
   "version": "3.11.5"
  }
 },
 "nbformat": 4,
 "nbformat_minor": 5
}
