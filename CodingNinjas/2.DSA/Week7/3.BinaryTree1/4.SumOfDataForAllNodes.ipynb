{
 "cells": [
  {
   "cell_type": "code",
   "execution_count": 2,
   "id": "d69d3a97-6f7d-4361-9e08-7d72657ba148",
   "metadata": {},
   "outputs": [],
   "source": [
    "class BinaryTreeNode:\n",
    "    def __init__(self,data):\n",
    "        self.data = data\n",
    "        self.left = None\n",
    "        self.right = None"
   ]
  },
  {
   "cell_type": "code",
   "execution_count": 3,
   "id": "72d770eb-c352-4e97-a9e4-bdc27048a2c6",
   "metadata": {},
   "outputs": [],
   "source": [
    "## Making a Binary Tree\n",
    "\n",
    "bt1 = BinaryTreeNode(5)\n",
    "bt2 = BinaryTreeNode(2)\n",
    "bt3 = BinaryTreeNode(3)\n",
    "\n",
    "bt4 = BinaryTreeNode(1)\n",
    "bt5 = BinaryTreeNode(0)\n",
    "\n",
    "## bt1 ---> root\n",
    "## bt2 ---> child1\n",
    "## bt3 ---> child2\n",
    "\n",
    "bt1.left = bt2\n",
    "bt1.right = bt3\n",
    "\n",
    "## bt2 ---> Parent\n",
    "## bt4 ---> Child1\n",
    "## bt5 ---> Child2\n",
    "\n",
    "bt2.left = bt4\n",
    "bt2.right = bt5\n"
   ]
  },
  {
   "cell_type": "code",
   "execution_count": 4,
   "id": "726a954b-fa39-4507-bf67-817514133897",
   "metadata": {},
   "outputs": [],
   "source": [
    "def SumOfAllNodes(root):\n",
    "    if root is None:\n",
    "        return 0\n",
    "    leftSum = SumOfAllNodes(root.left)\n",
    "    rightSum = SumOfAllNodes(root.right)\n",
    "\n",
    "    return leftSum + rightSum + root.data"
   ]
  },
  {
   "cell_type": "code",
   "execution_count": 6,
   "id": "64312f63-df5b-4553-aef5-0adfe87b9591",
   "metadata": {},
   "outputs": [
    {
     "data": {
      "text/plain": [
       "11"
      ]
     },
     "execution_count": 6,
     "metadata": {},
     "output_type": "execute_result"
    }
   ],
   "source": [
    "# 5 + 2 + 1 + 3\n",
    "SumOfAllNodes(bt1)"
   ]
  }
 ],
 "metadata": {
  "kernelspec": {
   "display_name": "Python 3 (ipykernel)",
   "language": "python",
   "name": "python3"
  },
  "language_info": {
   "codemirror_mode": {
    "name": "ipython",
    "version": 3
   },
   "file_extension": ".py",
   "mimetype": "text/x-python",
   "name": "python",
   "nbconvert_exporter": "python",
   "pygments_lexer": "ipython3",
   "version": "3.11.5"
  }
 },
 "nbformat": 4,
 "nbformat_minor": 5
}
