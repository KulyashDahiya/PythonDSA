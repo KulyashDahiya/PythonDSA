{
 "cells": [
  {
   "cell_type": "code",
   "execution_count": null,
   "id": "b888f128-2f2b-47f8-9405-65de6787ba1f",
   "metadata": {},
   "outputs": [],
   "source": [
    "def preOrder(root):\n",
    "\t# Your code goes here\n",
    "    if root is None:\n",
    "        return\n",
    "    \n",
    "    print(root.data, end=' ')\n",
    "\n",
    "    preOrder(root.left)\n",
    "    preOrder(root.right)"
   ]
  }
 ],
 "metadata": {
  "kernelspec": {
   "display_name": "Python 3 (ipykernel)",
   "language": "python",
   "name": "python3"
  },
  "language_info": {
   "codemirror_mode": {
    "name": "ipython",
    "version": 3
   },
   "file_extension": ".py",
   "mimetype": "text/x-python",
   "name": "python",
   "nbconvert_exporter": "python",
   "pygments_lexer": "ipython3",
   "version": "3.11.5"
  }
 },
 "nbformat": 4,
 "nbformat_minor": 5
}
