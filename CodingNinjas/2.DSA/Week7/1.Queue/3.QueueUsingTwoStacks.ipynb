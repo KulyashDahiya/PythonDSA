{
 "cells": [
  {
   "cell_type": "code",
   "execution_count": null,
   "id": "2b8f291c-cfdd-4be8-9c0f-52491af4f7d9",
   "metadata": {},
   "outputs": [],
   "source": [
    "class Queue:\n",
    "    # Stacks to be used in the operations.\n",
    "    def __init__(self):\n",
    "        self.stk1 = []\n",
    "        self.stk2 = []\n",
    "\n",
    "    # Enqueues 'X' into the queue. Returns true after enqueuing.\n",
    "    def enqueue(self, X):\n",
    "        # Write your code here\n",
    "        self.stk1.append(X)\n",
    "        return True\n",
    "\n",
    "    \"\"\"\n",
    "      Dequeues top element from queue. Returns -1 if the queue is empty, \n",
    "      otherwise returns the popped element.\n",
    "    \"\"\"\n",
    "    def dequeue(self):\n",
    "        # Write your code here\n",
    "        if len(self.stk1) == 0:\n",
    "            return -1\n",
    "        while len(self.stk1) > 1:\n",
    "            e = self.stk1.pop()\n",
    "            self.stk2.append(e)\n",
    "        \n",
    "        el = self.stk1.pop()\n",
    "\n",
    "        while len(self.stk2) > 0:\n",
    "            e = self.stk2.pop()\n",
    "            self.stk1.append(e)\n",
    "        \n",
    "        return el"
   ]
  }
 ],
 "metadata": {
  "kernelspec": {
   "display_name": "Python 3 (ipykernel)",
   "language": "python",
   "name": "python3"
  },
  "language_info": {
   "codemirror_mode": {
    "name": "ipython",
    "version": 3
   },
   "file_extension": ".py",
   "mimetype": "text/x-python",
   "name": "python",
   "nbconvert_exporter": "python",
   "pygments_lexer": "ipython3",
   "version": "3.11.5"
  }
 },
 "nbformat": 4,
 "nbformat_minor": 5
}
