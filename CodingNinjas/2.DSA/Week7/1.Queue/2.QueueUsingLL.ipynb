{
 "cells": [
  {
   "cell_type": "code",
   "execution_count": 38,
   "id": "b772daf0-3211-41ec-8094-5148de9582f9",
   "metadata": {},
   "outputs": [],
   "source": [
    "class Node:\n",
    "    def __init__(self, data):\n",
    "        self.data = data\n",
    "        self.next = None"
   ]
  },
  {
   "cell_type": "code",
   "execution_count": 54,
   "id": "f074129b-6c28-4970-81c5-0c28e7069bcf",
   "metadata": {},
   "outputs": [],
   "source": [
    "class QueueUsingLL:\n",
    "    \n",
    "    def __init__(self):\n",
    "        self.__head = None\n",
    "        self.__curr = None\n",
    "        self.__count = 0\n",
    "    \n",
    "    def front(self):\n",
    "        if self.isEmpty():\n",
    "            return -1\n",
    "        return self.__head.data\n",
    "    \n",
    "    def enque(self, data):\n",
    "        newNode = Node(data)\n",
    "        if self.__head is None:\n",
    "            self.__head = newNode\n",
    "            self.__curr = newNode\n",
    "        else:    \n",
    "            self.__curr.next = newNode\n",
    "            self.__curr = self.__curr.next\n",
    "            \n",
    "        self.__count += 1\n",
    "        \n",
    "        \n",
    "    def deque(self):\n",
    "        if self.isEmpty():\n",
    "            return -1\n",
    "        element = self.__head.data\n",
    "        self.__head = self.__head.next\n",
    "        self.__count -= 1\n",
    "        return element\n",
    "        \n",
    "    def size(self):\n",
    "        return self.__count\n",
    "        \n",
    "    def isEmpty(self):\n",
    "        return self.size() == 0"
   ]
  },
  {
   "cell_type": "code",
   "execution_count": 55,
   "id": "6f6ee33e-51ec-4edd-b6dd-41d79b98cdd2",
   "metadata": {},
   "outputs": [
    {
     "name": "stdout",
     "output_type": "stream",
     "text": [
      "5 4 3 2 1 \n",
      "-1\n",
      "99\n"
     ]
    },
    {
     "data": {
      "text/plain": [
       "-1"
      ]
     },
     "execution_count": 55,
     "metadata": {},
     "output_type": "execute_result"
    }
   ],
   "source": [
    "a = QueueUsingLL()\n",
    "a.enque(5)\n",
    "a.enque(4)\n",
    "a.enque(3)\n",
    "a.enque(2)\n",
    "a.enque(1)\n",
    "\n",
    "while a.isEmpty() is False:\n",
    "    print(a.front(), end =' ')\n",
    "    a.deque()\n",
    "\n",
    "print()\n",
    "print(a.front())\n",
    "a.enque(99)\n",
    "print(a.front())\n",
    "a.deque()\n",
    "a.front()"
   ]
  },
  {
   "cell_type": "code",
   "execution_count": null,
   "id": "527b027a-87b8-422b-8ea7-a3faec770b4a",
   "metadata": {},
   "outputs": [],
   "source": []
  },
  {
   "cell_type": "code",
   "execution_count": null,
   "id": "340f1432-5c42-4eb9-9165-565a29ea443f",
   "metadata": {},
   "outputs": [],
   "source": []
  }
 ],
 "metadata": {
  "kernelspec": {
   "display_name": "Python 3 (ipykernel)",
   "language": "python",
   "name": "python3"
  },
  "language_info": {
   "codemirror_mode": {
    "name": "ipython",
    "version": 3
   },
   "file_extension": ".py",
   "mimetype": "text/x-python",
   "name": "python",
   "nbconvert_exporter": "python",
   "pygments_lexer": "ipython3",
   "version": "3.11.1"
  }
 },
 "nbformat": 4,
 "nbformat_minor": 5
}
