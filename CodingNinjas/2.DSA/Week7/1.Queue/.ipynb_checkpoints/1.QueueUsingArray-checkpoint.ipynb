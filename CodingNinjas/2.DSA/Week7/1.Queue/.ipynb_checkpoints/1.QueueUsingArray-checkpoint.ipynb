{
 "cells": [
  {
   "cell_type": "code",
   "execution_count": 28,
   "id": "49bea572-5cef-4f08-99c0-3154fb20fa66",
   "metadata": {},
   "outputs": [],
   "source": [
    "class QueueUsingArray:\n",
    "    \n",
    "    def __init__(self):\n",
    "        self.__arr = []\n",
    "        self.__front = 0\n",
    "        self.__count = 0\n",
    "    \n",
    "    def front(self):\n",
    "        if self.isEmpty():\n",
    "            return -1\n",
    "        return self.__arr[self.__front]\n",
    "    \n",
    "    def enque(self, data):\n",
    "        self.__arr.append(data)\n",
    "        self.__count += 1\n",
    "        \n",
    "    def deque(self):\n",
    "        if self.isEmpty():\n",
    "            return -1\n",
    "        element = self.__arr[self.__front]\n",
    "        self.__front += 1\n",
    "        self.__count -= 1\n",
    "        return element\n",
    "        \n",
    "    def size(self):\n",
    "        return self.__count\n",
    "        \n",
    "    def isEmpty(self):\n",
    "        return self.size() == 0\n",
    "    "
   ]
  },
  {
   "cell_type": "code",
   "execution_count": 29,
   "id": "d9922e81-0dc9-4273-9065-50cea9589d42",
   "metadata": {},
   "outputs": [
    {
     "name": "stdout",
     "output_type": "stream",
     "text": [
      "5 4 3 2 1 "
     ]
    }
   ],
   "source": [
    "a = QueueUsingArray()\n",
    "a.enque(5)\n",
    "a.enque(4)\n",
    "a.enque(3)\n",
    "a.enque(2)\n",
    "a.enque(1)\n",
    "\n",
    "while a.isEmpty() is False:\n",
    "    print(a.front(), end =' ')\n",
    "    a.deque()"
   ]
  }
 ],
 "metadata": {
  "kernelspec": {
   "display_name": "Python 3 (ipykernel)",
   "language": "python",
   "name": "python3"
  },
  "language_info": {
   "codemirror_mode": {
    "name": "ipython",
    "version": 3
   },
   "file_extension": ".py",
   "mimetype": "text/x-python",
   "name": "python",
   "nbconvert_exporter": "python",
   "pygments_lexer": "ipython3",
   "version": "3.11.1"
  }
 },
 "nbformat": 4,
 "nbformat_minor": 5
}
