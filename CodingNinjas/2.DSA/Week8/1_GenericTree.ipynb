{
 "cells": [
  {
   "cell_type": "code",
   "execution_count": 8,
   "metadata": {},
   "outputs": [],
   "source": [
    "class GenericTreeNode:\n",
    "    def __init__(self, data):\n",
    "        self.data = data  # Node data\n",
    "        self.children = []  # List of children nodes"
   ]
  },
  {
   "cell_type": "code",
   "execution_count": 9,
   "metadata": {},
   "outputs": [],
   "source": [
    "class GenericTreeNode:\n",
    "    def __init__(self, data):\n",
    "        self.data = data  # Node data\n",
    "        self.children = []  # List of children nodes\n",
    "    \n",
    "    # Method to add a child node\n",
    "    def add_child(self, child_node):\n",
    "        self.children.append(child_node)\n",
    "\n",
    "\n",
    "root = GenericTreeNode(1)\n",
    "child1 = GenericTreeNode(2)\n",
    "child2 = GenericTreeNode(3)\n",
    "\n",
    "root.add_child(child1)\n",
    "root.add_child(child2)"
   ]
  },
  {
   "cell_type": "code",
   "execution_count": 10,
   "metadata": {},
   "outputs": [
    {
     "name": "stdout",
     "output_type": "stream",
     "text": [
      "1\n",
      "2\n",
      "3\n"
     ]
    }
   ],
   "source": [
    "# Traversing the Tree (DFS - Depth First Search)\n",
    "\n",
    "def print_tree(node):\n",
    "    if root is None:\n",
    "        return\n",
    "        \n",
    "    print(node.data)\n",
    "    for child in node.children:\n",
    "        print_tree(child)\n",
    "\n",
    "\n",
    "\n",
    "print_tree(root)\n"
   ]
  },
  {
   "cell_type": "code",
   "execution_count": 11,
   "metadata": {},
   "outputs": [],
   "source": [
    "# Finding the Height of the Generic Tree\n",
    "\n",
    "def tree_height(node):\n",
    "    if not node.children:\n",
    "        return 1\n",
    "    return 1 + max(tree_height(child) for child in node.children)\n"
   ]
  },
  {
   "cell_type": "code",
   "execution_count": 12,
   "metadata": {},
   "outputs": [],
   "source": [
    "# Take Generic Tree Input (Recursively)\n",
    "\n",
    "def takeTreeInput():\n",
    "    print(\"Enter root Data\")\n",
    "    rootData = int(input())  # Take user input for root data\n",
    "    \n",
    "    if rootData == -1:  # Stop taking input if user enters -1\n",
    "        return None\n",
    "    \n",
    "    root = TreeNode(rootData)  # Create a new node with rootData\n",
    "    \n",
    "    print(\"Enter number of children for\", rootData)\n",
    "    childrenCount = int(input())  # Input for number of child nodes\n",
    "    \n",
    "    # Recursively take input for all children\n",
    "    for i in range(childrenCount):\n",
    "        child = takeTreeInput()  # Input for each child\n",
    "        root.children.append(child)  # Add the child to the current root\n",
    "    \n",
    "    return root  # Return the current node as the root of this subtree\n"
   ]
  },
  {
   "cell_type": "code",
   "execution_count": 13,
   "metadata": {},
   "outputs": [],
   "source": [
    "# No. of Nodes in Geeneric Tree\n",
    "\n",
    "def countNodes(root):\n",
    "    # Edge case: if the root is None, return 0\n",
    "    if root is None:\n",
    "        return 0\n",
    "    \n",
    "    # Start with 1 to count the current node\n",
    "    count = 1\n",
    "    \n",
    "    # Recursively count the number of nodes in all children\n",
    "    for child in root.children:\n",
    "        count += countNodes(child)\n",
    "    \n",
    "    return count\n"
   ]
  },
  {
   "cell_type": "code",
   "execution_count": null,
   "metadata": {},
   "outputs": [],
   "source": [
    "# Take Level Wise Input for Generic Tree\n",
    "\n",
    "import queue\n",
    "\n",
    "def takeTreeInputLevelWise():\n",
    "    print(\"Enter root data\")\n",
    "    rootData = int(input())\n",
    "    \n",
    "    if rootData == -1:  # Edge case: if user enters -1, return None (no tree)\n",
    "        return None\n",
    "    \n",
    "    root = TreeNode(rootData)  # Create the root node\n",
    "    q = queue.Queue()  # Queue to maintain the current level of nodes\n",
    "    q.put(root)  # Add the root to the queue\n",
    "    \n",
    "    # Process the queue until it's empty\n",
    "    while not q.empty():\n",
    "        currentNode = q.get()  # Get the current node from the front of the queue\n",
    "        \n",
    "        # Ask for the number of children of the current node\n",
    "        print(f\"Enter the number of children for {currentNode.data}\")\n",
    "        numChildren = int(input())\n",
    "        \n",
    "        # Take input for each child and add it to the current node's children\n",
    "        for i in range(numChildren):\n",
    "            print(f\"Enter data for child {i + 1} of {currentNode.data}\")\n",
    "            childData = int(input())\n",
    "            childNode = TreeNode(childData)  # Create the child node\n",
    "            currentNode.children.append(childNode)  # Add child to the current node's children\n",
    "            q.put(childNode)  # Add the child to the queue for further processing\n",
    "    \n",
    "    return root  # Return the root of the tree\n"
   ]
  },
  {
   "cell_type": "markdown",
   "metadata": {},
   "source": [
    "#  Assignment :"
   ]
  },
  {
   "cell_type": "code",
   "execution_count": 14,
   "metadata": {},
   "outputs": [],
   "source": [
    "# Sum of all Nodes in Generic Tree\n",
    "\n",
    "def sumOfNodes(root):\n",
    "    # Edge case: if the root is None, return 0 (no nodes to sum)\n",
    "    if root is None:\n",
    "        return 0\n",
    "    \n",
    "    # Initialize the sum with the data of the current node\n",
    "    totalSum = root.data\n",
    "    \n",
    "    # Recursively calculate the sum of all children\n",
    "    for child in root.children:\n",
    "        totalSum += sumOfNodes(child)\n",
    "    \n",
    "    return totalSum\n"
   ]
  },
  {
   "cell_type": "code",
   "execution_count": null,
   "metadata": {},
   "outputs": [],
   "source": [
    "# Node with the largest Data\n",
    "\n",
    "def findLargestNode(root):\n",
    "    # Edge case: if the root is None, return a very small value (or None)\n",
    "    if root is None:\n",
    "        return float('-inf')  # Represents negative infinity, i.e., smallest possible value\n",
    "    \n",
    "    # Assume the current node's data is the largest\n",
    "    largest = root.data\n",
    "    \n",
    "    # Recursively find the largest node in each child\n",
    "    for child in root.children:\n",
    "        childLargest = findLargestNode(child)\n",
    "        if childLargest > largest:\n",
    "            largest = childLargest\n",
    "    \n",
    "    return largest\n"
   ]
  },
  {
   "cell_type": "code",
   "execution_count": null,
   "metadata": {},
   "outputs": [],
   "source": [
    "# Contains x ? - This function checks if a node with value x exists in the generic tree.\n",
    "\n",
    "def containsX(root, x):\n",
    "    # Base case: if the tree is empty, return False\n",
    "    if root is None:\n",
    "        return False\n",
    "    \n",
    "    # Check if the current node's data is equal to x\n",
    "    if root.data == x:\n",
    "        return True\n",
    "    \n",
    "    # Recursively check for x in all children\n",
    "    for child in root.children:\n",
    "        if containsX(child, x):\n",
    "            return True\n",
    "    \n",
    "    return False\n"
   ]
  },
  {
   "cell_type": "code",
   "execution_count": null,
   "metadata": {},
   "outputs": [],
   "source": [
    "# Leaf Count - A leaf node is a node with no children. This function counts the number of leaf nodes in the tree.\n",
    "\n",
    "def countLeafNodes(root):\n",
    "    # Base case: if the tree is empty, return 0\n",
    "    if root is None:\n",
    "        return 0\n",
    "    \n",
    "    # If the node has no children, it's a leaf node\n",
    "    if len(root.children) == 0:\n",
    "        return 1\n",
    "    \n",
    "    # Recursively count leaf nodes in all children\n",
    "    leafCount = 0\n",
    "    for child in root.children:\n",
    "        leafCount += countLeafNodes(child)\n",
    "    \n",
    "    return leafCount\n"
   ]
  },
  {
   "cell_type": "code",
   "execution_count": null,
   "metadata": {},
   "outputs": [],
   "source": [
    "# Node with Maximum Child Sum - This function finds the node whose sum of the node and its children's data is maximum.\n",
    "\n",
    "def nodeWithMaxChildSum(root):\n",
    "    if root is None:\n",
    "        return None, float('-inf')\n",
    "    \n",
    "    # Calculate the sum of the current node and its children\n",
    "    nodeSum = root.data\n",
    "    for child in root.children:\n",
    "        nodeSum += child.data\n",
    "    \n",
    "    maxNode = root\n",
    "    maxSum = nodeSum\n",
    "    \n",
    "    # Recursively find the node with the maximum sum in the children\n",
    "    for child in root.children:\n",
    "        childMaxNode, childMaxSum = nodeWithMaxChildSum(child)\n",
    "        if childMaxSum > maxSum:\n",
    "            maxNode = childMaxNode\n",
    "            maxSum = childMaxSum\n",
    "    \n",
    "    return maxNode, maxSum\n",
    "\n",
    "# To just get the node with the maximum sum\n",
    "maxNode, maxSum = nodeWithMaxChildSum(root)\n",
    "print(\"Node with max sum:\", maxNode.data)\n"
   ]
  },
  {
   "cell_type": "code",
   "execution_count": null,
   "metadata": {},
   "outputs": [],
   "source": [
    "# Structurally Identical - This function checks if two trees are structurally identical, meaning both have the same shape and data at each node.\n",
    "\n",
    "def areStructurallyIdentical(root1, root2):\n",
    "    # If both nodes are None, they are structurally identical\n",
    "    if root1 is None and root2 is None:\n",
    "        return True\n",
    "    \n",
    "    # If only one of them is None, they are not structurally identical\n",
    "    if root1 is None or root2 is None:\n",
    "        return False\n",
    "    \n",
    "    # Check if the data of both nodes is the same and they have the same number of children\n",
    "    if root1.data != root2.data or len(root1.children) != len(root2.children):\n",
    "        return False\n",
    "    \n",
    "    # Recursively check if the children are structurally identical\n",
    "    for i in range(len(root1.children)):\n",
    "        if not areStructurallyIdentical(root1.children[i], root2.children[i]):\n",
    "            return False\n",
    "    \n",
    "    return True\n"
   ]
  },
  {
   "cell_type": "code",
   "execution_count": null,
   "metadata": {},
   "outputs": [],
   "source": [
    "# Next Larger - This function finds the node with the smallest value greater than x in the tree.\n",
    "\n",
    "def nextLarger(root, x):\n",
    "    if root is None:\n",
    "        return None\n",
    "    \n",
    "    nextLargerNode = None\n",
    "    \n",
    "    # If the current node's data is greater than x, it could be the next larger node\n",
    "    if root.data > x:\n",
    "        nextLargerNode = root\n",
    "    \n",
    "    # Recursively check for the next larger node in the children\n",
    "    for child in root.children:\n",
    "        childNextLarger = nextLarger(child, x)\n",
    "        if childNextLarger:\n",
    "            if nextLargerNode is None or childNextLarger.data < nextLargerNode.data:\n",
    "                nextLargerNode = childNextLarger\n",
    "    \n",
    "    return nextLargerNode\n"
   ]
  },
  {
   "cell_type": "code",
   "execution_count": null,
   "metadata": {},
   "outputs": [],
   "source": [
    "# Replace with Depth\n",
    "\n",
    "def replaceWithDepth(root, depth=0):\n",
    "    if root is None:\n",
    "        return\n",
    "    \n",
    "    # Replace the current node's data with the depth\n",
    "    root.data = depth\n",
    "    \n",
    "    # Recursively replace the data for all children with their depth\n",
    "    for child in root.children:\n",
    "        replaceWithDepth(child, depth + 1)\n"
   ]
  }
 ],
 "metadata": {
  "kernelspec": {
   "display_name": "myenv",
   "language": "python",
   "name": "python3"
  },
  "language_info": {
   "codemirror_mode": {
    "name": "ipython",
    "version": 3
   },
   "file_extension": ".py",
   "mimetype": "text/x-python",
   "name": "python",
   "nbconvert_exporter": "python",
   "pygments_lexer": "ipython3",
   "version": "3.8.19"
  }
 },
 "nbformat": 4,
 "nbformat_minor": 2
}
