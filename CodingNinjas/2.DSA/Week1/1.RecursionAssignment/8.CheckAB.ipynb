{
 "cells": [
  {
   "cell_type": "code",
   "execution_count": null,
   "id": "545e917f-b57b-495c-a43d-c8c90dbdd3d7",
   "metadata": {},
   "outputs": [],
   "source": [
    "#Suppose you have a string, S, made up of only 'a's and 'b's. Write a recursive function that checks if the string was generated using the following rules:\n",
    "#a. The string begins with an 'a'\n",
    "#b. Each 'a' is followed by nothing or an 'a' or \"bb\"\n",
    "#c. Each \"bb\" is followed by nothing or an 'a'"
   ]
  },
  {
   "cell_type": "code",
   "execution_count": null,
   "id": "086a42a4-6fdd-4fd1-9a5e-16342c0c9b5c",
   "metadata": {},
   "outputs": [],
   "source": [
    "def checkAB(S):\n",
    "    if len(S) == 0:\n",
    "        return True\n",
    "    if len(S) == 1:\n",
    "        if S[0] == 'a':\n",
    "            return True\n",
    "    \n",
    "    if S[0] == 'a':\n",
    "        if S[1:3] == \"bb\":\n",
    "            return checkAB(S[3:])\n",
    "        elif S[1] == 'a':\n",
    "            return checkAB(S[1:])\n",
    "        else:\n",
    "            return False\n",
    "    \n",
    "S = input()\n",
    "if checkAB(S):\n",
    "    print(\"true\")\n",
    "else:\n",
    "    print(\"false\")"
   ]
  }
 ],
 "metadata": {
  "kernelspec": {
   "display_name": "Python 3 (ipykernel)",
   "language": "python",
   "name": "python3"
  },
  "language_info": {
   "codemirror_mode": {
    "name": "ipython",
    "version": 3
   },
   "file_extension": ".py",
   "mimetype": "text/x-python",
   "name": "python",
   "nbconvert_exporter": "python",
   "pygments_lexer": "ipython3",
   "version": "3.11.1"
  }
 },
 "nbformat": 4,
 "nbformat_minor": 5
}
