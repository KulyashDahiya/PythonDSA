{
 "cells": [
  {
   "cell_type": "code",
   "execution_count": 3,
   "id": "6574ac08-7069-49b7-9aa3-50c9d4f7fbfc",
   "metadata": {},
   "outputs": [
    {
     "name": "stdin",
     "output_type": "stream",
     "text": [
      " 10101\n"
     ]
    },
    {
     "data": {
      "text/plain": [
       "2"
      ]
     },
     "execution_count": 3,
     "metadata": {},
     "output_type": "execute_result"
    }
   ],
   "source": [
    "def countZeros(n):\n",
    "    if n == 0:\n",
    "        return 0\n",
    "\n",
    "    if (n%10) == 0:\n",
    "        return 1 + countZeros(n//10)\n",
    "    else:\n",
    "        return countZeros(n//10)\n",
    "\n",
    "\n",
    "n = int(input())\n",
    "\n",
    "countZeros(n)"
   ]
  },
  {
   "cell_type": "code",
   "execution_count": 2,
   "id": "0b751994-0c25-48ac-9df1-ac843b285d98",
   "metadata": {},
   "outputs": [
    {
     "name": "stdin",
     "output_type": "stream",
     "text": [
      " 101010\n"
     ]
    },
    {
     "name": "stdout",
     "output_type": "stream",
     "text": [
      "3\n"
     ]
    }
   ],
   "source": [
    "def countz(n):\n",
    "    if n<10:\n",
    "        if n==0:\n",
    "            return 1\n",
    "        else:\n",
    "            return 0\n",
    "    small=countz(n//10)\n",
    "    if n%10==0:\n",
    "        return small+1\n",
    "    else:\n",
    "        return small\n",
    "\n",
    "\n",
    "from sys import setrecursionlimit\n",
    "setrecursionlimit(11000)\n",
    "n = int(input())\n",
    "print(countz(n))"
   ]
  }
 ],
 "metadata": {
  "kernelspec": {
   "display_name": "Python 3 (ipykernel)",
   "language": "python",
   "name": "python3"
  },
  "language_info": {
   "codemirror_mode": {
    "name": "ipython",
    "version": 3
   },
   "file_extension": ".py",
   "mimetype": "text/x-python",
   "name": "python",
   "nbconvert_exporter": "python",
   "pygments_lexer": "ipython3",
   "version": "3.11.1"
  }
 },
 "nbformat": 4,
 "nbformat_minor": 5
}
