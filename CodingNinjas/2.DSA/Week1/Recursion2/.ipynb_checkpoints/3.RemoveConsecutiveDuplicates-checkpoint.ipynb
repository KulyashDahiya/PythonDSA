{
 "cells": [
  {
   "cell_type": "code",
   "execution_count": 8,
   "id": "cc378705-5e36-47ff-8820-725dc20246f1",
   "metadata": {},
   "outputs": [
    {
     "name": "stdin",
     "output_type": "stream",
     "text": [
      " azcsvdbmmmmmm\n"
     ]
    },
    {
     "name": "stdout",
     "output_type": "stream",
     "text": [
      "azcsvdbm\n"
     ]
    }
   ],
   "source": [
    "def removeConsecutiveDuplicates(string):\n",
    "    # Please add your code here\n",
    "    if len(string) == 0 or len(string) == 1:\n",
    "        return string\n",
    "    \n",
    "    smalleroutput = removeConsecutiveDuplicates(string[1:])\n",
    "    \n",
    "    if string[0] == smalleroutput[0]:\n",
    "        return string[0] + smalleroutput[1:]\n",
    "    else:\n",
    "        return string[0] + smalleroutput\n",
    "    \n",
    "\n",
    "# Main\n",
    "string = input().strip()\n",
    "print(removeConsecutiveDuplicates(string))\n"
   ]
  }
 ],
 "metadata": {
  "kernelspec": {
   "display_name": "Python 3 (ipykernel)",
   "language": "python",
   "name": "python3"
  },
  "language_info": {
   "codemirror_mode": {
    "name": "ipython",
    "version": 3
   },
   "file_extension": ".py",
   "mimetype": "text/x-python",
   "name": "python",
   "nbconvert_exporter": "python",
   "pygments_lexer": "ipython3",
   "version": "3.11.1"
  }
 },
 "nbformat": 4,
 "nbformat_minor": 5
}
