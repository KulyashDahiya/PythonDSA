{
 "cells": [
  {
   "cell_type": "code",
   "execution_count": null,
   "id": "8340a776-beda-4e13-afe5-86c2201b9909",
   "metadata": {},
   "outputs": [],
   "source": [
    "#List must be sorted"
   ]
  },
  {
   "cell_type": "code",
   "execution_count": 5,
   "id": "dcc1a6d0-f3d1-4e03-a26c-006544f6f8db",
   "metadata": {},
   "outputs": [],
   "source": [
    "def BinarySearch(arr, x, si, ei):\n",
    "    n = len(arr)\n",
    "    if si > ei:\n",
    "        return -1\n",
    "    mid = (si + ei) // 2\n",
    "    if x == arr[mid]:\n",
    "        return mid\n",
    "    elif x > arr[mid]:\n",
    "        return BinarySearch(arr, x, mid+1, ei)\n",
    "    else:\n",
    "        return BinarySearch(arr, x, si, mid)"
   ]
  },
  {
   "cell_type": "code",
   "execution_count": 7,
   "id": "6db0b898-6e37-4399-ac09-bed4f98d4fa3",
   "metadata": {},
   "outputs": [
    {
     "name": "stdout",
     "output_type": "stream",
     "text": [
      "[6, 11, 23, 34, 39, 43, 54, 90, 233]\n",
      "5\n"
     ]
    }
   ],
   "source": [
    "a = [11, 43, 23, 54,34, 233, 6, 39, 90]\n",
    "a.sort()\n",
    "print(a)\n",
    "print(BinarySearch(a, 43, 0, len(a) - 1))"
   ]
  },
  {
   "cell_type": "code",
   "execution_count": null,
   "id": "067a521f-5b3a-4702-8415-d07c5ed56a65",
   "metadata": {},
   "outputs": [],
   "source": []
  }
 ],
 "metadata": {
  "kernelspec": {
   "display_name": "Python 3 (ipykernel)",
   "language": "python",
   "name": "python3"
  },
  "language_info": {
   "codemirror_mode": {
    "name": "ipython",
    "version": 3
   },
   "file_extension": ".py",
   "mimetype": "text/x-python",
   "name": "python",
   "nbconvert_exporter": "python",
   "pygments_lexer": "ipython3",
   "version": "3.11.1"
  }
 },
 "nbformat": 4,
 "nbformat_minor": 5
}
