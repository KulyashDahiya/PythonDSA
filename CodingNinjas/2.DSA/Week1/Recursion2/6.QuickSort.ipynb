{
 "cells": [
  {
   "cell_type": "code",
   "execution_count": 5,
   "id": "4c0809bf-3165-4b71-9035-e65b86d2b457",
   "metadata": {},
   "outputs": [],
   "source": [
    "\"\"\"\n",
    "\tThe function is called with the parameters:\n",
    "\tquickSort(input, 0, size - 1);\n",
    "\n",
    "\"\"\"\n",
    "from typing import List\n",
    "\n",
    "def partition(arr, si, ei):\n",
    "    pivot = arr[si]\n",
    "    c = 0\n",
    "    for i in range(si, ei + 1):\n",
    "        if arr[i] < pivot:\n",
    "            c += 1\n",
    "    arr[si+c], arr[si] = arr[si], arr[si+c]\n",
    "\n",
    "    pivotIndex = si + c\n",
    "\n",
    "    i, j = si, ei\n",
    "    while i <  j:\n",
    "        if arr[i] < pivot:     \n",
    "            i += 1 \n",
    "        elif arr[j] >= pivot:\n",
    "            j -= 1\n",
    "        else:\n",
    "            arr[i], arr[j] = arr[j], arr[i]\n",
    "            i += 1\n",
    "            j -= 1\n",
    "\n",
    "    return pivotIndex\n",
    "\n",
    "def quickSort(arr: List[int], si: int, ei: int):\n",
    "    \"\"\"\n",
    "    Don't write main().\n",
    "    Don't read input, it is passed as function argument.\n",
    "    Change in the given array itself.\n",
    "    Taking input and printing output is handled automatically.\n",
    "    \"\"\"\n",
    "    if si >= ei:\n",
    "        return\n",
    "    pivotIndex = partition(arr, si, ei)\n",
    "\n",
    "    quickSort(arr, si, pivotIndex-1)\n",
    "    quickSort(arr, pivotIndex+1, ei)"
   ]
  }
 ],
 "metadata": {
  "kernelspec": {
   "display_name": "Python 3 (ipykernel)",
   "language": "python",
   "name": "python3"
  },
  "language_info": {
   "codemirror_mode": {
    "name": "ipython",
    "version": 3
   },
   "file_extension": ".py",
   "mimetype": "text/x-python",
   "name": "python",
   "nbconvert_exporter": "python",
   "pygments_lexer": "ipython3",
   "version": "3.11.1"
  }
 },
 "nbformat": 4,
 "nbformat_minor": 5
}
