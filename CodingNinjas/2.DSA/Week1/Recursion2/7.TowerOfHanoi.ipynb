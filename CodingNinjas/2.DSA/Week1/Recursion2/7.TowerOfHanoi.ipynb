{
 "cells": [
  {
   "cell_type": "code",
   "execution_count": 4,
   "id": "463c7f1a-347e-4d79-b6eb-bd48fc23db07",
   "metadata": {},
   "outputs": [
    {
     "name": "stdin",
     "output_type": "stream",
     "text": [
      " 5\n"
     ]
    },
    {
     "name": "stdout",
     "output_type": "stream",
     "text": [
      "1 disk a c\n",
      "2 disk a b\n",
      "1 disk c b\n",
      "3 disk a c\n",
      "1 disk b a\n",
      "2 disk b c\n",
      "1 disk a c\n",
      "4 disk a b\n",
      "1 disk c b\n",
      "2 disk c a\n",
      "1 disk b a\n",
      "3 disk c b\n",
      "1 disk a c\n",
      "2 disk a b\n",
      "1 disk c b\n",
      "5 disk a c\n",
      "1 disk b a\n",
      "2 disk b c\n",
      "1 disk a c\n",
      "3 disk b a\n",
      "1 disk c b\n",
      "2 disk c a\n",
      "1 disk b a\n",
      "4 disk b c\n",
      "1 disk a c\n",
      "2 disk a b\n",
      "1 disk c b\n",
      "3 disk a c\n",
      "1 disk b a\n",
      "2 disk b c\n",
      "1 disk a c\n"
     ]
    }
   ],
   "source": [
    "def towerofhanoi(n, a, b, c):\n",
    "    # Please add your code here\n",
    "    if n <= 0:\n",
    "        return\n",
    "    towerofhanoi(n-1, a, c, b)\n",
    "    print(n,\"disk\",a, c)\n",
    "    towerofhanoi(n-1, b, a, c)\n",
    "\n",
    "\n",
    "n=int(input())\n",
    "towerofhanoi(n, 'a', 'b', 'c')"
   ]
  }
 ],
 "metadata": {
  "kernelspec": {
   "display_name": "Python 3 (ipykernel)",
   "language": "python",
   "name": "python3"
  },
  "language_info": {
   "codemirror_mode": {
    "name": "ipython",
    "version": 3
   },
   "file_extension": ".py",
   "mimetype": "text/x-python",
   "name": "python",
   "nbconvert_exporter": "python",
   "pygments_lexer": "ipython3",
   "version": "3.11.1"
  }
 },
 "nbformat": 4,
 "nbformat_minor": 5
}
