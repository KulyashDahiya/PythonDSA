{
 "cells": [
  {
   "cell_type": "code",
   "execution_count": null,
   "id": "4da947d6-607d-4ff1-a25c-6297acf45d66",
   "metadata": {},
   "outputs": [],
   "source": [
    "#A child is running up a staircase with N steps, and can hop either 1 step,\n",
    "#2 steps or 3 steps at a time. \n",
    "#Implement a method to count how many possible ways the child can run up to\n",
    "#the stairs.\n",
    "#You need to return number of possible ways W"
   ]
  },
  {
   "cell_type": "code",
   "execution_count": 2,
   "id": "3ae37a1c-0564-4ad8-9888-389ab4b983aa",
   "metadata": {},
   "outputs": [
    {
     "name": "stdin",
     "output_type": "stream",
     "text": [
      " 7\n"
     ]
    },
    {
     "name": "stdout",
     "output_type": "stream",
     "text": [
      "44\n"
     ]
    }
   ],
   "source": [
    "def Staircase(N):\n",
    "    if N < 0:\n",
    "        return 0\n",
    "    if N == 0:\n",
    "        return 1\n",
    "    \n",
    "    op1 = Staircase(N-1)\n",
    "    op2 = Staircase(N-2)\n",
    "    op3 = Staircase(N-3)\n",
    "\n",
    "    return op1 + op2 + op3\n",
    "\n",
    "\n",
    "N = int(input())\n",
    "print(Staircase(N))"
   ]
  }
 ],
 "metadata": {
  "kernelspec": {
   "display_name": "Python 3 (ipykernel)",
   "language": "python",
   "name": "python3"
  },
  "language_info": {
   "codemirror_mode": {
    "name": "ipython",
    "version": 3
   },
   "file_extension": ".py",
   "mimetype": "text/x-python",
   "name": "python",
   "nbconvert_exporter": "python",
   "pygments_lexer": "ipython3",
   "version": "3.11.1"
  }
 },
 "nbformat": 4,
 "nbformat_minor": 5
}
