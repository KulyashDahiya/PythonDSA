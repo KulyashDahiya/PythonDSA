{
 "cells": [
  {
   "cell_type": "code",
   "execution_count": 2,
   "id": "5ea33787-7158-4421-a778-4c90ba38ac0e",
   "metadata": {},
   "outputs": [
    {
     "name": "stdin",
     "output_type": "stream",
     "text": [
      " 15\n"
     ]
    },
    {
     "name": "stdout",
     "output_type": "stream",
     "text": [
      "6\n"
     ]
    }
   ],
   "source": [
    "def sumOfDigits(x, si):\n",
    "    # l = len(x)\n",
    "    if si < 0:\n",
    "        return 0\n",
    "    \n",
    "    val = int(x[si])\n",
    "    sum = val + sumOfDigits(x, si-1)\n",
    "    return sum\n",
    "\n",
    "\n",
    "\n",
    "x = input()\n",
    "n = len(x)\n",
    "print(sumOfDigits(x, n-1))"
   ]
  },
  {
   "cell_type": "code",
   "execution_count": null,
   "id": "d9c44b24-7bfe-48cf-98e7-0ab30fe85e75",
   "metadata": {},
   "outputs": [],
   "source": [
    "def sumOfDigits(x):\n",
    "    # l = len(x)\n",
    "    if x==0:\n",
    "        return 0\n",
    "\n",
    "    small_answer = sumOfDigits(x//10)\n",
    "    return  x%10 + small_answer\n",
    "\n",
    "\n",
    "x = int(input())\n",
    "print(sumOfDigits(x))"
   ]
  }
 ],
 "metadata": {
  "kernelspec": {
   "display_name": "Python 3 (ipykernel)",
   "language": "python",
   "name": "python3"
  },
  "language_info": {
   "codemirror_mode": {
    "name": "ipython",
    "version": 3
   },
   "file_extension": ".py",
   "mimetype": "text/x-python",
   "name": "python",
   "nbconvert_exporter": "python",
   "pygments_lexer": "ipython3",
   "version": "3.11.1"
  }
 },
 "nbformat": 4,
 "nbformat_minor": 5
}
