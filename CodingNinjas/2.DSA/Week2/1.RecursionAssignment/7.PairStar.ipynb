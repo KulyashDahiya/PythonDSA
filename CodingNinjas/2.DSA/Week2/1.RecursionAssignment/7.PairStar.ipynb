{
 "cells": [
  {
   "cell_type": "code",
   "execution_count": 3,
   "id": "34787c77-3f29-4993-bb92-593b01ef30db",
   "metadata": {},
   "outputs": [],
   "source": [
    "def pairStar(S):\n",
    "    if len(S) == 1:\n",
    "        return S[0]\n",
    "    \n",
    "    if S[0] == S[1]:\n",
    "        return S[0] + '*' + pairStar(S[1:])\n",
    "    else:\n",
    "        return S[0] + pairStar(S[1:])"
   ]
  },
  {
   "cell_type": "code",
   "execution_count": 4,
   "id": "45f77496-d8de-48dd-ba99-5833151d1885",
   "metadata": {},
   "outputs": [
    {
     "name": "stdout",
     "output_type": "stream",
     "text": [
      "ab*bc\n"
     ]
    }
   ],
   "source": [
    "print(pairStar(\"abbc\"))"
   ]
  }
 ],
 "metadata": {
  "kernelspec": {
   "display_name": "Python 3 (ipykernel)",
   "language": "python",
   "name": "python3"
  },
  "language_info": {
   "codemirror_mode": {
    "name": "ipython",
    "version": 3
   },
   "file_extension": ".py",
   "mimetype": "text/x-python",
   "name": "python",
   "nbconvert_exporter": "python",
   "pygments_lexer": "ipython3",
   "version": "3.11.1"
  }
 },
 "nbformat": 4,
 "nbformat_minor": 5
}
