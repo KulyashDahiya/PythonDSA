{
 "cells": [
  {
   "cell_type": "code",
   "execution_count": null,
   "id": "f3551368-a25a-4b2f-83c9-edb8e17c13e3",
   "metadata": {},
   "outputs": [],
   "source": [
    "#Given k, find the geometric sum i.e.\n",
    "\n",
    "#  1 + 1/2 + 1/4 + 1/8 + ... + 1/(2^k) \n"
   ]
  },
  {
   "cell_type": "code",
   "execution_count": null,
   "id": "ca302c84-ab20-4534-bd44-0b31e1ef05ad",
   "metadata": {},
   "outputs": [],
   "source": [
    "def geometric_sum(k, i):\n",
    "    if i == k+1:\n",
    "        return 0\n",
    "    \n",
    "    a = 1/(2**i)\n",
    "    sum = a + geometric_sum(k, i+1)\n",
    "    return sum\n",
    "\n",
    "\n",
    "k = int(input())\n",
    "print(\"%.5f\" % geometric_sum(k, 0))"
   ]
  },
  {
   "cell_type": "code",
   "execution_count": 2,
   "id": "cc350d02-58dd-4bad-9a62-4f0caeb13e9d",
   "metadata": {},
   "outputs": [
    {
     "name": "stdin",
     "output_type": "stream",
     "text": [
      " 5\n"
     ]
    },
    {
     "name": "stdout",
     "output_type": "stream",
     "text": [
      "1.96875\n"
     ]
    }
   ],
   "source": [
    "def geometric_sum(k):\n",
    "    if k == 0:\n",
    "        return 1\n",
    "    \n",
    "    return 1/(2**k) + geometric_sum(k-1)\n",
    "\n",
    "\n",
    "k = int(input())\n",
    "print(\"%.5f\" % geometric_sum(k))"
   ]
  }
 ],
 "metadata": {
  "kernelspec": {
   "display_name": "Python 3 (ipykernel)",
   "language": "python",
   "name": "python3"
  },
  "language_info": {
   "codemirror_mode": {
    "name": "ipython",
    "version": 3
   },
   "file_extension": ".py",
   "mimetype": "text/x-python",
   "name": "python",
   "nbconvert_exporter": "python",
   "pygments_lexer": "ipython3",
   "version": "3.11.1"
  }
 },
 "nbformat": 4,
 "nbformat_minor": 5
}
