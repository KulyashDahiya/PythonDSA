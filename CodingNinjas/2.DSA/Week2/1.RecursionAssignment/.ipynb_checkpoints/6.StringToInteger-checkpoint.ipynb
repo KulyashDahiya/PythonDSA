{
 "cells": [
  {
   "cell_type": "code",
   "execution_count": null,
   "id": "12a55971-bf79-4098-8d18-07aced78d787",
   "metadata": {},
   "outputs": [],
   "source": [
    "def StringToInteger(S):\n",
    "    l = len(S)\n",
    "    if l == 0:\n",
    "        return 0\n",
    "\n",
    "    small = int(S[0]) * (10**(l-1))\n",
    "    lis = S[1:]\n",
    "    return small + StringToInteger(lis)\n",
    "\n",
    "\n",
    "S = input()\n",
    "\n",
    "print(StringToInteger(S))"
   ]
  }
 ],
 "metadata": {
  "kernelspec": {
   "display_name": "Python 3 (ipykernel)",
   "language": "python",
   "name": "python3"
  },
  "language_info": {
   "codemirror_mode": {
    "name": "ipython",
    "version": 3
   },
   "file_extension": ".py",
   "mimetype": "text/x-python",
   "name": "python",
   "nbconvert_exporter": "python",
   "pygments_lexer": "ipython3",
   "version": "3.11.1"
  }
 },
 "nbformat": 4,
 "nbformat_minor": 5
}
