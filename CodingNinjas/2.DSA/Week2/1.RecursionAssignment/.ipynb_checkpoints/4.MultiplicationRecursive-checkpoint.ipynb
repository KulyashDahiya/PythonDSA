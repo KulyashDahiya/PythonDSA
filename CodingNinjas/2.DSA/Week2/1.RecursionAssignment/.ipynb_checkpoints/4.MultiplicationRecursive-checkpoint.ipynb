{
 "cells": [
  {
   "cell_type": "code",
   "execution_count": null,
   "id": "e377d5ac-1793-4e6d-84ce-4954a40e2aa2",
   "metadata": {},
   "outputs": [],
   "source": [
    "#Given two integers M & N, calculate and return their multiplication \n",
    "#using recursion. \n",
    "#You can only use subtraction and addition for your calculation.\n",
    "#No other operators are allowed"
   ]
  },
  {
   "cell_type": "code",
   "execution_count": null,
   "id": "93f4df77-119e-4f05-b19a-778bf829f511",
   "metadata": {},
   "outputs": [],
   "source": [
    "def Multiplication(n, m):\n",
    "    if m == 0:\n",
    "        return 0\n",
    "\n",
    "    small_output = n + Multiplication(n, m-1)\n",
    "    return small_output\n",
    "\n",
    "\n",
    "\n",
    "n = int(input())\n",
    "m = int(input())\n",
    "if m == 1:\n",
    "    print(n)\n",
    "elif n == 1:\n",
    "    print(m)\n",
    "elif m == 0 or n == 0:\n",
    "    print(\"0\")\n",
    "else:\n",
    "    print(Multiplication(n, m))"
   ]
  },
  {
   "cell_type": "code",
   "execution_count": null,
   "id": "6217d5a0-2e81-4c20-8e9f-b24df70ee903",
   "metadata": {},
   "outputs": [],
   "source": [
    "def product( x , y ):\n",
    "    # if x is less than y swap\n",
    "    # the numbers\n",
    "    if x < y:\n",
    "        return product(y, x)\n",
    "      \n",
    "    # iteratively calculate y\n",
    "    # times sum of x\n",
    "    elif y != 0:\n",
    "        return (x + product(x, y - 1))\n",
    "      \n",
    "    # if any of the two numbers is\n",
    "    # zero return zero\n",
    "    else:\n",
    "        return 0"
   ]
  }
 ],
 "metadata": {
  "kernelspec": {
   "display_name": "Python 3 (ipykernel)",
   "language": "python",
   "name": "python3"
  },
  "language_info": {
   "codemirror_mode": {
    "name": "ipython",
    "version": 3
   },
   "file_extension": ".py",
   "mimetype": "text/x-python",
   "name": "python",
   "nbconvert_exporter": "python",
   "pygments_lexer": "ipython3",
   "version": "3.11.1"
  }
 },
 "nbformat": 4,
 "nbformat_minor": 5
}
