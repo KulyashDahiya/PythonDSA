{
 "cells": [
  {
   "cell_type": "code",
   "execution_count": 3,
   "id": "bad9bd65-55dc-4677-9006-5e45c663c045",
   "metadata": {},
   "outputs": [],
   "source": [
    "class Student:\n",
    "    School = \"SD Public School\"\n",
    "    count = 0\n",
    "    \n",
    "    def __init__(self, id, name):\n",
    "        self.name = name\n",
    "        self.id = id\n",
    "        Student.count += 1\n",
    "        "
   ]
  },
  {
   "cell_type": "code",
   "execution_count": 4,
   "id": "3977daed-ff57-45fc-9826-67d6480ffafb",
   "metadata": {},
   "outputs": [],
   "source": [
    "s1 = Student(1,'Kulyash')"
   ]
  },
  {
   "cell_type": "code",
   "execution_count": 13,
   "id": "9b78581f-2fec-4de3-a4b6-52075546f502",
   "metadata": {},
   "outputs": [
    {
     "name": "stdout",
     "output_type": "stream",
     "text": [
      "Kulyash\n"
     ]
    }
   ],
   "source": [
    "print(s1.name)"
   ]
  },
  {
   "cell_type": "code",
   "execution_count": 16,
   "id": "bf1b16e1-b9cf-493a-af41-11b4d9065799",
   "metadata": {},
   "outputs": [
    {
     "data": {
      "text/plain": [
       "1"
      ]
     },
     "execution_count": 16,
     "metadata": {},
     "output_type": "execute_result"
    }
   ],
   "source": [
    "s1.id"
   ]
  },
  {
   "cell_type": "code",
   "execution_count": 4,
   "id": "e72b6bae-2374-4dee-858b-ee0a3dee2ae8",
   "metadata": {},
   "outputs": [],
   "source": [
    "s2 = Student('Priyanshu')"
   ]
  },
  {
   "cell_type": "code",
   "execution_count": 5,
   "id": "1011ba0c-6e5e-46d9-8b9c-67e87a946feb",
   "metadata": {},
   "outputs": [
    {
     "name": "stdout",
     "output_type": "stream",
     "text": [
      "Priyanshu\n"
     ]
    }
   ],
   "source": [
    "print(s2.name)"
   ]
  },
  {
   "cell_type": "code",
   "execution_count": 6,
   "id": "f95a9df2-f11f-4b7f-97c4-f34700c144fa",
   "metadata": {},
   "outputs": [
    {
     "name": "stdout",
     "output_type": "stream",
     "text": [
      "2\n"
     ]
    }
   ],
   "source": [
    "print(s1.count)"
   ]
  },
  {
   "cell_type": "code",
   "execution_count": 8,
   "id": "db27a154-1c80-41d8-8306-01ab50d8409b",
   "metadata": {},
   "outputs": [
    {
     "data": {
      "text/plain": [
       "mappingproxy({'__module__': '__main__',\n",
       "              'School': 'SD Public School',\n",
       "              'count': 2,\n",
       "              '__init__': <function __main__.Student.__init__(self, name)>,\n",
       "              '__dict__': <attribute '__dict__' of 'Student' objects>,\n",
       "              '__weakref__': <attribute '__weakref__' of 'Student' objects>,\n",
       "              '__doc__': None})"
      ]
     },
     "execution_count": 8,
     "metadata": {},
     "output_type": "execute_result"
    }
   ],
   "source": [
    "Student.__dict__"
   ]
  },
  {
   "cell_type": "code",
   "execution_count": 5,
   "id": "18104d71-7703-4ccc-9959-7193e3e6ec5c",
   "metadata": {},
   "outputs": [
    {
     "data": {
      "text/plain": [
       "{'name': 'Kulyash', 'id': 1}"
      ]
     },
     "execution_count": 5,
     "metadata": {},
     "output_type": "execute_result"
    }
   ],
   "source": [
    "s1.__dict__"
   ]
  },
  {
   "cell_type": "code",
   "execution_count": 6,
   "id": "d4bbbf4a-72d2-4577-b5dc-c3f6e42cf6e4",
   "metadata": {},
   "outputs": [
    {
     "data": {
      "text/plain": [
       "{'name': 'Kulyash', 'id': 1}"
      ]
     },
     "execution_count": 6,
     "metadata": {},
     "output_type": "execute_result"
    }
   ],
   "source": [
    "vars(s1)"
   ]
  },
  {
   "cell_type": "code",
   "execution_count": null,
   "id": "e94d8576-31de-455a-83cc-f772f98322d3",
   "metadata": {},
   "outputs": [],
   "source": []
  },
  {
   "cell_type": "code",
   "execution_count": null,
   "id": "ef4d194f-47ed-43ef-a907-7322e207352a",
   "metadata": {},
   "outputs": [],
   "source": []
  },
  {
   "cell_type": "code",
   "execution_count": null,
   "id": "702cbf1f-c030-4f5c-a943-7bd60e87f8c7",
   "metadata": {},
   "outputs": [],
   "source": []
  },
  {
   "cell_type": "code",
   "execution_count": 8,
   "id": "2cbcc77d-bb6c-4da8-ad20-e42350ccdc05",
   "metadata": {},
   "outputs": [
    {
     "name": "stdout",
     "output_type": "stream",
     "text": [
      "Parikh 60\n"
     ]
    }
   ],
   "source": [
    "class Student1:\n",
    "    name = \"Parikh\"\n",
    "    def store_details(self):\n",
    "        self.age = 60\n",
    "    def print_details(self):\n",
    "        print(self.name, end=\" \")\n",
    "        print(self.age)\n",
    "s = Student1()\n",
    "s.store_details()\n",
    "s.print_details()"
   ]
  },
  {
   "cell_type": "code",
   "execution_count": 12,
   "id": "c3b37ec8-2fd7-4318-b0f7-31130c5a0569",
   "metadata": {},
   "outputs": [
    {
     "name": "stdout",
     "output_type": "stream",
     "text": [
      "60\n"
     ]
    }
   ],
   "source": [
    "class Student2:\n",
    "    name = \"Parikh\"\n",
    "    def store_details(self):\n",
    "        self.age = 60\n",
    "    def print_age(self):\n",
    "        print(self.age)\n",
    "s = Student2()\n",
    "s.store_details()\n",
    "s1 = Student2()\n",
    "s1.store_details()\n",
    "s1.print_age()"
   ]
  }
 ],
 "metadata": {
  "kernelspec": {
   "display_name": "Python 3 (ipykernel)",
   "language": "python",
   "name": "python3"
  },
  "language_info": {
   "codemirror_mode": {
    "name": "ipython",
    "version": 3
   },
   "file_extension": ".py",
   "mimetype": "text/x-python",
   "name": "python",
   "nbconvert_exporter": "python",
   "pygments_lexer": "ipython3",
   "version": "3.11.1"
  }
 },
 "nbformat": 4,
 "nbformat_minor": 5
}
