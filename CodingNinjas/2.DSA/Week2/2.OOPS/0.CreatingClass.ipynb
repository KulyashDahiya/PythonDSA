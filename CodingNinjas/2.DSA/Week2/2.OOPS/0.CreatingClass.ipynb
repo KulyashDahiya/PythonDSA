{
 "cells": [
  {
   "cell_type": "code",
   "execution_count": 7,
   "id": "d0268495-1452-457a-8a70-2e75e5e90c48",
   "metadata": {},
   "outputs": [],
   "source": [
    "class MyClass:\n",
    "    i = 12345\n",
    "    def f(self):\n",
    "        return \"hello world\""
   ]
  },
  {
   "cell_type": "code",
   "execution_count": 14,
   "id": "73c3e780-6e0c-44a2-9dfb-16f5c34ef9c9",
   "metadata": {},
   "outputs": [],
   "source": [
    "myCl = MyClass()"
   ]
  },
  {
   "cell_type": "code",
   "execution_count": 15,
   "id": "eb052dd3-c0a9-43c1-9589-9a6fd5dba80e",
   "metadata": {},
   "outputs": [
    {
     "data": {
      "text/plain": [
       "12345"
      ]
     },
     "execution_count": 15,
     "metadata": {},
     "output_type": "execute_result"
    }
   ],
   "source": [
    "myCl.i"
   ]
  },
  {
   "cell_type": "code",
   "execution_count": 16,
   "id": "002f325f-54c1-4df8-a432-9d146b70c1aa",
   "metadata": {},
   "outputs": [
    {
     "data": {
      "text/plain": [
       "'hello world'"
      ]
     },
     "execution_count": 16,
     "metadata": {},
     "output_type": "execute_result"
    }
   ],
   "source": [
    "myCl.f()"
   ]
  },
  {
   "cell_type": "code",
   "execution_count": null,
   "id": "5ca53992-596f-42b1-906d-fc4cc2c84730",
   "metadata": {},
   "outputs": [],
   "source": []
  },
  {
   "cell_type": "code",
   "execution_count": 5,
   "id": "fc343e56-3a73-4bb6-9343-6011af2995f5",
   "metadata": {},
   "outputs": [],
   "source": [
    "class Product:\n",
    "    company = \"Adiddas\"\n",
    "    def printCompany(self):\n",
    "        print(self.company)"
   ]
  },
  {
   "cell_type": "code",
   "execution_count": 3,
   "id": "7c77c3f9-6481-4182-8b79-56661fb0aa07",
   "metadata": {},
   "outputs": [],
   "source": [
    "class Cart:\n",
    "    maxSize = 50\n",
    "    def printCartSize(self):\n",
    "        print(self.maxSize)"
   ]
  },
  {
   "cell_type": "code",
   "execution_count": 6,
   "id": "237bac4c-4853-468f-a86f-4c5ce0ca55bc",
   "metadata": {},
   "outputs": [],
   "source": [
    "p1 = Product()"
   ]
  },
  {
   "cell_type": "code",
   "execution_count": 8,
   "id": "6a2b7e12-4182-4441-8e1d-44d74f0cbf53",
   "metadata": {},
   "outputs": [
    {
     "data": {
      "text/plain": [
       "'Adiddas'"
      ]
     },
     "execution_count": 8,
     "metadata": {},
     "output_type": "execute_result"
    }
   ],
   "source": [
    "p1.company"
   ]
  },
  {
   "cell_type": "code",
   "execution_count": 10,
   "id": "d50a167e-23a9-47c9-bff7-b0418291b7c0",
   "metadata": {},
   "outputs": [
    {
     "name": "stdout",
     "output_type": "stream",
     "text": [
      "Adiddas\n"
     ]
    }
   ],
   "source": [
    "p1.printCompany()"
   ]
  },
  {
   "cell_type": "code",
   "execution_count": 11,
   "id": "75a8fe85-8238-472f-8cf7-aaf6c6c31254",
   "metadata": {},
   "outputs": [],
   "source": [
    "c1 = Cart()"
   ]
  },
  {
   "cell_type": "code",
   "execution_count": 12,
   "id": "0f649c16-da18-4441-bbc2-ed5d15d58ad5",
   "metadata": {},
   "outputs": [
    {
     "data": {
      "text/plain": [
       "50"
      ]
     },
     "execution_count": 12,
     "metadata": {},
     "output_type": "execute_result"
    }
   ],
   "source": [
    "c1.maxSize"
   ]
  },
  {
   "cell_type": "code",
   "execution_count": 13,
   "id": "094b8f5e-e2b7-4434-b786-ea0e017974d2",
   "metadata": {},
   "outputs": [
    {
     "name": "stdout",
     "output_type": "stream",
     "text": [
      "50\n"
     ]
    }
   ],
   "source": [
    "c1.printCartSize()"
   ]
  }
 ],
 "metadata": {
  "kernelspec": {
   "display_name": "Python 3 (ipykernel)",
   "language": "python",
   "name": "python3"
  },
  "language_info": {
   "codemirror_mode": {
    "name": "ipython",
    "version": 3
   },
   "file_extension": ".py",
   "mimetype": "text/x-python",
   "name": "python",
   "nbconvert_exporter": "python",
   "pygments_lexer": "ipython3",
   "version": "3.11.1"
  }
 },
 "nbformat": 4,
 "nbformat_minor": 5
}
