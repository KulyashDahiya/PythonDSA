{
 "cells": [
  {
   "cell_type": "code",
   "execution_count": null,
   "id": "9ea1defa-bfb5-4d63-bd4c-0920dc1231a4",
   "metadata": {},
   "outputs": [],
   "source": [
    "Does string 's' contain string 't' ?\n",
    "Send Feedback\n",
    "Given two string s and t, write a function to check if s contains all characters of t (in the same order as they are in string t).\n",
    "Return true or false.\n",
    "Do it recursively.\n",
    "E.g. : s = “abchjsgsuohhdhyrikkknddg” contains all characters of t=”coding” in the same order. So function will return true.\n",
    "Input Format :\n",
    "Line 1 : String s\n",
    "Line 2 : String t\n",
    "Output Format :\n",
    "true or false"
   ]
  },
  {
   "cell_type": "code",
   "execution_count": null,
   "id": "1c21e708-98b8-4903-980e-05c67599506d",
   "metadata": {},
   "outputs": [],
   "source": [
    "def contains(s,t):\n",
    "    #Implement This Function Here\n",
    "    n = len(s)\n",
    "    m = len(t)\n",
    "    if  m == 0:\n",
    "        return True\n",
    "    if n == 0:\n",
    "        return False\n",
    "\n",
    "    if s[0] == t[0]:\n",
    "        return contains(s[1:], t[1:])\n",
    "    else:\n",
    "        return contains(s[1:], t)"
   ]
  },
  {
   "cell_type": "code",
   "execution_count": null,
   "id": "74eb1d7f-df22-45ad-8587-d220c5792b40",
   "metadata": {},
   "outputs": [],
   "source": []
  },
  {
   "cell_type": "code",
   "execution_count": null,
   "id": "b75379b8-0156-4f4d-8daf-237449f1e076",
   "metadata": {},
   "outputs": [],
   "source": [
    "def contains(s,t, n, m, si, k):\n",
    "    #Implement This Function Here\n",
    "    if si == n:\n",
    "        return True\n",
    "\n",
    "    tf = False\n",
    "\n",
    "    for i in range(si, n):\n",
    "        if t[k] == s[i]:\n",
    "            tf = True\n",
    "            si = i\n",
    "            break\n",
    "    \n",
    "    if k == m - 1:\n",
    "        return tf\n",
    "    \n",
    "    if tf == True:\n",
    "        return contains(s, t, n, m, si, k+1)\n",
    "    else:\n",
    "        return tf"
   ]
  }
 ],
 "metadata": {
  "kernelspec": {
   "display_name": "Python 3 (ipykernel)",
   "language": "python",
   "name": "python3"
  },
  "language_info": {
   "codemirror_mode": {
    "name": "ipython",
    "version": 3
   },
   "file_extension": ".py",
   "mimetype": "text/x-python",
   "name": "python",
   "nbconvert_exporter": "python",
   "pygments_lexer": "ipython3",
   "version": "3.11.1"
  }
 },
 "nbformat": 4,
 "nbformat_minor": 5
}
