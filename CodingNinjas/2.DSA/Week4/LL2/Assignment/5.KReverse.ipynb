{
 "cells": [
  {
   "cell_type": "code",
   "execution_count": null,
   "id": "53d13561-a8cd-4ad8-957e-bb6e92214662",
   "metadata": {},
   "outputs": [],
   "source": [
    "def Reverse(head) :\n",
    "    #Your code goes here\n",
    "    prev = None\n",
    "    curr = head\n",
    "    while curr is not None:\n",
    "        newNode = curr.next\n",
    "        curr.next = prev\n",
    "        prev = curr\n",
    "        curr = newNode\n",
    "        \n",
    "    curre = prev\n",
    "    while curre.next:\n",
    "        curre = curre.next\n",
    "    return prev, curre\n",
    "\n",
    "\n",
    "def kReverse(head, k) :\n",
    "    if k == 0 or k == 1 :\n",
    "        return head\n",
    "\n",
    "    if head is None:\n",
    "        return head\n",
    "\n",
    "    current = head\n",
    "    prev = None\n",
    "\n",
    "    count = 1\n",
    "\n",
    "    h1 = current\n",
    "    while count < k and current:\n",
    "        count = count + 1\n",
    "        current = current.next\n",
    "    \n",
    "    if current:\n",
    "        h2 = current.next\n",
    "        current.next = None\n",
    "    else:\n",
    "        h, t = Reverse(h1)\n",
    "        t.next = None\n",
    "        return h\n",
    "\n",
    "    h, t = Reverse(h1)\n",
    "    t.next = kReverse(h2, k)\n",
    "\n",
    "    return h"
   ]
  },
  {
   "cell_type": "code",
   "execution_count": null,
   "id": "9dac3165-b910-4802-b262-cb766e669532",
   "metadata": {},
   "outputs": [],
   "source": []
  }
 ],
 "metadata": {
  "kernelspec": {
   "display_name": "Python 3 (ipykernel)",
   "language": "python",
   "name": "python3"
  },
  "language_info": {
   "codemirror_mode": {
    "name": "ipython",
    "version": 3
   },
   "file_extension": ".py",
   "mimetype": "text/x-python",
   "name": "python",
   "nbconvert_exporter": "python",
   "pygments_lexer": "ipython3",
   "version": "3.11.1"
  }
 },
 "nbformat": 4,
 "nbformat_minor": 5
}
