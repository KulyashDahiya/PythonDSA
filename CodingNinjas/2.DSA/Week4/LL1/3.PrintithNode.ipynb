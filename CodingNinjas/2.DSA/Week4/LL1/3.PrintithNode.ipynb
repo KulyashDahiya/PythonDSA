{
 "cells": [
  {
   "cell_type": "code",
   "execution_count": null,
   "id": "d999e2f0-487e-45ae-adcb-4a164b7b6211",
   "metadata": {},
   "outputs": [],
   "source": [
    "def printIthNode(head, i):\n",
    "    #Your code goes here\n",
    "    \n",
    "    temp = head\n",
    "    count = 0\n",
    "    while count < i and temp is not None:\n",
    "        count += 1\n",
    "        temp = temp.next\n",
    "    \n",
    "    if temp is not None:\n",
    "        print(temp.data)"
   ]
  }
 ],
 "metadata": {
  "kernelspec": {
   "display_name": "Python 3 (ipykernel)",
   "language": "python",
   "name": "python3"
  },
  "language_info": {
   "codemirror_mode": {
    "name": "ipython",
    "version": 3
   },
   "file_extension": ".py",
   "mimetype": "text/x-python",
   "name": "python",
   "nbconvert_exporter": "python",
   "pygments_lexer": "ipython3",
   "version": "3.11.1"
  }
 },
 "nbformat": 4,
 "nbformat_minor": 5
}
