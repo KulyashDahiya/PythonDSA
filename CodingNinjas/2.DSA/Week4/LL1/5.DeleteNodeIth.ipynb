{
 "cells": [
  {
   "cell_type": "code",
   "execution_count": 1,
   "id": "dc885422-aa76-4507-835a-ccbb8cd5df74",
   "metadata": {},
   "outputs": [],
   "source": [
    "def deleteNode(head, pos) :\n",
    "    # Write your code here.\n",
    "    if head is None:\n",
    "        return head\n",
    "    count = 0\n",
    "    curr = head\n",
    "    prev = None\n",
    "    while count < pos:\n",
    "        prev = curr\n",
    "        if curr.next is not None:\n",
    "            curr = curr.next\n",
    "        count += 1\n",
    "    \n",
    "    if prev is None:\n",
    "        head = head.next\n",
    "    else:\n",
    "        prev.next = curr.next\n",
    "\n",
    "    return head"
   ]
  }
 ],
 "metadata": {
  "kernelspec": {
   "display_name": "Python 3 (ipykernel)",
   "language": "python",
   "name": "python3"
  },
  "language_info": {
   "codemirror_mode": {
    "name": "ipython",
    "version": 3
   },
   "file_extension": ".py",
   "mimetype": "text/x-python",
   "name": "python",
   "nbconvert_exporter": "python",
   "pygments_lexer": "ipython3",
   "version": "3.11.1"
  }
 },
 "nbformat": 4,
 "nbformat_minor": 5
}
