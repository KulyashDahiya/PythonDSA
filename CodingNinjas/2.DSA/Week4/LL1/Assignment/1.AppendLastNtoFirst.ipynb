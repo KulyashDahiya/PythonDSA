{
 "cells": [
  {
   "cell_type": "code",
   "execution_count": null,
   "id": "eff063eb-6f48-460d-9cce-5a91135aaf60",
   "metadata": {},
   "outputs": [],
   "source": []
  },
  {
   "cell_type": "code",
   "execution_count": null,
   "id": "7dadface-f4f1-45fa-8310-4658e90bc4b3",
   "metadata": {},
   "outputs": [],
   "source": [
    "def appendLastNToFirst(head, n) :\n",
    "    #Your code goes here\n",
    "    if n == 0 or head is None:\n",
    "        return head\n",
    "\n",
    "    tail = None\n",
    "    count = 0\n",
    "    temp = head\n",
    "    while temp is not None:\n",
    "        count += 1\n",
    "        tail = temp\n",
    "        temp = temp.next\n",
    "    \n",
    "\n",
    "    i = 0\n",
    "    temp = head\n",
    "    newTail = None\n",
    "    while i < (count - n):\n",
    "        newTail = temp\n",
    "        temp = temp.next\n",
    "        newHead = temp\n",
    "        i += 1\n",
    "    \n",
    "    newTail.next = None\n",
    "    tail.next = head\n",
    "    head = newHead\n",
    "\n",
    "    return head"
   ]
  }
 ],
 "metadata": {
  "kernelspec": {
   "display_name": "Python 3 (ipykernel)",
   "language": "python",
   "name": "python3"
  },
  "language_info": {
   "codemirror_mode": {
    "name": "ipython",
    "version": 3
   },
   "file_extension": ".py",
   "mimetype": "text/x-python",
   "name": "python",
   "nbconvert_exporter": "python",
   "pygments_lexer": "ipython3",
   "version": "3.11.1"
  }
 },
 "nbformat": 4,
 "nbformat_minor": 5
}
