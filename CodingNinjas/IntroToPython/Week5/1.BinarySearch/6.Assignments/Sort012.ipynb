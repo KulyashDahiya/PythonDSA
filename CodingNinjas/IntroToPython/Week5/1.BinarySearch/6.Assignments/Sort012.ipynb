{
 "cells": [
  {
   "cell_type": "code",
   "execution_count": null,
   "id": "84a11e02-2533-4e8a-8171-21afad784982",
   "metadata": {},
   "outputs": [],
   "source": [
    "# You are given an integer array/list(ARR) of size N. It contains only 0s, 1s and 2s. \n",
    "# Write a solution to sort this array/list in a 'single scan'.\n",
    "# 'Single Scan' refers to iterating over the array/list just once or to put it in other words,\n",
    "# you will be visiting each element in the array/list just once"
   ]
  },
  {
   "cell_type": "code",
   "execution_count": 15,
   "id": "225a7323-3a3e-454e-bb22-a092bd1de7b3",
   "metadata": {},
   "outputs": [
    {
     "name": "stdout",
     "output_type": "stream",
     "text": [
      "[0, 0, 1, 1, 2, 2]\n"
     ]
    }
   ],
   "source": [
    "from sys import stdin \n",
    "\n",
    "def sort012(a, n) :\n",
    "    temp = [None] * n\n",
    "    nz = 0\n",
    "    nT = n-1\n",
    "    for i in range(n):\n",
    "        if a[i] == 0:\n",
    "            temp[nz] = a[i]\n",
    "            nz += 1\n",
    "        elif a[i] == 2:\n",
    "            temp[nT] = a[i]\n",
    "            nT -= 1\n",
    "    for i in range(nz, nT + 1):\n",
    "        temp[i] = 1\n",
    "    \n",
    "    print(temp)\n",
    "\n",
    "\n",
    "\n",
    "\n",
    "\n",
    "\n",
    "def takeInput() :\n",
    "    n = 6\n",
    "    if n == 0 :\n",
    "        return list(), 0\n",
    "\n",
    "    a = [2, 1, 0, 1, 2, 0]\n",
    "    return a, n\n",
    "\n",
    "\n",
    "\n",
    "    \n",
    "a, n = takeInput()\n",
    "sort012(a, n)"
   ]
  },
  {
   "cell_type": "code",
   "execution_count": null,
   "id": "eadb28f0-2fa3-4313-843c-c64e0e635b2b",
   "metadata": {},
   "outputs": [],
   "source": [
    "## Without temp array\n",
    "\n",
    "def sort012(a, n) :\n",
    "\n",
    "    nz = 0\n",
    "    nT = n-1\n",
    "    i = 0\n",
    "    while i <= nT:\n",
    "        if arr[i] == 0:\n",
    "            arr[i], arr[nz] = arr[nz], arr[i]\n",
    "            nz = nz + 1\n",
    "            i = i + 1\n",
    "        \n",
    "        elif arr[i] == 2:\n",
    "            arr[i], arr[nT] =  arr[nT], arr[i]\n",
    "            nT -= 1\n",
    "\n",
    "        else:\n",
    "            i = i + 1\n",
    "\n",
    "    return arr"
   ]
  }
 ],
 "metadata": {
  "kernelspec": {
   "display_name": "Python 3 (ipykernel)",
   "language": "python",
   "name": "python3"
  },
  "language_info": {
   "codemirror_mode": {
    "name": "ipython",
    "version": 3
   },
   "file_extension": ".py",
   "mimetype": "text/x-python",
   "name": "python",
   "nbconvert_exporter": "python",
   "pygments_lexer": "ipython3",
   "version": "3.11.1"
  }
 },
 "nbformat": 4,
 "nbformat_minor": 5
}
