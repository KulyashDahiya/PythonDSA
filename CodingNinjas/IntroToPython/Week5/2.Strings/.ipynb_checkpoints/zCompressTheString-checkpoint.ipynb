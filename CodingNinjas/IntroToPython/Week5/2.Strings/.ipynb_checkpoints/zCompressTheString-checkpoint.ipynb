{
 "cells": [
  {
   "cell_type": "code",
   "execution_count": null,
   "id": "5729aeec-2e7e-49c4-b5be-97dffcf89180",
   "metadata": {},
   "outputs": [],
   "source": [
    "def getCompressedString(string) :\n",
    "    # Write your code here.\n",
    "    n = len(string)\n",
    "    if n == 0:\n",
    "        return string\n",
    "\n",
    "    count = 1\n",
    "    prev_char = string[0]\n",
    "    ans = \"\" + prev_char\n",
    "\n",
    "    for i in range(1, n):\n",
    "    if string[i] == prev_char:\n",
    "            count += 1\n",
    "            if i == n-1:\n",
    "                ans += str(count)\n",
    "\n",
    "        elif count>1:\n",
    "            ans += str(count) + string[i]\n",
    "            prev_char = string[i]\n",
    "            count = 1\n",
    "        \n",
    "        else:\n",
    "            ans += string[i]\n",
    "            prev_char = string[i]\n",
    "            count = 1\n",
    "\n",
    "    return ans"
   ]
  }
 ],
 "metadata": {
  "kernelspec": {
   "display_name": "Python 3 (ipykernel)",
   "language": "python",
   "name": "python3"
  },
  "language_info": {
   "codemirror_mode": {
    "name": "ipython",
    "version": 3
   },
   "file_extension": ".py",
   "mimetype": "text/x-python",
   "name": "python",
   "nbconvert_exporter": "python",
   "pygments_lexer": "ipython3",
   "version": "3.11.1"
  }
 },
 "nbformat": 4,
 "nbformat_minor": 5
}
