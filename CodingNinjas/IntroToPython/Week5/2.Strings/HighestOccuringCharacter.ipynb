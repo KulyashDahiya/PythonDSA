{
 "cells": [
  {
   "cell_type": "code",
   "execution_count": 7,
   "id": "14febcb8-94be-4cb7-9960-1b6b92689dfb",
   "metadata": {},
   "outputs": [
    {
     "name": "stdout",
     "output_type": "stream",
     "text": [
      "a\n"
     ]
    }
   ],
   "source": [
    "freq = [0] * 256\n",
    "string = \"abcdeapapqarr\"\n",
    "for el in string:\n",
    "    x = ord(el)\n",
    "    freq[x] += 1\n",
    "\n",
    "maxi = 0\n",
    "for i in range(256):\n",
    "    if freq[i] > maxi:\n",
    "        maxi = i\n",
    "        \n",
    "print(chr(maxi))"
   ]
  },
  {
   "cell_type": "code",
   "execution_count": null,
   "id": "8b033b26-605c-42c0-870b-1cf77f853a7b",
   "metadata": {},
   "outputs": [],
   "source": [
    "def highestOccuringChar(string):\n",
    "\t# Your code goes here\n",
    "\n",
    "\tfreq = [0] * 256\n",
    "\t# string = \"abcdeapapqarr\"\n",
    "\tfor el in string:\n",
    "\t\tfreq[ord(el)] += 1\n",
    "\n",
    "\tmaxi = -1\n",
    "\tc = ''\n",
    "\tfor el in string:\n",
    "\t\tif maxi < freq[ord(el)]:\n",
    "\t\t\tmaxi = freq[ord(el)]\n",
    "\t\t\tc = el\n",
    "\n",
    "\treturn c"
   ]
  }
 ],
 "metadata": {
  "kernelspec": {
   "display_name": "Python 3 (ipykernel)",
   "language": "python",
   "name": "python3"
  },
  "language_info": {
   "codemirror_mode": {
    "name": "ipython",
    "version": 3
   },
   "file_extension": ".py",
   "mimetype": "text/x-python",
   "name": "python",
   "nbconvert_exporter": "python",
   "pygments_lexer": "ipython3",
   "version": "3.11.1"
  }
 },
 "nbformat": 4,
 "nbformat_minor": 5
}
