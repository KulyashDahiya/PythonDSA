{
 "cells": [
  {
   "cell_type": "code",
   "execution_count": 3,
   "id": "7039e9f6-a257-42bc-ad7d-defea3f40a68",
   "metadata": {},
   "outputs": [
    {
     "name": "stdout",
     "output_type": "stream",
     "text": [
      "2\n",
      "4\n",
      "(5, 6, 7, 3, 2, 14, 5, 6)\n",
      "<class 'tuple'>\n"
     ]
    }
   ],
   "source": [
    "def takeAnyNumberOfVariable(a, b, *more):\n",
    "    print(a)\n",
    "    print(b)\n",
    "    print(more)\n",
    "    print(type(more))\n",
    "    \n",
    "takeAnyNumberOfVariable(2,4,5,6,7,3,2,14,5,6)"
   ]
  },
  {
   "cell_type": "code",
   "execution_count": null,
   "id": "e8b525f7-b342-41d9-bc4a-a160292e7091",
   "metadata": {},
   "outputs": [],
   "source": []
  }
 ],
 "metadata": {
  "kernelspec": {
   "display_name": "Python 3 (ipykernel)",
   "language": "python",
   "name": "python3"
  },
  "language_info": {
   "codemirror_mode": {
    "name": "ipython",
    "version": 3
   },
   "file_extension": ".py",
   "mimetype": "text/x-python",
   "name": "python",
   "nbconvert_exporter": "python",
   "pygments_lexer": "ipython3",
   "version": "3.11.1"
  }
 },
 "nbformat": 4,
 "nbformat_minor": 5
}
