{
 "cells": [
  {
   "cell_type": "code",
   "execution_count": 3,
   "id": "4b9ffd22-0381-4778-9469-e404fc505bea",
   "metadata": {},
   "outputs": [],
   "source": [
    "def findTriplet(arr, n, x) :\n",
    "    #Your code goes here\n",
    "    #return your answer\n",
    "    count = 0\n",
    "    for i in range(n):\n",
    "        for j in range(i+1, n):\n",
    "            for k in range(j+1, n):\n",
    "                if arr[i] + arr[j] + arr[k] == x:\n",
    "                    count += 1\n",
    "    return count"
   ]
  },
  {
   "cell_type": "code",
   "execution_count": null,
   "id": "5638ad92-4c20-47e6-adf0-0435bb419170",
   "metadata": {},
   "outputs": [],
   "source": [
    "#input_arr = 9 10 10 2 8 6 6 11 2 1 8 \n",
    "# x = 7\n",
    "arr = [int(x) for x in input().split()]\n",
    "x = int(input())\n",
    "n = len(arr)\n",
    "print(pairSum(arr, n, x))"
   ]
  }
 ],
 "metadata": {
  "kernelspec": {
   "display_name": "Python 3 (ipykernel)",
   "language": "python",
   "name": "python3"
  },
  "language_info": {
   "codemirror_mode": {
    "name": "ipython",
    "version": 3
   },
   "file_extension": ".py",
   "mimetype": "text/x-python",
   "name": "python",
   "nbconvert_exporter": "python",
   "pygments_lexer": "ipython3",
   "version": "3.11.1"
  }
 },
 "nbformat": 4,
 "nbformat_minor": 5
}
