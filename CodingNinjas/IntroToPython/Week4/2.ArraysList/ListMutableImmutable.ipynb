{
 "cells": [
  {
   "cell_type": "code",
   "execution_count": 1,
   "id": "07da10fd-bb48-4e76-a3db-5e2fae3e36f3",
   "metadata": {},
   "outputs": [
    {
     "name": "stdout",
     "output_type": "stream",
     "text": [
      "4389766912\n",
      "4389766912\n",
      "[2, 2, 3, 4]\n",
      "[2, 2, 3, 4]\n"
     ]
    }
   ],
   "source": [
    "li = [1, 2, 3, 4]\n",
    "print(id(li))\n",
    "li2 = li\n",
    "print(id(li2))\n",
    "\n",
    "li[0] = 2\n",
    "print(li)\n",
    "print(li2)\n"
   ]
  },
  {
   "cell_type": "code",
   "execution_count": 2,
   "id": "8f0e0398-7d75-4091-8d38-b73da49737e0",
   "metadata": {},
   "outputs": [
    {
     "name": "stdout",
     "output_type": "stream",
     "text": [
      "4389763328\n",
      "4389765952\n"
     ]
    }
   ],
   "source": [
    "l1 = [1, 2, 3]\n",
    "l2 = [1, 2, 3]\n",
    "\n",
    "print(id(l1))\n",
    "print(id(l2))"
   ]
  },
  {
   "cell_type": "code",
   "execution_count": 6,
   "id": "f65325f3-aeca-4508-9dba-63fbfa0210f1",
   "metadata": {},
   "outputs": [
    {
     "name": "stdout",
     "output_type": "stream",
     "text": [
      "[1, 2, 3, 4]\n",
      "[3, 2, 3, 4]\n"
     ]
    }
   ],
   "source": [
    "def increment(li):\n",
    "    li[0] = li[0] + 2\n",
    "    return\n",
    "\n",
    "li = [1,2,3,4]\n",
    "print(li)\n",
    "increment(li)\n",
    "print(li)"
   ]
  },
  {
   "cell_type": "code",
   "execution_count": 7,
   "id": "022e7fb3-fc74-4f1e-8b74-74419d27c460",
   "metadata": {},
   "outputs": [
    {
     "name": "stdout",
     "output_type": "stream",
     "text": [
      "[1, 2, 3, 4]\n",
      "[1, 2, 3, 4]\n"
     ]
    }
   ],
   "source": [
    "def increment(li):\n",
    "    li = [3, 3, 3]\n",
    "    return\n",
    "\n",
    "li = [1,2,3,4]\n",
    "print(li)\n",
    "increment(li)\n",
    "print(li)"
   ]
  },
  {
   "cell_type": "code",
   "execution_count": 8,
   "id": "4be158c1-7be9-4bd8-93de-2ed856acc03b",
   "metadata": {},
   "outputs": [
    {
     "name": "stdout",
     "output_type": "stream",
     "text": [
      "[1, 2, 3, 4]\n",
      "[3, 3, 3]\n"
     ]
    }
   ],
   "source": [
    "def increment(li):\n",
    "    li = [3, 3, 3]\n",
    "    return li\n",
    "\n",
    "li = [1,2,3,4]\n",
    "print(li)\n",
    "li = increment(li)\n",
    "print(li)"
   ]
  },
  {
   "cell_type": "code",
   "execution_count": null,
   "id": "5feeda60-8851-496d-91b5-8af4598ff32e",
   "metadata": {},
   "outputs": [],
   "source": []
  }
 ],
 "metadata": {
  "kernelspec": {
   "display_name": "Python 3 (ipykernel)",
   "language": "python",
   "name": "python3"
  },
  "language_info": {
   "codemirror_mode": {
    "name": "ipython",
    "version": 3
   },
   "file_extension": ".py",
   "mimetype": "text/x-python",
   "name": "python",
   "nbconvert_exporter": "python",
   "pygments_lexer": "ipython3",
   "version": "3.11.1"
  }
 },
 "nbformat": 4,
 "nbformat_minor": 5
}
