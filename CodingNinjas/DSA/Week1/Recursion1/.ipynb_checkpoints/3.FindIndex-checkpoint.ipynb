{
 "cells": [
  {
   "cell_type": "code",
   "execution_count": null,
   "id": "9cbde007-9321-4d2c-959c-c8b58c8f0d0a",
   "metadata": {},
   "outputs": [],
   "source": [
    "def firstIndex(arr, x, si):\n",
    "    # Please add your code here\n",
    "    if si == len(arr):\n",
    "        return -1\n",
    "    \n",
    "    if arr[si] == x:\n",
    "        return si\n",
    "    else:\n",
    "        return firstIndex(arr, x, si+1)\n",
    "\n",
    "# Main\n",
    "from sys import setrecursionlimit\n",
    "setrecursionlimit(11000)\n",
    "n=int(input())\n",
    "arr=list(int(i) for i in input().strip().split(' '))\n",
    "x=int(input())\n",
    "si = 0\n",
    "print(firstIndex(arr, x, si))\n"
   ]
  }
 ],
 "metadata": {
  "kernelspec": {
   "display_name": "Python 3 (ipykernel)",
   "language": "python",
   "name": "python3"
  },
  "language_info": {
   "codemirror_mode": {
    "name": "ipython",
    "version": 3
   },
   "file_extension": ".py",
   "mimetype": "text/x-python",
   "name": "python",
   "nbconvert_exporter": "python",
   "pygments_lexer": "ipython3",
   "version": "3.11.1"
  }
 },
 "nbformat": 4,
 "nbformat_minor": 5
}
