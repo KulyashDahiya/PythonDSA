{
 "cells": [
  {
   "cell_type": "code",
   "execution_count": 7,
   "id": "5a195c97-f346-48cb-9797-10e220a3370e",
   "metadata": {},
   "outputs": [
    {
     "name": "stdin",
     "output_type": "stream",
     "text": [
      " hipith\n"
     ]
    },
    {
     "name": "stdout",
     "output_type": "stream",
     "text": [
      "hi3.14th\n"
     ]
    }
   ],
   "source": [
    "def ReplacePI(string):\n",
    "    if len(string) == 0 or len(string) == 1:\n",
    "        return string\n",
    "    \n",
    "    if string[0] == 'p' and string[1] == 'i':\n",
    "        return \"3.14\" + ReplacePI(string[2:])\n",
    "    else:\n",
    "        return string[0] + ReplacePI(string[1:])\n",
    "\n",
    "# Main\n",
    "string = input()\n",
    "print(ReplacePI(string)) "
   ]
  }
 ],
 "metadata": {
  "kernelspec": {
   "display_name": "Python 3 (ipykernel)",
   "language": "python",
   "name": "python3"
  },
  "language_info": {
   "codemirror_mode": {
    "name": "ipython",
    "version": 3
   },
   "file_extension": ".py",
   "mimetype": "text/x-python",
   "name": "python",
   "nbconvert_exporter": "python",
   "pygments_lexer": "ipython3",
   "version": "3.11.1"
  }
 },
 "nbformat": 4,
 "nbformat_minor": 5
}
