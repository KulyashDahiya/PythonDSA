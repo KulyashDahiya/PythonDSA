{
 "cells": [
  {
   "cell_type": "code",
   "execution_count": null,
   "id": "db17e397-41d1-46f6-bd07-3e8e99e32c88",
   "metadata": {},
   "outputs": [],
   "source": [
    "def merge(arr1, arr2, arr):\n",
    "    n = len(arr1)\n",
    "    m = len(arr2)\n",
    "    i, j, k = 0, 0, 0\n",
    "    while i < n and j <m:\n",
    "        if arr1[i] <= arr2[j]:\n",
    "            arr[k] = arr1[i]\n",
    "            i += 1\n",
    "            k += 1\n",
    "        else:  #arr2[j] < arr1[i]:\n",
    "            arr[k] = arr2[j]\n",
    "            j += 1\n",
    "            k += 1\n",
    "        # else:\n",
    "        #     arr[k] = arr1[i]\n",
    "        #     arr[k+1] = arr2[j]\n",
    "        #     i += 1\n",
    "        #     j += 1\n",
    "        #     k += 2\n",
    "    \n",
    "    while i < n:\n",
    "        arr[k] = arr1[i]\n",
    "        i += 1\n",
    "        k += 1\n",
    "    while j < m:\n",
    "        arr[k] = arr2[j]\n",
    "        j += 1\n",
    "        k += 1\n",
    "\n",
    "\n",
    "def mergeSort(arr: [int], l: int, r: int):\n",
    "    # Write Your Code Here\n",
    "    length = len(arr)\n",
    "    if length == 0 or length == 1:\n",
    "        return\n",
    "        \n",
    "    mid = length//2\n",
    "    arr1 = arr[:mid]\n",
    "    arr2 = arr[mid:]\n",
    "    mergeSort(arr1, 0, len(arr1)-1)\n",
    "    mergeSort(arr2, 0, len(arr2)-1)\n",
    "    # arr1.sort()\n",
    "    # arr2.sort()\n",
    "\n",
    "    merge(arr1, arr2, arr)"
   ]
  }
 ],
 "metadata": {
  "kernelspec": {
   "display_name": "Python 3 (ipykernel)",
   "language": "python",
   "name": "python3"
  },
  "language_info": {
   "codemirror_mode": {
    "name": "ipython",
    "version": 3
   },
   "file_extension": ".py",
   "mimetype": "text/x-python",
   "name": "python",
   "nbconvert_exporter": "python",
   "pygments_lexer": "ipython3",
   "version": "3.11.1"
  }
 },
 "nbformat": 4,
 "nbformat_minor": 5
}
