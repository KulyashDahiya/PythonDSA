{
 "cells": [
  {
   "cell_type": "code",
   "execution_count": 2,
   "id": "7fc5feba-3e52-4f00-b448-3795235304d9",
   "metadata": {},
   "outputs": [
    {
     "name": "stdout",
     "output_type": "stream",
     "text": [
      "[0, 0, 0, 1, 1, 1]\n"
     ]
    }
   ],
   "source": [
    "arr = [1, 1, 0, 0, 1, 0 ]\n",
    "n = len(arr)\n",
    "for i in range(n):\n",
    "        arr.sort()\n",
    "print(arr)"
   ]
  },
  {
   "cell_type": "code",
   "execution_count": 7,
   "id": "9e36716e-e5da-4255-a5b0-44b8d517bd3c",
   "metadata": {},
   "outputs": [
    {
     "name": "stdout",
     "output_type": "stream",
     "text": [
      "[0, 0, 0, 1, 1, 1]\n"
     ]
    }
   ],
   "source": [
    "arr = [1, 1, 0, 0, 1, 0 ]\n",
    "n = len(arr)\n",
    "\n",
    "s = 0\n",
    "i = n-1\n",
    "while s <= i:\n",
    "    if arr[s] == 1 and arr[i] == 0:\n",
    "        arr[s], arr[i] = arr[i], arr[s]\n",
    "    if arr[i] != 0:\n",
    "        i -= 1\n",
    "    if arr[s] != 1:\n",
    "        s += 1\n",
    "        \n",
    "print(arr)"
   ]
  },
  {
   "cell_type": "code",
   "execution_count": 8,
   "id": "ef796380-72dc-4211-848c-8e126c7ba4ef",
   "metadata": {},
   "outputs": [
    {
     "name": "stdout",
     "output_type": "stream",
     "text": [
      "[0, 0, 1, 1, 1, 1]\n"
     ]
    }
   ],
   "source": [
    "arr = [1, 0, 1, 0, 1, 1 ]\n",
    "n = len(arr)\n",
    "\n",
    "s = 0\n",
    "i = n-1\n",
    "while s <= i:\n",
    "    if arr[s] == 1 and arr[i] == 0:\n",
    "        arr[s], arr[i] = arr[i], arr[s]\n",
    "    if arr[i] != 0:\n",
    "        i -= 1\n",
    "    if arr[s] != 1:\n",
    "        s += 1\n",
    "        \n",
    "print(arr)"
   ]
  }
 ],
 "metadata": {
  "kernelspec": {
   "display_name": "Python 3 (ipykernel)",
   "language": "python",
   "name": "python3"
  },
  "language_info": {
   "codemirror_mode": {
    "name": "ipython",
    "version": 3
   },
   "file_extension": ".py",
   "mimetype": "text/x-python",
   "name": "python",
   "nbconvert_exporter": "python",
   "pygments_lexer": "ipython3",
   "version": "3.11.1"
  }
 },
 "nbformat": 4,
 "nbformat_minor": 5
}
