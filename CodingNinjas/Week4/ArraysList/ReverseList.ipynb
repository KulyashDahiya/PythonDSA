{
 "cells": [
  {
   "cell_type": "code",
   "execution_count": 1,
   "id": "0768cef2-b474-4950-8e0e-8dfcd176c065",
   "metadata": {},
   "outputs": [
    {
     "name": "stdout",
     "output_type": "stream",
     "text": [
      "[7, 6, 5, 4, 3, 2, 1]\n"
     ]
    }
   ],
   "source": [
    "def reverse(li):\n",
    "    n = len(li)\n",
    "    for i in range(n//2):\n",
    "        li[i], li[n-1-i] = li[n-1-i], li[i]\n",
    "    return\n",
    "\n",
    "\n",
    "li = [1, 2, 3, 4, 5, 6, 7]\n",
    "reverse(li)\n",
    "print(li)"
   ]
  },
  {
   "cell_type": "code",
   "execution_count": 2,
   "id": "26d090e6-3265-447e-b38d-a92075d14364",
   "metadata": {},
   "outputs": [
    {
     "name": "stdout",
     "output_type": "stream",
     "text": [
      "[6, 5, 4, 3, 2, 1]\n"
     ]
    }
   ],
   "source": [
    "def reverse(li):\n",
    "    n = len(li)\n",
    "    for i in range(n//2):\n",
    "        li[i], li[n-1-i] = li[n-1-i], li[i]\n",
    "    return\n",
    "\n",
    "\n",
    "li = [1, 2, 3, 4, 5, 6]\n",
    "reverse(li)\n",
    "print(li)"
   ]
  },
  {
   "cell_type": "code",
   "execution_count": 4,
   "id": "662957b6-5397-4ee8-bfa5-61308a7a2a39",
   "metadata": {},
   "outputs": [
    {
     "name": "stdout",
     "output_type": "stream",
     "text": [
      "[6, 5, 4, 3, 2, 1]\n"
     ]
    }
   ],
   "source": [
    "## Check this one\n",
    "def reverse(li):\n",
    "    n = len(li)\n",
    "    for i in range(n//2):\n",
    "        li[i], li[-i-1] = li[-i-1], li[i]  ## Here is the change\n",
    "    return\n",
    "\n",
    "\n",
    "li = [1, 2, 3, 4, 5, 6]\n",
    "reverse(li)\n",
    "print(li)"
   ]
  },
  {
   "cell_type": "code",
   "execution_count": 5,
   "id": "593e640c-9d02-46ac-a703-2c793cba9409",
   "metadata": {},
   "outputs": [
    {
     "name": "stdout",
     "output_type": "stream",
     "text": [
      "[6, 5, 4, 3, 2, 1]\n"
     ]
    }
   ],
   "source": [
    "li = [1, 2, 3, 4, 5, 6]\n",
    "print(li[::-1])"
   ]
  },
  {
   "cell_type": "code",
   "execution_count": 6,
   "id": "53995652-8eb3-4731-a8ad-4be00d3820f4",
   "metadata": {},
   "outputs": [
    {
     "name": "stdout",
     "output_type": "stream",
     "text": [
      "4419345472\n",
      "4419343936\n"
     ]
    }
   ],
   "source": [
    "li = [1, 2, 3, 4, 5, 6]\n",
    "print(id(li))\n",
    "li = li[::-1]\n",
    "print(id(li))"
   ]
  },
  {
   "cell_type": "code",
   "execution_count": null,
   "id": "e727e32e-3e10-4e39-a307-498add3cbe1d",
   "metadata": {},
   "outputs": [],
   "source": []
  }
 ],
 "metadata": {
  "kernelspec": {
   "display_name": "Python 3 (ipykernel)",
   "language": "python",
   "name": "python3"
  },
  "language_info": {
   "codemirror_mode": {
    "name": "ipython",
    "version": 3
   },
   "file_extension": ".py",
   "mimetype": "text/x-python",
   "name": "python",
   "nbconvert_exporter": "python",
   "pygments_lexer": "ipython3",
   "version": "3.11.1"
  }
 },
 "nbformat": 4,
 "nbformat_minor": 5
}
