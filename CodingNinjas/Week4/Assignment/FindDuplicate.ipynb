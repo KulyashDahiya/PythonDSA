{
 "cells": [
  {
   "cell_type": "code",
   "execution_count": 5,
   "id": "20d14e41-5000-40ff-be9e-d96a6dde135f",
   "metadata": {},
   "outputs": [],
   "source": [
    "def duplicateNumber(arr, n): \n",
    "    arr.sort()\n",
    "    print(arr)\n",
    "    for i in range(n):\n",
    "        if arr[i] == arr[i+1]:\n",
    "            return arr[i]\n",
    "        else:\n",
    "            continue\n",
    "    return -1"
   ]
  },
  {
   "cell_type": "code",
   "execution_count": 8,
   "id": "4e373549-f241-49e1-8bf0-21d90ecb7c95",
   "metadata": {},
   "outputs": [
    {
     "name": "stdin",
     "output_type": "stream",
     "text": [
      " 1 2 3 1 0\n"
     ]
    },
    {
     "name": "stdout",
     "output_type": "stream",
     "text": [
      "['0', '1', '1', '2', '3']\n",
      "1\n"
     ]
    }
   ],
   "source": [
    "## N length of list contains elements of range 0 to n-2 ## for 5 the elements can be 5-2 = 3\n",
    "#i.e 0 to 3 -----> 0, 1, 2, 3\n",
    "## Only one duplicate should always be present\n",
    "\n",
    "arr = [x for x in input().split()]\n",
    "n = len(arr)\n",
    "print(duplicateNumber(arr,n))"
   ]
  }
 ],
 "metadata": {
  "kernelspec": {
   "display_name": "Python 3 (ipykernel)",
   "language": "python",
   "name": "python3"
  },
  "language_info": {
   "codemirror_mode": {
    "name": "ipython",
    "version": 3
   },
   "file_extension": ".py",
   "mimetype": "text/x-python",
   "name": "python",
   "nbconvert_exporter": "python",
   "pygments_lexer": "ipython3",
   "version": "3.11.1"
  }
 },
 "nbformat": 4,
 "nbformat_minor": 5
}
