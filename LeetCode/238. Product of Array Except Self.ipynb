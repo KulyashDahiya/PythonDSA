{
 "cells": [
  {
   "cell_type": "markdown",
   "metadata": {},
   "source": [
    "238. Product of Array Except Self\n",
    "Medium\n",
    "\n",
    "Given an integer array nums, return an array answer such that answer[i] is equal to the product of all the elements of nums except nums[i].\n",
    "\n",
    "The product of any prefix or suffix of nums is guaranteed to fit in a 32-bit integer.\n",
    "\n",
    "You must write an algorithm that runs in O(n) time and without using the division operation.\n",
    "\n",
    " \n",
    "\n",
    "Example 1:\n",
    "\n",
    "Input: nums = [1,2,3,4]\n",
    "Output: [24,12,8,6]\n",
    "Example 2:\n",
    "\n",
    "Input: nums = [-1,1,0,-3,3]\n",
    "Output: [0,0,9,0,0]\n",
    " \n",
    "\n",
    "Constraints:\n",
    "\n",
    "2 <= nums.length <= 105\n",
    "-30 <= nums[i] <= 30\n",
    "The product of any prefix or suffix of nums is guaranteed to fit in a 32-bit integer.\n",
    " \n",
    "\n",
    "Follow up: Can you solve the problem in O(1) extra space complexity? (The output array does not count as extra space for space complexity analysis.)"
   ]
  },
  {
   "cell_type": "code",
   "execution_count": 12,
   "metadata": {},
   "outputs": [],
   "source": [
    "# T.C ------- n^2\n",
    "\n",
    "# NOT OPTIMAL\n",
    "\n",
    "class Solution:\n",
    "    def productExceptSelf(self, nums: List[int]) -> List[int]:\n",
    "        n = len(nums)\n",
    "        answer = [1] * n\n",
    "\n",
    "        for i in range(n) :\n",
    "            product = 1\n",
    "            for j in nums:\n",
    "                if j != nums[i]:\n",
    "                    product *= j\n",
    "\n",
    "            answer[i] = product\n",
    "        \n",
    "        return answer\n",
    "        "
   ]
  },
  {
   "cell_type": "code",
   "execution_count": 13,
   "metadata": {},
   "outputs": [],
   "source": [
    "# OPTIMAL\n",
    "\n",
    "class Solution:\n",
    "    def productExceptSelf(self, nums: List[int]) -> List[int]:\n",
    "        n = len(nums)\n",
    "        answer = [1] * n\n",
    "\n",
    "        # Left Pass\n",
    "        left_product = 1\n",
    "        for i in range(n):\n",
    "            answer[i] = left_product\n",
    "            left_product *= nums[i]\n",
    "        \n",
    "        # Right Pass\n",
    "        right_product = 1\n",
    "        for i in range(n-1, -1, -1):\n",
    "            answer[i] *= right_product\n",
    "            right_product *= nums[i]\n",
    "\n",
    "        return answer\n",
    "\n"
   ]
  },
  {
   "cell_type": "code",
   "execution_count": 14,
   "metadata": {},
   "outputs": [
    {
     "name": "stdout",
     "output_type": "stream",
     "text": [
      "Result: [24, 12, 8, 6]\n",
      "All test cases passed!\n"
     ]
    }
   ],
   "source": [
    "def main():\n",
    "    # Example input\n",
    "    nums = [1, 2, 3, 4]\n",
    "    \n",
    "    solution = Solution()\n",
    "    result = solution.productExceptSelf(nums)\n",
    "    \n",
    "    print(\"Result:\", result)\n",
    "\n",
    "def test_productExceptSelf():\n",
    "    solution = Solution()\n",
    "\n",
    "    # Test case 1\n",
    "    nums = [1, 2, 3, 4]\n",
    "    assert solution.productExceptSelf(nums) == [24, 12, 8, 6]\n",
    "\n",
    "    # Test case 2\n",
    "    nums = [2, 3, 4, 5]\n",
    "    assert solution.productExceptSelf(nums) == [60, 40, 30, 24]\n",
    "\n",
    "    # Test case 3\n",
    "    nums = [1, 0, 3, 4]\n",
    "    assert solution.productExceptSelf(nums) == [0, 12, 0, 0]\n",
    "\n",
    "    # Test case 4\n",
    "    nums = [-1, 1, 0, -3, 3]\n",
    "    assert solution.productExceptSelf(nums) == [0, 0, 9, 0, 0]\n",
    "\n",
    "    print(\"All test cases passed!\")\n",
    "\n",
    "if __name__ == \"__main__\":\n",
    "    main()\n",
    "    test_productExceptSelf()\n"
   ]
  }
 ],
 "metadata": {
  "kernelspec": {
   "display_name": "myenv",
   "language": "python",
   "name": "python3"
  },
  "language_info": {
   "codemirror_mode": {
    "name": "ipython",
    "version": 3
   },
   "file_extension": ".py",
   "mimetype": "text/x-python",
   "name": "python",
   "nbconvert_exporter": "python",
   "pygments_lexer": "ipython3",
   "version": "3.8.19"
  }
 },
 "nbformat": 4,
 "nbformat_minor": 2
}
