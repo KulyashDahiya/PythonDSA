{
 "cells": [
  {
   "cell_type": "markdown",
   "metadata": {},
   "source": [
    "487. Max Consecutive Ones II             (# LintCode 883 · Max Consecutive Ones II)\n",
    "Medium\n",
    "\n",
    "COMPANY : Google\n",
    "\n",
    "Description\n",
    "\n",
    "Given a binary array, find the maximum number of consecutive 1s in this array if you can flip at most one 0.\n",
    "\n",
    "The input array will only contain 0 and 1.\n",
    "The length of input array is a positive integer and will not exceed 10,000.\n",
    "\n",
    "Example 1:\n",
    "\tInput:  nums = [1,0,1,1,0]\n",
    "\tOutput:  4\n",
    "\t\n",
    "\tExplanation:\n",
    "\tFlip the first zero will get the the maximum number of consecutive 1s.\n",
    "\tAfter flipping, the maximum number of consecutive 1s is 4.\n",
    "\n",
    "Example 2:\n",
    "\tInput: nums = [1,0,1,0,1]\n",
    "\tOutput:  3\n",
    "\t\n",
    "\tExplanation:\n",
    "\tFlip each zero will get the the maximum number of consecutive 1s.\n",
    "\tAfter flipping, the maximum number of consecutive 1s is 3.\n",
    "\t"
   ]
  },
  {
   "cell_type": "code",
   "execution_count": 6,
   "metadata": {},
   "outputs": [
    {
     "data": {
      "text/plain": [
       "4"
      ]
     },
     "execution_count": 6,
     "metadata": {},
     "output_type": "execute_result"
    }
   ],
   "source": [
    "def find_max_consecutive_ones(nums):\n",
    "    # write your code here\n",
    "    max_length = 0\n",
    "    zero_count = 0\n",
    "    left = right = 0\n",
    "\n",
    "    for right in range(len(nums)):\n",
    "\n",
    "        if nums[right] == 0:\n",
    "            zero_count += 1\n",
    "\n",
    "        while zero_count > 1:\n",
    "            if nums[left] == 0:\n",
    "                zero_count -= 1\n",
    "            left += 1\n",
    "        \n",
    "\n",
    "        max_length = max(max_length, (right - left + 1))\n",
    "\n",
    "    return max_length\n",
    "\n",
    "\n",
    "nums = [1,0,1,1,0]\n",
    "find_max_consecutive_ones(nums)\n",
    "    "
   ]
  },
  {
   "cell_type": "code",
   "execution_count": null,
   "metadata": {},
   "outputs": [],
   "source": []
  },
  {
   "cell_type": "code",
   "execution_count": null,
   "metadata": {},
   "outputs": [],
   "source": []
  }
 ],
 "metadata": {
  "kernelspec": {
   "display_name": "myenv",
   "language": "python",
   "name": "python3"
  },
  "language_info": {
   "codemirror_mode": {
    "name": "ipython",
    "version": 3
   },
   "file_extension": ".py",
   "mimetype": "text/x-python",
   "name": "python",
   "nbconvert_exporter": "python",
   "pygments_lexer": "ipython3",
   "version": "3.8.19"
  }
 },
 "nbformat": 4,
 "nbformat_minor": 2
}
