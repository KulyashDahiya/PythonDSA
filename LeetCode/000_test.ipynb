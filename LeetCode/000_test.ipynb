{
 "cells": [
  {
   "cell_type": "code",
   "execution_count": 42,
   "metadata": {},
   "outputs": [
    {
     "name": "stdout",
     "output_type": "stream",
     "text": [
      "[0, 1, 8, 11, 17, 22]\n",
      "[27, 20, 17, 11, 6, 0]\n",
      "3 11 11\n"
     ]
    },
    {
     "data": {
      "text/plain": [
       "3"
      ]
     },
     "execution_count": 42,
     "metadata": {},
     "output_type": "execute_result"
    }
   ],
   "source": [
    "from collections import defaultdict\n",
    "from typing import List\n",
    "\n",
    "def pivotIndex(nums: List[int]) -> int:\n",
    "    n = len(nums)\n",
    "    left = [0] * n\n",
    "    right = [0] * n\n",
    "\n",
    "    i = 0\n",
    "    while i < n:\n",
    "        if i == 0:\n",
    "            curr_sum = 0\n",
    "        else:\n",
    "            curr_sum += nums[i-1]\n",
    "        left[i] = curr_sum\n",
    "        i += 1\n",
    "        \n",
    "    print(left)\n",
    "\n",
    "    i = n-1\n",
    "    while i >= 0:\n",
    "        if i == n-1:\n",
    "            curr_sum = 0\n",
    "        else:\n",
    "            curr_sum += nums[i+1]\n",
    "        right[i] = curr_sum\n",
    "        i -= 1\n",
    "\n",
    "    print(right)\n",
    "\n",
    "    for i in range(1, n-1):\n",
    "        if left[i] == right[i]:\n",
    "            print(i, left[i], right[i])\n",
    "            return i\n",
    "\n",
    "    return -1      \n",
    "\n",
    "\n",
    "\n",
    "\n",
    "\n",
    "    \n",
    "nums = [1,7,3,6,5,6] #3\n",
    "pivotIndex(nums)"
   ]
  },
  {
   "cell_type": "code",
   "execution_count": 48,
   "metadata": {},
   "outputs": [
    {
     "data": {
      "text/plain": [
       "[[1, 3], [4, 6]]"
      ]
     },
     "execution_count": 48,
     "metadata": {},
     "output_type": "execute_result"
    }
   ],
   "source": [
    "def findDifference(nums1: List[int], nums2: List[int]) -> List[List[int]]:\n",
    "\n",
    "    # l1 = []\n",
    "    # l2 = []\n",
    "\n",
    "    # for num in nums1:\n",
    "    #     if num not in nums2:\n",
    "    #         l1.append(num)\n",
    "    # for num in nums2:\n",
    "    #     if num not in nums1:\n",
    "    #         l2.append(num)\n",
    "\n",
    "    # return [list(set(l1)), list(set(l2))]\n",
    "\n",
    "\n",
    "    nums1 = set(nums1)\n",
    "    nums2 = set(nums2)\n",
    "    return [list(nums1-nums2), list(nums2-nums1)]\n",
    "\n",
    "\n",
    "nums1 = [1,2,3]\n",
    "nums2 = [2,4,6]\n",
    "findDifference(nums1, nums2)"
   ]
  },
  {
   "cell_type": "code",
   "execution_count": 56,
   "metadata": {},
   "outputs": [
    {
     "name": "stdout",
     "output_type": "stream",
     "text": [
      "{1: 3, 2: 3, 3: 1}\n"
     ]
    },
    {
     "data": {
      "text/plain": [
       "False"
      ]
     },
     "execution_count": 56,
     "metadata": {},
     "output_type": "execute_result"
    }
   ],
   "source": [
    "from collections import Counter\n",
    "def uniqueOccurrences(arr: List[int]) -> bool:\n",
    "\n",
    "    dic = dict(Counter(arr))\n",
    "    print(dic)\n",
    "    lis = []\n",
    "    for value in dic.values():\n",
    "        if value in lis:\n",
    "            return False\n",
    "        else:\n",
    "            lis.append(value)\n",
    "\n",
    "    return True\n",
    "\n",
    "\n",
    "arr = [1,2,2,1,1,2,3]\n",
    "uniqueOccurrences(arr)"
   ]
  },
  {
   "cell_type": "code",
   "execution_count": 57,
   "metadata": {},
   "outputs": [
    {
     "data": {
      "text/plain": [
       "True"
      ]
     },
     "execution_count": 57,
     "metadata": {},
     "output_type": "execute_result"
    }
   ],
   "source": [
    "def closeStrings(word1: str, word2: str) -> bool:\n",
    "    if set(word1) != set(word2):\n",
    "        return False\n",
    "\n",
    "    freq1 = Counter(word1)\n",
    "    freq2 = Counter(word2)\n",
    "\n",
    "    return sorted(freq1.values()) == sorted(freq2.values())\n",
    "\n",
    "\n",
    "\n",
    "word1 = \"abc\"\n",
    "word2 = \"bca\"\n",
    "closeStrings(word1, word2)"
   ]
  },
  {
   "cell_type": "code",
   "execution_count": 63,
   "metadata": {},
   "outputs": [
    {
     "name": "stdout",
     "output_type": "stream",
     "text": [
      "[[3, 1, 2, 2], [1, 4, 4, 4], [2, 4, 2, 2], [2, 5, 2, 2]]\n",
      "[[3, 1, 2, 2], [1, 4, 4, 5], [2, 4, 2, 2], [2, 4, 2, 2]]\n"
     ]
    },
    {
     "data": {
      "text/plain": [
       "3"
      ]
     },
     "execution_count": 63,
     "metadata": {},
     "output_type": "execute_result"
    }
   ],
   "source": [
    "def equalPairs(grid: List[List[int]]) -> int: #List[list]:\n",
    "    n = len(grid)\n",
    "    column_grid = []\n",
    "\n",
    "    j = 0\n",
    "    while j < n:\n",
    "        temp = []\n",
    "        i = 0\n",
    "        while i < n:\n",
    "            temp.append(grid[i][j])\n",
    "            i += 1\n",
    "        j += 1\n",
    "        column_grid.append(temp)\n",
    "\n",
    "    print(column_grid)\n",
    "    print(grid)\n",
    "    count = 0\n",
    "    for column in column_grid:\n",
    "        for row in grid:\n",
    "            if row == column:\n",
    "                count += 1\n",
    "\n",
    "    return count\n",
    "\n",
    "\n",
    "grid = [[3,2,1],[1,7,6],[2,7,7]]\n",
    "grid = [[3,1,2,2],[1,4,4,5],[2,4,2,2],[2,4,2,2]]\n",
    "equalPairs(grid)"
   ]
  },
  {
   "cell_type": "code",
   "execution_count": 77,
   "metadata": {},
   "outputs": [
    {
     "name": "stdout",
     "output_type": "stream",
     "text": [
      "lee*cod*e\n",
      "lecod*e\n",
      "lecoe\n"
     ]
    }
   ],
   "source": [
    "def removeStars(s: str) -> str:\n",
    "        # stack = list(s)\n",
    "        # print(stack)\n",
    "\n",
    "        # print(stack.index('*'))\n",
    "\n",
    "        # while '*' in stack:\n",
    "\n",
    "        #     s_index = stack.index('*')\n",
    "        #     stack = stack[:s_index-1] + stack[s_index+1:]\n",
    "        #     print(stack)\n",
    "\n",
    "        # while '*' in s:\n",
    "        #     s_index = s.index('*')\n",
    "        #     s = s[:s_index-1] + s[s_index+1:]\n",
    "        #     print(s)\n",
    "\n",
    "        stack = []\n",
    "\n",
    "        for char in s:\n",
    "            if char == '*':\n",
    "                if stack:\n",
    "                    stack.pop()\n",
    "\n",
    "            else:\n",
    "                stack.append(char)\n",
    "\n",
    "        return ''.join(stack)\n",
    "\n",
    "s = \"leet**cod*e\"\n",
    "removeStars(s)"
   ]
  },
  {
   "cell_type": "code",
   "execution_count": 88,
   "metadata": {},
   "outputs": [
    {
     "data": {
      "text/plain": [
       "[10]"
      ]
     },
     "execution_count": 88,
     "metadata": {},
     "output_type": "execute_result"
    }
   ],
   "source": [
    "def asteroidCollision(asteroids: List[int]) -> List[int]:\n",
    "    stack = []\n",
    "    for asteroid in asteroids:\n",
    "        while stack and asteroid < 0 < stack[-1]:\n",
    "            if stack[-1] < -asteroid:\n",
    "                stack.pop()\n",
    "            elif stack[-1] == -asteroid:\n",
    "                stack.pop()\n",
    "                break\n",
    "            else:\n",
    "                break\n",
    "        else:\n",
    "            stack.append(asteroid) # No collision, add the asteroid to the stack\n",
    "\n",
    "\n",
    "    return stack\n",
    "\n",
    "asteroids = [8,-8]\n",
    "asteroids = [10,2,-5]\n",
    "asteroidCollision(asteroids)\n"
   ]
  },
  {
   "cell_type": "code",
   "execution_count": 103,
   "metadata": {},
   "outputs": [
    {
     "name": "stdout",
     "output_type": "stream",
     "text": [
      "aaa\n",
      "aaabcbc\n"
     ]
    },
    {
     "data": {
      "text/plain": [
       "''"
      ]
     },
     "execution_count": 103,
     "metadata": {},
     "output_type": "execute_result"
    }
   ],
   "source": [
    "def decodeString(s: str) -> str:\n",
    "    # Stacks to store the numbers and previous strings\n",
    "    num_stack = []\n",
    "    str_stack = []\n",
    "    current_str = \"\"\n",
    "    current_num = 0\n",
    "    \n",
    "    for char in s:\n",
    "        if char.isdigit():\n",
    "            current_num = current_num * 10 + int(char)\n",
    "        elif char == '[':\n",
    "            continue\n",
    "        elif char == ']':\n",
    "            if str_stack:\n",
    "                prev_str = str_stack[-1]\n",
    "            else:\n",
    "                prev_str = \"\"\n",
    "            current_str = prev_str + (current_str * current_num)\n",
    "            str_stack.append(current_str)\n",
    "            print(current_str)\n",
    "            current_num = 0\n",
    "            current_str = \"\"\n",
    "        else:\n",
    "            current_str += char\n",
    "        \n",
    "\n",
    "\n",
    "    \n",
    "    return current_str\n",
    "\n",
    "\n",
    "\n",
    "s = \"3[a]2[bc]\" # Output: \"aaabcbc\"\n",
    "decodeString(s)"
   ]
  },
  {
   "cell_type": "code",
   "execution_count": 108,
   "metadata": {},
   "outputs": [
    {
     "name": "stdout",
     "output_type": "stream",
     "text": [
      "1\n",
      "2\n",
      "3\n",
      "3\n"
     ]
    }
   ],
   "source": [
    "from collections import deque\n",
    "class RecentCounter:\n",
    "\n",
    "    def __init__(self):\n",
    "        self.requests = deque()\n",
    "\n",
    "    def ping(self, t: int) -> int:\n",
    "\n",
    "        self.requests.append(t)\n",
    "\n",
    "        while self.requests[0] < t-3000:\n",
    "            self.requests.popleft()\n",
    "\n",
    "        return len(self.requests)\n",
    "\n",
    "\n",
    "\n",
    "recent_counter = RecentCounter()\n",
    "print(recent_counter.ping(1))    # Output: 1\n",
    "print(recent_counter.ping(100))  # Output: 2\n",
    "print(recent_counter.ping(3001)) # Output: 3\n",
    "print(recent_counter.ping(3002)) # Output: 3"
   ]
  },
  {
   "cell_type": "code",
   "execution_count": 122,
   "metadata": {},
   "outputs": [],
   "source": [
    "from typing import Optional\n",
    "class ListNode:\n",
    "    def __init__(self, val: int = 0, next: Optional['ListNode'] = None):\n",
    "        self.val = val\n",
    "        self.next = next\n",
    "\n",
    "def list_to_linkedlist(lst: List[int]) -> Optional[ListNode]:\n",
    "    if not lst:\n",
    "        return None\n",
    "    head = ListNode(lst[0])\n",
    "    current = head\n",
    "    for value in lst[1:]:\n",
    "        current.next = ListNode(value)\n",
    "        current = current.next\n",
    "    return head"
   ]
  },
  {
   "cell_type": "code",
   "execution_count": 129,
   "metadata": {},
   "outputs": [
    {
     "name": "stdout",
     "output_type": "stream",
     "text": [
      "Part 1: 1 -> None\n",
      "Part 2: 2 -> None\n",
      "Part 3: 3 -> None\n",
      "Part 4: None\n",
      "Part 5: None\n"
     ]
    }
   ],
   "source": [
    "#725 \n",
    "from typing import Optional\n",
    "\n",
    "def splitListToParts(head: Optional[ListNode], k: int) -> List[Optional[ListNode]]:\n",
    "\n",
    "    length = 0\n",
    "    current = head\n",
    "    while current:\n",
    "        current = current.next\n",
    "        length += 1\n",
    "    \n",
    "    part_length = length // k\n",
    "    longer_parts = length % k\n",
    "\n",
    "    parts = []\n",
    "    current = head\n",
    "    for i in range(k):\n",
    "        parts.append(current)\n",
    "\n",
    "        part_size = part_length + (1 if i < longer_parts else 0)\n",
    "\n",
    "        for j in range(part_size - 1):\n",
    "            if current:\n",
    "                current = current.next\n",
    "                \n",
    "        if current:\n",
    "            next_part_head = current.next\n",
    "            current.next = None\n",
    "            current = next_part_head    \n",
    "    \n",
    "    \n",
    "    return parts\n",
    "\n",
    "\n",
    "head = [1, 2, 3]\n",
    "linked_list_head = list_to_linkedlist(head)  # Convert list to linked list\n",
    "result = splitListToParts(linked_list_head, 5)\n",
    "\n",
    "# Print the results\n",
    "for i, part in enumerate(result):\n",
    "    print(f\"Part {i + 1}: \", end=\"\")\n",
    "    current = part\n",
    "    while current:\n",
    "        print(current.val, end=\" -> \")\n",
    "        current = current.next\n",
    "    print(\"None\")"
   ]
  },
  {
   "cell_type": "code",
   "execution_count": 134,
   "metadata": {},
   "outputs": [
    {
     "data": {
      "text/plain": [
       "'Radiant'"
      ]
     },
     "execution_count": 134,
     "metadata": {},
     "output_type": "execute_result"
    }
   ],
   "source": [
    "from collections import deque\n",
    "\n",
    "def predictPartyVictory(senate: str) -> str:\n",
    "\n",
    "    n = len(senate)\n",
    "    qr, qd = deque(), deque()\n",
    "\n",
    "    for i, s in enumerate(senate):\n",
    "        if s == 'R':\n",
    "            qr.append(i)\n",
    "        else:\n",
    "            qd.append(i)\n",
    "    \n",
    "    while qr and qd:\n",
    "        r, d = qr.popleft(), qd.popleft()\n",
    "\n",
    "        if r < d:\n",
    "            qr.append(r+n)\n",
    "        else:\n",
    "            qd.append(d+n)\n",
    "\n",
    "    return \"Radiant\" if qr else \"Dire\"\n",
    "\n",
    "\n",
    "\n",
    "\n",
    "    \n",
    "senate = \"RDDRRRRD\"\n",
    "predictPartyVictory(senate)"
   ]
  },
  {
   "cell_type": "code",
   "execution_count": 188,
   "metadata": {},
   "outputs": [
    {
     "name": "stdout",
     "output_type": "stream",
     "text": [
      "1->2->3->4->5->None\n"
     ]
    }
   ],
   "source": [
    "class Node:\n",
    "    def __init__(self, data):\n",
    "        self.data = data\n",
    "        self.next = None\n",
    "\n",
    "\n",
    "\n",
    "def find_middle(head):\n",
    "\n",
    "    slow = head\n",
    "    fast = head\n",
    "\n",
    "    while fast and fast.next:\n",
    "        prev_middle = slow\n",
    "        slow = slow.next\n",
    "        fast = fast.next.next\n",
    "\n",
    "    return slow, prev_middle\n",
    "\n",
    "\n",
    "def printLL(head):\n",
    "\n",
    "    while head:\n",
    "        print(head.data, end=\"->\")\n",
    "        head = head.next\n",
    "    \n",
    "    print(\"None\")\n",
    "\n",
    "\n",
    "def createLL(data_array):\n",
    "    head = Node(None)\n",
    "\n",
    "    n = len(data_array)\n",
    "    current = head\n",
    "    for i in range(n):\n",
    "        current.next = Node(data_array[i])\n",
    "        current = current.next\n",
    "\n",
    "    return head.next\n",
    "\n",
    "head = createLL(data_array=[1, 2, 3, 4, 5])\n",
    "printLL(head)"
   ]
  },
  {
   "cell_type": "code",
   "execution_count": 153,
   "metadata": {},
   "outputs": [
    {
     "name": "stdout",
     "output_type": "stream",
     "text": [
      "1->2->4->5->None\n"
     ]
    }
   ],
   "source": [
    "def deleteMiddle(head: Optional[ListNode]) -> Optional[ListNode]:\n",
    "\n",
    "    if not head or not head.next:\n",
    "        return None\n",
    "    \n",
    "    slow = head\n",
    "    fast = head\n",
    "    prev_middle = None\n",
    "    \n",
    "    # Use two pointers to find the middle node\n",
    "    while fast and fast.next:\n",
    "        prev_middle = slow\n",
    "        slow = slow.next\n",
    "        fast = fast.next.next\n",
    "    \n",
    "    # Remove the middle node\n",
    "    if prev_middle:\n",
    "        prev_middle.next = slow.next\n",
    "    \n",
    "    return head\n",
    "\n",
    "head = deleteMiddle(head)\n",
    "printLL(head)"
   ]
  },
  {
   "cell_type": "code",
   "execution_count": 192,
   "metadata": {},
   "outputs": [
    {
     "name": "stdout",
     "output_type": "stream",
     "text": [
      "1->2->3->4->5->6->7->8->None\n",
      "1->3->5->7->2->4->6->8->None\n"
     ]
    }
   ],
   "source": [
    "def oddEvenList(head: Optional[ListNode]) -> Optional[ListNode]:\n",
    "\n",
    "    if not head or not head.next:\n",
    "        return head\n",
    "\n",
    "    odd = head\n",
    "    even = head.next\n",
    "    even_head = even\n",
    "\n",
    "    while even and even.next:\n",
    "        odd.next = even.next\n",
    "        odd = odd.next\n",
    "\n",
    "        even.next = odd.next\n",
    "        even = even.next\n",
    "\n",
    "    odd.next = even_head\n",
    "\n",
    "    return head\n",
    "\n",
    "\n",
    "data_array = [1,2,3,4,5,6,7,8]\n",
    "head = createLL(data_array)\n",
    "printLL(head)\n",
    "\n",
    "head = oddEvenList(head)\n",
    "printLL(head)"
   ]
  },
  {
   "cell_type": "code",
   "execution_count": 219,
   "metadata": {},
   "outputs": [
    {
     "name": "stdout",
     "output_type": "stream",
     "text": [
      "1->2->3->4->5->6->7->8->None\n"
     ]
    },
    {
     "data": {
      "text/plain": [
       "8"
      ]
     },
     "execution_count": 219,
     "metadata": {},
     "output_type": "execute_result"
    }
   ],
   "source": [
    "def reverseList(head: Optional[ListNode]) -> Optional[ListNode]:\n",
    "\n",
    "    curr = head\n",
    "    prev = head\n",
    "    nextt = head.next\n",
    "    head.next = None\n",
    "\n",
    "    while nextt:\n",
    "        curr = nextt\n",
    "        nextt = nextt.next\n",
    "        curr.next = prev\n",
    "        prev = curr\n",
    "\n",
    "\n",
    "    return curr\n",
    "\n",
    "def lengthLL(head):\n",
    "\n",
    "    i = 0\n",
    "    while head:\n",
    "        head = head.next\n",
    "        i += 1\n",
    "\n",
    "    return i\n",
    "\n",
    "\n",
    "data_array = [1,2,3,4,5,6,7,8]\n",
    "head = createLL(data_array)\n",
    "printLL(head)\n",
    "# head = reverseList(head)\n",
    "# printLL(head)\n",
    "lengthLL(head)"
   ]
  },
  {
   "cell_type": "code",
   "execution_count": 220,
   "metadata": {},
   "outputs": [
    {
     "name": "stdout",
     "output_type": "stream",
     "text": [
      "1->2->3->4->None\n",
      "8->7->6->5->None\n"
     ]
    },
    {
     "data": {
      "text/plain": [
       "9"
      ]
     },
     "execution_count": 220,
     "metadata": {},
     "output_type": "execute_result"
    }
   ],
   "source": [
    "def pairSum(head: Optional[ListNode]) -> int:\n",
    "\n",
    "    n = lengthLL(head)\n",
    "    mid_length = n // 2\n",
    "\n",
    "    curr = head\n",
    "    i = 0\n",
    "    while curr and i < mid_length - 1:\n",
    "        curr = curr.next\n",
    "        i += 1\n",
    "    \n",
    "    second_half = curr.next\n",
    "    curr.next = None\n",
    "\n",
    "    rev_head = reverseList(second_half)\n",
    "\n",
    "    printLL(head)\n",
    "    printLL(rev_head)\n",
    "\n",
    "    sums = set()\n",
    "    for i in range(mid_length):\n",
    "        sums.add(head.data + rev_head.data)\n",
    "\n",
    "        head = head.next\n",
    "        rev_head = rev_head.next\n",
    "\n",
    "    return(max(sums))\n",
    "\n",
    "\n",
    "\n",
    "\n",
    "\n",
    "pairSum(head)    "
   ]
  },
  {
   "cell_type": "code",
   "execution_count": 238,
   "metadata": {},
   "outputs": [],
   "source": [
    "# 104. Max Depth of Binary Tree\n",
    "\n",
    "def maxDepth(root: Optional[TreeNode]) -> int:\n",
    "    if root is None:\n",
    "        return 0\n",
    "\n",
    "    lf = self.maxDepth(root.left)\n",
    "    rt = self.maxDepth(root.right)\n",
    "\n",
    "    return max(lf, rt) + 1\n",
    "\n",
    "\n",
    "\n",
    "    "
   ]
  },
  {
   "cell_type": "code",
   "execution_count": 2,
   "metadata": {},
   "outputs": [],
   "source": [
    "class TreeNode:\n",
    "    def __init__(self, val=0, left=None, right=None):\n",
    "        self.val = val\n",
    "        self.left = left\n",
    "        self.right = right\n",
    "\n",
    "def build_tree_from_list(values):\n",
    "    if not values:\n",
    "        return None\n",
    "    \n",
    "    root = TreeNode(values[0])\n",
    "    queue = [root]\n",
    "    index = 1\n",
    "    \n",
    "    while queue and index < len(values):\n",
    "        current = queue.pop(0)\n",
    "        \n",
    "        if index < len(values) and values[index] is not None:\n",
    "            current.left = TreeNode(values[index])\n",
    "            queue.append(current.left)\n",
    "        index += 1\n",
    "        \n",
    "        if index < len(values) and values[index] is not None:\n",
    "            current.right = TreeNode(values[index])\n",
    "            queue.append(current.right)\n",
    "        index += 1\n",
    "    \n",
    "    return root\n",
    "\n",
    "def get_leaf_values(node):\n",
    "    if not node:\n",
    "        return []\n",
    "    if not node.left and not node.right:  # Leaf node\n",
    "        return [node.val]\n",
    "    return get_leaf_values(node.left) + get_leaf_values(node.right)"
   ]
  },
  {
   "cell_type": "code",
   "execution_count": 235,
   "metadata": {},
   "outputs": [
    {
     "name": "stdout",
     "output_type": "stream",
     "text": [
      "True\n"
     ]
    }
   ],
   "source": [
    "def leafSimilar(root1: TreeNode, root2: TreeNode) -> bool:\n",
    "    leaves1 = get_leaf_values(root1)\n",
    "    leaves2 = get_leaf_values(root2)\n",
    "    return leaves1 == leaves2\n",
    "\n",
    "# Input arrays\n",
    "root1_values = [3, 5, 1, 6, 2, 9, 8, None, None, 7, 4]\n",
    "root2_values = [3, 5, 1, 6, 7, 4, 2, None, None, None, None, None, None, 9, 8]\n",
    "\n",
    "# Constructing the trees\n",
    "root1 = build_tree_from_list(root1_values)\n",
    "root2 = build_tree_from_list(root2_values)\n",
    "\n",
    "# Checking if the two trees are leaf-similar\n",
    "output = leafSimilar(root1, root2)\n",
    "print(output)  # Output: True"
   ]
  },
  {
   "cell_type": "code",
   "execution_count": 5,
   "metadata": {},
   "outputs": [
    {
     "data": {
      "text/plain": [
       "4"
      ]
     },
     "execution_count": 5,
     "metadata": {},
     "output_type": "execute_result"
    }
   ],
   "source": [
    "def goodNodes(root: TreeNode, maxVal: int = 0) -> int:\n",
    "\n",
    "    if not root:\n",
    "        return 0\n",
    "    \n",
    "    good_count = 1 if root.val >= maxVal else 0\n",
    "    maxVal = max(maxVal, root.val)\n",
    "\n",
    "    gc_left = goodNodes(root.left, maxVal)\n",
    "    gc_right = goodNodes(root.right, maxVal)\n",
    "\n",
    "    return gc_left + gc_right + good_count\n",
    "\n",
    "\n",
    "\n",
    "root_values = [3,1,4,3,None,1,5]\n",
    "root = build_tree_from_list(root_values)\n",
    "goodNodes(root)"
   ]
  },
  {
   "cell_type": "code",
   "execution_count": 24,
   "metadata": {},
   "outputs": [
    {
     "name": "stdout",
     "output_type": "stream",
     "text": [
      "3\n"
     ]
    }
   ],
   "source": [
    "def hIndex(citations):\n",
    "\n",
    "    citations.sort(reverse=True)\n",
    "\n",
    "    for i, citation in enumerate(citations):\n",
    "        if citation >= i+1:\n",
    "            h_index = i+1\n",
    "        else:\n",
    "            break\n",
    "\n",
    "\n",
    "    return citations[h_index]\n",
    "\n",
    "\n",
    "\n",
    "# citations = [3,0,6,1,5]\n",
    "citations = [1,3,1]\n",
    "print(hIndex(citations))  # Output: 3"
   ]
  },
  {
   "cell_type": "code",
   "execution_count": 40,
   "metadata": {},
   "outputs": [
    {
     "data": {
      "text/plain": [
       "'blue is sky the'"
      ]
     },
     "execution_count": 40,
     "metadata": {},
     "output_type": "execute_result"
    }
   ],
   "source": [
    "def reverseWords(s: str) -> str:\n",
    "    # lis = s.strip().split()\n",
    "    # lis.reverse()\n",
    "    # return \" \".join(lis)\n",
    "\n",
    "# OR\n",
    "\n",
    "    # return \" \".join(s.split()[::-1])\n",
    "\n",
    "# OR\n",
    "\n",
    "    n = len(s)\n",
    "    if not s or (n == 1 and s[0] != ' '):\n",
    "        return s\n",
    "\n",
    "    ans = \"\"\n",
    "    start = end = len(s) - 1\n",
    "    c = 1\n",
    "\n",
    "    while start > 0:\n",
    "        while end >= 0 and s[end] == \" \":\n",
    "            end -= 1\n",
    "\n",
    "        start = end\n",
    "        while start >= 0 and s[start] != \" \":\n",
    "            start -= 1\n",
    "        \n",
    "        ans += s[start + 1: end + 1] + \" \"\n",
    "\n",
    "        end = start\n",
    "    \n",
    "\n",
    "    end = len(ans) - 1\n",
    "    while end >= 0 and ans[end] == \" \":\n",
    "        end -= 1\n",
    "    \n",
    "    return ans[:end+1]\n",
    "\n",
    "reverseWords(\"the sky is blue\")"
   ]
  },
  {
   "cell_type": "code",
   "execution_count": 44,
   "metadata": {},
   "outputs": [
    {
     "data": {
      "text/plain": [
       "[1, 2]"
      ]
     },
     "execution_count": 44,
     "metadata": {},
     "output_type": "execute_result"
    }
   ],
   "source": [
    "from collections import defaultdict\n",
    "\n",
    "def twoSum(numbers, target: int):\n",
    "\n",
    "    d = defaultdict(int)\n",
    "\n",
    "    for i, num in enumerate(numbers):\n",
    "\n",
    "        complement = target - num\n",
    "        if complement in d:\n",
    "            return [d[complement], i + 1]\n",
    "        else:\n",
    "            d[num] = i + 1\n",
    "\n",
    "numbers = [2,7,11,15]\n",
    "target = 9\n",
    "\n",
    "twoSum(numbers, target)"
   ]
  },
  {
   "cell_type": "code",
   "execution_count": 5,
   "metadata": {},
   "outputs": [
    {
     "data": {
      "text/plain": [
       "[[-1, -1, 2], [-1, 0, 1], [0, 0, 0]]"
      ]
     },
     "execution_count": 5,
     "metadata": {},
     "output_type": "execute_result"
    }
   ],
   "source": [
    "from typing import List\n",
    "def threeSum(nums: List[int]) -> List[List[int]]:\n",
    "    nums.sort()\n",
    "    res = []\n",
    "    n = len(nums)\n",
    "\n",
    "    for i in range(n):\n",
    "        if i > 0 and nums[i] == nums[i-1]:\n",
    "            continue\n",
    "\n",
    "        j = i + 1\n",
    "        k = n-1\n",
    "\n",
    "        while j < k:\n",
    "            total = nums[i] + nums[j] + nums[k]\n",
    "            if total == 0:\n",
    "                res.append([nums[i], nums[j], nums[k]])\n",
    "                j += 1\n",
    "                k -= 1\n",
    "\n",
    "                while j < k and nums[j] == nums[j-1]:\n",
    "                    j += 1\n",
    "                while j < k and nums[k] == nums[k+1]:\n",
    "                    k -= 1\n",
    "\n",
    "            elif total < 0:\n",
    "                j += 1\n",
    "            else:\n",
    "                k -= 1\n",
    "\n",
    "    return res\n",
    "\n",
    "\n",
    "\n",
    "\n",
    "nums = [-1, -1, 0, 0, 0, 0, 1, 1, 1, 2, 2, 2, 2]\n",
    "threeSum(nums)"
   ]
  },
  {
   "cell_type": "code",
   "execution_count": 6,
   "metadata": {},
   "outputs": [
    {
     "name": "stdout",
     "output_type": "stream",
     "text": [
      "0\n",
      "1\n",
      "2\n",
      "3\n",
      "4\n",
      "5\n",
      "6\n",
      "7\n",
      "8\n",
      "9\n"
     ]
    }
   ],
   "source": [
    "for i in range(10):\n",
    "    print(i)\n",
    "    while i < 5:\n",
    "        i += 1\n"
   ]
  }
 ],
 "metadata": {
  "kernelspec": {
   "display_name": "myenv",
   "language": "python",
   "name": "python3"
  },
  "language_info": {
   "codemirror_mode": {
    "name": "ipython",
    "version": 3
   },
   "file_extension": ".py",
   "mimetype": "text/x-python",
   "name": "python",
   "nbconvert_exporter": "python",
   "pygments_lexer": "ipython3",
   "version": "3.8.19"
  }
 },
 "nbformat": 4,
 "nbformat_minor": 2
}
