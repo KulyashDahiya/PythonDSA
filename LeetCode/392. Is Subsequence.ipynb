{
 "cells": [
  {
   "cell_type": "markdown",
   "metadata": {},
   "source": [
    "Is Subsequence\n",
    "Easy\n",
    "\n",
    "Given two strings s and t, return true if s is a subsequence of t, or false otherwise.\n",
    "\n",
    "A subsequence of a string is a new string that is formed from the original string by deleting some (can be none) of the characters without disturbing the relative positions of the remaining characters. (i.e., \"ace\" is a subsequence of \"abcde\" while \"aec\" is not).\n",
    "\n",
    " \n",
    "\n",
    "Example 1:\n",
    "\n",
    "Input: s = \"abc\", t = \"ahbgdc\"\n",
    "Output: true\n",
    "Example 2:\n",
    "\n",
    "Input: s = \"axc\", t = \"ahbgdc\"\n",
    "Output: false\n",
    " \n",
    "\n",
    "Constraints:\n",
    "\n",
    "0 <= s.length <= 100\n",
    "0 <= t.length <= 104\n",
    "s and t consist only of lowercase English letters.\n",
    " \n",
    "\n",
    "Follow up: Suppose there are lots of incoming s, say s1, s2, ..., sk where k >= 109, and you want to check one by one to see if t has its subsequence. In this scenario, how would you change your code?"
   ]
  },
  {
   "cell_type": "code",
   "execution_count": null,
   "metadata": {},
   "outputs": [],
   "source": [
    "class Solution:\n",
    "    def isSubsequence(self, s: str, t: str) -> bool:\n",
    "\n",
    "        i, j = 0, 0\n",
    "\n",
    "        while i < len(s) and j < len(t):\n",
    "\n",
    "            if s[i] == t[j]:\n",
    "                i += 1\n",
    "        \n",
    "            j += 1\n",
    "\n",
    "        return i >= len(s)"
   ]
  },
  {
   "cell_type": "code",
   "execution_count": null,
   "metadata": {},
   "outputs": [],
   "source": [
    "def isSubsequence(s: str, t: str) -> bool:\n",
    "    if not s:\n",
    "        return True\n",
    "    flag = False\n",
    "\n",
    "    prev_index = -1\n",
    "    for i in range(len(s)):\n",
    "        for j in range(len(t)):\n",
    "            if s[i] == t[j] and j > prev_index:\n",
    "                flag = True\n",
    "                prev_index = j\n",
    "                break\n",
    "            flag = False\n",
    "                        \n",
    "        if not flag:\n",
    "            break\n",
    "    \n",
    "    return flag\n",
    "\n",
    "\n",
    "s = \"abc\"\n",
    "t = \"ahcbgd\"\n",
    "isSubsequence(s, t)"
   ]
  }
 ],
 "metadata": {
  "kernelspec": {
   "display_name": "myenv",
   "language": "python",
   "name": "python3"
  },
  "language_info": {
   "codemirror_mode": {
    "name": "ipython",
    "version": 3
   },
   "file_extension": ".py",
   "mimetype": "text/x-python",
   "name": "python",
   "nbconvert_exporter": "python",
   "pygments_lexer": "ipython3",
   "version": "3.8.19"
  }
 },
 "nbformat": 4,
 "nbformat_minor": 2
}
