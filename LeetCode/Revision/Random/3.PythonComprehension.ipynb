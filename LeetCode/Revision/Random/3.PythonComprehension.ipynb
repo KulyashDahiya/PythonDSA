{
 "cells": [
  {
   "cell_type": "code",
   "execution_count": 1,
   "id": "305655c2-68cc-4ea2-95c2-c3cb8ef1f44e",
   "metadata": {},
   "outputs": [
    {
     "name": "stdout",
     "output_type": "stream",
     "text": [
      "[(101, 'gfg'), (102, 'ide'), (103, 'code')]\n",
      "{101: 'gfg', 102: 'ide', 103: 'code'}\n"
     ]
    }
   ],
   "source": [
    "l1 = [101, 102, 103, 104]\n",
    "l2 = [\"gfg\", \"ide\", \"code\"]\n",
    "\n",
    "l3 = list(zip(l1, l2))\n",
    "d3 = dict(zip(l1, l2))\n",
    "print(l3)\n",
    "print(d3)\n"
   ]
  },
  {
   "cell_type": "code",
   "execution_count": 3,
   "id": "de1ebc32-2d18-4d29-9e7c-6a24e26b7f7a",
   "metadata": {},
   "outputs": [
    {
     "name": "stdout",
     "output_type": "stream",
     "text": [
      "[0, 2, 4, 6, 8, 10]\n",
      "[1, 3, 5, 7, 9]\n"
     ]
    }
   ],
   "source": [
    "l1 = [x for x in range(11) if x%2==0]\n",
    "\n",
    "print(l1)\n",
    "\n",
    "l2 = [x for x in range(11) if x%2!=0]\n",
    "\n",
    "print(l2)"
   ]
  },
  {
   "cell_type": "code",
   "execution_count": null,
   "id": "4ca321b5-2393-4192-82b5-aebf06c9538e",
   "metadata": {},
   "outputs": [],
   "source": [
    "#SET DICT\n",
    "\n",
    "\n",
    "l = {10,20,3,4,10,20,7,3}\n",
    "\n",
    "s1 = {x for x in l if x%2==0 }\n",
    "s2 = {x for x in l if x%2!=0 }  # set comprehension\n",
    "\n",
    "print(s1)\n",
    "print(s2)\n",
    "\n",
    "\n",
    "l1 = [1,3,4,2,5]\n",
    "\n",
    "d1 = {x:x**3 for x in l1}\n",
    "\n",
    "d2 = {x:f\"ID{x}\" for x in range(5)} # dictionary comprehension\n",
    "print(d2)\n",
    "\n",
    "\n",
    "l2 = [101,103,102]\n",
    "l3 = ['gfg','ide','corse']\n",
    "\n",
    "d3 = {l2[i]:l3[i] for i in range(len(l2)) }   # dictionary comprehension\n",
    "\n",
    "print(d3)\n",
    "\n",
    "\n",
    "d4 = dict(zip(l2,l3))\n",
    "\n",
    "print(d4)\n",
    "\n",
    "\n",
    "#INVERTING DICT\n",
    "d4 = {101: 'gfg', 102: 'ide', 103: 'code'}\n",
    "\n",
    "d5 = {v:k for (k, v) in d4.items()}\n",
    "print(d5)"
   ]
  }
 ],
 "metadata": {
  "kernelspec": {
   "display_name": "Python 3 (ipykernel)",
   "language": "python",
   "name": "python3"
  },
  "language_info": {
   "codemirror_mode": {
    "name": "ipython",
    "version": 3
   },
   "file_extension": ".py",
   "mimetype": "text/x-python",
   "name": "python",
   "nbconvert_exporter": "python",
   "pygments_lexer": "ipython3",
   "version": "3.12.2"
  }
 },
 "nbformat": 4,
 "nbformat_minor": 5
}
