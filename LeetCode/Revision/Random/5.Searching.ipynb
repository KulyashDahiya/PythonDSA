{
 "cells": [
  {
   "cell_type": "code",
   "execution_count": 1,
   "id": "dbb69bd2-6bcd-40ee-aac1-41a45c620350",
   "metadata": {},
   "outputs": [
    {
     "name": "stdout",
     "output_type": "stream",
     "text": [
      "30 2\n",
      "20 1\n",
      "10 0\n",
      "60 5\n",
      "40 3\n",
      "55 -1\n",
      "-50 -1\n"
     ]
    }
   ],
   "source": [
    "def bSearch(l, x, low, high):\n",
    "    if low > high:\n",
    "        return -1\n",
    "\n",
    "    mid = (low + high) // 2\n",
    "    if l[mid] == x:\n",
    "        return mid\n",
    "\n",
    "    elif l[mid] > x:\n",
    "        return bSearch(l, x, low, mid - 1)\n",
    "\n",
    "    else:\n",
    "        return bSearch(l, x, mid + 1, high)\n",
    "\n",
    "\n",
    "def bSearchMain(l, x):\n",
    "    return bSearch(l, x, 0, len(l) - 1)\n",
    "\n",
    "\n",
    "l = [10, 20, 30, 40, 50, 60]\n",
    "\n",
    "print(30, bSearchMain(l, 30))\n",
    "print(20, bSearchMain(l, 20))\n",
    "print(10, bSearchMain(l, 10))\n",
    "print(60, bSearchMain(l, 60))\n",
    "print(40, bSearchMain(l, 40))\n",
    "print(55, bSearchMain(l, 55))\n",
    "print(-50, bSearchMain(l, -50))\n"
   ]
  }
 ],
 "metadata": {
  "kernelspec": {
   "display_name": "Python 3 (ipykernel)",
   "language": "python",
   "name": "python3"
  },
  "language_info": {
   "codemirror_mode": {
    "name": "ipython",
    "version": 3
   },
   "file_extension": ".py",
   "mimetype": "text/x-python",
   "name": "python",
   "nbconvert_exporter": "python",
   "pygments_lexer": "ipython3",
   "version": "3.12.2"
  }
 },
 "nbformat": 4,
 "nbformat_minor": 5
}
