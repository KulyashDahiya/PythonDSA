{
 "cells": [
  {
   "cell_type": "code",
   "execution_count": 1,
   "id": "665db8be-f70c-4d0a-ba30-6ef29453a367",
   "metadata": {},
   "outputs": [
    {
     "name": "stdout",
     "output_type": "stream",
     "text": [
      "[10, 20, 30, 40, 50]\n",
      "40\n",
      "20\n",
      "50\n",
      "40\n"
     ]
    }
   ],
   "source": [
    "l = [10, 20, 30, 40, 50]\n",
    "print(l)\n",
    "print(l[3])\n",
    "print(l[1])\n",
    "print(l[-1])\n",
    "print(l[-2])"
   ]
  },
  {
   "cell_type": "code",
   "execution_count": 2,
   "id": "63300c65-6037-415e-a339-45143ef8ba2b",
   "metadata": {},
   "outputs": [
    {
     "name": "stdout",
     "output_type": "stream",
     "text": [
      "[10, 20, 30, 40, 50, 30]\n",
      "[10, 15, 20, 30, 40, 50, 30]\n",
      "True\n",
      "2\n",
      "3\n"
     ]
    }
   ],
   "source": [
    "l = [10, 20, 30, 40, 50]\n",
    "l.append(30)\n",
    "print(l)\n",
    "l.insert(1, 15)\n",
    "print(l)\n",
    "print(15 in l)\n",
    "print(l.count(30))\n",
    "print(l.index(30))"
   ]
  },
  {
   "cell_type": "code",
   "execution_count": 3,
   "id": "3fd00aa1-4481-4cc2-82eb-3d1087b71f2d",
   "metadata": {},
   "outputs": [
    {
     "name": "stdout",
     "output_type": "stream",
     "text": [
      "[10, 30, 40, 50, 60, 70, 80]\n",
      "80\n",
      "[10, 30, 40, 50, 60, 70]\n",
      "40\n",
      "[10, 30, 50, 60, 70]\n",
      "[10, 50, 60, 70]\n",
      "[60, 70]\n"
     ]
    }
   ],
   "source": [
    "l = [10, 20, 30, 40, 50, 60, 70, 80]\n",
    "l.remove(20) # .remove  only  remove the value.\n",
    "print(l)\n",
    "print(l.pop()) # .pop return the removal item as output\n",
    "print(l)\n",
    "print(l.pop(2))\n",
    "print(l)\n",
    "del l[1]\n",
    "print(l)\n",
    "del l[0:2]\n",
    "print(l)"
   ]
  },
  {
   "cell_type": "code",
   "execution_count": 4,
   "id": "00dd2508-1cd5-49fa-85e8-50b93f98a90c",
   "metadata": {},
   "outputs": [
    {
     "name": "stdout",
     "output_type": "stream",
     "text": [
      "50\n",
      "10\n",
      "120\n",
      "[50, 20, 40, 10]\n",
      "[10, 20, 40, 50]\n"
     ]
    }
   ],
   "source": [
    "l=[10,40,20,50]\n",
    "print(max(l))\n",
    "print(min(l))\n",
    "print(sum(l))\n",
    "l.reverse()\n",
    "print(l)\n",
    "l.sort()\n",
    "print(l)"
   ]
  },
  {
   "cell_type": "code",
   "execution_count": null,
   "id": "c2a13d1f-76fe-4b3d-afcd-cac489997588",
   "metadata": {},
   "outputs": [],
   "source": []
  },
  {
   "cell_type": "code",
   "execution_count": 5,
   "id": "097ebd23-ac46-4693-a8b3-67f52271e31c",
   "metadata": {},
   "outputs": [
    {
     "name": "stdout",
     "output_type": "stream",
     "text": [
      "False\n",
      "True\n",
      "True\n"
     ]
    }
   ],
   "source": [
    "l1 = [10,20,30]\n",
    "l2 = l1[:]\n",
    "t1 = (10,20,30)\n",
    "t2 = t1[:]          # tuple having same element has same id\n",
    "s1 = \"geeks\"\n",
    "s2 = s1[:]          # string of same value have same id\n",
    "\n",
    "print(l1 is l2)\n",
    "print(t1 is t2)\n",
    "print(s1 is s2)"
   ]
  },
  {
   "cell_type": "code",
   "execution_count": 6,
   "id": "4f24c2fd-5108-4fb8-abe2-9a339b44f1f1",
   "metadata": {},
   "outputs": [
    {
     "name": "stdout",
     "output_type": "stream",
     "text": [
      "l[0:5:2] [10, 30, 50]\n",
      "l[:4] [10, 20, 30, 40]\n",
      "l[2:] [30, 40, 50]\n",
      "l[1:4] [20, 30, 40]\n",
      "l[4:1:-1] [50, 40, 30]\n",
      "l[-1:-6:-1] [50, 40, 30, 20, 10]\n",
      "l[::-1] [50, 40, 30, 20, 10]\n",
      "l[0:5] [10, 20, 30, 40, 50]\n",
      "l[:] [10, 20, 30, 40, 50]\n"
     ]
    }
   ],
   "source": [
    "l = [10,20,30,40,50]\n",
    "\n",
    "print(\"l[0:5:2]\",l[0:5:2])     # start:0, stop:5, step:2\n",
    "print(\"l[:4]\",l[:4])        # start: 0, stop:4, step:1\n",
    "print(\"l[2:]\",l[2:])        # start:2,  stop:end of string, step:1\n",
    "print(\"l[1:4]\",l[1:4])\n",
    "print(\"l[4:1:-1]\",l[4:1:-1])    #start:4, stop:1,step:-1\n",
    "print(\"l[-1:-6:-1]\",l[-1:-6:-1])  # start:end,\n",
    "print(\"l[::-1]\",l[::-1])\n",
    "print(\"l[0:5]\",l[0:5])\n",
    "print(\"l[:]\",l[:])"
   ]
  },
  {
   "cell_type": "code",
   "execution_count": null,
   "id": "9c76ca0d-9a17-4eef-93c8-7f92318926e0",
   "metadata": {},
   "outputs": [],
   "source": []
  },
  {
   "cell_type": "code",
   "execution_count": 7,
   "id": "2d01d524-60e5-4f38-9e8d-9f9bb6a0c81b",
   "metadata": {},
   "outputs": [
    {
     "name": "stdin",
     "output_type": "stream",
     "text": [
      " 8 6 4 23 54 77 4 222254 9999 74 65 323564945 321548231\n"
     ]
    },
    {
     "name": "stdout",
     "output_type": "stream",
     "text": [
      "323564945\n"
     ]
    }
   ],
   "source": [
    "#Largest Element in a List\n",
    "\n",
    "def getMax(l):\n",
    "    for x in l:         # iterate for each element\n",
    "        for y in l:     # iterrate to compare with each element\n",
    "            if y > x:\n",
    "                break\n",
    "        else:           # if loop is exited naturally, no larger element found\n",
    "            return x\n",
    "    return None\n",
    "\n",
    "# O(n2)\n",
    "\n",
    "\n",
    "\n",
    "\n",
    "l = [int(x) for x in input().split()]\n",
    "print(getMax(l))"
   ]
  },
  {
   "cell_type": "code",
   "execution_count": null,
   "id": "3f8b372f-59b5-4073-8f5d-1540b3b12643",
   "metadata": {},
   "outputs": [],
   "source": [
    "def getMax(l):\n",
    "    if not l:\n",
    "        return None\n",
    "    else:\n",
    "\n",
    "        res = l[0]                  # assume l[0] is the max\n",
    "        for i in range(1, len(l)):  # iterate through index 1 to last\n",
    "            if l[i] > res:           # check whether current element is greater than res\n",
    "                res = l[i]          # if current element is greater than res ,update res to current\n",
    "        return res\n",
    "\n",
    "# O(n)\n",
    "\n",
    "l = [int(x) for x in input().split()]\n",
    "print(getMax(l))"
   ]
  },
  {
   "cell_type": "code",
   "execution_count": null,
   "id": "61c4e0c7-12cc-4f6f-9710-a46a28eb6968",
   "metadata": {},
   "outputs": [],
   "source": []
  },
  {
   "cell_type": "code",
   "execution_count": null,
   "id": "4ec64b5a-0a16-416c-a377-c89c1f84b48d",
   "metadata": {},
   "outputs": [],
   "source": [
    "#Reverse a List\n",
    "\n",
    "def reverseList(l):\n",
    "    s = 0\n",
    "    e = len(l) - 1\n",
    "\n",
    "    while s < e:\n",
    "        l[s], l[e] = l[e], l[s] # swapping left element to right and right element to left\n",
    "        s = s + 1\n",
    "        e = e - 1\n",
    "\n",
    "\n",
    "\n",
    "l = [int(x) for x in input().split(',')]\n",
    "reverseList(l)\n",
    "print(l)"
   ]
  },
  {
   "cell_type": "code",
   "execution_count": null,
   "id": "acefcb32-27d7-4123-b400-82f01c8db55a",
   "metadata": {},
   "outputs": [],
   "source": [
    "l = [10,20,30]\n",
    "l.reverse()     # reverse given list\n",
    "print(l)\n",
    "\n",
    "l = [10,20,30]\n",
    "new_l = list(reversed(l))   # return new reversed list\n",
    "print(new_l)\n",
    "\n",
    "l = [10,20,30]\n",
    "new_l = l[::-1]             # return new reversed list\n",
    "print(new_l)"
   ]
  },
  {
   "cell_type": "code",
   "execution_count": null,
   "id": "a53e6f1c-46f9-46fd-a469-376c36bd60ab",
   "metadata": {},
   "outputs": [],
   "source": []
  },
  {
   "cell_type": "code",
   "execution_count": 8,
   "id": "6e9138ea-605c-486a-859f-3f6964f16b66",
   "metadata": {},
   "outputs": [
    {
     "name": "stdout",
     "output_type": "stream",
     "text": [
      "[10, 20, 30, 50]\n"
     ]
    }
   ],
   "source": [
    "## Remove Duplicate Elements from the Sorted Array -- Efficient Approach (Only work for Sorted Array)\n",
    "\n",
    "def Remove_Duplicate(Input_List, N):\n",
    "  if N == 0:\n",
    "    return Input_List # Return the original array if it's empty\n",
    "\n",
    "  res = 1\n",
    "  for i in range(1, N):\n",
    "    if (Input_List[res - 1] != Input_List[i]):\n",
    "      Input_List[res] = Input_List[i]\n",
    "      res += 1\n",
    "  return Input_List[: res] # Return the portion of the array containing unique elements\n",
    "\n",
    "Input_List = [10, 20, 20, 30, 50]\n",
    "N = len(Input_List)\n",
    "print(Remove_Duplicate(Input_List, N))"
   ]
  },
  {
   "cell_type": "code",
   "execution_count": 13,
   "id": "0186cc73-36e4-4687-abcd-07ebb02bd949",
   "metadata": {},
   "outputs": [
    {
     "name": "stdin",
     "output_type": "stream",
     "text": [
      " 1 1 2 2 3 3 4 4 4 4 5\n",
      " 4 5\n"
     ]
    },
    {
     "name": "stdout",
     "output_type": "stream",
     "text": [
      "4\n"
     ]
    }
   ],
   "source": [
    "#User function Template for python3\n",
    "\n",
    "class Solution:\n",
    "    #Function to find element with more appearances between two elements in an array.    \n",
    "    def majorityWins(self, arr, n, x, y):\n",
    "        if arr.count(x) > arr.count(y): return x\n",
    "        elif arr.count(y) > arr.count(x): return y\n",
    "        else: return min(x,y)\n",
    "\n",
    "\n",
    "if __name__ == '__main__':\n",
    "        arr=[int(x) for x in input().strip().split()]\n",
    "        n=len(arr)\n",
    "        x,y=map(int,input().strip().split())\n",
    "        \n",
    "        print(Solution().majorityWins(arr,n,x,y))\n",
    "\n",
    "# } Driver Code Ends\n",
    "    "
   ]
  },
  {
   "cell_type": "code",
   "execution_count": 16,
   "id": "594d876e-70db-4a3a-925f-e900bf287a3a",
   "metadata": {},
   "outputs": [
    {
     "name": "stdin",
     "output_type": "stream",
     "text": [
      " 2\n",
      " 1 2 3 4 5\n"
     ]
    },
    {
     "name": "stdout",
     "output_type": "stream",
     "text": [
      "3 4 5 1 2 "
     ]
    }
   ],
   "source": [
    "#Rotate Array\n",
    "\n",
    "# Given an unsorted array arr[] of size N. Rotate the array \n",
    "# to the left (counter-clockwise direction) by D steps, where D is a positive integer\n",
    "\n",
    "import math\n",
    "\n",
    "def rotateArr(A,D,N):\n",
    "    return A[D:] + A[:D]\n",
    "        \n",
    "\n",
    "if __name__==\"__main__\":\n",
    "        D = int(input())\n",
    "        A=[int(x) for x in input().strip().split()]\n",
    "        N = len(A)\n",
    "        A = rotateArr(A,D,N)\n",
    "        \n",
    "        for i in A:\n",
    "            print(i,end=\" \")\n"
   ]
  },
  {
   "cell_type": "code",
   "execution_count": 29,
   "id": "8a209651-5297-4bd9-832d-af4e4e5c2f8f",
   "metadata": {},
   "outputs": [
    {
     "name": "stdin",
     "output_type": "stream",
     "text": [
      " 3 5 1 2 8 9 55 4 322 42\n"
     ]
    },
    {
     "name": "stdout",
     "output_type": "stream",
     "text": [
      "1 2 3 4 5 8 9 42 "
     ]
    }
   ],
   "source": [
    "#At least two greater elements\n",
    "\n",
    "# Given an array of N distinct elements, the task is to find all  \n",
    "# elements in array except two greatest elements in sorted order.\n",
    "\n",
    "def findElements(a, n):\n",
    "    a.sort()\n",
    "    return a[:n-2]\n",
    "        \n",
    "        \n",
    "\n",
    "if __name__==\"__main__\":\n",
    "        a=[int(x) for x in input().strip().split()]\n",
    "        n = len(a)\n",
    "        el = findElements(a, n)\n",
    "        \n",
    "        for i in el:\n",
    "            print(i,end=\" \")\n"
   ]
  },
  {
   "cell_type": "code",
   "execution_count": 35,
   "id": "28bf9643-4386-41b6-9a07-cc1bde1c2983",
   "metadata": {},
   "outputs": [
    {
     "name": "stdin",
     "output_type": "stream",
     "text": [
      " 15 2 45 12 7\n"
     ]
    },
    {
     "name": "stdout",
     "output_type": "stream",
     "text": [
      "2 \n"
     ]
    }
   ],
   "source": [
    "def valueEqualToIndex(arr, n):\n",
    "    ans = []\n",
    "    for i in range(n):\n",
    "        if arr[i] == i+1:\n",
    "            ans.append(arr[i])\n",
    "    return ans\n",
    "    \n",
    "\n",
    "\n",
    "\n",
    "if __name__ == '__main__':\n",
    "    arr = list(map(int, input().strip().split()))\n",
    "    n = len(arr)\n",
    "    ans = valueEqualToIndex(arr, n)\n",
    "    if len(ans) == 0:\n",
    "        print(\"Not Found\")\n",
    "    else:\n",
    "        for x in ans:\n",
    "            print(x, end=\" \")\n",
    "        print()"
   ]
  },
  {
   "cell_type": "code",
   "execution_count": 39,
   "id": "d5ed8227-cbe2-4de9-aca3-5c407f234cd8",
   "metadata": {},
   "outputs": [],
   "source": [
    "def pivotIndex(self, nums):\n",
    "        for i in range(len(nums)):\n",
    "            if sum(nums[:i]) == sum(nums[i+1:]):\n",
    "                return i\n",
    "        return -1"
   ]
  },
  {
   "cell_type": "code",
   "execution_count": 44,
   "id": "99362167-0593-447d-b310-b586e84733a6",
   "metadata": {},
   "outputs": [
    {
     "name": "stdout",
     "output_type": "stream",
     "text": [
      "135553\n"
     ]
    }
   ],
   "source": [
    "# https://www.geeksforgeeks.org/type-array-maximum-element/\n",
    "\n",
    "def maxNtype(self , arr, n):\n",
    "        #code here.\n",
    "        min_el = sys.maxsize\n",
    "        max_el = -sys.maxsize\n",
    "        min_index1, min_index2, max_index1, max_index2 = -1,-1,-1,-1\n",
    "        \n",
    "        for i in range(n):\n",
    "            if arr[i] < min_el:\n",
    "                min_el = arr[i]\n",
    "                min_index1 = i\n",
    "                min_index2 = i\n",
    "            elif arr[i] == min_el:\n",
    "                min_index2 = i\n",
    "                \n",
    "            if arr[i] > max_el:\n",
    "                max_el = arr[i]\n",
    "                max_index1 = i\n",
    "                max_index2 = i\n",
    "            elif arr[i] == max_el:\n",
    "                max_index2 = i\n",
    "                \n",
    "        if min_index1 == 0 and max_index2 == n-1:\n",
    "            return 1, arr[n-1]\n",
    "        elif max_index1 == 0 and min_index2 == n-1:\n",
    "            return 2, arr[0]\n",
    "        elif max_index1 == min_index2 + 1:\n",
    "            return 3, arr[max_index1]\n",
    "        else:\n",
    "            return 4, arr[max_index1]"
   ]
  },
  {
   "cell_type": "code",
   "execution_count": 4,
   "id": "cd16c2c2-ceac-444a-addf-f92d2e815cfa",
   "metadata": {},
   "outputs": [
    {
     "name": "stdout",
     "output_type": "stream",
     "text": [
      "[4, 3, 2, 2]\n"
     ]
    }
   ],
   "source": [
    "def plusOne(digits):\n",
    "    d1 = list(map(str, digits))\n",
    "    a = ''\n",
    "    for i in d1:\n",
    "        a = a + i\n",
    "    a = str(int(a) + 1)\n",
    "    d2 = [int(i) for i in a]\n",
    "    print(d2)\n",
    "\n",
    "digits = [4,3,2,1]\n",
    "plusOne(digits)"
   ]
  },
  {
   "cell_type": "code",
   "execution_count": 5,
   "id": "afa5668d-690e-42f5-85e2-820930096871",
   "metadata": {},
   "outputs": [
    {
     "name": "stdout",
     "output_type": "stream",
     "text": [
      "[4, 3, 2, 2]\n"
     ]
    }
   ],
   "source": [
    "def plusOne(digits):\n",
    "    num = str(int(''.join(map(str, digits))) + 1)\n",
    "    return [int(i) for i in num]\n",
    "\n",
    "digits = [4,3,2,1]\n",
    "print(plusOne(digits))"
   ]
  },
  {
   "cell_type": "code",
   "execution_count": 3,
   "id": "ed5fce4a-98f6-4795-9449-632fcaa8f09c",
   "metadata": {},
   "outputs": [
    {
     "data": {
      "text/plain": [
       "9223372036854775807"
      ]
     },
     "execution_count": 3,
     "metadata": {},
     "output_type": "execute_result"
    }
   ],
   "source": [
    "sys.maxsize"
   ]
  },
  {
   "cell_type": "code",
   "execution_count": 10,
   "id": "0830488e-4573-4eb8-9c0e-a4311d67c742",
   "metadata": {},
   "outputs": [
    {
     "name": "stdin",
     "output_type": "stream",
     "text": [
      " 91 857 518 189 395 329 907 976 560 104 234 391 571 345 241 396 772 337 740 443 718 437 238 446 19 572 201 728 515 417 698 30 177 176 269 402 762 374 543 705 359 431 528 54 368 129 871 635 196 778 140 13 107 239 121 179 951 509 689 100 63 825 963 691 940 977 800 529 838 313 681 115 861 634 209 415 697 372 831 274 841 280 663 715 490 978 394 301 820 521 420 481 700 69 423 90 867 51 542 421 162 607 807 284 146 903 172 453 785 992 552 883 82 105 554 885 502 641 188 492 775 358 408 966 878 618 803 893 351 860 756 796 862 693 906 482 637 3 678 458 406 67 17 556 998 187 380 703 229 754 9 921 873 763 32 194 727 457 550 410 245 112 721 987 68 524 735 910 174 297 249 610 388 830 168 712 511 158 692 409 328 303 654 952 171 581 679 405 837 930 236 192 714 154 246 77 289 773 629 407 769 365 664 934 706 87 996 595 203 749 842 74 829 310 508 846 452 218 953 633 283 260 619 853 73 890 416 526 378 291 485 513 113 777 118 340 35 964 943 6 160 404 155 812 161 50 682 973 286 911 84 789 969 5 810 471 134 850 677\n"
     ]
    },
    {
     "name": "stdout",
     "output_type": "stream",
     "text": [
      "\n",
      "998\n",
      "996\n",
      "992\n",
      "true\n"
     ]
    }
   ],
   "source": [
    "#Third Largest Element\n",
    "import sys\n",
    "def thirdLargest(a):\n",
    "        # code here\n",
    "        n = len(a)\n",
    "        l = max(a)\n",
    "        sl = -sys.maxsize\n",
    "        tl = -sys.maxsize + 1\n",
    "        i = 0\n",
    "        while i < n:\n",
    "            if a[i] < l and a[i] > sl:\n",
    "                sl = a[i]\n",
    "            i += 1\n",
    "        i = 0\n",
    "        while i < n:\n",
    "            if a[i] < sl and a[i] > tl:\n",
    "                tl = a[i]\n",
    "            i += 1\n",
    "\n",
    "        print(l)\n",
    "        print(sl)\n",
    "        print(tl)\n",
    "\n",
    "a = list(map(int, input().split()))\n",
    "print()\n",
    "thirdLargest(a)\n",
    "b = 992\n",
    "if b in a:\n",
    "    print(\"true\")"
   ]
  },
  {
   "cell_type": "code",
   "execution_count": 13,
   "id": "9acc1dce-09d8-4d0e-9e40-288009ab9ec9",
   "metadata": {},
   "outputs": [
    {
     "name": "stdin",
     "output_type": "stream",
     "text": [
      " 91 857 518 189 395 329 907 976 560 104 234 391 571 345 241 396 772 337 740 443 718 437 238 446 19 572 201 728 515 417 698 30 177 176 269 402 762 374 543 705 359 431 528 54 368 129 871 635 196 778 140 13 107 239 121 179 951 509 689 100 63 825 963 691 940 977 800 529 838 313 681 115 861 634 209 415 697 372 831 274 841 280 663 715 490 978 394 301 820 521 420 481 700 69 423 90 867 51 542 421 162 607 807 284 146 903 172 453 785 992 552 883 82 105 554 885 502 641 188 492 775 358 408 966 878 618 803 893 351 860 756 796 862 693 906 482 637 3 678 458 406 67 17 556 998 187 380 703 229 754 9 921 873 763 32 194 727 457 550 410 245 112 721 987 68 524 735 910 174 297 249 610 388 830 168 712 511 158 692 409 328 303 654 952 171 581 679 405 837 930 236 192 714 154 246 77 289 773 629 407 769 365 664 934 706 87 996 595 203 749 842 74 829 310 508 846 452 218 953 633 283 260 619 853 73 890 416 526 378 291 485 513 113 777 118 340 35 964 943 6 160 404 155 812 161 50 682 973 286 911 84 789 969 5 810 471 134 850 677\n"
     ]
    },
    {
     "name": "stdout",
     "output_type": "stream",
     "text": [
      "\n",
      "Third Largest Element: 992\n"
     ]
    }
   ],
   "source": [
    "def thirdLargest(a, n):\n",
    "    if n < 3:\n",
    "        return -1\n",
    "    a.sort()\n",
    "    return a[-3]\n",
    "\n",
    "a = list(map(int, input().split()))\n",
    "print()\n",
    "print(\"Third Largest Element:\", thirdLargest(a, len(a)))"
   ]
  },
  {
   "cell_type": "code",
   "execution_count": null,
   "id": "61af5fd2-abcb-48c7-9972-99244c11c52f",
   "metadata": {},
   "outputs": [],
   "source": []
  },
  {
   "cell_type": "code",
   "execution_count": 28,
   "id": "04fbccdf-e15e-4fbb-8e01-b02b37f81bff",
   "metadata": {},
   "outputs": [
    {
     "name": "stdout",
     "output_type": "stream",
     "text": [
      "\n",
      "2\n"
     ]
    }
   ],
   "source": [
    "def firstAndLast(arr, n, x):\n",
    "    index1 = -1\n",
    "    index2 = -1\n",
    "    i = 0\n",
    "    while i < n:\n",
    "        if arr[i] == x and index1 == -1:\n",
    "            index1 = i\n",
    "        if arr[i] == x and index1 != -1:\n",
    "            index2 = i\n",
    "        i += 1\n",
    "    return index2\n",
    "\n",
    "# x = int(input())\n",
    "# arr = [int(i) for i in input().split()]\n",
    "x = 3\n",
    "arr = [1, 3, 3, 4]\n",
    "n = len(arr)\n",
    "print()\n",
    "# firstAndLast(arr, n, x)\n",
    "print(firstAndLast(arr, n, x))"
   ]
  },
  {
   "cell_type": "code",
   "execution_count": null,
   "id": "2ce9176c-3846-4f8c-8498-ceb7eba308f3",
   "metadata": {},
   "outputs": [],
   "source": []
  },
  {
   "cell_type": "code",
   "execution_count": null,
   "id": "aad3ba63-c727-4319-b532-ca60725740d2",
   "metadata": {},
   "outputs": [],
   "source": [
    "# Given an integer array nums of 2n integers, group these integers into n pairs (a1, b1), (a2, b2), ..., (an, bn) such that the sum of min(ai, bi) for all i is maximized. Return the maximized sum.\n",
    "\n",
    " \n",
    "\n",
    "# Example 1:\n",
    "\n",
    "# Input: nums = [1,4,3,2]\n",
    "# Output: 4\n",
    "# Explanation: All possible pairings (ignoring the ordering of elements) are:\n",
    "# 1. (1, 4), (2, 3) -> min(1, 4) + min(2, 3) = 1 + 2 = 3\n",
    "# 2. (1, 3), (2, 4) -> min(1, 3) + min(2, 4) = 1 + 2 = 3\n",
    "# 3. (1, 2), (3, 4) -> min(1, 2) + min(3, 4) = 1 + 3 = 4\n",
    "# So the maximum possible sum is 4.\n",
    "# Example 2:\n",
    "\n",
    "# Input: nums = [6,2,6,5,1,2]\n",
    "# Output: 9\n",
    "# Explanation: The optimal pairing is (2, 1), (2, 5), (6, 6). min(2, 1) + min(2, 5) + min(6, 6) = 1 + 2 + 6 = 9."
   ]
  },
  {
   "cell_type": "code",
   "execution_count": null,
   "id": "112fe1e7-4f4e-444a-abbf-6654591ca59b",
   "metadata": {},
   "outputs": [],
   "source": [
    "def arrayPairSum(nums):\n",
    "    # Sort the array\n",
    "    nums.sort()\n",
    "    \n",
    "    # Sum up every alternate element\n",
    "    max_sum = sum(nums[::2])\n",
    "    \n",
    "    return max_sum\n",
    "\n",
    "# Example usage\n",
    "nums = [1, 4, 3, 2]\n",
    "print(arrayPairSum(nums))  # Output: 4\n",
    "\n",
    "\n",
    "\n",
    "# Certainly! Let me explain how sum(nums[::2]) works:\n",
    "\n",
    "# nums[::2]: This is a slicing notation that creates a new list containing every second element from the original list nums.\n",
    "# sum(nums[::2]): This calculates the sum of all elements in the new list.\n",
    "# Here's a breakdown:\n",
    "\n",
    "# nums: This is the original list of integers.\n",
    "# nums[::2]: This creates a new list containing every second element from the original list. The slicing notation ::2 means \"start from the beginning and take every second element\".\n",
    "# sum(nums[::2]): This calculates the sum of all elements in the new list obtained from the slicing operation.\n",
    "# For example, consider the list nums = [1, 4, 3, 2]:\n",
    "\n",
    "# nums[::2] will be [1, 3], as it selects every second element starting from index 0.\n",
    "# sum(nums[::2]) will be 1 + 3 = 4, which is the sum of every second element in the list nums."
   ]
  },
  {
   "cell_type": "code",
   "execution_count": null,
   "id": "81298069-0e69-40a1-9561-0f993f8163f0",
   "metadata": {},
   "outputs": [],
   "source": [
    "def arrayPairSum(nums):\n",
    "    # Sort the array\n",
    "    nums.sort()\n",
    "    \n",
    "    # Initialize sum\n",
    "    max_sum = 0\n",
    "    \n",
    "    # Iterate over sorted array and sum up the minimum of each pair\n",
    "    for i in range(0, len(nums), 2):\n",
    "        max_sum += min(nums[i], nums[i+1])\n",
    "    \n",
    "    return max_sum\n",
    "\n",
    "# Example usage\n",
    "nums = [1, 4, 3, 2]\n",
    "print(arrayPairSum(nums))  # Output: 4"
   ]
  },
  {
   "cell_type": "code",
   "execution_count": 5,
   "id": "cca8ce46-28a1-45e4-aead-a0939a9e9d91",
   "metadata": {},
   "outputs": [
    {
     "name": "stdout",
     "output_type": "stream",
     "text": [
      "[6, 2, 6, 5, 1, 2]\n",
      "[1, 2, 2, 5, 6, 6]\n",
      "[1, 2, 6]\n",
      "9\n"
     ]
    }
   ],
   "source": [
    "def arrayPairSum(nums):\n",
    "    print(nums)\n",
    "    nums.sort()\n",
    "    print(nums)\n",
    "    lis = nums[::2]\n",
    "    print(lis)\n",
    "    max_sum = sum(lis)\n",
    "    # max_sum = sum(nums[::2])\n",
    "    \n",
    "    return max_sum\n",
    "\n",
    "# Example usage\n",
    "nums = [1, 4, 3, 2]\n",
    "nums = [6,2,6,5,1,2]\n",
    "print(arrayPairSum(nums))"
   ]
  },
  {
   "cell_type": "code",
   "execution_count": 2,
   "id": "143ff340-5b7e-41cc-8544-2dab43347640",
   "metadata": {},
   "outputs": [
    {
     "name": "stdout",
     "output_type": "stream",
     "text": [
      "16\n"
     ]
    }
   ],
   "source": [
    "def arrayPairSum(nums):\n",
    "    nums.sort()\n",
    "    return sum(nums[::2])\n",
    "\n",
    "# Example usage\n",
    "nums = [1, 4, 3, 2]\n",
    "nums = [1, 2, 3, 4, 5, 6, 7, 8]\n",
    "print(arrayPairSum(nums))"
   ]
  },
  {
   "cell_type": "code",
   "execution_count": null,
   "id": "8ab2ea16-b573-4be3-9c6d-9519e90084b4",
   "metadata": {},
   "outputs": [],
   "source": []
  }
 ],
 "metadata": {
  "kernelspec": {
   "display_name": "Python 3 (ipykernel)",
   "language": "python",
   "name": "python3"
  },
  "language_info": {
   "codemirror_mode": {
    "name": "ipython",
    "version": 3
   },
   "file_extension": ".py",
   "mimetype": "text/x-python",
   "name": "python",
   "nbconvert_exporter": "python",
   "pygments_lexer": "ipython3",
   "version": "3.12.2"
  }
 },
 "nbformat": 4,
 "nbformat_minor": 5
}
