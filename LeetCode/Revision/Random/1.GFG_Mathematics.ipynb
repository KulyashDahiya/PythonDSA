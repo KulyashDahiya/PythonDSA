{
 "cells": [
  {
   "cell_type": "code",
   "execution_count": 1,
   "id": "3a72c5a7-0ef5-4647-b1e4-6f2c6f0d918a",
   "metadata": {},
   "outputs": [
    {
     "name": "stdin",
     "output_type": "stream",
     "text": [
      " 12345\n"
     ]
    },
    {
     "name": "stdout",
     "output_type": "stream",
     "text": [
      "5\n"
     ]
    }
   ],
   "source": [
    "#Count of Digits\n",
    "\n",
    "x = int(input())\n",
    "digits = 0\n",
    "while x > 0:\n",
    "    x = x//10\n",
    "    digits += 1\n",
    "\n",
    "print(digits)"
   ]
  },
  {
   "cell_type": "code",
   "execution_count": 6,
   "id": "629b19a4-7378-4b5c-b079-b874a347892a",
   "metadata": {},
   "outputs": [
    {
     "name": "stdin",
     "output_type": "stream",
     "text": [
      " 1221\n"
     ]
    },
    {
     "name": "stdout",
     "output_type": "stream",
     "text": [
      "True\n"
     ]
    }
   ],
   "source": [
    "#Check Palindrome\n",
    "\n",
    "def isPal(n):\n",
    "    temp = n\n",
    "    rev = 0\n",
    "    while temp != 0:\n",
    "        x = temp % 10\n",
    "        rev = rev * 10 + x\n",
    "        temp = temp//10\n",
    "    return rev == n\n",
    "\n",
    "if __name__ == '__main__':\n",
    "    n = int(input())\n",
    "    print(isPal(n))"
   ]
  },
  {
   "cell_type": "code",
   "execution_count": 8,
   "id": "4c0cdb84-5e5a-4c1e-9ebc-6948a1d2bcc8",
   "metadata": {},
   "outputs": [
    {
     "name": "stdin",
     "output_type": "stream",
     "text": [
      " 5\n"
     ]
    },
    {
     "name": "stdout",
     "output_type": "stream",
     "text": [
      "120\n"
     ]
    }
   ],
   "source": [
    "#Factorial of a Number - Iterative\n",
    "\n",
    "def Factorial(n):\n",
    "    result = 1\n",
    "    for i in range(2, n+1):\n",
    "        result = result * i\n",
    "    return result\n",
    "    \n",
    "\n",
    "if __name__ == '__main__':\n",
    "    n = int(input())\n",
    "    fact = Factorial(n)\n",
    "    print(fact)\n",
    "    "
   ]
  },
  {
   "cell_type": "code",
   "execution_count": 10,
   "id": "f5a15dc1-9fa9-409c-8a41-5fbddaaa875e",
   "metadata": {},
   "outputs": [
    {
     "name": "stdin",
     "output_type": "stream",
     "text": [
      " 5\n"
     ]
    },
    {
     "name": "stdout",
     "output_type": "stream",
     "text": [
      "120\n"
     ]
    }
   ],
   "source": [
    "#Factorial of a Number - Recursive\n",
    "\n",
    "def fact_recursive(n):\n",
    "    if n == 1:\n",
    "        return 1\n",
    "    return n * fact_recursive(n-1)\n",
    "\n",
    "\n",
    "if __name__ == '__main__':\n",
    "    n = int(input())\n",
    "    fact = fact_recursive(n)\n",
    "    print(fact)"
   ]
  },
  {
   "cell_type": "code",
   "execution_count": 3,
   "id": "8f56a6d5-e0f8-4836-b2f9-556a6ef131df",
   "metadata": {},
   "outputs": [
    {
     "name": "stdin",
     "output_type": "stream",
     "text": [
      " 12 15\n"
     ]
    },
    {
     "name": "stdout",
     "output_type": "stream",
     "text": [
      "3\n"
     ]
    }
   ],
   "source": [
    "#GCD\n",
    "def gcd(a, b):\n",
    "    \n",
    "    while a != b:\n",
    "        if a > b:\n",
    "            a = a-b\n",
    "        else:\n",
    "            b = b-a\n",
    "    return a\n",
    "\n",
    "\n",
    "if __name__ == '__main__':\n",
    "    a, b = map(int, input().split())\n",
    "    print(gcd(a, b))"
   ]
  },
  {
   "cell_type": "code",
   "execution_count": 4,
   "id": "0922e203-b924-4a91-bab8-678af895fc61",
   "metadata": {},
   "outputs": [
    {
     "name": "stdin",
     "output_type": "stream",
     "text": [
      " 12 15\n"
     ]
    },
    {
     "name": "stdout",
     "output_type": "stream",
     "text": [
      "3\n"
     ]
    }
   ],
   "source": [
    "#GCD - Optimised\n",
    "def gcd_opti(a, b):\n",
    "    \n",
    "    if b == 0:\n",
    "        return a\n",
    "    return gcd_opti(b , a%b)\n",
    "\n",
    "\n",
    "if __name__ == '__main__':\n",
    "    a, b = map(int, input().split())\n",
    "    print(gcd_opti(a, b))"
   ]
  },
  {
   "cell_type": "code",
   "execution_count": 8,
   "id": "f6dc3dc0-a8b8-4260-9343-6f7f5a050cef",
   "metadata": {},
   "outputs": [
    {
     "name": "stdin",
     "output_type": "stream",
     "text": [
      " 4 6\n"
     ]
    },
    {
     "name": "stdout",
     "output_type": "stream",
     "text": [
      "12\n"
     ]
    }
   ],
   "source": [
    "#LCM - Naive Approach\n",
    "\n",
    "def lcm(a, b):\n",
    "    res = max(a,b)\n",
    "\n",
    "    while True:\n",
    "        if res%a == 0 and res%b == 0:\n",
    "            return res\n",
    "        res += 1\n",
    "        \n",
    "    return res\n",
    "\n",
    "if __name__ == '__main__':\n",
    "    a, b = map(int, input().split())\n",
    "    print(lcm(a, b))\n"
   ]
  },
  {
   "cell_type": "code",
   "execution_count": 15,
   "id": "6fbed203-475f-4aa3-afe1-d1bd3d6b48e4",
   "metadata": {},
   "outputs": [
    {
     "name": "stdout",
     "output_type": "stream",
     "text": [
      "3\n",
      "4\n",
      "5\n",
      "6\n",
      "7\n"
     ]
    }
   ],
   "source": [
    "# 6%4\n",
    "a = 2\n",
    "b = 7\n",
    "while True:\n",
    "    if a == b:\n",
    "        break\n",
    "    a += 1\n",
    "    print(a)"
   ]
  },
  {
   "cell_type": "code",
   "execution_count": 16,
   "id": "bcfbf0f5-ceba-41de-a18a-0c3bb59f5f2d",
   "metadata": {},
   "outputs": [
    {
     "name": "stdin",
     "output_type": "stream",
     "text": [
      " 4 6\n"
     ]
    },
    {
     "name": "stdout",
     "output_type": "stream",
     "text": [
      "12\n"
     ]
    }
   ],
   "source": [
    "#LCM - GCD Approach\n",
    "\n",
    "def gcd_opti(a, b):\n",
    "    \n",
    "    if b == 0:\n",
    "        return a\n",
    "    return gcd_opti(b , a%b)\n",
    "\n",
    "def lcm(a, b):\n",
    "    return (a*b) // gcd_opti(a,b)\n",
    "\n",
    "if __name__ == '__main__':\n",
    "    a, b = map(int, input().split())\n",
    "    print(lcm(a, b))\n"
   ]
  },
  {
   "cell_type": "code",
   "execution_count": 17,
   "id": "47a58674-7c49-4582-8d10-8fb0fa743942",
   "metadata": {},
   "outputs": [
    {
     "name": "stdin",
     "output_type": "stream",
     "text": [
      " 5\n"
     ]
    },
    {
     "data": {
      "text/plain": [
       "True"
      ]
     },
     "execution_count": 17,
     "metadata": {},
     "output_type": "execute_result"
    }
   ],
   "source": [
    "#Prime\n",
    "\n",
    "def isPrime(n):\n",
    "    if n == 1:\n",
    "        return False\n",
    "        \n",
    "    for i in range(2, n):\n",
    "        if n%i == 0:\n",
    "            return False\n",
    "    return True\n",
    "\n",
    "n = int(input())\n",
    "isPrime(n)"
   ]
  },
  {
   "cell_type": "code",
   "execution_count": 35,
   "id": "c611cf80-f47c-497d-8ce2-f57f345c2735",
   "metadata": {},
   "outputs": [
    {
     "name": "stdin",
     "output_type": "stream",
     "text": [
      " 101573\n"
     ]
    },
    {
     "data": {
      "text/plain": [
       "True"
      ]
     },
     "execution_count": 35,
     "metadata": {},
     "output_type": "execute_result"
    }
   ],
   "source": [
    "#Prime\n",
    "from math import sqrt\n",
    "\n",
    "def isPrime(n):\n",
    "    if n == 1:\n",
    "        return False\n",
    "        \n",
    "    for i in range(2, int(sqrt(n)) + 2):\n",
    "        if n%i == 0:\n",
    "            return False\n",
    "    return True\n",
    "\n",
    "n = int(input())\n",
    "isPrime(n)\n",
    "\n",
    "# 101573"
   ]
  },
  {
   "cell_type": "code",
   "execution_count": 41,
   "id": "3dbab028-1038-4b46-a3bf-6a727fd3e19d",
   "metadata": {},
   "outputs": [
    {
     "name": "stdin",
     "output_type": "stream",
     "text": [
      " 9999999999999999999999993\n"
     ]
    },
    {
     "data": {
      "text/plain": [
       "False"
      ]
     },
     "execution_count": 41,
     "metadata": {},
     "output_type": "execute_result"
    }
   ],
   "source": [
    "#Prime\n",
    "\n",
    "def isPrime(n):\n",
    "    if n == 1:\n",
    "        return False\n",
    "    i = 2\n",
    "    while (i*i <=n):\n",
    "        if n%i == 0:\n",
    "            return False\n",
    "        i += 1\n",
    "    return True\n",
    "\n",
    "n = int(input())\n",
    "isPrime(n)\n",
    "\n",
    "# 101573"
   ]
  },
  {
   "cell_type": "code",
   "execution_count": 51,
   "id": "145380a4-92b2-46d9-96c9-2a6a050fbd3e",
   "metadata": {
    "scrolled": true
   },
   "outputs": [
    {
     "name": "stdin",
     "output_type": "stream",
     "text": [
      " 5\n"
     ]
    },
    {
     "data": {
      "text/plain": [
       "True"
      ]
     },
     "execution_count": 51,
     "metadata": {},
     "output_type": "execute_result"
    }
   ],
   "source": [
    "#Prime\n",
    "\n",
    "def isPrime(n):\n",
    "    if n == 1:\n",
    "        return False\n",
    "\n",
    "    if n == 2 or n==3:\n",
    "        return True\n",
    "\n",
    "    if n%2 == 0 or n%3 == 0:\n",
    "        return False\n",
    "    \n",
    "    i = 5\n",
    "    while (i*i <=n):\n",
    "        if n%i == 0:\n",
    "            return False\n",
    "        i += 6\n",
    "    return True\n",
    "\n",
    "n = int(input())\n",
    "isPrime(n)\n",
    "\n",
    "# 101573"
   ]
  },
  {
   "cell_type": "markdown",
   "id": "6bd3b71e-fb92-46b2-a5fb-85cc53f23225",
   "metadata": {},
   "source": [
    "Prime Factorisation"
   ]
  },
  {
   "cell_type": "code",
   "execution_count": 1,
   "id": "048e914b-7e86-471f-816a-bb9a8629ba97",
   "metadata": {},
   "outputs": [
    {
     "name": "stdin",
     "output_type": "stream",
     "text": [
      " 200\n"
     ]
    },
    {
     "name": "stdout",
     "output_type": "stream",
     "text": [
      "All the Prime Factors of 200 are: 2 2 2 5 5 "
     ]
    }
   ],
   "source": [
    "# Prime Factorisation\n",
    "\n",
    "def isPrime(n):\n",
    "    if n == 1:\n",
    "        return False\n",
    "\n",
    "    if n == 2 or n==3:\n",
    "        return True\n",
    "\n",
    "    if n%2 == 0 or n%3 == 0:\n",
    "        return False\n",
    "    \n",
    "    i = 5\n",
    "    while (i*i <=n):\n",
    "        if n%i == 0:\n",
    "            return False\n",
    "        i += 6\n",
    "    return True\n",
    "\n",
    "def prime_fact(n):\n",
    "\n",
    "    for i in range(2, n+1):\n",
    "        if isPrime(i):\n",
    "            x = i\n",
    "            while n%x == 0:\n",
    "                print(i, end = ' ')\n",
    "                x *= i\n",
    "            \n",
    "\n",
    "\n",
    "if __name__ == '__main__':\n",
    "    n = int(input())\n",
    "    print(f\"All the Prime Factors of {n} are: \", end = '')\n",
    "    prime_fact(n)"
   ]
  },
  {
   "cell_type": "code",
   "execution_count": null,
   "id": "889624de-6943-4871-9f23-f39cce1051b2",
   "metadata": {},
   "outputs": [],
   "source": [
    "All Divisors of a Number N"
   ]
  },
  {
   "cell_type": "code",
   "execution_count": 3,
   "id": "cacdc651-39f3-4fd6-952a-713126facc20",
   "metadata": {},
   "outputs": [
    {
     "name": "stdin",
     "output_type": "stream",
     "text": [
      " 15\n"
     ]
    },
    {
     "name": "stdout",
     "output_type": "stream",
     "text": [
      "1 3 5 15\n"
     ]
    }
   ],
   "source": [
    "# All Divisors of a Number N\n",
    "\n",
    "def divisors(n):\n",
    "    i = 1\n",
    "    while i < (n//2 + 1):\n",
    "        if n%i == 0:\n",
    "            print(i, end = ' ')\n",
    "        i += 1\n",
    "    print(n)\n",
    "\n",
    "n = int(input())\n",
    "divisors(n)"
   ]
  },
  {
   "cell_type": "code",
   "execution_count": 17,
   "id": "df119701-3b81-423e-86a9-970d0a69a796",
   "metadata": {},
   "outputs": [
    {
     "name": "stdin",
     "output_type": "stream",
     "text": [
      " 25\n"
     ]
    },
    {
     "name": "stdout",
     "output_type": "stream",
     "text": [
      "[1, 5, 25]\n"
     ]
    }
   ],
   "source": [
    "# All Divisors of a Number N\n",
    "\n",
    "def divisors(n):\n",
    "    i = 1\n",
    "    lis = []\n",
    "    while i*i <= n:\n",
    "        if n%i == 0:\n",
    "            lis.append(i)\n",
    "            if i != (n//i):\n",
    "                lis.append(n//i)\n",
    "        i += 1\n",
    "    lis.sort()\n",
    "    return lis\n",
    "\n",
    "n = int(input())\n",
    "print(divisors(n))"
   ]
  },
  {
   "cell_type": "code",
   "execution_count": 37,
   "id": "60160fa8-c061-4cc0-a665-6b8b517a3432",
   "metadata": {},
   "outputs": [
    {
     "name": "stdin",
     "output_type": "stream",
     "text": [
      " 25\n"
     ]
    },
    {
     "name": "stdout",
     "output_type": "stream",
     "text": [
      "[1, 5, 25]\n"
     ]
    }
   ],
   "source": [
    "n = int(input())\n",
    "# lis = sorted([i for i in range(1, int(n**0.5) + 1) if n % i == 0] + [n//i for i in range(1, int(n**0.5) + 1) if n % i == 0 and i != n//i])\n",
    "lis = sorted(set(sum([[i, n//i] for i in range(1, int(n**0.5) + 1) if n % i == 0], [])))\n",
    "print(lis)"
   ]
  },
  {
   "cell_type": "code",
   "execution_count": 41,
   "id": "2c3b761b-9b5d-4fff-a669-a88df7cc7883",
   "metadata": {},
   "outputs": [
    {
     "data": {
      "text/plain": [
       "[1, 5, 25]"
      ]
     },
     "execution_count": 41,
     "metadata": {},
     "output_type": "execute_result"
    }
   ],
   "source": [
    "n = 25\n",
    "# [ [i, n//i] for i in range(1, int(n**0.5) + 1) if n%i == 0 ]\n",
    "[ i for i in range(1, int(n**0.5) + 1) if n%i == 0 ] + [ n//i for i in range(1, int(n**0.5) + 1) if n%i == 0 and i != n//i]"
   ]
  },
  {
   "cell_type": "code",
   "execution_count": 44,
   "id": "c8fbef03-43e6-48d0-a4c8-1dd1dadade7d",
   "metadata": {},
   "outputs": [
    {
     "name": "stdin",
     "output_type": "stream",
     "text": [
      " 25\n"
     ]
    },
    {
     "name": "stdout",
     "output_type": "stream",
     "text": [
      "[1, 5, 25]\n"
     ]
    }
   ],
   "source": [
    "#Time Complexity --- sqrt(n)\n",
    "\n",
    "# All Divisors of a Number N\n",
    "\n",
    "def divisors(n):\n",
    "    i = 1\n",
    "    lis = []\n",
    "    while i*i < n:\n",
    "        if n%i == 0:\n",
    "            lis.append(i)\n",
    "        i += 1\n",
    "    while i >= 1:\n",
    "        if n%i == 0:\n",
    "            lis.append(n//i)\n",
    "        i -= 1\n",
    "    \n",
    "    return lis\n",
    "\n",
    "n = int(input())\n",
    "print(divisors(n))"
   ]
  },
  {
   "cell_type": "code",
   "execution_count": 49,
   "id": "04aff1ce-cffc-4dad-9b99-041290ddf318",
   "metadata": {},
   "outputs": [
    {
     "name": "stdin",
     "output_type": "stream",
     "text": [
      " 985647\n"
     ]
    },
    {
     "name": "stdout",
     "output_type": "stream",
     "text": [
      "[1, 3, 13, 39, 127, 199, 381, 597, 1651, 2587, 4953, 7761, 25273, 75819, 328549, 985647]\n"
     ]
    }
   ],
   "source": [
    "#Time Complexity --- sqrt(n)\n",
    "n = int(input())\n",
    "lis = [i for i in range(1, int(n**0.5) ) if n % i == 0] + [n//i for i in range(int(n**0.5), 0, -1) if n % i == 0]\n",
    "print(lis)"
   ]
  },
  {
   "cell_type": "code",
   "execution_count": null,
   "id": "2cde73ea-04ab-48f4-88be-776f267f5843",
   "metadata": {},
   "outputs": [],
   "source": []
  },
  {
   "cell_type": "markdown",
   "id": "c7fb1f22-1e81-4478-bfe2-892f1b98bab7",
   "metadata": {},
   "source": [
    "Sieve of Eratosthenes"
   ]
  },
  {
   "cell_type": "code",
   "execution_count": 60,
   "id": "f5a3e09c-89cf-492b-8817-2e664fcc325b",
   "metadata": {},
   "outputs": [
    {
     "name": "stdin",
     "output_type": "stream",
     "text": [
      " 23\n"
     ]
    },
    {
     "name": "stdout",
     "output_type": "stream",
     "text": [
      "2 3 5 7 11 13 17 19 23 "
     ]
    }
   ],
   "source": [
    "#Sieve of Eratosthenes   --- Naive\n",
    "\n",
    "def soe(n):\n",
    "    # for i in range(n+1):\n",
    "    #     if isPrime(i):\n",
    "    #         print(i, end = ' ')\n",
    "\n",
    "    lis = [i for i in range(n+1) if isPrime(i)]\n",
    "    for i in lis: print(i, end = ' ')\n",
    "\n",
    "\n",
    "n = int(input())\n",
    "soe(n)"
   ]
  },
  {
   "cell_type": "code",
   "execution_count": 69,
   "id": "161a88d9-45d2-4bcf-b583-5585536c5d46",
   "metadata": {},
   "outputs": [
    {
     "name": "stdin",
     "output_type": "stream",
     "text": [
      " 22\n"
     ]
    },
    {
     "name": "stdout",
     "output_type": "stream",
     "text": [
      "2 3 5 7 11 13 17 19 "
     ]
    }
   ],
   "source": [
    "def soe(n):\n",
    "    if n <= 1:\n",
    "        return\n",
    "\n",
    "    isPrime1 = [True] * (n+1)\n",
    "    i = 2\n",
    "\n",
    "    sq = int(n**0.5) + 1\n",
    "    while i <= sq:\n",
    "        if isPrime1[i]:\n",
    "            for j in range( 2*i, n+1, i):\n",
    "                isPrime1[j] = False\n",
    "        i += 1\n",
    "    \n",
    "    for i in range(2, n+1):\n",
    "        if isPrime1[i]:\n",
    "            print(i, end = ' ')\n",
    "\n",
    "\n",
    "n = int(input())\n",
    "soe(n)"
   ]
  },
  {
   "cell_type": "code",
   "execution_count": null,
   "id": "c7bf115d-80a5-4ef8-a108-482913bef3db",
   "metadata": {},
   "outputs": [],
   "source": []
  },
  {
   "cell_type": "markdown",
   "id": "69d187cf-0b12-4130-83e6-c6f6e0c3d107",
   "metadata": {},
   "source": [
    "Computing Power - Exponent"
   ]
  },
  {
   "cell_type": "code",
   "execution_count": 12,
   "id": "629e8d6a-575a-4f77-ae83-0374a3fb3660",
   "metadata": {},
   "outputs": [],
   "source": [
    "#Computing Power - Naive\n",
    "\n",
    "def power1(x, n):\n",
    "    res = 1\n",
    "    for i in range(n):\n",
    "        res = res * x\n",
    "    return res"
   ]
  },
  {
   "cell_type": "code",
   "execution_count": 11,
   "id": "29913816-c272-4b15-9a2b-6b924a6bb11e",
   "metadata": {},
   "outputs": [],
   "source": [
    "def power(x, n):\n",
    "    if n == 0:\n",
    "        return 1\n",
    "    temp = power(x, n//2)\n",
    "    temp = temp * temp\n",
    "    if n%2 == 0:\n",
    "        return temp\n",
    "    else:\n",
    "        return temp * x"
   ]
  },
  {
   "cell_type": "code",
   "execution_count": 13,
   "id": "2af1c532-7b6e-4eb1-b319-be901ffef319",
   "metadata": {},
   "outputs": [
    {
     "name": "stdout",
     "output_type": "stream",
     "text": [
      "243\n"
     ]
    }
   ],
   "source": [
    "print(power(3, 5))"
   ]
  }
 ],
 "metadata": {
  "kernelspec": {
   "display_name": "Python 3 (ipykernel)",
   "language": "python",
   "name": "python3"
  },
  "language_info": {
   "codemirror_mode": {
    "name": "ipython",
    "version": 3
   },
   "file_extension": ".py",
   "mimetype": "text/x-python",
   "name": "python",
   "nbconvert_exporter": "python",
   "pygments_lexer": "ipython3",
   "version": "3.12.2"
  }
 },
 "nbformat": 4,
 "nbformat_minor": 5
}
