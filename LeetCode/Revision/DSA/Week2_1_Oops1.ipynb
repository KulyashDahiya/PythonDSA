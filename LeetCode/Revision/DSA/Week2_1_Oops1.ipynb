{
 "cells": [
  {
   "cell_type": "code",
   "execution_count": 3,
   "id": "5699e4c8-bd64-4170-805e-d4b19bb4f34f",
   "metadata": {},
   "outputs": [
    {
     "name": "stdout",
     "output_type": "stream",
     "text": [
      "89.0\n",
      "84.0\n"
     ]
    }
   ],
   "source": [
    "class Student:\n",
    "    def __init__(self) -> None:\n",
    "        self.name = \"\"\n",
    "        self.marks = []\n",
    "        self.address = \"\"\n",
    "\n",
    "    def setName(self, name):\n",
    "        self.name = name\n",
    "\n",
    "    def addMarks(self, marks):\n",
    "        self.marks.append(marks)\n",
    "\n",
    "    def setAddress(self, address):\n",
    "        self.address = address\n",
    "\n",
    "    def calculateCGPA(self):\n",
    "        total = 0\n",
    "        for marks in self.marks:\n",
    "            total += marks\n",
    "        return total / len(self.marks)\n",
    "\n",
    "\n",
    "studentA = Student()\n",
    "studentB = Student()\n",
    "\n",
    "studentA.setName(\"Soham\")\n",
    "studentA.addMarks(90)\n",
    "studentA.addMarks(88)\n",
    "\n",
    "\n",
    "studentB.setName(\"Ram\")\n",
    "studentB.addMarks(88)\n",
    "studentB.addMarks(80)\n",
    "\n",
    "\n",
    "print(studentA.calculateCGPA())\n",
    "print(studentB.calculateCGPA())"
   ]
  },
  {
   "cell_type": "code",
   "execution_count": null,
   "id": "710fbf3e",
   "metadata": {},
   "outputs": [],
   "source": [
    "###  DECORATORS"
   ]
  },
  {
   "cell_type": "code",
   "execution_count": 3,
   "id": "bc84b471",
   "metadata": {},
   "outputs": [
    {
     "name": "stdout",
     "output_type": "stream",
     "text": [
      "Greetings to course Soham\n"
     ]
    }
   ],
   "source": [
    "def welcome_message(intro_message_gen, name):\n",
    "    return intro_message() + name\n",
    "\n",
    "def intro_message():\n",
    "    return \"Greetings to course \"\n",
    "    \n",
    "\n",
    "print(welcome_message(intro_message, \"Soham\"))"
   ]
  },
  {
   "cell_type": "code",
   "execution_count": 4,
   "id": "df2a3fff",
   "metadata": {},
   "outputs": [
    {
     "name": "stdout",
     "output_type": "stream",
     "text": [
      "<function welcome_message.<locals>.printer at 0x11022b240>\n"
     ]
    }
   ],
   "source": [
    "def welcome_message(intro_message_gen, name):\n",
    "    def printer():\n",
    "        print(intro_message() + name)\n",
    "    return printer\n",
    "\n",
    "def intro_message():\n",
    "    return \"Greetings to course \"\n",
    "    \n",
    "\n",
    "print(welcome_message(intro_message, \"Soham\"))"
   ]
  },
  {
   "cell_type": "code",
   "execution_count": 5,
   "id": "ae87b54d",
   "metadata": {},
   "outputs": [
    {
     "name": "stdout",
     "output_type": "stream",
     "text": [
      "Greetings to course Soham\n"
     ]
    }
   ],
   "source": [
    "def welcome_message(intro_message_gen, name):\n",
    "    def printer():\n",
    "        print(intro_message() + name)\n",
    "    return printer\n",
    "\n",
    "def intro_message():\n",
    "    return \"Greetings to course \"\n",
    "    \n",
    "\n",
    "f = welcome_message(intro_message, \"Soham\")\n",
    "f()"
   ]
  },
  {
   "cell_type": "code",
   "execution_count": null,
   "id": "31778404",
   "metadata": {},
   "outputs": [],
   "source": []
  },
  {
   "cell_type": "code",
   "execution_count": null,
   "id": "e89ab528",
   "metadata": {},
   "outputs": [],
   "source": []
  },
  {
   "cell_type": "code",
   "execution_count": null,
   "id": "1b262428",
   "metadata": {},
   "outputs": [],
   "source": []
  },
  {
   "cell_type": "markdown",
   "id": "4c032d8a",
   "metadata": {},
   "source": []
  }
 ],
 "metadata": {
  "kernelspec": {
   "display_name": "Python 3 (ipykernel)",
   "language": "python",
   "name": "python3"
  },
  "language_info": {
   "codemirror_mode": {
    "name": "ipython",
    "version": 3
   },
   "file_extension": ".py",
   "mimetype": "text/x-python",
   "name": "python",
   "nbconvert_exporter": "python",
   "pygments_lexer": "ipython3",
   "version": "3.12.4"
  }
 },
 "nbformat": 4,
 "nbformat_minor": 5
}
