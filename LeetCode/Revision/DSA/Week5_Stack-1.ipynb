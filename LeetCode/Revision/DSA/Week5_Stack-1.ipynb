{
 "cells": [
  {
   "cell_type": "markdown",
   "metadata": {},
   "source": [
    "#  Implement Stack With Linked List\n",
    "\n",
    "# https://www.geeksforgeeks.org/implement-a-stack-using-singly-linked-list/\n",
    "# https://www.naukri.com/code360/problems/implement-stack-with-linked-list_630475\n",
    "\n",
    "\n",
    "\n",
    "\n",
    "You must implement the Stack data structure using a Singly Linked List.\n",
    "Create a class named 'Stack' which supports the following operations(all in O(1) time):\n",
    "\n",
    "getSize: Returns an integer. Gets the current size of the stack\n",
    "isEmpty: Returns a boolean. Gets whether the stack is empty\n",
    "push: Returns nothing. Accepts an integer. Puts that integer at the top of the stack\n",
    "pop: Returns nothing. Removes the top element of the stack. It does nothing if the stack is empty.\n",
    "getTop: Returns an integer. Gets the top element of the stack. Returns -1 if the stack is empty"
   ]
  },
  {
   "cell_type": "code",
   "execution_count": null,
   "metadata": {},
   "outputs": [],
   "source": [
    "class Node:\n",
    "    def __init__(self, data, next_node=None):\n",
    "        self.data = data\n",
    "        self.next = next_node\n",
    "\n",
    "class Stack:\n",
    "    def __init__(self):\n",
    "        self.head = None\n",
    "        self.size = 0\n",
    "        \n",
    "    def getSize(self):\n",
    "        return self.size\n",
    "        \n",
    "    def isEmpty(self):\n",
    "        return self.head is None\n",
    "\n",
    "    def push(self, data):\n",
    "        new_Node = Node(data)\n",
    "        new_Node.next = self.head\n",
    "        self.head = new_Node\n",
    "        self.size += 1\n",
    "        \n",
    "    def pop(self):\n",
    "        if not head:\n",
    "            return None\n",
    "\n",
    "        head_data = self.head.data\n",
    "        top = self.head\n",
    "        self.head = self.head.next\n",
    "        del top\n",
    "        self.size -= 1\n",
    "        return head_data\n",
    "\n",
    "    def getTop(self):\n",
    "        if self.head is None:\n",
    "            return -1\n",
    "        return self.head.data"
   ]
  },
  {
   "cell_type": "code",
   "execution_count": 3,
   "metadata": {},
   "outputs": [
    {
     "data": {
      "text/plain": [
       "False"
      ]
     },
     "execution_count": 3,
     "metadata": {},
     "output_type": "execute_result"
    }
   ],
   "source": [
    "# 20 Valid Parentheses\n",
    "\n",
    "def isValid(s: str) -> bool:\n",
    "    stack = []\n",
    "    char_map = { \")\": \"(\", \"}\": \"{\", \"]\": \"[\"}\n",
    "\n",
    "    for char in s:\n",
    "        if char in char_map.values():\n",
    "            stack.append(char)\n",
    "        else:\n",
    "            if not stack or stack.pop() != char_map[char]:\n",
    "                return False\n",
    "            \n",
    "    return not stack\n",
    "\n",
    "\n",
    "s = \"()\"\n",
    "s = \"()[]{}\"\n",
    "s = \"(]\"\n",
    "isValid(s)"
   ]
  },
  {
   "cell_type": "code",
   "execution_count": 8,
   "metadata": {},
   "outputs": [
    {
     "name": "stdout",
     "output_type": "stream",
     "text": [
      "Original Stack:  [1, 2, 3, 4, 5]\n",
      "Reversed stack: [5, 4, 3, 2, 1]\n"
     ]
    }
   ],
   "source": [
    "# Reverse Stack using 2 stacks (Without changing reference)\n",
    "\n",
    "def reverseStack(s1, s2):\n",
    "    # Base case: If s1 has only one element, no need to reverse further\n",
    "    if len(s1) == 1:\n",
    "        return\n",
    "\n",
    "    # Move all elements from s1 to s2 except the last one\n",
    "    while len(s1) != 1:\n",
    "        ele = s1.pop()\n",
    "        s2.append(ele)\n",
    "\n",
    "    # Hold the last element in s1\n",
    "    lastElement = s1.pop()\n",
    "\n",
    "    # Move all elements back from s2 to s1\n",
    "    while len(s2) != 0:\n",
    "        ele = s2.pop()\n",
    "        s1.append(ele)\n",
    "\n",
    "    # Recursively reverse the smaller stack\n",
    "    reverseStack(s1, s2)\n",
    "\n",
    "    # Place the last element at the bottom of the reversed stack\n",
    "    s1.append(lastElement)\n",
    "\n",
    "# Set recursion limit to prevent recursion depth errors\n",
    "from sys import setrecursionlimit\n",
    "setrecursionlimit(11000)\n",
    "\n",
    "# Input\n",
    "n = int(input(\"Enter the number of elements in the stack: \"))  # Size of the stack\n",
    "s1 = [int(ele) for ele in input(\"Enter the elements of the stack separated by spaces: \").split()]  # Input elements\n",
    "s2 = []  # Auxiliary stack\n",
    "\n",
    "# Reverse the stack\n",
    "reverseStack(s1, s2)\n",
    "\n",
    "# Output the reversed stack\n",
    "print(\"Reversed Stack:\", s1)\n"
   ]
  },
  {
   "cell_type": "code",
   "execution_count": null,
   "metadata": {},
   "outputs": [],
   "source": [
    "#Reverse a Stack Using recursion\n",
    "\n",
    "# https://www.naukri.com/code360/problems/reverse-stack-using-recursion_631875\n",
    "\n",
    "from typing import List\n",
    "\n",
    "def insert_at_bottom(stack, item):\n",
    "    if not stack:\n",
    "        stack.append(item)\n",
    "    else:\n",
    "        temp = stack.pop()\n",
    "        stack = insert_at_bottom(stack, item)\n",
    "        stack.append(temp)\n",
    "\n",
    "    return stack\n",
    "\n",
    "def reverseStack(stack: List[int]) -> None:\n",
    "    if not stack:\n",
    "        return\n",
    "\n",
    "    temp = stack.pop()\n",
    "\n",
    "    reverseStack(stack)\n",
    "\n",
    "    stack = insert_at_bottom(stack, temp)"
   ]
  },
  {
   "cell_type": "code",
   "execution_count": null,
   "metadata": {},
   "outputs": [],
   "source": [
    "# Redundant Brackets\n",
    "\n",
    "# https://www.naukri.com/code360/problems/redundant-brackets_975473"
   ]
  }
 ],
 "metadata": {
  "kernelspec": {
   "display_name": ".venv",
   "language": "python",
   "name": "python3"
  },
  "language_info": {
   "codemirror_mode": {
    "name": "ipython",
    "version": 3
   },
   "file_extension": ".py",
   "mimetype": "text/x-python",
   "name": "python",
   "nbconvert_exporter": "python",
   "pygments_lexer": "ipython3",
   "version": "3.12.5"
  }
 },
 "nbformat": 4,
 "nbformat_minor": 2
}
