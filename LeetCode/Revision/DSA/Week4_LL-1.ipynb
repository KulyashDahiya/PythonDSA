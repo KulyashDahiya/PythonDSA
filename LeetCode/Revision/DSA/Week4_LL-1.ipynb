{
 "cells": [
  {
   "cell_type": "code",
   "execution_count": 3,
   "metadata": {},
   "outputs": [
    {
     "name": "stdout",
     "output_type": "stream",
     "text": [
      "13\n",
      "15\n",
      "15\n"
     ]
    }
   ],
   "source": [
    "class Node:\n",
    "    def __init__(self, data):\n",
    "        self.data = data\n",
    "        self.next = None\n",
    "\n",
    "\n",
    "a = Node(13)\n",
    "b = Node(15)\n",
    "\n",
    "a.next = b\n",
    "\n",
    "print(a.data)\n",
    "print(b.data)\n",
    "print(a.next.data)"
   ]
  },
  {
   "cell_type": "code",
   "execution_count": 5,
   "metadata": {},
   "outputs": [
    {
     "name": "stdout",
     "output_type": "stream",
     "text": [
      "1 -> 2 -> 3 -> 4 -> 5 -> None\n"
     ]
    }
   ],
   "source": [
    "## Taking input from a LL and Printing\n",
    "\n",
    "\n",
    "def takeInput():\n",
    "\n",
    "    input = \"1 2 3 4 5 -1\"\n",
    "    inputList = [int(ele) for ele in input.split()]\n",
    "    head = None\n",
    "    for curr_data in inputList:\n",
    "        if curr_data == -1:\n",
    "            break\n",
    "\n",
    "        newNode = Node(curr_data)\n",
    "        if head is None:\n",
    "            head = newNode\n",
    "        else:\n",
    "            curr = head\n",
    "            while curr.next is not None:\n",
    "                curr = curr.next\n",
    "            curr.next = newNode\n",
    "        \n",
    "    return head\n",
    "\n",
    "def printLL(head):\n",
    "\n",
    "    curr = head\n",
    "    while curr is not None:\n",
    "        print(curr.data, end = ' -> ')\n",
    "        curr = curr.next\n",
    "    print(\"None\")\n",
    "\n",
    "    return\n",
    "\n",
    "\n",
    "\n",
    "head = takeInput()\n",
    "printLL(head)\n",
    "\n",
    "\n",
    "# 1 2 3 4 5 -1"
   ]
  },
  {
   "cell_type": "code",
   "execution_count": 6,
   "metadata": {},
   "outputs": [
    {
     "name": "stdout",
     "output_type": "stream",
     "text": [
      "1 -> 2 -> 3 -> 4 -> 5 -> 6 -> 7 -> None\n"
     ]
    }
   ],
   "source": [
    "## Taking Optimized Input for LL\n",
    "\n",
    "def takeInput_optimized(input = \"1 2 3 4 5 6 7 -1\"):\n",
    "\n",
    "    # input = \"1 2 3 4 5 6 7 -1\"\n",
    "    inputList = [int(ele) for ele in input.split()]\n",
    "    head = None\n",
    "    tail = None\n",
    "    for curr_data in inputList:\n",
    "        if curr_data == -1:\n",
    "            break\n",
    "\n",
    "        newNode = Node(curr_data)\n",
    "        if head is None:\n",
    "            head = newNode\n",
    "            tail = newNode\n",
    "        else:\n",
    "            tail.next = newNode\n",
    "            tail = newNode\n",
    "        \n",
    "    return head\n",
    "\n",
    "\n",
    "head = takeInput_optimized()\n",
    "printLL(head)"
   ]
  },
  {
   "cell_type": "code",
   "execution_count": 43,
   "metadata": {},
   "outputs": [
    {
     "name": "stdout",
     "output_type": "stream",
     "text": [
      "Position 8 is out of bounds, node not inserted.\n",
      "1 2 3 4 5 7 "
     ]
    }
   ],
   "source": [
    "## Inserting at i-th position in a LL\n",
    "\n",
    "def insertEl(head, data, pos):\n",
    "    if pos < 0:\n",
    "        return head\n",
    "    \n",
    "    newNode = Node(data)\n",
    "    if pos == 0:\n",
    "        newNode.next = head\n",
    "        return newNode\n",
    "\n",
    "\n",
    "    i = 0\n",
    "    curr = head\n",
    "\n",
    "    while curr is not None:\n",
    "        if i == pos-1:\n",
    "            newNode.next = curr.next\n",
    "            curr.next = newNode\n",
    "            return head\n",
    "        \n",
    "        curr = curr.next\n",
    "        i += 1\n",
    "\n",
    "\n",
    "    print(f\"Position {pos} is out of bounds, node not inserted.\")\n",
    "    return head\n",
    "\n",
    "\n",
    "head = takeInput_optimized()\n",
    "head1 = insertEl(head, 7, 8)\n",
    "printLL(head1)"
   ]
  },
  {
   "cell_type": "code",
   "execution_count": 48,
   "metadata": {},
   "outputs": [
    {
     "name": "stdout",
     "output_type": "stream",
     "text": [
      "1 2 3 7 4 5 "
     ]
    }
   ],
   "source": [
    "def insertAtI_recursive(head, data, pos):\n",
    "\n",
    "    if pos < 0:\n",
    "        return head\n",
    "    \n",
    "    if pos == 0:\n",
    "        newNode = Node(data)\n",
    "        newNode.next = head\n",
    "        return newNode\n",
    "\n",
    "    if head is not None:\n",
    "        head.next = insertAtI_recursive(head.next, data, pos - 1)\n",
    "    \n",
    "    return head\n",
    "\n",
    "head = takeInput_optimized()\n",
    "head2 = insertEl(head, 7, 3)\n",
    "printLL(head2)"
   ]
  },
  {
   "cell_type": "code",
   "execution_count": 49,
   "metadata": {},
   "outputs": [],
   "source": [
    "###  Questions\n",
    "\n",
    "\n",
    "# 1. Length of LL\n",
    "# 2. Delete a node\n",
    "# 3. Lenth of LL (Recursive)\n",
    "# 4. Delete a node (Recursive)"
   ]
  },
  {
   "cell_type": "code",
   "execution_count": 57,
   "metadata": {},
   "outputs": [
    {
     "name": "stdout",
     "output_type": "stream",
     "text": [
      "9\n"
     ]
    }
   ],
   "source": [
    "# 1. Length of LL\n",
    "\n",
    "def length_LL(head):\n",
    "    n = 0\n",
    "    while head is not None:\n",
    "        head = head.next\n",
    "        n += 1\n",
    "\n",
    "    return n\n",
    "\n",
    "\n",
    "\n",
    "head = takeInput_optimized()\n",
    "l = length_LL(head)\n",
    "print(l)"
   ]
  },
  {
   "cell_type": "code",
   "execution_count": 69,
   "metadata": {},
   "outputs": [
    {
     "name": "stdout",
     "output_type": "stream",
     "text": [
      "1 -> 2 -> 3 -> 5 -> 6 -> 7 -> None\n"
     ]
    }
   ],
   "source": [
    "# 2. Delete a node\n",
    "\n",
    "def delete_node(head, pos):\n",
    "\n",
    "    n = length_LL(head)\n",
    "    if pos < 0 or pos >= n:\n",
    "        return head\n",
    "    \n",
    "    if pos == 0:\n",
    "        head = head.next\n",
    "\n",
    "    i = 0\n",
    "    curr = head\n",
    "    prev = None\n",
    "\n",
    "    while curr is not None:\n",
    "        if i == pos:\n",
    "            prev.next = curr.next\n",
    "            return head\n",
    "        prev = curr\n",
    "        curr = curr.next\n",
    "        i += 1\n",
    "\n",
    "    return head\n",
    "\n",
    "head = takeInput_optimized()\n",
    "head = delete_node(head, 3)\n",
    "printLL(head)"
   ]
  },
  {
   "cell_type": "code",
   "execution_count": 9,
   "metadata": {},
   "outputs": [
    {
     "name": "stdout",
     "output_type": "stream",
     "text": [
      "7\n"
     ]
    }
   ],
   "source": [
    "# 3. Lenth of LL (Recursive)\n",
    "\n",
    "def length_LL_recursive(head):\n",
    "    \n",
    "    if head is None:\n",
    "        return 0\n",
    "\n",
    "    return 1 + length_LL_recursive(head.next)\n",
    "\n",
    "\n",
    "\n",
    "head = takeInput_optimized()\n",
    "l = length_LL_recursive(head)\n",
    "print(l)"
   ]
  },
  {
   "cell_type": "code",
   "execution_count": 10,
   "metadata": {},
   "outputs": [
    {
     "name": "stdout",
     "output_type": "stream",
     "text": [
      "1 -> 2 -> 3 -> 4 -> 5 -> 6 -> 7 -> None\n"
     ]
    }
   ],
   "source": [
    "# 4. Delete a node (Recursive)\n",
    "\n",
    "def delete_node_recursive(head, pos, index = 0):\n",
    "\n",
    "    if head is None:\n",
    "        return None\n",
    "    \n",
    "    if index == pos:\n",
    "        return head.next\n",
    "    \n",
    "    head.next = delete_node_recursive(head.next, pos, index + 1)\n",
    "\n",
    "    return head\n",
    "\n",
    "head = takeInput_optimized()\n",
    "head = delete_node_recursive(head, 7)\n",
    "printLL(head)"
   ]
  },
  {
   "cell_type": "code",
   "execution_count": null,
   "metadata": {},
   "outputs": [],
   "source": []
  },
  {
   "cell_type": "code",
   "execution_count": null,
   "metadata": {},
   "outputs": [],
   "source": [
    "## Assignments\n",
    "\n",
    "# Find a node in a LL\n",
    "# Append Last N to First\n",
    "# Eliminate Duplicates\n",
    "# Print Reversed Linked Lists\n",
    "# Palindrome Linked Lists"
   ]
  },
  {
   "cell_type": "code",
   "execution_count": 11,
   "metadata": {},
   "outputs": [
    {
     "name": "stdout",
     "output_type": "stream",
     "text": [
      "1 -> 2 -> 3 -> 4 -> 5 -> 6 -> 7 -> None\n",
      "4\n"
     ]
    }
   ],
   "source": [
    "\n",
    "# Find a node in a LL\n",
    "\n",
    "def findNode(head, data):\n",
    "\n",
    "    i = 0\n",
    "    while head is not None:\n",
    "        if head.data == data:\n",
    "            return i\n",
    "        head = head.next\n",
    "        i += 1\n",
    "    \n",
    "    return -1\n",
    "\n",
    "data = 5\n",
    "head = takeInput_optimized()\n",
    "index = findNode(head, data)\n",
    "printLL(head)\n",
    "print(index)"
   ]
  },
  {
   "cell_type": "code",
   "execution_count": 12,
   "metadata": {},
   "outputs": [
    {
     "name": "stdout",
     "output_type": "stream",
     "text": [
      "4 -> 5 -> 6 -> 7 -> 1 -> 2 -> 3 -> None\n"
     ]
    }
   ],
   "source": [
    "# Append Last N to First\n",
    "\n",
    "def AppendLastNtoFirst(head, n):\n",
    "    \n",
    "    if head is None or n == 0:\n",
    "        return head\n",
    "\n",
    "    tail = None\n",
    "    count = 0\n",
    "    curr = head\n",
    "    while curr is not None:\n",
    "        tail = curr\n",
    "        curr = curr.next\n",
    "        count += 1\n",
    "\n",
    "    if n >= count:\n",
    "        return head\n",
    "\n",
    "    i = 0\n",
    "    curr = head\n",
    "    newTail = None\n",
    "    while i < (count - n):\n",
    "        newTail = curr\n",
    "        curr = curr.next\n",
    "        newHead = curr\n",
    "        i += 1\n",
    "\n",
    "    newTail.next = None\n",
    "    tail.next = head\n",
    "\n",
    "    return newHead\n",
    "\n",
    "\n",
    "head = takeInput_optimized()\n",
    "head = AppendLastNtoFirst(head, 4)\n",
    "printLL(head)"
   ]
  },
  {
   "cell_type": "code",
   "execution_count": 13,
   "metadata": {},
   "outputs": [
    {
     "name": "stdout",
     "output_type": "stream",
     "text": [
      "1 -> 2 -> 3 -> 4 -> 5 -> 6 -> 7 -> None\n"
     ]
    }
   ],
   "source": [
    "# Eliminate Duplicates  -  already in ascending order, remove consecutve duplicates.\n",
    "\n",
    "def eliminateDupes_mine(head):\n",
    "    if head is None:\n",
    "        return head\n",
    "    \n",
    "    curr = head\n",
    "    while curr is not None:\n",
    "        \n",
    "        if curr.next is not None and curr.data == curr.next.data:\n",
    "            temp = curr.next.next\n",
    "            while temp is not None and temp.data == curr.data:\n",
    "                temp = temp.next\n",
    "            \n",
    "            curr.next = temp\n",
    "\n",
    "        curr = curr.next\n",
    "\n",
    "\n",
    "    return head\n",
    "\n",
    "def eliminateDupes(head):\n",
    "    if head is None:\n",
    "        return head\n",
    "    \n",
    "    curr = head\n",
    "    while curr.next is not None:\n",
    "        \n",
    "        if curr.data == curr.next.data:\n",
    "            curr.next = curr.next.next\n",
    "        else:\n",
    "            curr = curr.next\n",
    "\n",
    "\n",
    "    return head\n",
    "\n",
    "head = takeInput_optimized(\"1 2 3 4 4 4 4 4 5 5 5 5 5 6 7 -1\")\n",
    "# head = eliminateDupes_mine(head)\n",
    "head = eliminateDupes(head)\n",
    "printLL(head)"
   ]
  },
  {
   "cell_type": "code",
   "execution_count": 14,
   "metadata": {},
   "outputs": [
    {
     "name": "stdout",
     "output_type": "stream",
     "text": [
      "1 -> 2 -> 3 -> 4 -> 5 -> 6 -> 7 -> None\n",
      "7 -> 6 -> 5 -> 4 -> 3 -> 2 -> 1 -> None\n"
     ]
    }
   ],
   "source": [
    "# Print Reversed Linked Lists\n",
    "\n",
    "\n",
    "## Using recursion\n",
    "def printLL_reversed(head):\n",
    "\n",
    "    if head is None:\n",
    "        return\n",
    "\n",
    "    printLL_reversed(head.next)\n",
    "    \n",
    "    print(head.data, end = ' -> ')\n",
    "\n",
    "\n",
    "# using stack (LIFO)\n",
    "def print_reverse_iterative(head):\n",
    "    stack = []\n",
    "    current = head\n",
    "\n",
    "    # Push all nodes onto the stack\n",
    "    while current is not None:\n",
    "        stack.append(current.data)\n",
    "        current = current.next\n",
    "\n",
    "    # Pop from the stack to print nodes in reverse order\n",
    "    while stack:\n",
    "        print(stack.pop(), end=\" -> \")\n",
    "\n",
    "\n",
    "## By Reversing LL in place\n",
    "def reverseList(head):\n",
    "    prev = None  # This will eventually be the new head of the reversed list\n",
    "    curr = head  # Start with the current head of the list\n",
    "\n",
    "    while curr is not None:\n",
    "        newNode = curr.next  # Temporarily store the next node\n",
    "        curr.next = prev  # Reverse the link by pointing the current node to the previous node\n",
    "        prev = curr  # Move the `prev` pointer to the current node\n",
    "        curr = newNode  # Move the `curr` pointer to the next node\n",
    "\n",
    "    return prev  # The `prev` now points to the new head of the reversed list\n",
    "\n",
    "\n",
    "\n",
    "head = takeInput_optimized()\n",
    "printLL(head)\n",
    "# printLL_reversed(head)\n",
    "printLL(reverseList(head))\n",
    "# print(\"None\")"
   ]
  },
  {
   "cell_type": "code",
   "execution_count": 17,
   "metadata": {},
   "outputs": [
    {
     "name": "stdout",
     "output_type": "stream",
     "text": [
      "1 -> 2 -> 1 -> 1 -> 2 -> 1 -> None\n",
      "1 1\n",
      "2 2\n",
      "1 1\n",
      "True\n",
      "1 -> 2 -> 1 -> 1 -> 2 -> 1 -> None\n"
     ]
    }
   ],
   "source": [
    "# Palindrome Linked Lists\n",
    "\n",
    "def checkPalindrome(head):\n",
    "    l = length_LL_recursive(head)\n",
    "    \n",
    "    if l in {0, 1}:\n",
    "        return True\n",
    "\n",
    "    slow  = head\n",
    "    fast = head\n",
    "    while fast and fast.next:\n",
    "        slow = slow.next\n",
    "        fast = fast.next.next\n",
    "\n",
    "    # print(slow.data)\n",
    "    head2 = reverse_list(slow)\n",
    "\n",
    "    first_half = head\n",
    "    second_half = head2\n",
    "    while second_half:\n",
    "        print(first_half.data, second_half.data)\n",
    "        if first_half.data != second_half.data:\n",
    "            return False\n",
    "        first_half = first_half.next\n",
    "        second_half = second_half.next\n",
    "\n",
    "    # Restore the second half of the list (optional)\n",
    "    reverse_list(head2)\n",
    "\n",
    "    return True\n",
    "\n",
    "\n",
    "\n",
    "\n",
    "head = takeInput_optimized(\"1 2 1 1 2 1\")\n",
    "printLL(head)\n",
    "print(checkPalindrome(head))\n",
    "printLL(head)"
   ]
  },
  {
   "cell_type": "code",
   "execution_count": null,
   "metadata": {},
   "outputs": [],
   "source": []
  },
  {
   "cell_type": "code",
   "execution_count": 16,
   "metadata": {},
   "outputs": [
    {
     "name": "stdout",
     "output_type": "stream",
     "text": [
      "1 -> 2 -> 1 -> 2 -> None\n",
      "1 -> 2 -> 2 -> None\n"
     ]
    }
   ],
   "source": [
    "## just for some checks\n",
    "\n",
    "\n",
    "def reverse_list(head):\n",
    "    prev = None\n",
    "    curr = head\n",
    "\n",
    "    while curr is not None:\n",
    "        next_node = curr.next\n",
    "        curr.next = prev\n",
    "        prev = curr\n",
    "        curr = next_node\n",
    "\n",
    "    return prev\n",
    "\n",
    "\n",
    "head = takeInput_optimized(\"1 2 1 2 2 1\")\n",
    "# printLL(head)\n",
    "\n",
    "slow = head\n",
    "fast = head\n",
    "while fast and fast.next:\n",
    "    slow = slow.next\n",
    "    fast = fast.next.next\n",
    "\n",
    "mid = slow\n",
    "\n",
    "# print(mid.data)\n",
    "\n",
    "second_half = reverse_list(mid)\n",
    "\n",
    "# print(\"first half:\", printLL(head))\n",
    "# print(\"second half:\", printLL(second_half))\n",
    "\n",
    "printLL(head)\n",
    "printLL(second_half)\n",
    "\n",
    "\n",
    "curr = head\n",
    "temp = second_half\n",
    "\n",
    "# while temp:\n",
    "#     if temp.data != curr.data:\n",
    "#         print(\"false\")\n",
    "#     print(curr.data)\n",
    "#     temp = temp.next\n",
    "#     curr = curr.next\n",
    "\n"
   ]
  }
 ],
 "metadata": {
  "kernelspec": {
   "display_name": ".venv",
   "language": "python",
   "name": "python3"
  },
  "language_info": {
   "codemirror_mode": {
    "name": "ipython",
    "version": 3
   },
   "file_extension": ".py",
   "mimetype": "text/x-python",
   "name": "python",
   "nbconvert_exporter": "python",
   "pygments_lexer": "ipython3",
   "version": "3.12.4"
  }
 },
 "nbformat": 4,
 "nbformat_minor": 2
}
