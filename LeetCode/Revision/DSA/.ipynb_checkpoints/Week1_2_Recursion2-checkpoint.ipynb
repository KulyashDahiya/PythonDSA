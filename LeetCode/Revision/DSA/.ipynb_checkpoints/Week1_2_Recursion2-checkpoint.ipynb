{
 "cells": [
  {
   "cell_type": "code",
   "execution_count": 10,
   "id": "1168aadc-2d31-4cce-9acd-eb0ea8ff2887",
   "metadata": {},
   "outputs": [
    {
     "name": "stdout",
     "output_type": "stream",
     "text": [
      "bbnbnb\n"
     ]
    }
   ],
   "source": [
    "## Replace character 'a' with character 'b' in a string\n",
    "\n",
    "\n",
    "def replaceChar(s, target, replacement):\n",
    "\n",
    "    if not s:\n",
    "        return s\n",
    "\n",
    "    if s[0] == target:\n",
    "        return replacement + replaceChar(s[1:], target, replacement)\n",
    "    else:\n",
    "        return s[0] + replaceChar(s[1:], target, replacement)\n",
    "        \n",
    "\n",
    "\n",
    "s = \"banana\"\n",
    "c = 'a'\n",
    "r = 'b'\n",
    "print(replaceChar(s, c, r))"
   ]
  },
  {
   "cell_type": "code",
   "execution_count": 9,
   "id": "ef3eb49b-15bb-4544-a73a-1bdc59f2ce55",
   "metadata": {},
   "outputs": [
    {
     "name": "stdout",
     "output_type": "stream",
     "text": [
      "['b', 'a', 'n', 'a', 'n', 'a']\n",
      "['b', 'b', 'n', 'b', 'n', 'b']\n",
      "\n",
      "bbnbnb\n"
     ]
    }
   ],
   "source": [
    "## Iterative\n",
    "\n",
    "# original_string = \"banana\"\n",
    "\n",
    "# l = []\n",
    "# c = 'a'\n",
    "# b = 'b'\n",
    "# for _ in original_string:\n",
    "#     l.append(_)\n",
    "\n",
    "# print(l)\n",
    "# new = []\n",
    "# for _ in l:\n",
    "#     if _ == c:\n",
    "#         new.append(b)\n",
    "#     else:\n",
    "#         new.append(_)\n",
    "\n",
    "# print(new)\n",
    "# print()\n",
    "# print(''.join(new))"
   ]
  },
  {
   "cell_type": "code",
   "execution_count": null,
   "id": "988917af-659c-448a-ba20-ca0e7e8a47d5",
   "metadata": {},
   "outputs": [],
   "source": []
  },
  {
   "cell_type": "code",
   "execution_count": 15,
   "id": "d346a7a9-2c18-4044-b32b-c4edf906f75b",
   "metadata": {},
   "outputs": [
    {
     "name": "stdout",
     "output_type": "stream",
     "text": [
      "bananaakljfoaiuwpoieuroiquoiuwepoiuypiuyiuyiyd\n"
     ]
    }
   ],
   "source": [
    "## Remove character x from a string\n",
    "\n",
    "\n",
    "def removeChar(s, target):\n",
    "\n",
    "    if not s:\n",
    "        return s\n",
    "\n",
    "    if s[0] == target:\n",
    "        return  removeChar(s[1:], target)\n",
    "    else:\n",
    "        return s[0] + removeChar(s[1:], target)\n",
    "        \n",
    "\n",
    "\n",
    "s = \"bananaxakljfoaiuwpoieuroiquxoiuwexpoiuxypxiuyxxiuyxiyxdx\"\n",
    "target = 'x'\n",
    "print(removeChar(s, target))"
   ]
  },
  {
   "cell_type": "code",
   "execution_count": 21,
   "id": "22b0d342-65c0-4c9f-9eda-109d44460059",
   "metadata": {},
   "outputs": [
    {
     "name": "stdout",
     "output_type": "stream",
     "text": [
      "bababababababananamamamanac\n",
      "bababababababananamamamanac\n"
     ]
    }
   ],
   "source": [
    "## Removing Consicutive Duplicates from a string\n",
    "\n",
    "def removeDupes(s):\n",
    "    if len(s) <= 1:\n",
    "        return s\n",
    "\n",
    "    if s[0] == s[1]:\n",
    "        return removeDupes(s[1:])\n",
    "    else:\n",
    "        return s[0] + removeDupes(s[1:])\n",
    "\n",
    "\n",
    "\n",
    "## 2nd Approach\n",
    "\n",
    "def removeDupes2(s):\n",
    "    if len(s) <= 1:\n",
    "        return s\n",
    "\n",
    "    smaller_output = removeDupes2(s[1:])\n",
    "\n",
    "    if s[0] == smaller_output[0]:\n",
    "        return smaller_output\n",
    "    else:\n",
    "        return s[0] + smaller_output\n",
    "    \n",
    "\n",
    "\n",
    "\n",
    "\n",
    "s = \"bbbbabaabababbbaaaaababaanaanamaammmmamannaaccc\"\n",
    "print(removeDupes(s))\n",
    "print(removeDupes2(s))"
   ]
  },
  {
   "cell_type": "code",
   "execution_count": null,
   "id": "3a513163-eec6-43b7-bb60-a860a4ef8971",
   "metadata": {},
   "outputs": [],
   "source": [
    "##"
   ]
  },
  {
   "cell_type": "code",
   "execution_count": null,
   "id": "d0cb1b0b-c198-4f37-a5b3-685ec325ba0c",
   "metadata": {},
   "outputs": [],
   "source": []
  },
  {
   "cell_type": "code",
   "execution_count": 39,
   "id": "34f2eb71-d9d4-432d-a039-6a3a0b489457",
   "metadata": {},
   "outputs": [
    {
     "name": "stdout",
     "output_type": "stream",
     "text": [
      "6\n",
      "6\n"
     ]
    }
   ],
   "source": [
    "## Binary Search Using recursion\n",
    "\n",
    "\n",
    "def binarySearch(arr, x, start, end):\n",
    "\n",
    "    if start >= end:\n",
    "        return -1\n",
    "    \n",
    "    mid = (start+end)//2\n",
    "    # print(mid)\n",
    "    \n",
    "    if arr[mid] == x:\n",
    "        return mid\n",
    "    elif x > arr[mid]:\n",
    "        return binarySearch(arr, x, mid+1, end)\n",
    "    else:\n",
    "        return binarySearch(arr, x, start, mid)\n",
    "\n",
    "\n",
    "\n",
    "arr = [1, 3, 4, 5, 6, 7, 89, 0, 2]\n",
    "print(arr.index(89))\n",
    "\n",
    "print(binarySearch(arr, 89, 0, len(arr)-1))"
   ]
  },
  {
   "cell_type": "code",
   "execution_count": 43,
   "id": "06719d5a-bb91-4914-80a3-078b286f567b",
   "metadata": {},
   "outputs": [
    {
     "name": "stdout",
     "output_type": "stream",
     "text": [
      "Original array: [38, 27, 43, 3, 9, 82, 10]\n",
      "Sorted array: [3, 9, 10, 27, 38, 43, 82]\n"
     ]
    }
   ],
   "source": [
    "## Merge sort algorithm ------### Non-recursive\n",
    "\n",
    "def merge_sort(arr):\n",
    "    if len(arr) <= 1:\n",
    "        return arr\n",
    "\n",
    "    mid = len(arr) // 2\n",
    "\n",
    "    left_arr = arr[:mid]\n",
    "    right_arr = arr[mid:]\n",
    "\n",
    "    left_sorted_arr = merge_sort(left_arr)\n",
    "    right_sorted_arr = merge_sort(right_arr)\n",
    "\n",
    "    return merge(left_sorted_arr, right_sorted_arr)\n",
    "\n",
    "def merge(arr1, arr2):\n",
    "    i ,j = 0, 0\n",
    "    result = []\n",
    "    while i < len(arr1) and j < len(arr2):\n",
    "        if arr1[i] < arr2[j]:\n",
    "            result.append(arr1[i])\n",
    "            i += 1\n",
    "        elif arr1[i] > arr2[j]:\n",
    "            result.append(arr2[j])\n",
    "            j += 1\n",
    "        else:\n",
    "            result.append(arr2[j])\n",
    "            j += 1\n",
    "\n",
    "    if i == len(arr1):\n",
    "        return result + arr2[j:]\n",
    "    else:\n",
    "        return result + arr1[i:]\n",
    "\n",
    "    \n",
    "array = [38, 27, 43, 3, 9, 82, 10]\n",
    "sorted_array = merge_sort(array)\n",
    "print(f\"Original array: {array}\")\n",
    "print(f\"Sorted array: {sorted_array}\")\n",
    "\n"
   ]
  },
  {
   "cell_type": "code",
   "execution_count": 46,
   "id": "b3a9ccc2-9709-410f-8d12-435c16f5f957",
   "metadata": {},
   "outputs": [
    {
     "name": "stdout",
     "output_type": "stream",
     "text": [
      "Original array: [38, 27, 43, 3, 9, 82, 10]\n",
      "Sorted array: [3, 9, 10, 27, 38, 43, 82]\n"
     ]
    }
   ],
   "source": [
    "### Quick Sort\n",
    "\n",
    "def quick_sort(arr):\n",
    "\n",
    "    if len(arr) <= 1:\n",
    "        return arr\n",
    "\n",
    "    left, right, middle = [], [], []\n",
    "    pivot = arr[0]\n",
    "    \n",
    "    for el in arr:\n",
    "        if el < pivot:\n",
    "            left.append(el)\n",
    "        elif el > pivot:\n",
    "            right.append(el)\n",
    "        else:\n",
    "            middle.append(el)\n",
    "\n",
    "    return quick_sort(left) + middle + quick_sort(right)\n",
    "\n",
    "\n",
    "array = [38, 27, 43, 3, 9, 82, 10]\n",
    "sorted_array = quick_sort(array)\n",
    "print(f\"Original array: {array}\")\n",
    "print(f\"Sorted array: {sorted_array}\")"
   ]
  },
  {
   "cell_type": "code",
   "execution_count": 56,
   "id": "f01c9bd0-572f-4d20-b1b4-63ef9197d0a1",
   "metadata": {},
   "outputs": [
    {
     "name": "stdout",
     "output_type": "stream",
     "text": [
      "Move 1st disk from source rod to helper rod\n",
      "Move 2nd disk from source rod to target rod\n",
      "Move 1st disk from helper rod to target rod\n",
      "Move 3rd disk from source rod to helper rod\n",
      "Move 1st disk from target rod to source rod\n",
      "Move 2nd disk from target rod to helper rod\n",
      "Move 1st disk from source rod to helper rod\n",
      "Move 4th disk from source rod to target rod\n",
      "Move 1st disk from helper rod to target rod\n",
      "Move 2nd disk from helper rod to source rod\n",
      "Move 1st disk from target rod to source rod\n",
      "Move 3rd disk from helper rod to target rod\n",
      "Move 1st disk from source rod to helper rod\n",
      "Move 2nd disk from source rod to target rod\n",
      "Move 1st disk from helper rod to target rod\n",
      "Move 5th disk from source rod to helper rod\n",
      "Move 1st disk from target rod to source rod\n",
      "Move 2nd disk from target rod to helper rod\n",
      "Move 1st disk from source rod to helper rod\n",
      "Move 3rd disk from target rod to source rod\n",
      "Move 1st disk from helper rod to target rod\n",
      "Move 2nd disk from helper rod to source rod\n",
      "Move 1st disk from target rod to source rod\n",
      "Move 4th disk from target rod to helper rod\n",
      "Move 1st disk from source rod to helper rod\n",
      "Move 2nd disk from source rod to target rod\n",
      "Move 1st disk from helper rod to target rod\n",
      "Move 3rd disk from source rod to helper rod\n",
      "Move 1st disk from target rod to source rod\n",
      "Move 2nd disk from target rod to helper rod\n",
      "Move 1st disk from source rod to helper rod\n",
      "Move 6th disk from source rod to target rod\n",
      "Move 1st disk from helper rod to target rod\n",
      "Move 2nd disk from helper rod to source rod\n",
      "Move 1st disk from target rod to source rod\n",
      "Move 3rd disk from helper rod to target rod\n",
      "Move 1st disk from source rod to helper rod\n",
      "Move 2nd disk from source rod to target rod\n",
      "Move 1st disk from helper rod to target rod\n",
      "Move 4th disk from helper rod to source rod\n",
      "Move 1st disk from target rod to source rod\n",
      "Move 2nd disk from target rod to helper rod\n",
      "Move 1st disk from source rod to helper rod\n",
      "Move 3rd disk from target rod to source rod\n",
      "Move 1st disk from helper rod to target rod\n",
      "Move 2nd disk from helper rod to source rod\n",
      "Move 1st disk from target rod to source rod\n",
      "Move 5th disk from helper rod to target rod\n",
      "Move 1st disk from source rod to helper rod\n",
      "Move 2nd disk from source rod to target rod\n",
      "Move 1st disk from helper rod to target rod\n",
      "Move 3rd disk from source rod to helper rod\n",
      "Move 1st disk from target rod to source rod\n",
      "Move 2nd disk from target rod to helper rod\n",
      "Move 1st disk from source rod to helper rod\n",
      "Move 4th disk from source rod to target rod\n",
      "Move 1st disk from helper rod to target rod\n",
      "Move 2nd disk from helper rod to source rod\n",
      "Move 1st disk from target rod to source rod\n",
      "Move 3rd disk from helper rod to target rod\n",
      "Move 1st disk from source rod to helper rod\n",
      "Move 2nd disk from source rod to target rod\n",
      "Move 1st disk from helper rod to target rod\n"
     ]
    }
   ],
   "source": [
    "## Tower of Hanoi -- Recursive\n",
    "\n",
    "def towerOfHanoi(n, source, helper, target):\n",
    "\n",
    "    if n == 1:\n",
    "        print(f\"Move 1st disk from {source} rod to {target} rod\")\n",
    "        return\n",
    "    \n",
    "    towerOfHanoi(n-1, source, target, helper)\n",
    "\n",
    "    if n == 2:\n",
    "        print(f\"Move {n}nd disk from {source} rod to {target} rod\")\n",
    "    elif n == 3:\n",
    "        print(f\"Move {n}rd disk from {source} rod to {target} rod\")\n",
    "    else:\n",
    "        print(f\"Move {n}th disk from {source} rod to {target} rod\")\n",
    "        \n",
    "    towerOfHanoi(n-1, helper, source, target)\n",
    "\n",
    "\n",
    "\n",
    "n = 6   # n number of disks\n",
    "towerOfHanoi(n, 'source' , 'helper', 'target')"
   ]
  },
  {
   "cell_type": "code",
   "execution_count": null,
   "id": "17230acf-3f3e-4d73-b871-75d02858b748",
   "metadata": {},
   "outputs": [],
   "source": []
  },
  {
   "cell_type": "code",
   "execution_count": null,
   "id": "03ebe4e1-5582-4f43-a262-0d4ee159611a",
   "metadata": {},
   "outputs": [],
   "source": []
  }
 ],
 "metadata": {
  "kernelspec": {
   "display_name": "Python 3 (ipykernel)",
   "language": "python",
   "name": "python3"
  },
  "language_info": {
   "codemirror_mode": {
    "name": "ipython",
    "version": 3
   },
   "file_extension": ".py",
   "mimetype": "text/x-python",
   "name": "python",
   "nbconvert_exporter": "python",
   "pygments_lexer": "ipython3",
   "version": "3.12.4"
  }
 },
 "nbformat": 4,
 "nbformat_minor": 5
}
