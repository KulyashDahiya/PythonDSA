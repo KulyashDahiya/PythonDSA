{
 "cells": [
  {
   "cell_type": "code",
   "execution_count": 21,
   "id": "a2e95ac0-426d-4d42-9c40-bbee29f43cc0",
   "metadata": {},
   "outputs": [
    {
     "name": "stdout",
     "output_type": "stream",
     "text": [
      "1.87500\n"
     ]
    }
   ],
   "source": [
    "# Geometric Sum\n",
    "\n",
    "# Given k, find the geometric sum i.e.\n",
    "\n",
    "# 1 + 1/2 + 1/4 + 1/8 + ... + 1/(2^k)   \n",
    "\n",
    "# using recursion.\n",
    "    \n",
    "# Input format :\n",
    "# Integer k\n",
    "\n",
    "# Output format :\n",
    "# Geometric sum (upto 5 decimal places)\n",
    "\n",
    "# Constraints :\n",
    "# 0 <= k <= 1000\n",
    "\n",
    "# Sample Input 1 :\n",
    "# 3\n",
    "# Sample Output 1:\n",
    "# 1.87500\n",
    "# Sample Input 2:\n",
    "# 4\n",
    "# Sample Output 2:\n",
    "# 1.93750\n",
    "\n",
    "\n",
    "\n",
    "\n",
    "def geoSum(k, i):\n",
    "\n",
    "    if i == k+1:\n",
    "        return 0\n",
    "\n",
    "    return (1/2**i) + geoSum(k, i+1)\n",
    "    \n",
    "\n",
    "result = geoSum(3, 0)\n",
    "print(f\"{result:.5f}\")"
   ]
  },
  {
   "cell_type": "code",
   "execution_count": 25,
   "id": "2e19bc0a-1b64-499f-8e5f-9ab7f1f11c39",
   "metadata": {},
   "outputs": [
    {
     "data": {
      "text/plain": [
       "True"
      ]
     },
     "execution_count": 25,
     "metadata": {},
     "output_type": "execute_result"
    }
   ],
   "source": [
    "## Check Palindrome -- Recursive\n",
    "\n",
    "def checkPalindrome(s):\n",
    "    n = len(s)\n",
    "    if n == 0:\n",
    "        return True\n",
    "\n",
    "    if s[0] == s[n-1]:\n",
    "        return checkPalindrome(s[1:n-1])\n",
    "    else:\n",
    "        return False\n",
    "    \n",
    "\n",
    "s = \"ababa\"\n",
    "checkPalindrome(s)"
   ]
  },
  {
   "cell_type": "code",
   "execution_count": 6,
   "id": "97be9365-f108-4365-a3ca-7849d55b91ed",
   "metadata": {},
   "outputs": [
    {
     "name": "stdout",
     "output_type": "stream",
     "text": [
      "15\n"
     ]
    }
   ],
   "source": [
    "## Sum of Digits of an integer -- Recursive\n",
    "\n",
    "\n",
    "def sumDigits(n):\n",
    "\n",
    "    n = abs(n)\n",
    "    if n < 10:\n",
    "        return n\n",
    "    else:\n",
    "        return (n%10) + sumDigits(n//10)\n",
    "\n",
    "\n",
    "\n",
    "n = 12345\n",
    "print(sumDigits(n))"
   ]
  },
  {
   "cell_type": "code",
   "execution_count": 20,
   "id": "059631e1-9815-452a-a1ac-0621b519c41e",
   "metadata": {},
   "outputs": [
    {
     "data": {
      "text/plain": [
       "150"
      ]
     },
     "execution_count": 20,
     "metadata": {},
     "output_type": "execute_result"
    }
   ],
   "source": [
    "## Multiplication --- REcursive\n",
    "\n",
    "def product(x, y):\n",
    "    if y == 0 or x == 0:\n",
    "        return 0\n",
    "\n",
    "    # to reduce no of stacks of recursion\n",
    "    if x < y :\n",
    "        return product(y, x)\n",
    "\n",
    "    return x + product(x, y-1)\n",
    "        \n",
    "\n",
    "product(30, 5)"
   ]
  },
  {
   "cell_type": "code",
   "execution_count": 7,
   "id": "ebce8acd-0cc0-4485-bb6e-27b69d86a9d3",
   "metadata": {},
   "outputs": [
    {
     "data": {
      "text/plain": [
       "7"
      ]
     },
     "execution_count": 7,
     "metadata": {},
     "output_type": "execute_result"
    }
   ],
   "source": [
    "# Count Zeroes in Integer\n",
    "\n",
    "def countZero(n):\n",
    "    if n == 0:\n",
    "        return 0\n",
    "\n",
    "    if n % 10 == 0:\n",
    "        return 1 + countZero(n//10)\n",
    "    else:\n",
    "        return countZero(n//10)\n",
    "    \n",
    "\n",
    "\n",
    "n = 2343003234923420242392302303242304234022\n",
    "countZero(n)"
   ]
  },
  {
   "cell_type": "code",
   "execution_count": 18,
   "id": "4f57730d-08b4-4e88-bda3-3f4a5c201262",
   "metadata": {},
   "outputs": [
    {
     "data": {
      "text/plain": [
       "1234435375"
      ]
     },
     "execution_count": 18,
     "metadata": {},
     "output_type": "execute_result"
    }
   ],
   "source": [
    "## String to Integer\n",
    "\n",
    "def StoI(s):\n",
    "    if not s:\n",
    "        return 0\n",
    "\n",
    "    return (int(s[0]) * (10 ** (len(s) - 1)) ) + StoI(s[1:])\n",
    "\n",
    "    \n",
    "\n",
    "s = \"1234435375\"\n",
    "StoI(s)"
   ]
  },
  {
   "cell_type": "code",
   "execution_count": 21,
   "id": "905a102f-0e35-448c-aa89-969b70e6ae38",
   "metadata": {},
   "outputs": [
    {
     "data": {
      "text/plain": [
       "'aa*aa'"
      ]
     },
     "execution_count": 21,
     "metadata": {},
     "output_type": "execute_result"
    }
   ],
   "source": [
    "a = 'aa'\n",
    "b = 'aa'\n",
    "\n",
    "(a + '*' + b) if a==b else a + b"
   ]
  },
  {
   "cell_type": "code",
   "execution_count": 29,
   "id": "a19c53ea-d163-41ba-8559-7bdee9900b68",
   "metadata": {},
   "outputs": [
    {
     "data": {
      "text/plain": [
       "'a*a*ab*b*b*babcabc'"
      ]
     },
     "execution_count": 29,
     "metadata": {},
     "output_type": "execute_result"
    }
   ],
   "source": [
    "## Pair Star  ---   Add * in between pair of same consecutive characters\n",
    "\n",
    "def pairStar(s):\n",
    "    if len(s) == 1:\n",
    "        return s[0]\n",
    "\n",
    "    return ( s[0] + '*' + pairStar(s[1:]) ) if s[0] == s[1] else (s[0] + pairStar(s[1:]) )\n",
    "\n",
    "    \n",
    "\n",
    "s = 'aaabbbbabcabc'\n",
    "pairStar(s)"
   ]
  },
  {
   "cell_type": "code",
   "execution_count": 90,
   "id": "8f943838-cd92-4588-bac8-3cba1f1d7fb7",
   "metadata": {},
   "outputs": [
    {
     "name": "stdout",
     "output_type": "stream",
     "text": [
      "abbabbb\n",
      "babbb\n",
      "abbb\n",
      "bb\n",
      "False\n"
     ]
    }
   ],
   "source": [
    "## Check AB\n",
    "\n",
    "def checkAB(s):\n",
    "\n",
    "    print(s)\n",
    "\n",
    "    if len(s) in {0,1} : return True\n",
    "\n",
    "\n",
    "    if s[0] == 'a':\n",
    "        \n",
    "        return checkAB(s[1:]) if s[1] == 'a' else (checkAB(s[2:]) if s[1:3] == 'bb' else False)\n",
    "            \n",
    "    elif s[0] == 'b':\n",
    "\n",
    "        return checkAB(s[1:]) if s[1] == 'a' else False\n",
    "            \n",
    "            \n",
    "        \n",
    "\n",
    "\n",
    "s = \"abbabbb\"\n",
    "# s = \"ab\"\n",
    "# s = 'abb'\n",
    "# s = \"abbabb\"\n",
    "# s = \"abbab\"\n",
    "if s[0] == 'a':\n",
    "    print(checkAB(s))\n",
    "else:\n",
    "    print(\"False\")"
   ]
  },
  {
   "cell_type": "code",
   "execution_count": 88,
   "id": "1584e60e-c2a2-4528-9c2f-9a2d54469fb3",
   "metadata": {},
   "outputs": [
    {
     "name": "stdout",
     "output_type": "stream",
     "text": [
      "1\n",
      "ji\n"
     ]
    }
   ],
   "source": [
    "def f(s):\n",
    "    if len(s) in {0,1} : return True\n",
    "\n",
    "    print(\"1\")\n",
    "\n",
    "s = '123'\n",
    "f(s)\n",
    "print(\"ji\")"
   ]
  },
  {
   "cell_type": "code",
   "execution_count": null,
   "id": "84910c9a-a5e9-4bcb-9de0-58d1d7c27878",
   "metadata": {},
   "outputs": [],
   "source": []
  },
  {
   "cell_type": "code",
   "execution_count": 91,
   "id": "08747d11-709b-499e-805f-3ad35a3a8cb5",
   "metadata": {},
   "outputs": [
    {
     "name": "stdout",
     "output_type": "stream",
     "text": [
      "13\n"
     ]
    }
   ],
   "source": [
    "## Stair Case\n",
    "\n",
    "# A child is running up the stairs wtih N steps, and can hop either 1 step, 2 steps\n",
    "# or 3 steps at a time. Implement a method to count how many possible ways the child can run up \n",
    "# to the stairs. You need to return the number of possible ways W\n",
    "\n",
    "def count_ways(N):\n",
    "    # Base cases\n",
    "    if N == 0:\n",
    "        return 1\n",
    "    elif N == 1:\n",
    "        return 1\n",
    "    elif N == 2:\n",
    "        return 2\n",
    "\n",
    "    # Recursive case\n",
    "    return count_ways(N - 1) + count_ways(N - 2) + count_ways(N - 3)\n",
    "\n",
    "# Example usage\n",
    "N = 5  # You can change this to any positive integer\n",
    "print(count_ways(N))  # Output will be the number of ways to climb N steps"
   ]
  },
  {
   "cell_type": "code",
   "execution_count": null,
   "id": "0ff2af63-e5bb-4b94-b2fe-0e66707f2b1a",
   "metadata": {},
   "outputs": [],
   "source": []
  }
 ],
 "metadata": {
  "kernelspec": {
   "display_name": "Python 3 (ipykernel)",
   "language": "python",
   "name": "python3"
  },
  "language_info": {
   "codemirror_mode": {
    "name": "ipython",
    "version": 3
   },
   "file_extension": ".py",
   "mimetype": "text/x-python",
   "name": "python",
   "nbconvert_exporter": "python",
   "pygments_lexer": "ipython3",
   "version": "3.9.6"
  }
 },
 "nbformat": 4,
 "nbformat_minor": 5
}
