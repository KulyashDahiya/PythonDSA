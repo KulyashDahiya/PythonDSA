{
 "cells": [
  {
   "cell_type": "code",
   "execution_count": 2,
   "id": "3b541f6d-f62c-4a7a-817d-d28680bb39ab",
   "metadata": {},
   "outputs": [],
   "source": [
    "## Basic Recursion Problems"
   ]
  },
  {
   "cell_type": "code",
   "execution_count": 3,
   "id": "826e4f64-14eb-4369-b585-a74d70a1c2f8",
   "metadata": {},
   "outputs": [],
   "source": [
    "def fact(n):\n",
    "    if n == 0:\n",
    "        return 1\n",
    "    return n * fact(n-1)"
   ]
  },
  {
   "cell_type": "code",
   "execution_count": 4,
   "id": "e9754bfe-b0d9-4c7f-9028-f7e9ebf66dc8",
   "metadata": {},
   "outputs": [],
   "source": [
    "def sum_n(n):\n",
    "    if n == 0:\n",
    "        return 0\n",
    "    return sum_n(n-1) + n"
   ]
  },
  {
   "cell_type": "code",
   "execution_count": 5,
   "id": "866aa1d5-cb8c-4859-a007-654705afa4b6",
   "metadata": {},
   "outputs": [
    {
     "name": "stdout",
     "output_type": "stream",
     "text": [
      "120\n",
      "15\n"
     ]
    }
   ],
   "source": [
    "n = 5\n",
    "print(fact(n))\n",
    "print(sum_n(n))"
   ]
  },
  {
   "cell_type": "code",
   "execution_count": null,
   "id": "22233676-25fa-4726-b1e9-3560ff5a05b6",
   "metadata": {},
   "outputs": [],
   "source": [
    "-----------------------------------------"
   ]
  },
  {
   "cell_type": "code",
   "execution_count": 6,
   "id": "595398c1-04c0-409a-a585-22fe9ca87acb",
   "metadata": {},
   "outputs": [
    {
     "name": "stdout",
     "output_type": "stream",
     "text": [
      "Sum of the array: 15\n"
     ]
    }
   ],
   "source": [
    "# Sum of Array using Recursion\n",
    "\n",
    "def sum_array(arr):\n",
    "    # Base case: if the array is empty, return 0\n",
    "    if not arr:\n",
    "        return 0\n",
    "    # Recursive case: sum the first element and the sum of the rest of the array\n",
    "    return arr[0] + sum_array(arr[1:])\n",
    "\n",
    "# Example usage\n",
    "numbers = [1, 2, 3, 4, 5]\n",
    "result = sum_array(numbers)\n",
    "print(\"Sum of the array:\", result)"
   ]
  },
  {
   "cell_type": "code",
   "execution_count": 8,
   "id": "cad9a21c-e311-45c0-b2c0-2b40200eeb43",
   "metadata": {},
   "outputs": [
    {
     "data": {
      "text/plain": [
       "True"
      ]
     },
     "execution_count": 8,
     "metadata": {},
     "output_type": "execute_result"
    }
   ],
   "source": [
    "def isPresent(arr, x):\n",
    "    if not arr:\n",
    "        return False\n",
    "    if arr[0] == x:\n",
    "        return True\n",
    "    return isPresent(arr[1:], x)\n",
    "\n",
    "arr = [1, 2, 3, 4, 5]\n",
    "x = 4\n",
    "isPresent(arr, x)"
   ]
  },
  {
   "cell_type": "code",
   "execution_count": 33,
   "id": "e5094681-5eef-4048-b132-8e3bcc6597c1",
   "metadata": {},
   "outputs": [
    {
     "name": "stdout",
     "output_type": "stream",
     "text": [
      "1 2 3 4 5 6 7 8 9 10 "
     ]
    }
   ],
   "source": [
    "### Print numbers till n\n",
    "\n",
    "def print_1_to_n(n):\n",
    "\n",
    "    if n == 0:\n",
    "        return\n",
    "\n",
    "    print_1_to_n(n-1)\n",
    "    \n",
    "    print(n, end = ' ')\n",
    "    \n",
    "    return\n",
    "    \n",
    "\n",
    "n = 10\n",
    "print_1_to_n(n)"
   ]
  },
  {
   "cell_type": "code",
   "execution_count": 34,
   "id": "47277a79-c600-403a-acd2-49ffd05e106d",
   "metadata": {},
   "outputs": [
    {
     "name": "stdout",
     "output_type": "stream",
     "text": [
      "10 9 8 7 6 5 4 3 2 1 "
     ]
    }
   ],
   "source": [
    "### Print numbers till n\n",
    "\n",
    "def print_n_to_1(n):\n",
    "\n",
    "    if n == 0:\n",
    "        return\n",
    "\n",
    "    print(n, end = ' ')\n",
    "    \n",
    "    return print_n_to_1(n-1)\n",
    "    \n",
    "\n",
    "n = 10\n",
    "print_n_to_1(n)"
   ]
  },
  {
   "cell_type": "code",
   "execution_count": 42,
   "id": "6a82e63e-d34b-43c6-973f-9b38726e1329",
   "metadata": {},
   "outputs": [
    {
     "data": {
      "text/plain": [
       "3"
      ]
     },
     "execution_count": 42,
     "metadata": {},
     "output_type": "execute_result"
    }
   ],
   "source": [
    "## nth fibonacci number\n",
    "\n",
    "def fibonacci(n):\n",
    "    \n",
    "    if n == 1 or n==2:\n",
    "        return 1\n",
    "\n",
    "    return fibonacci(n-1) + fibonacci(n-2)\n",
    "\n",
    "\n",
    "fibonacci(4)\n",
    "\n",
    "# 0 1 1 2 3 5 8 13 21 34 55 89"
   ]
  },
  {
   "cell_type": "code",
   "execution_count": null,
   "id": "eba1abc6-eb81-4005-81b9-beafe1985d30",
   "metadata": {},
   "outputs": [],
   "source": []
  },
  {
   "cell_type": "code",
   "execution_count": 24,
   "id": "6e322cbd-e46d-455e-9877-8b3deed2e419",
   "metadata": {},
   "outputs": [
    {
     "name": "stdout",
     "output_type": "stream",
     "text": [
      "4\n"
     ]
    }
   ],
   "source": [
    "## Return First Index of element x in an Array\n",
    "\n",
    "def firstIndex(arr, x, index = 0):\n",
    "    \n",
    "    if fi >= len(arr):\n",
    "        return -1\n",
    "    if arr[index] == x:\n",
    "        return index\n",
    "    \n",
    "    return firstIndex(arr, x, index+1)\n",
    "\n",
    "\n",
    "arr = [7, -8, 15, 42, -3, -22, 5, 13, -3, 0, 99]\n",
    "x = -3\n",
    "print(firstIndex(arr, x))"
   ]
  },
  {
   "cell_type": "code",
   "execution_count": 28,
   "id": "b515ab18-97dd-409b-a553-55004242da81",
   "metadata": {},
   "outputs": [
    {
     "name": "stdout",
     "output_type": "stream",
     "text": [
      "Last index of element -3 is: 8\n"
     ]
    }
   ],
   "source": [
    "## last index of an element x in an array using recursion\n",
    "\n",
    "def lastIndex(arr, x, index = None):\n",
    "    if index is None:\n",
    "        index = len(arr) - 1\n",
    "\n",
    "    if index < 0:\n",
    "        return -1\n",
    "        \n",
    "    if arr[index] == x:\n",
    "        return index\n",
    "\n",
    "    return lastIndex(arr, x, index - 1)\n",
    "\n",
    "\n",
    "\n",
    "arr = [7, -8, 15, 42, -3, -22, 5, 13, -3, 0, 99]\n",
    "x = -3\n",
    "print(f\"Last index of element {x} is:\", lastIndex(arr, x))"
   ]
  },
  {
   "cell_type": "code",
   "execution_count": null,
   "id": "b40c590f-75f5-435f-a1f4-e107e9b5bfd8",
   "metadata": {},
   "outputs": [],
   "source": []
  },
  {
   "cell_type": "code",
   "execution_count": null,
   "id": "b7e06347-dbcc-4533-b810-62edd1e1189f",
   "metadata": {},
   "outputs": [],
   "source": []
  },
  {
   "cell_type": "code",
   "execution_count": null,
   "id": "73a04388-eef5-4850-92b1-423ab052d688",
   "metadata": {},
   "outputs": [],
   "source": []
  }
 ],
 "metadata": {
  "kernelspec": {
   "display_name": "Python 3 (ipykernel)",
   "language": "python",
   "name": "python3"
  },
  "language_info": {
   "codemirror_mode": {
    "name": "ipython",
    "version": 3
   },
   "file_extension": ".py",
   "mimetype": "text/x-python",
   "name": "python",
   "nbconvert_exporter": "python",
   "pygments_lexer": "ipython3",
   "version": "3.12.4"
  }
 },
 "nbformat": 4,
 "nbformat_minor": 5
}
