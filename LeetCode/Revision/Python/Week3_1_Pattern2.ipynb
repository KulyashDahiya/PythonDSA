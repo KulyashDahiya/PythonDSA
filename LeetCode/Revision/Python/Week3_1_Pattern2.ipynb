{
 "cells": [
  {
   "cell_type": "code",
   "execution_count": 1,
   "id": "306b2b59-d974-4edb-bd14-96b1dd1f9f9a",
   "metadata": {},
   "outputs": [
    {
     "name": "stdin",
     "output_type": "stream",
     "text": [
      " 5\n"
     ]
    },
    {
     "name": "stdout",
     "output_type": "stream",
     "text": [
      "* * * * * \n",
      "* * * * \n",
      "* * * \n",
      "* * \n",
      "* \n"
     ]
    }
   ],
   "source": [
    "n = int(input())\n",
    "i = 1\n",
    "while i <= n:\n",
    "    j = 1\n",
    "    while j <= n - i + 1:\n",
    "        print(\"*\", end = \" \")\n",
    "        j += 1\n",
    "    print()\n",
    "    i += 1"
   ]
  },
  {
   "cell_type": "code",
   "execution_count": 2,
   "id": "3f961886-8291-46e9-baf5-1d4ffad6ed87",
   "metadata": {},
   "outputs": [
    {
     "name": "stdin",
     "output_type": "stream",
     "text": [
      " 5\n"
     ]
    },
    {
     "name": "stdout",
     "output_type": "stream",
     "text": [
      "1 2 3 4 5 \n",
      "1 2 3 4 \n",
      "1 2 3 \n",
      "1 2 \n",
      "1 \n"
     ]
    }
   ],
   "source": [
    "n = int(input())\n",
    "i = 1\n",
    "while i <= n:\n",
    "    j = 1\n",
    "    while j <= n - i + 1:\n",
    "        print(j, end = \" \")\n",
    "        j += 1\n",
    "    print()\n",
    "    i += 1"
   ]
  },
  {
   "cell_type": "code",
   "execution_count": 7,
   "id": "e00ee3fe-56a8-4d3f-b233-d4c6101ef5eb",
   "metadata": {},
   "outputs": [
    {
     "name": "stdin",
     "output_type": "stream",
     "text": [
      " 4\n"
     ]
    },
    {
     "name": "stdout",
     "output_type": "stream",
     "text": [
      "4 4 4 4 \n",
      "3 3 3 \n",
      "2 2 \n",
      "1 \n"
     ]
    }
   ],
   "source": [
    "#Assignment\n",
    "\n",
    "# 4444\n",
    "# 333\n",
    "# 22\n",
    "# 1\n",
    "\n",
    "n = int(input())\n",
    "i = 1\n",
    "while i <= n:\n",
    "    j = 1\n",
    "    while j <= n - i + 1:\n",
    "        print(n-i+1, end = \" \")\n",
    "        j += 1\n",
    "    print()\n",
    "    i += 1"
   ]
  },
  {
   "cell_type": "code",
   "execution_count": 5,
   "id": "5a7008ae-b786-4b6e-bc19-3316b45ee96c",
   "metadata": {},
   "outputs": [
    {
     "name": "stdin",
     "output_type": "stream",
     "text": [
      " 5\n"
     ]
    },
    {
     "name": "stdout",
     "output_type": "stream",
     "text": [
      "        * \n",
      "      * * \n",
      "    * * * \n",
      "  * * * * \n",
      "* * * * * \n"
     ]
    }
   ],
   "source": [
    "n = int(input())\n",
    "i = 1\n",
    "while i <= n:\n",
    "    space = 1\n",
    "    while space <= n -i:\n",
    "        print(\" \", end = \" \")\n",
    "        space += 1\n",
    "    stars = 1\n",
    "    while stars <= i:\n",
    "        print(\"*\", end = \" \")\n",
    "        stars += 1\n",
    "    print()\n",
    "    i += 1"
   ]
  },
  {
   "cell_type": "code",
   "execution_count": 11,
   "id": "a5bb39ba-dce1-40d9-8a00-44f74a77b280",
   "metadata": {},
   "outputs": [
    {
     "name": "stdin",
     "output_type": "stream",
     "text": [
      " 4\n"
     ]
    },
    {
     "name": "stdout",
     "output_type": "stream",
     "text": [
      "      1 \n",
      "    1 2 \n",
      "  1 2 3 \n",
      "1 2 3 4 \n"
     ]
    }
   ],
   "source": [
    "#Assignment\n",
    "\n",
    "#    1\n",
    "#   12\n",
    "#  123\n",
    "# 1234\n",
    "\n",
    "n = int(input())\n",
    "i = 1\n",
    "while i <= n:\n",
    "    space = 1\n",
    "    while space <= n -i:\n",
    "        print(\" \", end = \" \")\n",
    "        space += 1\n",
    "    k = 1\n",
    "    while k <= i:\n",
    "        print(k, end = \" \")\n",
    "        k += 1\n",
    "    print()\n",
    "    i += 1"
   ]
  },
  {
   "cell_type": "code",
   "execution_count": 14,
   "id": "37870ed9-467e-43cd-b6a5-02efeef3efd1",
   "metadata": {},
   "outputs": [
    {
     "name": "stdin",
     "output_type": "stream",
     "text": [
      " 4\n"
     ]
    },
    {
     "name": "stdout",
     "output_type": "stream",
     "text": [
      "      1 \n",
      "    1 2 1 \n",
      "  1 2 3 2 1 \n",
      "1 2 3 4 3 2 1 \n"
     ]
    }
   ],
   "source": [
    "## ISOSCELES PATTERN\n",
    "\n",
    "#    1\n",
    "#   121\n",
    "#  12321\n",
    "# 1234321\n",
    "\n",
    "n = int(input())\n",
    "i = 1\n",
    "while i <= n:\n",
    "    space = 1\n",
    "    while space <= n-i:\n",
    "        print(\" \", end = \" \")\n",
    "        space += 1\n",
    "    j = 1\n",
    "    while j <= i:\n",
    "        print(j, end = \" \")\n",
    "        j += 1\n",
    "    p = i - 1\n",
    "    while p > 0:\n",
    "        print(p, end=\" \")\n",
    "        p -= 1\n",
    "    print()\n",
    "    i += 1\n",
    "    \n",
    "        "
   ]
  },
  {
   "cell_type": "code",
   "execution_count": 15,
   "id": "f9b07e12-62aa-4d27-9571-bda525581c91",
   "metadata": {},
   "outputs": [
    {
     "name": "stdin",
     "output_type": "stream",
     "text": [
      " 4\n"
     ]
    },
    {
     "name": "stdout",
     "output_type": "stream",
     "text": [
      "      * \n",
      "    * * * \n",
      "  * * * * * \n",
      "* * * * * * * \n"
     ]
    }
   ],
   "source": [
    "## Assignment\n",
    "\n",
    "#    *\n",
    "#   ***\n",
    "#  *****\n",
    "# *******\n",
    "\n",
    "n = int(input())\n",
    "i = 1\n",
    "while i <= n:\n",
    "    space = 1\n",
    "    while space <= n-i:\n",
    "        print(\" \", end = \" \")\n",
    "        space += 1\n",
    "    j = 1\n",
    "    while j <= i:\n",
    "        print(\"*\", end = \" \")\n",
    "        j += 1\n",
    "    p = i - 1\n",
    "    while p > 0:\n",
    "        print(\"*\", end=\" \")\n",
    "        p -= 1\n",
    "    print()\n",
    "    i += 1\n",
    "    \n",
    "        "
   ]
  },
  {
   "cell_type": "code",
   "execution_count": 28,
   "id": "b0327119-6425-4086-b9ff-f2c908b73b04",
   "metadata": {},
   "outputs": [
    {
     "name": "stdin",
     "output_type": "stream",
     "text": [
      " 4\n"
     ]
    },
    {
     "name": "stdout",
     "output_type": "stream",
     "text": [
      "      1 \n",
      "    2 3 2 \n",
      "  3 4 5 4 3 \n",
      "4 5 6 7 6 5 4 \n"
     ]
    }
   ],
   "source": [
    "#Assignment\n",
    "\n",
    "n = int(input())\n",
    "i = 1\n",
    "while i <= n:\n",
    "    space = 1\n",
    "    while space <= n-i:\n",
    "        print(\" \", end = \" \")\n",
    "        space += 1\n",
    "        \n",
    "    j = 1\n",
    "    sq1 = i\n",
    "    while j <= i:\n",
    "        print(sq1, end = \" \")\n",
    "        j += 1\n",
    "        sq1 += 1\n",
    "        \n",
    "    p = i - 1\n",
    "    sq2 = sq1 - 2\n",
    "    while p > 0:\n",
    "        print(sq2, end=\" \")\n",
    "        p -= 1\n",
    "        sq2 -= 1\n",
    "        \n",
    "    print()\n",
    "    i += 1\n",
    "    \n",
    "        "
   ]
  },
  {
   "cell_type": "code",
   "execution_count": 27,
   "id": "bfc3956b-40d2-47ce-a0b3-266561fc5ac7",
   "metadata": {},
   "outputs": [
    {
     "name": "stdin",
     "output_type": "stream",
     "text": [
      " 5\n"
     ]
    },
    {
     "name": "stdout",
     "output_type": "stream",
     "text": [
      "    * \n",
      "  * * * \n",
      "* * * * * \n",
      "  * * * \n",
      "    * \n"
     ]
    }
   ],
   "source": [
    "# Diamond of Stars\n",
    "\n",
    "n = int(input())\n",
    "if n%2 ==0:\n",
    "    print(\"Invalid : You entered an even number.\")\n",
    "    exit()\n",
    "\n",
    "n1 = n//2 + 1\n",
    "n2 = n//2\n",
    "\n",
    "i = 1\n",
    "while i <= n1:\n",
    "    space = 1\n",
    "    while space <= n1-i:\n",
    "        print(\" \", end = \" \")\n",
    "        space += 1\n",
    "\n",
    "    j = 1\n",
    "    while j <= i*2 -1:\n",
    "        print(\"*\", end = \" \")\n",
    "        j += 1\n",
    "    \n",
    "    print()\n",
    "    i += 1\n",
    "\n",
    "i = n2\n",
    "while i > 0:\n",
    "    space = 1\n",
    "    while space <= n2-i+1:\n",
    "        print(\" \", end = \" \")\n",
    "        space += 1\n",
    "\n",
    "    j = 1\n",
    "    while j <= i*2 -1:\n",
    "        print(\"*\", end = \" \")\n",
    "        j += 1\n",
    "    \n",
    "    print()\n",
    "    i -= 1\n",
    "\n"
   ]
  }
 ],
 "metadata": {
  "kernelspec": {
   "display_name": "Python 3 (ipykernel)",
   "language": "python",
   "name": "python3"
  },
  "language_info": {
   "codemirror_mode": {
    "name": "ipython",
    "version": 3
   },
   "file_extension": ".py",
   "mimetype": "text/x-python",
   "name": "python",
   "nbconvert_exporter": "python",
   "pygments_lexer": "ipython3",
   "version": "3.12.2"
  }
 },
 "nbformat": 4,
 "nbformat_minor": 5
}
