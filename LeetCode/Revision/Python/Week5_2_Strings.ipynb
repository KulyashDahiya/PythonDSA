{
 "cells": [
  {
   "cell_type": "code",
   "execution_count": 2,
   "id": "844cae4e-c335-4ae3-bcb5-4bde816e896a",
   "metadata": {},
   "outputs": [
    {
     "name": "stdout",
     "output_type": "stream",
     "text": [
      "True\n",
      "True\n"
     ]
    }
   ],
   "source": [
    "#CHECK PERMUTATION\n",
    "from collections import Counter\n",
    "\n",
    "def are_permutations_sorting(s1:str, s2:str) -> str:\n",
    "    if len(s1) != len(s2):\n",
    "        return False\n",
    "\n",
    "    return sorted(s1) == sorted(s2)\n",
    "\n",
    "def are_permutations_counting(s1:str, s2:str) -> str:\n",
    "    if len(s1) != len(s2):\n",
    "        return False\n",
    "\n",
    "    return Counter(s1) == Counter(s2)\n",
    "\n",
    "s1 = \"listen\"\n",
    "s2 = \"silent\"\n",
    "\n",
    "print(are_permutations_sorting(s1,s2))\n",
    "print(are_permutations_counting(s1,s2))"
   ]
  },
  {
   "cell_type": "code",
   "execution_count": 17,
   "id": "2d087bc0-493c-4e0b-93cd-995b59ed321b",
   "metadata": {},
   "outputs": [
    {
     "name": "stdout",
     "output_type": "stream",
     "text": [
      "defaultdict(<class 'int'>, {'a': 1})\n"
     ]
    }
   ],
   "source": [
    "from collections import defaultdict\n",
    "dictionary = defaultdict(int)\n",
    "dictionary['a'] += 1\n",
    "print(dictionary)"
   ]
  },
  {
   "cell_type": "code",
   "execution_count": 45,
   "id": "5aa521cd-ce44-42c4-8488-c7b786e9d119",
   "metadata": {},
   "outputs": [
    {
     "name": "stdout",
     "output_type": "stream",
     "text": [
      "abc\n"
     ]
    }
   ],
   "source": [
    "s = \"aaabbbbbbbcccccccc\"\n",
    "\n",
    "dic = Counter(s)\n",
    "\n",
    "# l = list(dic.keys())\n",
    "# s1 = ''.join(l)\n",
    "# print(s1)\n",
    "\n",
    "# s1 = ''.join([k for k, v in dict(dic).items()])\n",
    "# s1 = ''.join([k for k in dict(dic).keys()])\n",
    "\n",
    "s1 = ''.join(list(dic.keys()))\n",
    "print(s1)\n",
    "\n"
   ]
  },
  {
   "cell_type": "code",
   "execution_count": 50,
   "id": "02856aae-db9a-4047-94f6-c71db9fe2c94",
   "metadata": {},
   "outputs": [
    {
     "name": "stdout",
     "output_type": "stream",
     "text": [
      "abc\n"
     ]
    }
   ],
   "source": [
    "# Remove Consecutive Characters from String\n",
    "\n",
    "def removeConsecutive(s):\n",
    "    if not s:\n",
    "        return s\n",
    "    result = []\n",
    "    prev_char = None\n",
    "\n",
    "    for char in s:\n",
    "        if char != prev_char:\n",
    "            result.append(char)\n",
    "        prev_char = char\n",
    "\n",
    "    return ''.join(result)\n",
    "\n",
    "\n",
    "s = \"aaabbbbbbbcccccccc\"\n",
    "print(removeConsecutive(s))"
   ]
  },
  {
   "cell_type": "code",
   "execution_count": 68,
   "id": "3916051f-4d77-460f-838a-9f49e0845fca",
   "metadata": {},
   "outputs": [
    {
     "name": "stdout",
     "output_type": "stream",
     "text": [
      "['Welcome', 'to', 'Coding', 'Ninjas']\n",
      "['emocleW', 'ot', 'gnidoC', 'sajniN']\n",
      "emocleW ot gnidoC sajniN\n"
     ]
    }
   ],
   "source": [
    "# Reverse Each Word in a String\n",
    "\n",
    "s = \"Welcome to Coding Ninjas\"\n",
    "\n",
    "words = s.split()\n",
    "print(words)\n",
    "\n",
    "reversed_words = [word[::-1] for word in words]\n",
    "print(reversed_words)\n",
    "    \n",
    "print(' '.join(l1))\n"
   ]
  },
  {
   "cell_type": "code",
   "execution_count": 69,
   "id": "b95a0761-0495-45d4-9e9d-fa4b4d8e6699",
   "metadata": {},
   "outputs": [
    {
     "name": "stdout",
     "output_type": "stream",
     "text": [
      "bcdefghijklm\n"
     ]
    }
   ],
   "source": [
    "# Remove Character\n",
    "\n",
    "#For a given string(str) and a character X, write a function to remove \n",
    "#all the occurrences of X from the given string and return it.\n",
    "\n",
    "s = \"aaabcdeaafghaaijkaalm\"\n",
    "x = 'a'\n",
    "\n",
    "\n",
    "# Using List Comprehension\n",
    "\n",
    "s1 = ''.join([char for char in s if char != 'a'])\n",
    "print(s1)"
   ]
  },
  {
   "cell_type": "code",
   "execution_count": 70,
   "id": "43bef583-e4b4-4c17-b86b-63ec0f745a58",
   "metadata": {},
   "outputs": [
    {
     "name": "stdout",
     "output_type": "stream",
     "text": [
      "bcdefghijklm\n"
     ]
    }
   ],
   "source": [
    "# Using str.replace()\n",
    "\n",
    "s = \"aaabcdeaafghaaijkaalm\"\n",
    "x = 'a'\n",
    "\n",
    "s1 = s.replace(x, '')\n",
    "print(s1)"
   ]
  },
  {
   "cell_type": "code",
   "execution_count": 72,
   "id": "35341347-eb9d-492c-af8f-845ea8bb54af",
   "metadata": {},
   "outputs": [
    {
     "name": "stdout",
     "output_type": "stream",
     "text": [
      "Hell, Wrld!\n"
     ]
    }
   ],
   "source": [
    "# Using For Loop\n",
    "\n",
    "s = \"Hello, World!\"\n",
    "char_to_remove = \"o\"\n",
    "result = \"\"\n",
    "for char in s:\n",
    "    if char != char_to_remove:\n",
    "        result += char\n",
    "print(result)  # Output: \"Hell, Wrld!\""
   ]
  },
  {
   "cell_type": "code",
   "execution_count": null,
   "id": "980fd44b-465f-453b-b325-117a309a65e8",
   "metadata": {},
   "outputs": [],
   "source": []
  },
  {
   "cell_type": "code",
   "execution_count": 85,
   "id": "793deca3-7284-439e-97a5-a392109c99bf",
   "metadata": {},
   "outputs": [
    {
     "name": "stdout",
     "output_type": "stream",
     "text": [
      "Max Frequency Character: a\n"
     ]
    }
   ],
   "source": [
    "# HIGHEST OCCURING CHARACTER \n",
    "\n",
    "from collections import Counter\n",
    "\n",
    "s = \"abcdeapapqarr\"\n",
    "counter = dict(Counter(s))\n",
    "# print(counter)\n",
    "maxVal = 0\n",
    "for k, v in counter.items():\n",
    "    if v > maxVal:\n",
    "        maxVal = v\n",
    "        maxChar = k\n",
    "\n",
    "print(f\"Max Frequency Character: {maxChar}\")\n",
    "\n"
   ]
  },
  {
   "cell_type": "markdown",
   "id": "0507aef7-f9b4-42f9-b03f-ad5ae8eeca1d",
   "metadata": {},
   "source": [
    "<!-- Problem statement -->\n",
    "Write a program to do basic string compression. For a character which is consecutively repeated more than once, replace consecutive duplicate occurrences with the count of repetitions."
   ]
  },
  {
   "cell_type": "code",
   "execution_count": 96,
   "id": "062f9801-67ac-4b1d-8184-459635da62b5",
   "metadata": {},
   "outputs": [
    {
     "name": "stdout",
     "output_type": "stream",
     "text": [
      "x5ay3bz6\n"
     ]
    }
   ],
   "source": [
    "def compress_string(s):\n",
    "    if not s:\n",
    "        return s\n",
    "\n",
    "    compressed = []\n",
    "    count = 1\n",
    "\n",
    "    for i in range(1, len(s)):\n",
    "        if s[i] == s[i-1]:\n",
    "            count += 1\n",
    "        else:\n",
    "            if count > 1:\n",
    "                compressed.append(s[i-1] + str(count))\n",
    "            else:\n",
    "                compressed.append(s[i-1])\n",
    "            count = 1\n",
    "\n",
    "\n",
    "    if s[i] == s[-1]:\n",
    "        compressed.append(s[-1] + str(count))\n",
    "\n",
    "    compressed_string = ''.join(compressed)\n",
    "    \n",
    "    return compressed_string if len(compressed_string) < len(s) else s\n",
    "\n",
    "\n",
    "input_string = \"xxxxxayyybzzzzzz\"\n",
    "print(compress_string(input_string))"
   ]
  },
  {
   "cell_type": "code",
   "execution_count": 97,
   "id": "f7006770-2cdb-468f-bcbb-a52bb5000185",
   "metadata": {},
   "outputs": [
    {
     "name": "stdout",
     "output_type": "stream",
     "text": [
      "x5y3z6\n"
     ]
    }
   ],
   "source": [
    "# More direct Approach\n",
    "\n",
    "def compress_string(s):\n",
    "    if not s:\n",
    "        return s  # Return the original string if it's empty\n",
    "\n",
    "    compressed_string = \"\"\n",
    "    count = 1\n",
    "\n",
    "    # Iterate through the string starting from the second character\n",
    "    for i in range(1, len(s)):\n",
    "        if s[i] == s[i - 1]:\n",
    "            count += 1\n",
    "        else:\n",
    "            compressed_string += s[i - 1] + (str(count) if count > 1 else '')\n",
    "            count = 1  # Reset count for the new character\n",
    "\n",
    "    # Append the last character or sequence\n",
    "    compressed_string += s[-1] + (str(count) if count > 1 else '')\n",
    "\n",
    "    # Return the original string if it's not smaller than the compressed version\n",
    "    return compressed_string if len(compressed_string) < len(s) else s\n",
    "\n",
    "# Example usage:\n",
    "input_string = \"xxxxxyyyzzzzzz\"\n",
    "print(compress_string(input_string))  # Output: x5y3z6"
   ]
  },
  {
   "cell_type": "code",
   "execution_count": null,
   "id": "e52d902a-1c0c-495c-a295-08b054f063d1",
   "metadata": {},
   "outputs": [],
   "source": []
  },
  {
   "cell_type": "code",
   "execution_count": null,
   "id": "b012e241-3d05-4617-826e-ae86cf8cda60",
   "metadata": {},
   "outputs": [],
   "source": []
  },
  {
   "cell_type": "code",
   "execution_count": null,
   "id": "f87b515d-ad98-42da-8751-462843466090",
   "metadata": {},
   "outputs": [],
   "source": []
  },
  {
   "cell_type": "code",
   "execution_count": null,
   "id": "ddb62d4b-625a-4fa9-921f-a9bb40b623ad",
   "metadata": {},
   "outputs": [],
   "source": []
  },
  {
   "cell_type": "code",
   "execution_count": null,
   "id": "ba7b7eb9-fa9a-440b-b84c-80d78b7bf2ce",
   "metadata": {},
   "outputs": [],
   "source": []
  },
  {
   "cell_type": "code",
   "execution_count": null,
   "id": "69311acb-cd21-4154-96a3-3b90dee0617e",
   "metadata": {},
   "outputs": [],
   "source": []
  },
  {
   "cell_type": "code",
   "execution_count": null,
   "id": "5fc9f699-6c0b-47d0-9eb8-f6107b05e81f",
   "metadata": {},
   "outputs": [],
   "source": []
  },
  {
   "cell_type": "code",
   "execution_count": null,
   "id": "5b63991c-974f-48e3-88ae-8943c22d4777",
   "metadata": {},
   "outputs": [],
   "source": []
  },
  {
   "cell_type": "code",
   "execution_count": null,
   "id": "b66cbffb-3dfc-4e5d-be35-14b0bcb36250",
   "metadata": {},
   "outputs": [],
   "source": []
  }
 ],
 "metadata": {
  "kernelspec": {
   "display_name": "Python 3 (ipykernel)",
   "language": "python",
   "name": "python3"
  },
  "language_info": {
   "codemirror_mode": {
    "name": "ipython",
    "version": 3
   },
   "file_extension": ".py",
   "mimetype": "text/x-python",
   "name": "python",
   "nbconvert_exporter": "python",
   "pygments_lexer": "ipython3",
   "version": "3.12.4"
  }
 },
 "nbformat": 4,
 "nbformat_minor": 5
}
