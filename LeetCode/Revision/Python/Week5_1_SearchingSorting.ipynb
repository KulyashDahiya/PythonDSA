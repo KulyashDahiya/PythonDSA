{
 "cells": [
  {
   "cell_type": "code",
   "execution_count": null,
   "id": "65efb044-6823-46d0-9b41-06d682cc4465",
   "metadata": {},
   "outputs": [],
   "source": [
    "# Linear Search\n",
    "\n",
    "def search(arr, N, x):\n",
    "\n",
    "    for i in range(0, N):\n",
    "        if (arr[i] == x):\n",
    "            return i\n",
    "    return -1\n",
    "\n",
    "\n",
    "# Driver Code\n",
    "if __name__ == \"__main__\":\n",
    "    arr = [2, 3, 4, 10, 40]\n",
    "    x = 10\n",
    "    N = len(arr)\n",
    "\n",
    "    # Function call\n",
    "    result = search(arr, N, x)\n",
    "    if(result == -1):\n",
    "        print(\"Element is not present in array\")\n",
    "    else:\n",
    "        print(\"Element is present at index\", result)"
   ]
  },
  {
   "cell_type": "code",
   "execution_count": null,
   "id": "27bbf3b3-c626-4bcd-bb81-1cbddda18161",
   "metadata": {},
   "outputs": [],
   "source": []
  },
  {
   "cell_type": "code",
   "execution_count": 24,
   "id": "2f9f04d8-ce5d-464c-85d0-de7279e6ef2d",
   "metadata": {},
   "outputs": [
    {
     "name": "stdout",
     "output_type": "stream",
     "text": [
      "Given array Sorted : [1, 6, 7, 12, 22, 23, 43, 55, 56, 234, 465]\n",
      "Element is present at index : 10\n"
     ]
    }
   ],
   "source": [
    "# Binary Search\n",
    "\n",
    "def BinarySearch(arr, x):\n",
    "    lower_bound = 0\n",
    "    upper_bound = len(arr) - 1\n",
    "    \n",
    "    while lower_bound <= upper_bound:\n",
    "        mid = (lower_bound + upper_bound) // 2\n",
    "        if arr[mid] == x:\n",
    "            return f\"Element is present at index : {arr.index(465)}\"\n",
    "        elif x < arr[mid]:\n",
    "            upper_bound = mid - 1\n",
    "        else:\n",
    "            lower_bound = mid + 1\n",
    "    \n",
    "    return \"Element Not Found in Given Array\"\n",
    "\n",
    "\n",
    "\n",
    "if __name__ == \"__main__\":\n",
    "    arr = [6,23,56,1,465,7,43,234,55,22,12]\n",
    "    x = 465\n",
    "    arr.sort()\n",
    "    print(f\"Given array Sorted : {arr}\")\n",
    "    print(BinarySearch(arr, x))\n"
   ]
  },
  {
   "cell_type": "code",
   "execution_count": 8,
   "id": "b7fbaef4-33c2-4d5b-94f2-65ba6aa40e79",
   "metadata": {},
   "outputs": [
    {
     "name": "stdout",
     "output_type": "stream",
     "text": [
      "First Occurrence = 3\n",
      "Last Occurrence = 5\n"
     ]
    }
   ],
   "source": [
    "# BINARY SEARCH\n",
    "\n",
    "# For example, if the array is as follows: [1, 2, 2, 3, 3, 3, 4, 8, 9, 19, 19, 19]\n",
    "# Try writing the code for the following two cases.\n",
    "# 1. Finding first occurrence of the given number.\n",
    "# 2. Finding the last occurrence of the given number.\n",
    "\n",
    "def first(arr, x, n):\n",
    " \n",
    "    low = 0\n",
    "    high = n - 1\n",
    "    res = -1\n",
    " \n",
    "    while (low <= high):\n",
    " \n",
    "        # Normal Binary Search Logic\n",
    "        mid = (low + high) // 2\n",
    " \n",
    "        if arr[mid] > x:\n",
    "            high = mid - 1\n",
    "        elif arr[mid] < x:\n",
    "            low = mid + 1\n",
    " \n",
    "        # If arr[mid] is same as x, we\n",
    "        # update res and move to the left\n",
    "        # half.\n",
    "        else:\n",
    "            res = mid\n",
    "            high = mid - 1\n",
    " \n",
    "    return res\n",
    " \n",
    "# If x is present in arr[] then returns\n",
    "# the index of FIRST occurrence of x in\n",
    "# arr[0..n-1], otherwise returns -1\n",
    " \n",
    " \n",
    "def last(arr, x, n):\n",
    " \n",
    "    low = 0\n",
    "    high = n - 1\n",
    "    res = -1\n",
    " \n",
    "    while(low <= high):\n",
    " \n",
    "        # Normal Binary Search Logic\n",
    "        mid = (low + high) // 2\n",
    " \n",
    "        if arr[mid] > x:\n",
    "            high = mid - 1\n",
    "        elif arr[mid] < x:\n",
    "            low = mid + 1\n",
    " \n",
    "        # If arr[mid] is same as x, we\n",
    "        # update res and move to the Right\n",
    "        # half.\n",
    "        else:\n",
    "            res = mid\n",
    "            low = mid + 1\n",
    " \n",
    "    return res\n",
    " \n",
    " \n",
    "# Driver code\n",
    "# arr = [1, 2, 2, 2, 2, 3, 4, 7, 8, 8]\n",
    "arr = [1, 2, 2, 3, 3, 3, 4, 8, 9, 19, 19, 19]\n",
    "n = len(arr)\n",
    "x = 3\n",
    " \n",
    "print(\"First Occurrence =\", first(arr, x, n))\n",
    "print(\"Last Occurrence =\", last(arr, x, n))"
   ]
  },
  {
   "cell_type": "code",
   "execution_count": 12,
   "id": "d0d45207-2704-4b63-953a-f9e8a8d1cb1d",
   "metadata": {},
   "outputs": [
    {
     "name": "stdout",
     "output_type": "stream",
     "text": [
      "Given array Sorted : [1, 6, 7, 12, 22, 23, 43, 55, 56, 234, 465]\n",
      "Element 22 Found in SORTED Array at Index: 4\n"
     ]
    }
   ],
   "source": [
    "def RecursiveBinarySearch(arr, x, l, u):\n",
    "    mid = (l+u) // 2\n",
    "\n",
    "    if x == arr[mid] :\n",
    "        return mid\n",
    "    elif x < arr[mid] :\n",
    "        return RecursiveBinarySearch(arr, x, l, mid - 1)\n",
    "    elif x > arr[mid] :\n",
    "        return RecursiveBinarySearch(arr, x, mid + 1, u)\n",
    "    else :\n",
    "        return -1\n",
    "    \n",
    "\n",
    "\n",
    "if __name__ == \"__main__\":\n",
    "    arr = [6,23,56,1,465,7,43,234,55,22,12]\n",
    "    n = len(arr)\n",
    "    x = 22\n",
    "    arr.sort()\n",
    "    print(f\"Given array Sorted : {arr}\")\n",
    "\n",
    "    res = RecursiveBinarySearch(arr, x, 0, n-1)\n",
    "    if res != -1:\n",
    "        print(f\"Element {x} Found in SORTED Array at Index: {res}\")\n",
    "    else:\n",
    "        print(\"Element not Found\")"
   ]
  },
  {
   "cell_type": "code",
   "execution_count": null,
   "id": "b9627a37-dd26-4e1b-baf7-884df5e63a8f",
   "metadata": {},
   "outputs": [],
   "source": []
  },
  {
   "cell_type": "code",
   "execution_count": 5,
   "id": "d2e02a07-c296-488a-953e-4a22f56d78c2",
   "metadata": {},
   "outputs": [
    {
     "name": "stdout",
     "output_type": "stream",
     "text": [
      " 7\n",
      " 23 65 34 76 69 11 6\n",
      "[6, 11, 23, 34, 65, 69, 76]\n"
     ]
    },
    {
     "name": "stdout",
     "output_type": "stream",
     "text": [
      "[6, 11, 23, 34, 65, 69, 76]\n"
     ]
    }
   ],
   "source": [
    "# Selection Sort\n",
    "\n",
    "# n = 7\n",
    "# 23 65 34 76 69 11 6 \n",
    "\n",
    "def selectionSort(arr, n):\n",
    "    for i in range(n-1):\n",
    "        min_j = i\n",
    "        for j in range(i+1, n):\n",
    "            if arr[j] < arr[min_j]:\n",
    "                min_j = j\n",
    "        arr[i], arr[min_j] = arr[min_j], arr[i]\n",
    "\n",
    "    print(arr)\n",
    "\n",
    "\n",
    "n = int(input())\n",
    "arr = list(map(int, input().split()))\n",
    "# n = 5\n",
    "# arr = [5, 2, 3, 1, 4]\n",
    "selectionSort(arr, n)\n"
   ]
  },
  {
   "cell_type": "code",
   "execution_count": null,
   "id": "2812ea90-945d-4fd3-9383-1f7ec8ad5dbd",
   "metadata": {},
   "outputs": [],
   "source": []
  },
  {
   "cell_type": "code",
   "execution_count": 10,
   "id": "3fe310a2-83f5-4fa2-a60e-deca4776816f",
   "metadata": {},
   "outputs": [
    {
     "name": "stdout",
     "output_type": "stream",
     "text": [
      " 5\n",
      " 5 2 3 4 1\n",
      "[5, 2, 3, 4, 1]\n",
      "[1, 2, 3, 4, 5]\n"
     ]
    },
    {
     "name": "stdout",
     "output_type": "stream",
     "text": [
      "[5, 2, 3, 4, 1]\n",
      "[1, 2, 3, 4, 5]\n"
     ]
    }
   ],
   "source": [
    "#Insertion Sort\n",
    "\n",
    "def insertionSort(arr):\n",
    "    for i in range(1, n):\n",
    "        key = arr[i]\n",
    "        j = i - 1\n",
    "        while j >= 0 and key < arr[j]:\n",
    "            arr[j+1] = arr[j]\n",
    "            j -= 1\n",
    "        arr[j+1] = key\n",
    "    return arr\n",
    "\n",
    "n = int(input())\n",
    "arr = list(map(int, input().split()))\n",
    "print(arr)\n",
    "insertionSort(arr)\n",
    "print(arr)"
   ]
  },
  {
   "cell_type": "code",
   "execution_count": 19,
   "id": "0447c4e4-fe14-4a7f-a33c-3320a8d19373",
   "metadata": {},
   "outputs": [
    {
     "name": "stdout",
     "output_type": "stream",
     "text": [
      "[1, 2, 4, 4, 5, 6, 7, 8]\n"
     ]
    }
   ],
   "source": [
    "# Merge 2 sorted Arrays\n",
    "def mergeArr(arr1, arr2):\n",
    "    i ,j = 0, 0\n",
    "    arr3 = []\n",
    "    while i < len(arr1) and j < len(arr2):\n",
    "        if arr1[i] < arr2[j]:\n",
    "            arr3.append(arr1[i])\n",
    "            i += 1\n",
    "        elif arr1[i] > arr2[j]:\n",
    "            arr3.append(arr2[j])\n",
    "            j += 1\n",
    "        else:\n",
    "            arr3.append(arr2[j])\n",
    "            j += 1\n",
    "    # while i < len(arr1):\n",
    "    #     arr3.append(arr1[i])\n",
    "    #     i += 1\n",
    "    # while j < len(arr2):\n",
    "    #     arr3.append(arr2[j])\n",
    "    #     j += 1\n",
    "    if i == len(arr1):\n",
    "        arr3 += arr2[j:]\n",
    "    else:\n",
    "        arr3 += arr1[i:]\n",
    "\n",
    "    print(arr3)\n",
    "arr1 = [1,4,6,8]\n",
    "arr2 = [2,4,5,7]\n",
    "\n",
    "mergeArr(arr1, arr2)"
   ]
  },
  {
   "cell_type": "code",
   "execution_count": null,
   "id": "e5674fa5-b014-42b8-ab66-1186ee4d4fa9",
   "metadata": {},
   "outputs": [],
   "source": [
    "[1, 2, 4, 4, 5, 6, 7, 8]"
   ]
  },
  {
   "cell_type": "code",
   "execution_count": null,
   "id": "f97d697f-2c53-4594-adde-9cfe3ef84093",
   "metadata": {},
   "outputs": [],
   "source": []
  },
  {
   "cell_type": "code",
   "execution_count": 20,
   "id": "c0f84d75-55bf-436f-a3e5-66231f2370cc",
   "metadata": {},
   "outputs": [
    {
     "name": "stdout",
     "output_type": "stream",
     "text": [
      " 4 1 0 34 01 3 0 123 0 44\n",
      "[4, 1, 34, 1, 3, 123, 44, 0, 0, 0]\n"
     ]
    },
    {
     "name": "stdout",
     "output_type": "stream",
     "text": [
      "[4, 1, 34, 1, 3, 123, 44, 0, 0, 0]\n"
     ]
    }
   ],
   "source": [
    "# ASSIGNGMENT\n",
    "\n",
    "\n",
    "# Push zeroes to end and maintain order of non-zero elements\n",
    "\n",
    "# --- Naive BruteForce Approach\n",
    "\n",
    "def zeroesToEnd_N(n: int, arr: list) -> list:\n",
    "    arr2 = []\n",
    "    for i in range(n):\n",
    "        if arr[i] != 0:\n",
    "            arr2.append(arr[i])\n",
    "\n",
    "    nz = len(arr2)\n",
    "\n",
    "    for i in range(nz):\n",
    "        arr[i] = arr2[i]\n",
    "    \n",
    "    for i in range(nz, n):\n",
    "        arr[i] = 0\n",
    "\n",
    "    return arr\n",
    "\n",
    "def zeroesToEnd_TwoPointer(n: int, arr: list) -> list:\n",
    "    j = -1\n",
    "    for i in range(n):\n",
    "        if arr[i] == 0:\n",
    "            j = i\n",
    "            break\n",
    "\n",
    "    if j == -1:\n",
    "        return\n",
    "            \n",
    "    for i in range(j+1, n):\n",
    "        if arr[i] != 0:\n",
    "            arr[i], arr[j] = arr[j], arr[i]\n",
    "            j += 1\n",
    "            \n",
    "    return arr\n",
    "\n",
    "\n",
    "arr = list(map(int, input().split()))\n",
    "n = len(arr)\n",
    "print(zeroesToEnd_TwoPointer(n, arr))\n",
    "# print(zeroesToEnd_N(n, arr))"
   ]
  },
  {
   "cell_type": "code",
   "execution_count": 3,
   "id": "c0ca0c7f-ef99-4838-92c0-43fc1a57fe2d",
   "metadata": {},
   "outputs": [
    {
     "data": {
      "text/plain": [
       "[3, 1, 2]"
      ]
     },
     "execution_count": 3,
     "metadata": {},
     "output_type": "execute_result"
    }
   ],
   "source": [
    "# Rotate an Array\n",
    "\n",
    "def rotateArray(arr: list, n: int, k: int) -> list[int]:\n",
    "    temp = arr[0:n-k]\n",
    "    arr =  arr[n-k:] + temp\n",
    "    return arr\n",
    "    \n",
    "\n",
    "\n",
    "arr = list(map(int, input().split()))\n",
    "k = int(input())\n",
    "n = len(arr)\n",
    "\n",
    "\n",
    "rotateArray(arr, n, k)"
   ]
  },
  {
   "cell_type": "code",
   "execution_count": 9,
   "id": "70d9105f",
   "metadata": {},
   "outputs": [
    {
     "name": "stdout",
     "output_type": "stream",
     "text": [
      "[1, 2, 3, 4]\n",
      "[5, 6]\n",
      "[4, 3, 2, 1]\n",
      "[6, 5]\n",
      "[4, 3, 2, 1, 6, 5]\n",
      "Final List: [5, 6, 1, 2, 3, 4]"
     ]
    }
   ],
   "source": [
    "# Rotate an Array to Right by K elements\n",
    "\n",
    "def rotateArray_Reversal(arr: list, n: int, k: int):\n",
    "    arr1 = arr[0:n-k]\n",
    "    arr2 =  arr[n-k:]\n",
    "    print(arr1)\n",
    "    print(arr2)\n",
    "    arr3 = list(reversed(arr1)) \n",
    "    arr4 = list(reversed(arr2))\n",
    "    print(arr3)\n",
    "    print(arr4)\n",
    "    arr5 = arr3 + arr4\n",
    "    print(arr5)\n",
    "    arr6 = list(reversed(arr5))\n",
    "    print(f\"Final List: {arr6}\", end = '')\n",
    "    \n",
    "\n",
    "\n",
    "arr = list(map(int, input().split()))\n",
    "k = int(input())\n",
    "n = len(arr)\n",
    "\n",
    "\n",
    "rotateArray_Reversal(arr, n, k)"
   ]
  },
  {
   "cell_type": "code",
   "execution_count": 2,
   "id": "e2e4aeb6",
   "metadata": {},
   "outputs": [
    {
     "data": {
      "text/plain": [
       "9"
      ]
     },
     "execution_count": 2,
     "metadata": {},
     "output_type": "execute_result"
    }
   ],
   "source": [
    "# Assignment - Find Second Largest\n",
    "\n",
    "def find_sec_max(arr: list) -> float:\n",
    "    maximum_number = float('-inf')\n",
    "    second_maximum = maximum_number\n",
    "\n",
    "    for i in range(len(arr)):\n",
    "        if a[i] > maximum_number:\n",
    "            second_maximum = maximum_number\n",
    "            maximum_number = a[i]\n",
    "        elif second_maximum < a[i] < maximum_number:\n",
    "            second_maximum = a[i]\n",
    "    \n",
    "    return second_maximum\n",
    "\n",
    "\n",
    "\n",
    "a = [3, 1, 2, 9, 4, 2, 5, 0, 1, 12]\n",
    "find_sec_max(a)\n",
    "\n",
    "# maxi = float('-inf')\n",
    "# temp = maxi\n",
    "\n",
    "# for i in range(len(a)):\n",
    "#     if a[i] > maxi:\n",
    "#         temp = maxi\n",
    "#         maxi = a[i]\n",
    "#     elif temp < a[i] and a[i] < maxi:\n",
    "#         temp = a[i]\n",
    "# print(temp)"
   ]
  },
  {
   "cell_type": "markdown",
   "id": "ba789b52",
   "metadata": {},
   "source": [
    "#Check Array Rotation\n",
    "\n",
    "You have been given an integer array/list(ARR) of size N. It has been sorted(in increasing order) and then rotated by some number 'K' in the clockwise direction.\n",
    "Your task is to write a function that returns the value of 'K', that means, the index from which the array/list has been rotated.\n",
    "Input format :\n",
    "The first line contains an Integer 't' which denotes the number of test cases or queries to be run. Then the test cases follow.\n",
    "\n",
    "First line of each test case or query contains an integer 'N' representing the size of the array/list.\n",
    "\n",
    "Second line contains 'N' single space separated integers representing the elements in the array/list.\n",
    "Output Format :\n",
    "For each test case, print the value of 'K' or the index from which which the array/list has been rotated.\n",
    "\n",
    "Output for every test case will be printed in a separate line.\n",
    "Constraints :\n",
    "1 <= t <= 10^2\n",
    "0 <= N <= 10^5\n",
    "Time Limit: 1 sec\n",
    "Sample Input 1:\n",
    "1\n",
    "6\n",
    "5 6 1 2 3 4"
   ]
  },
  {
   "cell_type": "code",
   "execution_count": 5,
   "id": "81561164",
   "metadata": {},
   "outputs": [
    {
     "name": "stdout",
     "output_type": "stream",
     "text": [
      "2\n"
     ]
    }
   ],
   "source": [
    "from sys import stdin \n",
    "def arrayRotateCheck(arr, n):\n",
    "    for i in range(n - 1):\n",
    "        if(arr[i] > arr[i + 1]):\n",
    "            return (i + 1) \n",
    "    return 0 \n",
    "def takeInput() : \n",
    "    n = int(input().rstrip()) \n",
    "    if n == 0:\n",
    "        return list(), 0 \n",
    "    arr = list(map(int, input().rstrip().split(\" \"))) \n",
    "    return arr, n\n",
    "t = int(input().rstrip())\n",
    "while t > 0 :\n",
    "    arr, n = takeInput() \n",
    "    print(arrayRotateCheck(arr, n))\n",
    "    \n",
    "    t -= 1"
   ]
  },
  {
   "cell_type": "code",
   "execution_count": 7,
   "id": "440464de",
   "metadata": {},
   "outputs": [
    {
     "name": "stdout",
     "output_type": "stream",
     "text": [
      "3\n"
     ]
    }
   ],
   "source": [
    "# Check Array Rotation\n",
    "\n",
    "def checkArrRotation(arr: list) -> int:\n",
    "    n = len(arr)\n",
    "    for i in range(n-1):\n",
    "        if arr[i] > arr[i+1]:\n",
    "            return i + 1\n",
    "    return 0\n",
    "\n",
    "\n",
    "arr = list(map(int, input().rstrip().split()))\n",
    "print(checkArrRotation(arr))\n"
   ]
  },
  {
   "cell_type": "markdown",
   "id": "f5f3c1e4",
   "metadata": {},
   "source": [
    "Assignment :    Sort 0 1 2\n",
    "\n",
    "You are given an integer array/list(ARR) of size N. It contains only 0s, 1s and 2s. Write a solution to sort this array/list in a 'single scan'.\n",
    "'Single Scan' refers to iterating over the array/list just once or to put it in other words, you will be visiting each element in the array/list just once.\n",
    "Note:\n",
    "You need to change in the given array/list itself. Hence, no need to return or print anything. \n",
    "Input format :\n",
    "The first line contains an Integer 't' which denotes the number of test cases or queries to be run. Then the test cases follow.\n",
    "\n",
    "First line of each test case or query contains an integer 'N' representing the size of the array/list.\n",
    "\n",
    "Second line contains 'N' single space separated integers(all 0s, 1s and 2s) representing the elements in the array/list.\n",
    "Output Format :\n",
    "For each test case, print the sorted array/list elements in a row separated by a single space.\n",
    "\n",
    "Output for every test case will be printed in a separate line.\n",
    "Constraints :\n",
    "1 <= t <= 10^2\n",
    "0 <= N <= 10^5\n",
    "Time Limit: 1 sec\n",
    "Sample Input 1:\n",
    "1\n",
    "7\n",
    "0 1 2 0 2 0 1"
   ]
  },
  {
   "cell_type": "code",
   "execution_count": null,
   "id": "14c56a11",
   "metadata": {},
   "outputs": [],
   "source": [
    "from sys import stdin\n",
    "def sort012(arr, n) :\n",
    "    nextZero = 0\n",
    "    nextTwo = (n - 1) \n",
    "    i = 0 \n",
    "    while i <= nextTwo :\n",
    "        if arr[i] == 0 :\n",
    "            temp = arr[nextZero]\n",
    "            arr[nextZero] = arr[i] \n",
    "            arr[i] = temp\n",
    "            i += 1\n",
    "            nextZero += 1\n",
    "        elif arr[i] == 2 :\n",
    "            temp = arr[nextTwo] \n",
    "            arr[nextTwo] = arr[i] \n",
    "            arr[i] = temp\n",
    "            nextTwo -= 1\n",
    "        else : \n",
    "            i += 1 \n",
    "def takeInput() : \n",
    "    n = int(input().rstrip())\n",
    "    if n == 0 :\n",
    "        return list(), 0 \n",
    "    arr = list(map(int, input().rstrip().split(\" \")))\n",
    "    return arr, n\n",
    "def printList(arr, n) : \n",
    "    for i in range(n) :\n",
    "        print(arr[i], end = \" \")\n",
    "    print() \n",
    "t = int(input())\n",
    "while t > 0 :\n",
    "    arr, n = takeInput() \n",
    "    sort012(arr, n)\n",
    "    printList(arr, n) \n",
    "    t -= 1"
   ]
  },
  {
   "cell_type": "code",
   "execution_count": 8,
   "id": "1fe5c2cb",
   "metadata": {},
   "outputs": [],
   "source": [
    "from sys import stdin \n",
    "\n",
    "def sort012(a, n) :\n",
    "    temp = [None] * n\n",
    "    nz = 0\n",
    "    nT = n-1\n",
    "    for i in range(n):\n",
    "        if a[i] == 0:\n",
    "            temp[nz] = a[i]\n",
    "            nz += 1\n",
    "        elif a[i] == 2:\n",
    "            temp[nT] = a[i]\n",
    "            nT -= 1\n",
    "    for i in range(nz, nT + 1):\n",
    "        temp[i] = 1\n",
    "    \n",
    "    print(temp)\n",
    "\n",
    "\n",
    "\n",
    "def takeInput() :\n",
    "    n = 6\n",
    "    if n == 0 :\n",
    "        return list(), 0\n",
    "\n",
    "    a = [2, 1, 0, 1, 2, 0]\n",
    "    return a, n\n",
    "\n",
    "    \n",
    "a, n = takeInput()\n",
    "sort012(a, n)\n",
    "\n",
    "## Without temp array\n",
    "\n",
    "def sort012(a, n) :\n",
    "\n",
    "    nz = 0\n",
    "    nT = n-1\n",
    "    i = 0\n",
    "    while i <= nT:\n",
    "        if arr[i] == 0:\n",
    "            arr[i], arr[nz] = arr[nz], arr[i]\n",
    "            nz = nz + 1\n",
    "            i = i + 1\n",
    "        \n",
    "        elif arr[i] == 2:\n",
    "            arr[i], arr[nT] =  arr[nT], arr[i]\n",
    "            nT -= 1\n",
    "\n",
    "        else:\n",
    "            i = i + 1\n",
    "\n",
    "    return arr"
   ]
  },
  {
   "cell_type": "code",
   "execution_count": 1,
   "id": "c48c16fc",
   "metadata": {
    "ExecuteTime": {
     "end_time": "2024-07-18T18:24:06.440748Z",
     "start_time": "2024-07-18T18:24:06.428770Z"
    }
   },
   "outputs": [
    {
     "name": "stdout",
     "output_type": "stream",
     "text": [
      "[0, 0, 0, 0, 0, 1, 1, 1, 1, 1, 2, 2, 2]\n",
      "[0, 0, 0, 0, 0, 1, 1, 1, 1, 1, 2, 2, 2]\n"
     ]
    }
   ],
   "source": [
    "### ---       My Solutions\n",
    "\n",
    "def sort012_brute(arr: list) -> list[int]:\n",
    "    return list(sorted(arr))\n",
    "\n",
    "def sort012_better(arr: list, n: int) -> list[int]:\n",
    "    c0, c1, c2 = 0, 0, 0\n",
    "    for i in range(n):\n",
    "        if arr[i] == 0:\n",
    "            c0 += 1\n",
    "        elif arr[i] == 1:\n",
    "            c1 += 1\n",
    "        else:\n",
    "            c2 += 1\n",
    "    \n",
    "    i = 0\n",
    "    while c0 > 0:\n",
    "        arr[i] = 0\n",
    "        c0 -= 1\n",
    "        i += 1\n",
    "\n",
    "    while c1 > 0:\n",
    "        arr[i] = 1\n",
    "        c1 -= 1\n",
    "        i += 1\n",
    "    \n",
    "    while c2 > 0:\n",
    "        arr[i] = 2\n",
    "        c2 -= 1\n",
    "        i += 1\n",
    "    \n",
    "    return arr\n",
    "    \n",
    "\n",
    "# arr = list(map(int, input().split()))\n",
    "arr = [1 , 2, 0, 2, 2, 0, 1, 1, 1, 0, 0, 1, 0]\n",
    "n = len(arr)\n",
    "print(sort012_better(arr, n))\n",
    "print(sort012_brute(arr))"
   ]
  },
  {
   "cell_type": "code",
   "execution_count": 27,
   "id": "9c8ea204",
   "metadata": {
    "editable": true,
    "slideshow": {
     "slide_type": ""
    },
    "tags": []
   },
   "outputs": [
    {
     "name": "stdout",
     "output_type": "stream",
     "text": [
      "[0, 0, 1, 1, 2, 2]\n"
     ]
    }
   ],
   "source": [
    "## --- Dutch algo way for Sort 0 1 2\n",
    "\n",
    "#--   https://www.youtube.com/watch?v=tp8JIuCXBaUß\n",
    "\n",
    "\n",
    "def DutchSort(arr):\n",
    "    low = 0\n",
    "    mid = 0\n",
    "    high = len(arr) - 1\n",
    "    \n",
    "    while mid <= high:\n",
    "        if arr[mid] == 0:\n",
    "            arr[low], arr[mid] = arr[mid], arr[low]\n",
    "            low += 1\n",
    "            mid += 1\n",
    "        elif arr[mid] == 1:\n",
    "            mid += 1\n",
    "        else: # arr[mid] == 2\n",
    "            arr[high], arr[mid] = arr[mid], arr[high]\n",
    "            high -= 1\n",
    "\n",
    "\n",
    "# arr = list(map(int, input().split()))\n",
    "arr = [2, 0, 1, 2, 1, 0]\n",
    "DutchSort(arr)\n",
    "print(arr)"
   ]
  },
  {
   "cell_type": "code",
   "execution_count": null,
   "id": "817d7f3d-7523-4ca0-b610-5ba14403d624",
   "metadata": {},
   "outputs": [],
   "source": []
  },
  {
   "cell_type": "code",
   "execution_count": null,
   "id": "c1570bc7-5579-4e3c-9889-75a393a8d4ec",
   "metadata": {},
   "outputs": [],
   "source": []
  },
  {
   "cell_type": "code",
   "execution_count": null,
   "id": "598727af-2325-4ba4-92a0-a8ec57e73cc3",
   "metadata": {},
   "outputs": [],
   "source": []
  },
  {
   "cell_type": "code",
   "execution_count": null,
   "id": "758889b5-96f2-41b4-ac11-b8007dc10527",
   "metadata": {},
   "outputs": [],
   "source": []
  },
  {
   "cell_type": "code",
   "execution_count": 39,
   "id": "589ec31e-8750-4cc7-9784-03e728b89cf2",
   "metadata": {},
   "outputs": [
    {
     "name": "stdout",
     "output_type": "stream",
     "text": [
      "[1, 0, 0, 0]\n",
      "[9, 1, 2]\n"
     ]
    }
   ],
   "source": [
    "##  SUM OF TWO NUMBERS REPRESENTED AS ARRAY\n",
    "\n",
    "def sumArray(arr1, arr2):\n",
    "    # ar1 = list(reversed(arr1))\n",
    "    # ar2 = list(reversed(arr2))\n",
    "    # print(ar1, ar2)\n",
    "    arr1.reverse()\n",
    "    arr2.reverse()\n",
    "    # print(arr1, arr2)\n",
    "    n, m = len(arr1), len(arr2)\n",
    "\n",
    "    max_len = max(n, m)\n",
    "    res = []\n",
    "    carry = 0\n",
    "    for i in range(max_len):\n",
    "        digit1 = arr1[i] if i < n else 0\n",
    "        digit2 = arr2[i] if i < m else 0\n",
    "\n",
    "        total = digit1 + digit2 + carry\n",
    "        result_digit = total % 10\n",
    "        carry = total // 10\n",
    "\n",
    "        res.append(result_digit)\n",
    "\n",
    "    if carry:\n",
    "        res.append(carry)\n",
    "\n",
    "    res.reverse()\n",
    "\n",
    "    print(res)\n",
    "    \n",
    "\n",
    "\n",
    "arr1 = [9, 9, 9]\n",
    "arr2 = [1]\n",
    "sumArray(arr1,arr2)\n",
    "arr1 = [2, 3, 4]\n",
    "arr2 = [6, 7, 8]\n",
    "sumArray(arr1, arr2)"
   ]
  },
  {
   "cell_type": "code",
   "execution_count": null,
   "id": "ee412ae7-e39b-45a6-a8c1-a36a0a64f201",
   "metadata": {},
   "outputs": [],
   "source": []
  },
  {
   "cell_type": "code",
   "execution_count": null,
   "id": "220d56ac-07bd-40ec-8ddb-c78e596ca8bd",
   "metadata": {},
   "outputs": [],
   "source": []
  },
  {
   "cell_type": "code",
   "execution_count": null,
   "id": "4b29f5f4-87ec-4e30-84ca-d59117de60bf",
   "metadata": {},
   "outputs": [],
   "source": []
  },
  {
   "cell_type": "code",
   "execution_count": null,
   "id": "1a7442c8-4ae8-45fd-992b-6bbfd07f2a91",
   "metadata": {},
   "outputs": [],
   "source": []
  },
  {
   "cell_type": "code",
   "execution_count": null,
   "id": "ad0183e4-719d-4e8d-b651-61401c49acd2",
   "metadata": {},
   "outputs": [],
   "source": []
  },
  {
   "cell_type": "code",
   "execution_count": null,
   "id": "9e6e3b0b-cb89-4660-9059-c050b9500e02",
   "metadata": {},
   "outputs": [],
   "source": []
  },
  {
   "cell_type": "code",
   "execution_count": null,
   "id": "774d1e40-52bc-43fc-a0d5-ce44d29d280c",
   "metadata": {},
   "outputs": [],
   "source": []
  },
  {
   "cell_type": "code",
   "execution_count": null,
   "id": "2f34fdb3-ca1a-47b6-b931-0b7a2576acb9",
   "metadata": {},
   "outputs": [],
   "source": []
  },
  {
   "cell_type": "code",
   "execution_count": null,
   "id": "194c536c-8415-48ea-ab6b-e944d282c7f4",
   "metadata": {},
   "outputs": [],
   "source": []
  },
  {
   "cell_type": "code",
   "execution_count": null,
   "id": "5d161b50-b827-4bea-9506-a143c953a8ff",
   "metadata": {},
   "outputs": [],
   "source": []
  },
  {
   "cell_type": "code",
   "execution_count": null,
   "id": "ffafbad8-36aa-4ae6-a047-5fdf82918cec",
   "metadata": {},
   "outputs": [],
   "source": []
  },
  {
   "cell_type": "code",
   "execution_count": null,
   "id": "a8ad28a5-f562-4f2b-ac57-9a9ef61978f0",
   "metadata": {},
   "outputs": [],
   "source": []
  }
 ],
 "metadata": {
  "kernelspec": {
   "display_name": "Python 3 (ipykernel)",
   "language": "python",
   "name": "python3"
  },
  "language_info": {
   "codemirror_mode": {
    "name": "ipython",
    "version": 3
   },
   "file_extension": ".py",
   "mimetype": "text/x-python",
   "name": "python",
   "nbconvert_exporter": "python",
   "pygments_lexer": "ipython3",
   "version": "3.12.4"
  }
 },
 "nbformat": 4,
 "nbformat_minor": 5
}
