{
 "cells": [
  {
   "cell_type": "code",
   "execution_count": 5,
   "id": "7c43c724-76f0-4831-aa70-60fd17889828",
   "metadata": {},
   "outputs": [
    {
     "name": "stdin",
     "output_type": "stream",
     "text": [
      " 19\n"
     ]
    },
    {
     "name": "stdout",
     "output_type": "stream",
     "text": [
      "prime\n"
     ]
    }
   ],
   "source": [
    "# State Prime and Non Prime\n",
    "\n",
    "n = int(input())\n",
    "flag = False\n",
    "for i in range(2, n):\n",
    "    if n%i == 0:\n",
    "        flag = True\n",
    "\n",
    "if flag:\n",
    "    print(\"non prime\")\n",
    "else:\n",
    "    print(\"prime\")"
   ]
  },
  {
   "cell_type": "code",
   "execution_count": 13,
   "id": "e8900c28-3b85-4860-97ce-e207cd48d815",
   "metadata": {},
   "outputs": [
    {
     "name": "stdout",
     "output_type": "stream",
     "text": [
      "      1 \n",
      "    2 3 2 \n",
      "  3 4 5 4 3 \n",
      "4 5 6 7 6 5 4 \n"
     ]
    }
   ],
   "source": [
    "## Pattern\n",
    "\n",
    "\n",
    "#n = int(input())\n",
    "n = 4\n",
    "\n",
    "for i in range(1,n+1):\n",
    "    for space in range(1, n-i+1):\n",
    "        print(\" \", end=\" \")\n",
    "    sq1 = i\n",
    "    for j in range(1, i+1):\n",
    "        print(sq1, end=\" \")\n",
    "        sq1 += 1\n",
    "    sq2 = sq1 - 2\n",
    "    for k in range(1, i):\n",
    "        print(sq2, end=\" \")\n",
    "        sq2 -= 1\n",
    "    print()\n"
   ]
  }
 ],
 "metadata": {
  "kernelspec": {
   "display_name": "Python 3 (ipykernel)",
   "language": "python",
   "name": "python3"
  },
  "language_info": {
   "codemirror_mode": {
    "name": "ipython",
    "version": 3
   },
   "file_extension": ".py",
   "mimetype": "text/x-python",
   "name": "python",
   "nbconvert_exporter": "python",
   "pygments_lexer": "ipython3",
   "version": "3.12.2"
  }
 },
 "nbformat": 4,
 "nbformat_minor": 5
}
