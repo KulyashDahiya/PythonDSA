{
 "cells": [
  {
   "cell_type": "code",
   "execution_count": 10,
   "id": "5d7eb87c-76a3-4047-8c2d-ada3a156d401",
   "metadata": {},
   "outputs": [
    {
     "name": "stdin",
     "output_type": "stream",
     "text": [
      " 1 2 3 4\n"
     ]
    },
    {
     "name": "stdout",
     "output_type": "stream",
     "text": [
      "[1, 2, 3, 4]\n",
      "[2, 1, 4, 3]\n"
     ]
    }
   ],
   "source": [
    "# SWAP ALTERNATE\n",
    "\n",
    "\n",
    "def swapAlternate(arr):\n",
    "    n = len(arr)\n",
    "    if n % 2 == 1:\n",
    "        n = n - 1\n",
    "\n",
    "    for i in range(0, n, 2):\n",
    "        arr[i], arr[i+1] = arr[i+1], arr[i]\n",
    "\n",
    "    return arr\n",
    "        \n",
    "\n",
    "\n",
    "arr = list(map(int, input().split()))\n",
    "print(arr)\n",
    "print(swapAlternate(arr))"
   ]
  },
  {
   "cell_type": "code",
   "execution_count": null,
   "id": "7566264a-9bae-49c5-90d0-99cd404ea0a1",
   "metadata": {},
   "outputs": [],
   "source": []
  },
  {
   "cell_type": "code",
   "execution_count": 19,
   "id": "60c334ed-97a0-43dd-b921-19fb87c42d15",
   "metadata": {},
   "outputs": [
    {
     "name": "stdout",
     "output_type": "stream",
     "text": [
      "10\n"
     ]
    }
   ],
   "source": [
    "# You have been given an integer array/list(ARR) of size N. Where N is equal to [2M + 1].\n",
    "# Now, in the given array/list, 'M' numbers are present twice and one number is present only once.\n",
    "# You need to find and return that number which is unique in the array/list.\n",
    "#  Note:\n",
    "# Unique element is always present in the array/list according to the given condition.\n",
    "\n",
    "\n",
    "\n",
    "# def findUnique(arr, n):\n",
    "#     arr.sort()\n",
    "#     print(arr)\n",
    "#     if arr[n-1] != arr[n-2]:\n",
    "#         return arr[n-1]\n",
    "#     for i in range(0, n-1, 2):\n",
    "#         if arr[i] != arr[i+1]:\n",
    "#             return arr[i]\n",
    "\n",
    "#     return \"NONE FOUND\"\n",
    "\n",
    "\n",
    "def findUnique(arr, n):\n",
    "    \n",
    "    arr.sort()\n",
    "       \n",
    "    for i in range(0, n-1, 2):\n",
    "        if arr[i] != arr[i+1]:\n",
    "            return arr[i]\n",
    "\n",
    "    return arr[-1]\n",
    "    \n",
    "\n",
    "n = 9\n",
    "arr = [1,3,1,3,6,6,7,10,7]\n",
    "print(findUnique(arr, n))"
   ]
  },
  {
   "cell_type": "code",
   "execution_count": 13,
   "id": "4d6b28b9-289d-44d2-ba41-48dc3f0825bb",
   "metadata": {},
   "outputs": [
    {
     "name": "stdout",
     "output_type": "stream",
     "text": [
      "2\n"
     ]
    }
   ],
   "source": [
    "## Find duplicates\n",
    "# You are given an array of integers 'ARR' containing N elements. Each integer is in the range [1, N-1], with exactly one element repeated in the array.\n",
    "# Your task is to find the duplicate element. The duplicate element may be repeated more than twice in the error, but there will be exactly one element that is repeated in the array.\n",
    "# Note :\n",
    "# All the integers in the array appear only once except for precisely one integer which appears two or more times.\n",
    "\n",
    "\n",
    "def findDupelicate(arr):\n",
    "\n",
    "    arr.sort()\n",
    "    for i in range(len(arr)):\n",
    "        if arr[i] == arr[i+1]:\n",
    "            return arr[i]\n",
    "        \n",
    "        \n",
    "    \n",
    "n = 5\n",
    "arr = [0, 3, 2, 1, 2]\n",
    "print(findDupelicate(arr))"
   ]
  },
  {
   "cell_type": "code",
   "execution_count": 21,
   "id": "5f0d55de-6004-411a-9c1d-f9502317129f",
   "metadata": {},
   "outputs": [
    {
     "name": "stdout",
     "output_type": "stream",
     "text": [
      "{2, 3, 4}\n"
     ]
    }
   ],
   "source": [
    "# You have been given two integer arrays/list(ARR1 and ARR2) of size N and M, respectively. You need to print their intersection; An intersection for this problem can be defined when both the arrays/lists contain a particular value or to put it in other words, when there is a common value that exists in both the arrays/lists.\n",
    "# Note :\n",
    "# Input arrays/lists can contain duplicate elements.\n",
    "\n",
    "# The intersection elements printed would be in the order they appear in the first array/list(ARR1)\n",
    "\n",
    "\n",
    "# 2 6 8 5 4 3\n",
    "# 2 3 4 7 \n",
    "\n",
    "def intersectionTwoArrays(arr1, arr2):\n",
    "    print(set(arr1) & set(arr2))\n",
    "\n",
    "\n",
    "\n",
    "arr1 = [2, 6, 8, 5, 4, 3]\n",
    "arr2 = [2, 3, 4, 7]\n",
    "intersectionTwoArrays(arr1, arr2)"
   ]
  },
  {
   "cell_type": "code",
   "execution_count": 34,
   "id": "bd59ef8c-e8f9-4053-babd-bd0c7f859af5",
   "metadata": {},
   "outputs": [
    {
     "name": "stdout",
     "output_type": "stream",
     "text": [
      "[[1, 4], [2, 3]]\n"
     ]
    }
   ],
   "source": [
    "# PAIR SUM\n",
    "\n",
    "# You are given an integer array 'ARR' of size 'N' and an integer 'S'. Your task is to return the list of all pairs of elements such that each sum of elements of each pair equals 'S'.\n",
    "# Note:\n",
    "# Each pair should be sorted i.e the first value should be less than or equals to the second value. \n",
    "\n",
    "# Return the list of pairs sorted in non-decreasing order of their first value. In case if two pairs have the same first value, the pair with a smaller second value should come first.\n",
    "\n",
    "\n",
    "def pairSum(arr, n, s):\n",
    "    pairSum = []\n",
    "    arr.sort()\n",
    "    for i in range(n):\n",
    "        for j in range(i+1, n):\n",
    "            if arr[i]+arr[j] == s:\n",
    "                pairSum.append([ arr[i], arr[j] ])\n",
    "\n",
    "    print(pairSum)          \n",
    "            \n",
    "\n",
    "n, s = 5, 5\n",
    "arr = [1, 2, 3, 4, 5]\n",
    "pairSum(arr, n, s)"
   ]
  },
  {
   "cell_type": "code",
   "execution_count": 37,
   "id": "b196c32d-207d-46f8-a869-456ea88e9bf0",
   "metadata": {},
   "outputs": [
    {
     "name": "stdout",
     "output_type": "stream",
     "text": [
      "5\n",
      "[[1, 4, 7], [1, 5, 6], [2, 3, 7], [2, 4, 6], [3, 4, 5]]\n"
     ]
    }
   ],
   "source": [
    "## Find Triplets which sum to x in an array\n",
    "\n",
    "def Triplets(arr, x):\n",
    "    # Write your code here.\n",
    "    n = len(arr)\n",
    "    count = 0\n",
    "    all_triplets = []\n",
    "    arr.sort()\n",
    "    for i in range(n):\n",
    "        for j in range(i+1, n):\n",
    "            for k in range(j+1, n):\n",
    "                if arr[i]+arr[j] + arr[k] == x:\n",
    "                    all_triplets.append([ arr[i],arr[j], arr[k] ])\n",
    "                    count += 1 \n",
    "    print(count)\n",
    "    print(all_triplets)\n",
    "\n",
    "arr = [1,2,3,4,5,6,7]\n",
    "x = 12\n",
    "Triplets(arr, x)"
   ]
  },
  {
   "cell_type": "code",
   "execution_count": 38,
   "id": "496629f9-4d29-4749-888b-0da184ff7db4",
   "metadata": {},
   "outputs": [
    {
     "name": "stdout",
     "output_type": "stream",
     "text": [
      "[0, 0, 1, 1, 2, 2]\n"
     ]
    }
   ],
   "source": [
    "## SORT 0 1 2\n",
    "\n",
    "def sort_012(arr):\n",
    "    low, mid, high = 0, 0, len(arr) - 1\n",
    "\n",
    "    while mid <= high:\n",
    "        if arr[mid] == 0:\n",
    "            arr[low], arr[mid] = arr[mid], arr[low]\n",
    "            low += 1\n",
    "            mid += 1\n",
    "        elif arr[mid] == 1:\n",
    "            mid += 1\n",
    "        else:  # arr[mid] == 2\n",
    "            arr[high], arr[mid] = arr[mid], arr[high]\n",
    "            high -= 1\n",
    "\n",
    "# Define a list with 0s, 1s, and 2s\n",
    "numbers = [2, 0, 1, 2, 1, 0]\n",
    "\n",
    "# Sort the list\n",
    "sort_012(numbers)\n",
    "print(numbers)"
   ]
  },
  {
   "cell_type": "code",
   "execution_count": null,
   "id": "5009fb6b-f172-4623-b7df-211d2dc659d4",
   "metadata": {},
   "outputs": [],
   "source": []
  },
  {
   "cell_type": "code",
   "execution_count": null,
   "id": "6d5432fc-b2e6-42e2-9ca5-e2ca0abbccbe",
   "metadata": {},
   "outputs": [],
   "source": []
  },
  {
   "cell_type": "code",
   "execution_count": null,
   "id": "7ed81840-501a-446d-88ec-dc1af11e5462",
   "metadata": {},
   "outputs": [],
   "source": []
  }
 ],
 "metadata": {
  "kernelspec": {
   "display_name": "Python 3 (ipykernel)",
   "language": "python",
   "name": "python3"
  },
  "language_info": {
   "codemirror_mode": {
    "name": "ipython",
    "version": 3
   },
   "file_extension": ".py",
   "mimetype": "text/x-python",
   "name": "python",
   "nbconvert_exporter": "python",
   "pygments_lexer": "ipython3",
   "version": "3.12.4"
  }
 },
 "nbformat": 4,
 "nbformat_minor": 5
}
