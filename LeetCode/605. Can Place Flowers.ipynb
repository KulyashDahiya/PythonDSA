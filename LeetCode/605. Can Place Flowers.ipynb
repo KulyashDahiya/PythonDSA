{
 "cells": [
  {
   "cell_type": "markdown",
   "metadata": {},
   "source": [
    "605. Can Place Flowers\n",
    "Easy\n",
    "\n",
    "You have a long flowerbed in which some of the plots are planted, and some are not. However, flowers cannot be planted in adjacent plots.\n",
    "\n",
    "Given an integer array flowerbed containing 0's and 1's, where 0 means empty and 1 means not empty, and an integer n, return true if n new flowers can be planted in the flowerbed without violating the no-adjacent-flowers rule and false otherwise.\n",
    "\n",
    " \n",
    "\n",
    "Example 1:\n",
    "\n",
    "Input: flowerbed = [1,0,0,0,1], n = 1\n",
    "Output: true\n",
    "Example 2:\n",
    "\n",
    "Input: flowerbed = [1,0,0,0,1], n = 2\n",
    "Output: false\n",
    " \n",
    "\n",
    "Constraints:\n",
    "\n",
    "1 <= flowerbed.length <= 2 * 104\n",
    "flowerbed[i] is 0 or 1.\n",
    "There are no two adjacent flowers in flowerbed.\n",
    "0 <= n <= flowerbed.length"
   ]
  },
  {
   "cell_type": "code",
   "execution_count": 11,
   "metadata": {},
   "outputs": [],
   "source": [
    "from typing import List\n",
    "\n",
    "class Solution:\n",
    "    def canPlaceFlowers(self, flowerbed: List[int], n: int) -> bool:\n",
    "        if n == 0:\n",
    "            return True\n",
    "        count = n\n",
    "        last = 0\n",
    "\n",
    "        for i in range(len(flowerbed)):\n",
    "            if last == 0 and flowerbed[i] == 1:\n",
    "                last = 1\n",
    "            elif last == 0 and flowerbed[i] == 0:\n",
    "                if i == len(flowerbed) -1 or flowerbed[i+1] == 0:\n",
    "                    count -= 1\n",
    "                    last = 1\n",
    "                    if count == 0:\n",
    "                        return True\n",
    "                else:\n",
    "                    last = 0\n",
    "            elif flowerbed[i] == 0:\n",
    "                last = 0\n",
    "            else :\n",
    "                last = 1\n",
    "\n",
    "        return count <= 0\n",
    "\n",
    "        \n"
   ]
  },
  {
   "cell_type": "code",
   "execution_count": 12,
   "metadata": {},
   "outputs": [
    {
     "name": "stdout",
     "output_type": "stream",
     "text": [
      "Result: True\n",
      "All test cases passed!\n"
     ]
    }
   ],
   "source": [
    "def main():\n",
    "    # Example inputs\n",
    "    flowerbed = [1, 0, 0, 0, 1]\n",
    "    n = 1\n",
    "    \n",
    "    solution = Solution()\n",
    "    result = solution.canPlaceFlowers(flowerbed, n)\n",
    "    \n",
    "    print(\"Result:\", result)\n",
    "\n",
    "\n",
    "def test_canPlaceFlowers():\n",
    "    solution = Solution()\n",
    "\n",
    "    # Test case 1\n",
    "    flowerbed = [1, 0, 0, 0, 1]\n",
    "    n = 1\n",
    "    assert solution.canPlaceFlowers(flowerbed, n) == True\n",
    "\n",
    "    # Test case 2\n",
    "    flowerbed = [1, 0, 0, 0, 1]\n",
    "    n = 2\n",
    "    assert solution.canPlaceFlowers(flowerbed, n) == False\n",
    "\n",
    "    # Test case 3\n",
    "    flowerbed = [0, 0, 1, 0, 0]\n",
    "    n = 2\n",
    "    assert solution.canPlaceFlowers(flowerbed, n) == True\n",
    "\n",
    "    # Test case 4\n",
    "    flowerbed = [1, 0, 1, 0, 1, 0, 1]\n",
    "    n = 1\n",
    "    assert solution.canPlaceFlowers(flowerbed, n) == False\n",
    "\n",
    "    # Test case 5\n",
    "    flowerbed = [0, 0, 0, 0, 0, 1, 0, 0]\n",
    "    n = 0\n",
    "    assert solution.canPlaceFlowers(flowerbed, n) == True\n",
    "\n",
    "    print(\"All test cases passed!\")\n",
    "\n",
    "\n",
    "if __name__ == \"__main__\":\n",
    "    main()\n",
    "    test_canPlaceFlowers()\n"
   ]
  }
 ],
 "metadata": {
  "kernelspec": {
   "display_name": "myenv",
   "language": "python",
   "name": "python3"
  },
  "language_info": {
   "codemirror_mode": {
    "name": "ipython",
    "version": 3
   },
   "file_extension": ".py",
   "mimetype": "text/x-python",
   "name": "python",
   "nbconvert_exporter": "python",
   "pygments_lexer": "ipython3",
   "version": "3.8.19"
  }
 },
 "nbformat": 4,
 "nbformat_minor": 2
}
