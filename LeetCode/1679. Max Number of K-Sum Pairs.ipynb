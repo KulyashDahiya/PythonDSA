{
 "cells": [
  {
   "cell_type": "markdown",
   "metadata": {},
   "source": [
    "1679. Max Number of K-Sum Pairs\n",
    "Medium\n",
    "\n",
    "You are given an integer array nums and an integer k.\n",
    "\n",
    "In one operation, you can pick two numbers from the array whose sum equals k and remove them from the array.\n",
    "\n",
    "Return the maximum number of operations you can perform on the array.\n",
    "\n",
    " \n",
    "\n",
    "Example 1:\n",
    "\n",
    "Input: nums = [1,2,3,4], k = 5\n",
    "Output: 2\n",
    "Explanation: Starting with nums = [1,2,3,4]:\n",
    "- Remove numbers 1 and 4, then nums = [2,3]\n",
    "- Remove numbers 2 and 3, then nums = []\n",
    "There are no more pairs that sum up to 5, hence a total of 2 operations.\n",
    "Example 2:\n",
    "\n",
    "Input: nums = [3,1,3,4,3], k = 6\n",
    "Output: 1\n",
    "Explanation: Starting with nums = [3,1,3,4,3]:\n",
    "- Remove the first two 3's, then nums = [1,4,3]\n",
    "There are no more pairs that sum up to 6, hence a total of 1 operation.\n",
    " \n",
    "\n",
    "Constraints:\n",
    "\n",
    "1 <= nums.length <= 105\n",
    "1 <= nums[i] <= 109\n",
    "1 <= k <= 109\n",
    "\n",
    "\n",
    "Hint1 : The abstract problem asks to count the number of disjoint pairs with a given sum k.\n",
    "Hint2 : For each possible value x, it can be paired up with k - x.\n",
    "Hint3 : The number of such pairs equals to min(count(x), count(k-x)), unless that x = k / 2, where the number of such pairs will be floor(count(x) / 2)."
   ]
  },
  {
   "cell_type": "code",
   "execution_count": null,
   "metadata": {},
   "outputs": [],
   "source": [
    "# Using Two Pointers\n",
    "\n",
    "def maxOperations(nums: List[int], k: int) -> int:\n",
    "    # Step 1: Sort the array\n",
    "    nums.sort()\n",
    "    \n",
    "    # Step 2: Initialize two pointers\n",
    "    left, right = 0, len(nums) - 1\n",
    "    operations = 0\n",
    "    \n",
    "    # Step 3: Use two-pointer technique\n",
    "    while left < right:\n",
    "        current_sum = nums[left] + nums[right]\n",
    "        \n",
    "        if current_sum == k:\n",
    "            # Found a pair that sums up to k\n",
    "            operations += 1\n",
    "            left += 1\n",
    "            right -= 1\n",
    "        elif current_sum < k:\n",
    "            # If the sum is less than k, move the left pointer to the right\n",
    "            left += 1\n",
    "        else:\n",
    "            # If the sum is greater than k, move the right pointer to the left\n",
    "            right -= 1\n",
    "    \n",
    "    return operations\n"
   ]
  },
  {
   "cell_type": "code",
   "execution_count": 22,
   "metadata": {},
   "outputs": [
    {
     "data": {
      "text/plain": [
       "2"
      ]
     },
     "execution_count": 22,
     "metadata": {},
     "output_type": "execute_result"
    }
   ],
   "source": [
    "#T.C --> O(n)\n",
    "\n",
    "from typing import List\n",
    "from collections import defaultdict\n",
    "\n",
    "def maxOperations(nums: List[int], k: int) -> int:\n",
    "    operation = 0\n",
    "    counter = defaultdict(int)\n",
    "\n",
    "    for num in nums:\n",
    "        complement = k - num\n",
    "        \n",
    "        if counter[complement] > 0:\n",
    "            operation += 1\n",
    "            counter[complement] -= 1\n",
    "        else:\n",
    "            counter[num] += 1\n",
    "    \n",
    "    return operation\n",
    "\n",
    "\n",
    "# nums = [3,1,3,4,3]\n",
    "# k = 6\n",
    "\n",
    "# nums = [1,2,3,4]\n",
    "# k = 5\n",
    "\n",
    "nums = [4,4,1,3,1,3,2,2,5,5,1,5,2,1,2,3,5,4]\n",
    "k = 2\n",
    "\n",
    "\n",
    "maxOperations(nums, k)\n"
   ]
  },
  {
   "cell_type": "code",
   "execution_count": 21,
   "metadata": {},
   "outputs": [
    {
     "data": {
      "text/plain": [
       "2"
      ]
     },
     "execution_count": 21,
     "metadata": {},
     "output_type": "execute_result"
    }
   ],
   "source": [
    "#T.C -->  O(n^2)\n",
    "\n",
    "from typing import List\n",
    "\n",
    "def maxOperations(nums: List[int], k: int) -> int:\n",
    "    if not nums:\n",
    "        return 0\n",
    "\n",
    "    n = len(nums)\n",
    "    count = 0\n",
    "\n",
    "    i = 0\n",
    "    while i < n:\n",
    "        j = i + 1\n",
    "        # print(i, j)\n",
    "        while j < n:\n",
    "            if nums[i] + nums[j] == k:\n",
    "                # print(nums[i], nums[j])\n",
    "                nums[i], nums[j] = float('-inf'), float('-inf')\n",
    "                count += 1\n",
    "                break\n",
    "            \n",
    "            j += 1\n",
    "            \n",
    "        i += 1\n",
    "\n",
    "    return count\n",
    "\n",
    "\n",
    "# nums = [3,1,3,4,3]\n",
    "# k = 6\n",
    "\n",
    "# nums = [1,2,3,4]\n",
    "# k = 5\n",
    "\n",
    "nums = [4,4,1,3,1,3,2,2,5,5,1,5,2,1,2,3,5,4]\n",
    "k = 2\n",
    "\n",
    "\n",
    "maxOperations(nums, k)\n"
   ]
  }
 ],
 "metadata": {
  "kernelspec": {
   "display_name": "myenv",
   "language": "python",
   "name": "python3"
  },
  "language_info": {
   "codemirror_mode": {
    "name": "ipython",
    "version": 3
   },
   "file_extension": ".py",
   "mimetype": "text/x-python",
   "name": "python",
   "nbconvert_exporter": "python",
   "pygments_lexer": "ipython3",
   "version": "3.8.19"
  }
 },
 "nbformat": 4,
 "nbformat_minor": 2
}
